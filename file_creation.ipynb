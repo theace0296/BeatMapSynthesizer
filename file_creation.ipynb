{
 "cells": [
  {
   "cell_type": "markdown",
   "metadata": {},
   "source": [
    "# Custom Map File Creation notebook\n",
    "\n",
    "This notebook will develop code to create the files that are necessary in the Beat Saber custom songs directory:\n",
    "\n",
    "- .dat files (info.dat, 'level'.dat)\n",
    "- cover.jpg file\n",
    "- song.egg file"
   ]
  },
  {
   "cell_type": "code",
   "execution_count": 3,
   "metadata": {
    "scrolled": true
   },
   "outputs": [],
   "source": [
    "import numpy as np\n",
    "import pandas as pd\n",
    "import librosa\n",
    "import json\n",
    "import requests\n",
    "import pickle\n",
    "import matplotlib.pyplot as plt\n",
    "from io import BytesIO, TextIOWrapper, StringIO\n",
    "from zipfile import ZipFile\n",
    "import os\n",
    "import soundfile as sf\n",
    "import audioread\n",
    "from pydub import AudioSegment\n",
    "from sklearn.multioutput import MultiOutputClassifier, ClassifierChain\n",
    "from sklearn.ensemble import RandomForestClassifier"
   ]
  },
  {
   "cell_type": "code",
   "execution_count": 61,
   "metadata": {},
   "outputs": [],
   "source": [
    "#{'_version': '2.0.0',\n",
    "#  '_songName': 'Gamle Kjente_V03',\n",
    "#  '_songSubName': 'Despacito',\n",
    "#  '_songAuthorName': 'Vegard Bakkely',\n",
    "#  '_levelAuthorName': 'Martin Ask Eriksen',\n",
    "#  '_beatsPerMinute': 89,\n",
    "#  '_songTimeOffset': 0,\n",
    "#  '_shuffle': 0,\n",
    "#  '_shufflePeriod': 0.5,\n",
    "#  '_previewStartTime': 6,\n",
    "#  '_previewDuration': 40,\n",
    "#  '_songFilename': 'song.egg',\n",
    "#  '_coverImageFilename': 'cover.jpg',\n",
    "#  '_environmentName': 'DefaultEnvironment',\n",
    "#  '_customData': {'_editor': 'beatmapper',\n",
    "#   '_editorSettings': {'enabledFastWalls': False, 'modSettings': {}}},\n",
    "#  '_difficultyBeatmapSets': [{'_beatmapCharacteristicName': 'Standard',\n",
    "#    '_difficultyBeatmaps': [{'_difficulty': 'Easy',\n",
    "#      '_difficultyRank': 1,\n",
    "#      '_beatmapFilename': 'Easy.dat',\n",
    "#      '_noteJumpMovementSpeed': 10,\n",
    "#      '_noteJumpStartBeatOffset': 0,\n",
    "#      '_customData': {'_editorOffset': 0, '_requirements': []}}]}]}\n",
    "\n",
    "def write_info(song_name, bpm, difficulty):\n",
    "    \"\"\"This function creates the 'info.dat' file that needs to be included in the custom folder.\"\"\"\n",
    "\n",
    "    difficulty_rank = None\n",
    "    jump_movement = None\n",
    "    if difficulty.casefold() == 'easy'.casefold():\n",
    "        difficulty_rank = 1\n",
    "        jump_movement = 8\n",
    "    elif difficulty.casefold() == 'normal'.casefold():\n",
    "        difficulty_rank = 3\n",
    "        jump_movement = 10\n",
    "    elif difficulty.casefold() == 'hard'.casefold():\n",
    "        difficulty_rank == 5\n",
    "        jump_movement = 12\n",
    "    elif difficulty.casefold() == 'expert'.casefold():\n",
    "        difficulty_rank == 7\n",
    "        jump_movement = 14\n",
    "    elif difficulty.casefold() == 'expertPlus'.casefold():\n",
    "        difficulty_rank == 9\n",
    "        jump_movement = 16\n",
    "            \n",
    "    info = {'_version': '2.0.0',\n",
    "            '_songName': f\"{song_name}\",\n",
    "            '_songSubName': '',\n",
    "            '_songAuthorName': '',\n",
    "            '_levelAuthorName': 'BeatMapSynth',\n",
    "            '_beatsPerMinute': round(bpm),\n",
    "            '_songTimeOffset': 0,\n",
    "            '_shuffle': 0,\n",
    "            '_shufflePeriod': 0,\n",
    "            '_previewStartTime': 10,\n",
    "            '_previewDuration': 30,\n",
    "            '_songFilename': 'song.egg',\n",
    "            '_coverImageFilename': 'cover.jpg',\n",
    "            '_environmentName': 'DefaultEnvironment',\n",
    "            '_customData': {}, #I don't think anything is needed here\n",
    "             '_difficultyBeatmapSets': [{'_beatmapCharacteristicName': 'Standard',\n",
    "                                         '_difficultyBeatmaps': [{'_difficulty': f\"{difficulty}\",\n",
    "                                                                  '_difficultyRank': difficulty_rank,\n",
    "                                                                  '_beatmapFilename': f\"{difficulty}.dat\",\n",
    "                                                                  '_noteJumpMovementSpeed': jump_movement, #not sure what this is, seems to vary with difficulty level, may want to \n",
    "                                                                  '_noteJumpStartBeatOffset': 0, #ditto\n",
    "                                                                  '_customData': {}}]}]} #{'_editorOffset': 0, '_requirements': []}}]}]} - don't think this is needed\n",
    "    with open('info.dat', 'w') as f:\n",
    "        json.dump(info, f)\n"
   ]
  },
  {
   "cell_type": "code",
   "execution_count": 5,
   "metadata": {},
   "outputs": [],
   "source": [
    "# {'_version': '2.0.0',\n",
    "#  '_customData': {'_time': 220, '_BPMChanges': [], '_bookmarks': []},\n",
    "#  '_events': [{'_time': 0, '_type': 1, '_value': 3}, LIST],\n",
    "#  '_notes': [{'_time': 12.5,\n",
    "#    '_lineIndex': 1,\n",
    "#    '_lineLayer': 0,\n",
    "#    '_type': 0,\n",
    "#    '_cutDirection': 1}, LIST],\n",
    "#  '_obstacles': [{'_time': 0,\n",
    "#    '_lineIndex': 3,\n",
    "#    '_type': 0,\n",
    "#    '_duration': 9,\n",
    "#    '_width': 1}, LIST]}\n",
    "\n",
    "def write_level(difficulty, events_list, notes_list, obstacles_list):\n",
    "    \"\"\"This function creates the 'level.dat' file that contains all the data for that paticular difficulty level\"\"\"\n",
    "    \n",
    "    level = {'_version': '2.0.0',\n",
    "             '_customData': {'_time': '', #not sure what time refers to \n",
    "                             '_BPMChanges': [], \n",
    "                             '_bookmarks': []},\n",
    "             '_events': events_list,\n",
    "             '_notes': notes_list,\n",
    "             '_obstacles': obstacles_list}\n",
    "    with open(f\"{difficulty}.dat\", 'w') as f:\n",
    "        json.dump(level, f)"
   ]
  },
  {
   "cell_type": "code",
   "execution_count": 6,
   "metadata": {},
   "outputs": [],
   "source": [
    "def beat_features(song_path):\n",
    "    \"\"\"This function takes in the song stored at 'song_path' and estimates the bpm and beat times.\"\"\"\n",
    "    #Load song and split into harmonic and percussive parts.\n",
    "    y, sr = librosa.load(song_path)\n",
    "    y_harmonic, y_percussive = librosa.effects.hpss(y)\n",
    "    #Isolate beats and beat times\n",
    "    bpm, beat_frames = librosa.beat.beat_track(y=y_percussive, sr=sr)\n",
    "    beat_times = librosa.frames_to_time(beat_frames, sr=sr)\n",
    "    return bpm, beat_times"
   ]
  },
  {
   "cell_type": "code",
   "execution_count": 7,
   "metadata": {},
   "outputs": [],
   "source": [
    "def music_file_converter(song_path):\n",
    "    \"\"\"This function makes sure the file type of the provided song will be converted to the music file type that \n",
    "    Beat Saber accepts\"\"\"\n",
    "    if song_path.endswith('.mp3'):\n",
    "        AudioSegment.from_mp3(song_path).export('song.egg', format='ogg')\n",
    "    elif song_path.endswith('.wav'):\n",
    "        AudioSegment.from_wav(song_path).export('song.egg', format='ogg')\n",
    "    elif song_path.endswith('.flv'):\n",
    "        AudioSegment.from_flv(song_path).export('song.egg', format='ogg')\n",
    "    elif song_path.endswith('.raw'):\n",
    "        AudioSegment.from_raw(song_path).export('song.egg', format='ogg')\n",
    "    elif song_path.endswith('.ogg') or song_path.endswith('.egg'):\n",
    "        pass\n",
    "    else:\n",
    "        print(\"Unsupported song file type. Choose a file of type .mp3, .wav, .flv, .raw, or .ogg.\")\n"
   ]
  },
  {
   "cell_type": "code",
   "execution_count": 8,
   "metadata": {},
   "outputs": [],
   "source": [
    "def random_notes_writer(beat_times, difficulty):\n",
    "    \"\"\"This function randomly places blocks at approximately each beat or every other beat depending on the difficulty.\"\"\"\n",
    "    notes_list = []\n",
    "    line_index = [0, 1, 2, 3]\n",
    "    line_layer = [0, 1, 2]\n",
    "    types = [0, 1, 2, 3]\n",
    "    directions = list(range(0, 10))\n",
    "    beat_times = [float(x) for x in beat_times]\n",
    "    \n",
    "    if difficulty == 'Easy' or difficulty == 'Normal':\n",
    "        for beat in beat_times:\n",
    "            empty = np.random.choice([0,1])\n",
    "            if empty == 1:\n",
    "                note = {'_time': beat,\n",
    "                        '_lineIndex': int(np.random.choice(line_index)),\n",
    "                        '_lineLayer': int(np.random.choice(line_layer)),\n",
    "                        '_type': int(np.random.choice(types)),\n",
    "                        '_cutDirection': int(np.random.choice(directions))}\n",
    "                notes_list.append(note)\n",
    "            else:\n",
    "                continue\n",
    "    else:\n",
    "        random_beats = np.random.choice(beat_times, np.random.choice(range(len(beat_times)))) #randomly choose beats to have more than one note placed\n",
    "        randomly_duplicated_beat_times = np.concatenate([beat_times, random_beats])\n",
    "        randomly_duplicated_beat_times.sort()\n",
    "        randomly_duplicated_beat_times = [float(x) for x in randomly_duplicated_beat_times]\n",
    "        for beat in randomly_duplicated_beat_times:\n",
    "            note = {'_time': beat,\n",
    "                    '_lineIndex': int(np.random.choice(line_index)),\n",
    "                    '_lineLayer': int(np.random.choice(line_layer)),\n",
    "                    '_type': int(np.random.choice(types)),\n",
    "                    '_cutDirection': int(np.random.choice(directions))}\n",
    "            notes_list.append(note)\n",
    "    return notes_list"
   ]
  },
  {
   "cell_type": "code",
   "execution_count": 9,
   "metadata": {},
   "outputs": [],
   "source": [
    "def random_notes_writer_v2(beat_times, difficulty):\n",
    "    \"\"\"This function randomly places blocks at approximately each beat or every other beat depending on the difficulty.\"\"\"\n",
    "    notes_list = []\n",
    "    line_index = [0, 1, 2, 3]\n",
    "    line_layer = [0, 1, 2]\n",
    "    types = [0, 1, 2, 3]\n",
    "    directions = list(range(0, 10))\n",
    "    #beat_times = [float(x) for x in beat_times]\n",
    "    beat_times = list(range(len(beat_times)))\n",
    "    \n",
    "    if difficulty == 'Easy' or difficulty == 'Normal':\n",
    "        for beat in beat_times:\n",
    "            empty = np.random.choice([0,1])\n",
    "            if empty == 1:\n",
    "                note = {'_time': beat,\n",
    "                        '_lineIndex': int(np.random.choice(line_index)),\n",
    "                        '_lineLayer': int(np.random.choice(line_layer)),\n",
    "                        '_type': int(np.random.choice(types)),\n",
    "                        '_cutDirection': int(np.random.choice(directions))}\n",
    "                notes_list.append(note)\n",
    "            else:\n",
    "                continue\n",
    "    else:\n",
    "        random_beats = np.random.choice(beat_times, np.random.choice(range(len(beat_times)))) #randomly choose beats to have more than one note placed\n",
    "        randomly_duplicated_beat_times = np.concatenate([beat_times, random_beats])\n",
    "        randomly_duplicated_beat_times.sort()\n",
    "        randomly_duplicated_beat_times = [float(x) for x in randomly_duplicated_beat_times]\n",
    "        for beat in randomly_duplicated_beat_times:\n",
    "            note = {'_time': beat,\n",
    "                    '_lineIndex': int(np.random.choice(line_index)),\n",
    "                    '_lineLayer': int(np.random.choice(line_layer)),\n",
    "                    '_type': int(np.random.choice(types)),\n",
    "                    '_cutDirection': int(np.random.choice(directions))}\n",
    "            notes_list.append(note)\n",
    "    return notes_list"
   ]
  },
  {
   "cell_type": "code",
   "execution_count": 10,
   "metadata": {},
   "outputs": [],
   "source": [
    "def events_writer(beat_times):\n",
    "    \n",
    "    events_list = []\n",
    "    return events_list"
   ]
  },
  {
   "cell_type": "code",
   "execution_count": 11,
   "metadata": {},
   "outputs": [],
   "source": [
    "def obstacles_writer(beat_times, difficulty):\n",
    "    \n",
    "    obstacles_list = []\n",
    "    return obstacles_list"
   ]
  },
  {
   "cell_type": "code",
   "execution_count": 12,
   "metadata": {},
   "outputs": [],
   "source": [
    "def zip_folder_exporter(song_name, difficulty):\n",
    "    \"This function exports the zip folder containing the info.dat, difficulty.dat, cover.jpg, and song.egg files.\"\n",
    "    files = ['info.dat', f\"{difficulty}.dat\", 'cover.jpg', 'song.egg']\n",
    "    with ZipFile(f\"{song_name}.zip\", 'w') as custom:\n",
    "        for file in files:\n",
    "            custom.write(file)"
   ]
  },
  {
   "cell_type": "code",
   "execution_count": 13,
   "metadata": {},
   "outputs": [],
   "source": [
    "def random_mapper(song_path, song_name, difficulty):\n",
    "    \"\"\"Function to output the automatically created completely random map (i.e., baseline model) for a provided song.\n",
    "    Returns a zipped folder that can be unzipped and placed in the 'CustomMusic' folder in the Beat Saber game\n",
    "    directory and played. CAUTION: This is completely random and is likely not enjoyable if even playable!\"\"\"\n",
    "    #Load song and get beat features\n",
    "    print(\"Loading Song...\")\n",
    "    bpm, beat_times = beat_features(song_path)\n",
    "    print(\"Song loaded successfully!\")\n",
    "    #Write lists for note placement, event placement, and obstacle placement\n",
    "    print(\"Random mapping...\")\n",
    "    #notes_list = random_notes_writer(beat_times, difficulty) \n",
    "    notes_list = random_notes_writer_v2(beat_times, difficulty) #fixes _time != beat time\n",
    "    events_list = events_writer(beat_times)\n",
    "    obstacles_list = obstacles_writer(beat_times, difficulty)\n",
    "    print(\"Mapping done!\")\n",
    "    #Write and zip files\n",
    "    print(\"Writing files to disk...\")\n",
    "    write_info(song_name, bpm, difficulty)\n",
    "    write_level(difficulty, events_list, notes_list, obstacles_list)\n",
    "    print(\"Converting music file...\")\n",
    "    music_file_converter(song_path)\n",
    "    print(\"Zipping folder...\")\n",
    "    zip_folder_exporter(song_name, difficulty)\n",
    "    print(\"Finished! Look for zipped folder in your current path, unzip the folder, and place in the 'CustomMusic' folder in the Beat Saber directory\")"
   ]
  },
  {
   "cell_type": "code",
   "execution_count": 22,
   "metadata": {},
   "outputs": [
    {
     "name": "stdout",
     "output_type": "stream",
     "text": [
      "Loading Song...\n"
     ]
    },
    {
     "name": "stderr",
     "output_type": "stream",
     "text": [
      "/opt/anaconda3/envs/BSmapsynth-env/lib/python3.6/site-packages/librosa/core/audio.py:146: UserWarning: PySoundFile failed. Trying audioread instead.\n",
      "  warnings.warn('PySoundFile failed. Trying audioread instead.')\n"
     ]
    },
    {
     "name": "stdout",
     "output_type": "stream",
     "text": [
      "Song loaded successfully!\n",
      "Random mapping...\n",
      "Mapping done!\n",
      "Writing files to disk...\n",
      "Converting music file...\n",
      "Zipping folder...\n",
      "Finished! Look for zipped folder in your current path, unzip the folder, and place in the 'CustomMusic' folder in the Beat Saber directory\n"
     ]
    }
   ],
   "source": [
    "random_mapper('song.egg', 'example', 'expert')"
   ]
  },
  {
   "cell_type": "code",
   "execution_count": 13,
   "metadata": {},
   "outputs": [
    {
     "name": "stdout",
     "output_type": "stream",
     "text": [
      "Loading Song...\n"
     ]
    },
    {
     "name": "stderr",
     "output_type": "stream",
     "text": [
      "/opt/anaconda3/envs/BSmapsynth-env/lib/python3.6/site-packages/librosa/core/audio.py:146: UserWarning: PySoundFile failed. Trying audioread instead.\n",
      "  warnings.warn('PySoundFile failed. Trying audioread instead.')\n"
     ]
    },
    {
     "name": "stdout",
     "output_type": "stream",
     "text": [
      "Song loaded successfully!\n",
      "Random mapping...\n",
      "Mapping done!\n",
      "Writing files to disk...\n",
      "Converting music file...\n",
      "Zipping folder...\n",
      "Finished! Look for zipped folder in your current path, unzip the folder, and place in the 'CustomMusic' folder in the Beat Saber directory\n"
     ]
    }
   ],
   "source": [
    "random_mapper('./RandomExample/03 Toxic Bad Guy, Look What You Made Me Do (Billie Eilish vs. Taylor Swift vs. Britney Spears) - jimmylin.mp3', 'RandomExample', 'Normal')"
   ]
  },
  {
   "cell_type": "code",
   "execution_count": 41,
   "metadata": {},
   "outputs": [],
   "source": [
    "def beat_number_and_chroma_16th_beat(song_path):\n",
    "    \"\"\"This function reads in a music file and returns a DataFrame of beat numbers (divided into 1/16th beats) and\n",
    "    chroma features at each beat. Chroma features are calculated for 1/4 beats and propagated forward across the \n",
    "    16th beats.\"\"\"\n",
    "    #Load music file, estimate beat frames, and compute chromagram\n",
    "    y, sr = librosa.load(song_path)\n",
    "    y_harmonic, y_percussive = librosa.effects.hpss(y)\n",
    "    tempo, beat_frames = librosa.beat.beat_track(y=y_percussive,\n",
    "                                             sr=sr,\n",
    "                                             trim = False,\n",
    "                                             units = 'frames')\n",
    "    chromagram = librosa.feature.chroma_cqt(y=y_harmonic,\n",
    "                                            sr=sr)\n",
    "    #Make a framework for syncing chroma features to 1/4 beat\n",
    "    extend = np.array([])\n",
    "    ind = 0\n",
    "    while ind < len(beat_frames)-1:\n",
    "        extend = np.append(extend, np.arange(beat_frames[ind], beat_frames[ind+1], round((beat_frames[ind+1]-beat_frames[ind])/4))[1:4])\n",
    "        ind += 1\n",
    "    beat_frames_merged = np.concatenate((np.array([0]), beat_frames, extend))\n",
    "    beat_frames_merged.sort()\n",
    "    \n",
    "    #Sync chroma features to 1/4 beats\n",
    "    beat_chroma = librosa.util.sync(chromagram,\n",
    "                                beat_frames_merged.astype(int),\n",
    "                                aggregate=np.median)\n",
    "    \n",
    "    #Add beat count to beat frames\n",
    "    t = np.arange(0, len(beat_frames), 1)\n",
    "    beat_numbers = pd.concat([pd.Series(t, name = '_time'), pd.Series(beat_frames, name = 'frame_no')], axis = 1)\n",
    "    beat_numbers['frame_no'] = beat_numbers['frame_no'].astype(int)\n",
    "    \n",
    "    #Merge chroma features with extended beat frames (1/4 beat)\n",
    "    chromabeats = pd.concat([pd.Series(beat_frames_merged.astype(int), name = 'frame_no'), pd.DataFrame(beat_chroma.T)], axis = 1)\n",
    "    z = pd.merge(beat_numbers, chromabeats, on = 'frame_no', how = 'outer', sort = True)\n",
    "    z.interpolate(inplace = True)\n",
    "    \n",
    "    #Expand beat frequency to 1/16th beat & merge\n",
    "    expand_time = pd.DataFrame(np.arange(0.00, z['_time'].max(), 0.0625), columns = ['_time'])\n",
    "    expanded_chromabeats = pd.merge(z, expand_time, on='_time', how = 'outer', sort = True)\n",
    "    \n",
    "    #Forward fill to fill NaNs\n",
    "    expanded_chromabeats.fillna(method='ffill', inplace = True)\n",
    "    expanded_chromabeats.drop('frame_no', axis = 1, inplace = True)\n",
    "    \n",
    "    return tempo, expanded_chromabeats"
   ]
  },
  {
   "cell_type": "code",
   "execution_count": 53,
   "metadata": {},
   "outputs": [],
   "source": [
    "def beat_number_and_chroma_half_beat(song_path):\n",
    "    #Load music file, estimate beat frames, and compute chromagram\n",
    "    y, sr = librosa.load(song_path)\n",
    "    y_harmonic, y_percussive = librosa.effects.hpss(y)\n",
    "    tempo, beat_frames = librosa.beat.beat_track(y=y_percussive,\n",
    "                                             sr=sr,\n",
    "                                             trim = False,\n",
    "                                             units = 'frames')\n",
    "    chromagram = librosa.feature.chroma_cqt(y=y_harmonic,\n",
    "                                            sr=sr)\n",
    "    #Make a framework for syncing chroma features to 1/2 beat\n",
    "    extend = np.array([])\n",
    "    ind = 0\n",
    "    while ind < len(beat_frames)-1:\n",
    "        extend = np.append(extend, np.arange(beat_frames[ind], beat_frames[ind+1], round((beat_frames[ind+1]-beat_frames[ind])/2))[1:2])\n",
    "        ind += 1\n",
    "    beat_frames_merged = np.concatenate((np.array([0]), beat_frames, extend))\n",
    "    beat_frames_merged.sort()\n",
    "    \n",
    "    #Sync chroma features to 1/2 beats\n",
    "    beat_chroma = librosa.util.sync(chromagram,\n",
    "                                beat_frames_merged.astype(int),\n",
    "                                aggregate=np.median)\n",
    "    \n",
    "    #Add beat count to beat frames\n",
    "    t = np.arange(0, len(beat_frames), 1)\n",
    "    beat_numbers = pd.concat([pd.Series(t, name = '_time'), pd.Series(beat_frames, name = 'frame_no')], axis = 1)\n",
    "    beat_numbers['frame_no'] = beat_numbers['frame_no'].astype(int)\n",
    "    \n",
    "    #Merge chroma features with extended beat frames (1/2 beat)\n",
    "    chromabeats = pd.concat([pd.Series(beat_frames_merged.astype(int), name = 'frame_no'), pd.DataFrame(beat_chroma.T)], axis = 1)\n",
    "    z = pd.merge(beat_numbers, chromabeats, on = 'frame_no', how = 'outer', sort = True)\n",
    "    z.interpolate(inplace = True)\n",
    "    z.drop('frame_no', axis = 1, inplace = True)\n",
    "    z.drop(0, axis = 0, inplace = True)\n",
    "    z.reset_index(drop=True, inplace = True)\n",
    "    return tempo, z"
   ]
  },
  {
   "cell_type": "code",
   "execution_count": 59,
   "metadata": {},
   "outputs": [],
   "source": [
    "def RFchain_notes_writer(music_features, difficulty):\n",
    "    \"\"\"This function takes in a music features DataFrame and difficulty level and returns a list of note placement\n",
    "    dictionaries from the Random Forest chain classifier model's predictions.\"\"\"\n",
    "    #Load model\n",
    "    with open(f\"./models/chain_{difficulty}.pkl\", 'rb') as m:\n",
    "        model = pickle.load(m)\n",
    "    #Make predictions using model\n",
    "    preds = model[0].predict(music_features)\n",
    "    #Make predictions into a dataframe and concatenate with beat times\n",
    "    df_preds = pd.concat([music_features[['_time']], pd.DataFrame(preds, columns = model[1])], axis = 1, sort = True)\n",
    "    #Write notes dictionaries\n",
    "    notes_list = []\n",
    "    for index, row in df_preds.iterrows():\n",
    "        for x in list(filter(lambda y: y.startswith('notes_type'), df_preds.columns)):\n",
    "            if row[x] != 999:\n",
    "                num = x[-1]\n",
    "                note = {'_time': row['_time'],\n",
    "                        '_lineIndex': int(row[f\"notes_lineIndex_{num}\"]),\n",
    "                        '_lineLayer': int(row[f\"notes_lineLayer_{num}\"]),\n",
    "                        '_type': num,\n",
    "                        '_cutDirection': int(row[f\"notes_cutDirection_{num}\"])}\n",
    "                notes_list.append(note)\n",
    "    return notes_list\n",
    "\n",
    "    return df_preds"
   ]
  },
  {
   "cell_type": "code",
   "execution_count": 48,
   "metadata": {},
   "outputs": [],
   "source": [
    "def RF_mapper(song_path, song_name, difficulty, model):\n",
    "    #Load song and get beat features\n",
    "    print(\"Loading Song...\")\n",
    "    bpm, music_features = beat_number_and_chroma_half_beat(song_path)\n",
    "    print(\"Song loaded successfully!\")\n",
    "    #Write lists for note placement, event placement, and obstacle placement\n",
    "    if model == 'chain':\n",
    "        print(\"Mapping with Random Forest chain classifier model...\")\n",
    "        notes_list = RFchain_notes_writer(music_features, difficulty)\n",
    "        events_list = events_writer(music_features['_time'])\n",
    "        obstacles_list = obstacles_writer(music_features['_time'], difficulty)\n",
    "        print(\"Mapping done!\")\n",
    "    else:\n",
    "        print(\"Other model types are not implemented yet. Please use 'chain'.\")\n",
    "    #Write and zip files\n",
    "    print(\"Writing files to disk...\")\n",
    "    write_info(song_name, bpm, difficulty)\n",
    "    write_level(difficulty, events_list, notes_list, obstacles_list)\n",
    "    print(\"Converting music file...\")\n",
    "    music_file_converter(song_path)\n",
    "    print(\"Zipping folder...\")\n",
    "    zip_folder_exporter(song_name, difficulty)\n",
    "    print(\"Finished! Look for zipped folder in your current path, unzip the folder, and place in the 'CustomMusic' folder in the Beat Saber directory\")"
   ]
  },
  {
   "cell_type": "code",
   "execution_count": 60,
   "metadata": {},
   "outputs": [
    {
     "name": "stdout",
     "output_type": "stream",
     "text": [
      "Loading Song...\n"
     ]
    },
    {
     "name": "stderr",
     "output_type": "stream",
     "text": [
      "/opt/anaconda3/envs/BSmapsynth-env/lib/python3.6/site-packages/librosa/core/audio.py:146: UserWarning: PySoundFile failed. Trying audioread instead.\n",
      "  warnings.warn('PySoundFile failed. Trying audioread instead.')\n"
     ]
    },
    {
     "name": "stdout",
     "output_type": "stream",
     "text": [
      "Song loaded successfully!\n",
      "Mapping with Random Forest chain classifier model...\n",
      "Mapping done!\n",
      "Writing files to disk...\n",
      "Converting music file...\n",
      "Zipping folder...\n",
      "Finished! Look for zipped folder in your current path, unzip the folder, and place in the 'CustomMusic' folder in the Beat Saber directory\n"
     ]
    }
   ],
   "source": [
    "RF_mapper('Captive_Portal_-_03_-_An_Example_For.mp3', 'An Example For - Captive Portal', 'expert', 'chain')"
   ]
  },
  {
   "cell_type": "code",
   "execution_count": null,
   "metadata": {},
   "outputs": [],
   "source": []
  }
 ],
 "metadata": {
  "kernelspec": {
   "display_name": "BSmapsynth-env",
   "language": "python",
   "name": "bsmapsynth-env"
  },
  "language_info": {
   "codemirror_mode": {
    "name": "ipython",
    "version": 3
   },
   "file_extension": ".py",
   "mimetype": "text/x-python",
   "name": "python",
   "nbconvert_exporter": "python",
   "pygments_lexer": "ipython3",
   "version": "3.6.9"
  }
 },
 "nbformat": 4,
 "nbformat_minor": 2
}

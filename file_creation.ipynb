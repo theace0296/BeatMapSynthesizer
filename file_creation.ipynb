{
 "cells": [
  {
   "cell_type": "markdown",
   "metadata": {},
   "source": [
    "# Custom Map File Creation notebook\n",
    "\n",
    "This notebook will develop code to create the files that are necessary in the Beat Saber custom songs directory:\n",
    "\n",
    "- .dat files (info.dat, 'level'.dat)\n",
    "- cover.jpg file\n",
    "- song.egg file"
   ]
  },
  {
   "cell_type": "code",
   "execution_count": null,
   "metadata": {},
   "outputs": [],
   "source": []
  }
 ],
 "metadata": {
  "kernelspec": {
   "display_name": "BSmapsynth-env",
   "language": "python",
   "name": "bsmapsynth-env"
  },
  "language_info": {
   "codemirror_mode": {
    "name": "ipython",
    "version": 3
   },
   "file_extension": ".py",
   "mimetype": "text/x-python",
   "name": "python",
   "nbconvert_exporter": "python",
   "pygments_lexer": "ipython3",
   "version": "3.6.9"
  }
 },
 "nbformat": 4,
 "nbformat_minor": 2
}

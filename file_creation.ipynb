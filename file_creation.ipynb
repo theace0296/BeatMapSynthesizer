{
 "cells": [
  {
   "cell_type": "markdown",
   "metadata": {},
   "source": [
    "# Custom Map File Creation notebook\n",
    "\n",
    "This notebook will develop code to create the files that are necessary in the Beat Saber custom songs directory:\n",
    "\n",
    "- .dat files (info.dat, 'level'.dat)\n",
    "- cover.jpg file\n",
    "- song.egg file"
   ]
  },
  {
   "cell_type": "code",
   "execution_count": 2,
   "metadata": {
    "scrolled": true
   },
   "outputs": [],
   "source": [
    "import numpy as np\n",
    "import pandas as pd\n",
    "import librosa\n",
    "import json\n",
    "import requests\n",
    "import pickle\n",
    "import matplotlib.pyplot as plt\n",
    "from io import BytesIO, TextIOWrapper, StringIO\n",
    "from zipfile import ZipFile\n",
    "import os\n",
    "import soundfile as sf\n",
    "import audioread\n",
    "from pydub import AudioSegment"
   ]
  },
  {
   "cell_type": "code",
   "execution_count": 3,
   "metadata": {},
   "outputs": [],
   "source": [
    "#{'_version': '2.0.0',\n",
    "#  '_songName': 'Gamle Kjente_V03',\n",
    "#  '_songSubName': 'Despacito',\n",
    "#  '_songAuthorName': 'Vegard Bakkely',\n",
    "#  '_levelAuthorName': 'Martin Ask Eriksen',\n",
    "#  '_beatsPerMinute': 89,\n",
    "#  '_songTimeOffset': 0,\n",
    "#  '_shuffle': 0,\n",
    "#  '_shufflePeriod': 0.5,\n",
    "#  '_previewStartTime': 6,\n",
    "#  '_previewDuration': 40,\n",
    "#  '_songFilename': 'song.egg',\n",
    "#  '_coverImageFilename': 'cover.jpg',\n",
    "#  '_environmentName': 'DefaultEnvironment',\n",
    "#  '_customData': {'_editor': 'beatmapper',\n",
    "#   '_editorSettings': {'enabledFastWalls': False, 'modSettings': {}}},\n",
    "#  '_difficultyBeatmapSets': [{'_beatmapCharacteristicName': 'Standard',\n",
    "#    '_difficultyBeatmaps': [{'_difficulty': 'Easy',\n",
    "#      '_difficultyRank': 1,\n",
    "#      '_beatmapFilename': 'Easy.dat',\n",
    "#      '_noteJumpMovementSpeed': 10,\n",
    "#      '_noteJumpStartBeatOffset': 0,\n",
    "#      '_customData': {'_editorOffset': 0, '_requirements': []}}]}]}\n",
    "\n",
    "def write_info(song_name, bpm, difficulty):\n",
    "    \"\"\"This function creates the 'info.dat' file that needs to be included in the custom folder.\"\"\"\n",
    "\n",
    "    difficulty_rank = None\n",
    "    jump_movement = None\n",
    "    if difficulty.casefold() == 'easy'.casefold():\n",
    "        difficulty_rank = 1\n",
    "        jump_movement = 8\n",
    "    elif difficulty.casefold() == 'normal'.casefold():\n",
    "        difficulty_rank = 3\n",
    "        jump_movement = 10\n",
    "    elif difficulty.casefold() == 'hard'.casefold():\n",
    "        difficulty_rank == 5\n",
    "        jump_movement = 12\n",
    "    elif difficulty.casefold() == 'expert'.casefold():\n",
    "        difficulty_rank == 7\n",
    "        jump_movement = 14\n",
    "    elif difficulty.casefold() == 'expertPlus'.casefold():\n",
    "        difficulty_rank == 9\n",
    "        jump_movement = 16\n",
    "            \n",
    "    info = {'_version': '2.0.0',\n",
    "            '_songName': f\"{song_name}\",\n",
    "            '_songSubName': '',\n",
    "            '_songAuthorName': '',\n",
    "            '_levelAuthorName': 'BeatMapSynth',\n",
    "            '_beatsPerMinute': round(bpm),\n",
    "            '_songTimeOffset': 0,\n",
    "            '_shuffle': 0,\n",
    "            '_shufflePeriod': 0,\n",
    "            '_previewStartTime': 10,\n",
    "            '_previewDuration': 30,\n",
    "            '_songFilename': 'song.egg',\n",
    "            '_coverImageFilename': 'cover.jpg',\n",
    "            '_environmentName': 'DefaultEnvironment',\n",
    "            '_customData': {}, #I don't think anything is needed here\n",
    "             '_difficultyBeatmapSets': [{'_beatmapCharacteristicName': 'Standard',\n",
    "                                         '_difficultyBeatmaps': [{'_difficulty': f\"{difficulty}\",\n",
    "                                                                  '_difficultyRank': difficulty_rank,\n",
    "                                                                  '_beatmapFilename': f\"{difficulty}.dat\",\n",
    "                                                                  '_noteJumpMovementSpeed': jump_movement, #not sure what this is, seems to vary with difficulty level, may want to \n",
    "                                                                  '_noteJumpStartBeatOffset': 0, #ditto\n",
    "                                                                  '_customData': {}}]}]} #{'_editorOffset': 0, '_requirements': []}}]}]} - don't think this is needed\n",
    "    with open('info.dat', 'w') as f:\n",
    "        json.dump(info, f)\n"
   ]
  },
  {
   "cell_type": "code",
   "execution_count": 4,
   "metadata": {},
   "outputs": [],
   "source": [
    "# {'_version': '2.0.0',\n",
    "#  '_customData': {'_time': 220, '_BPMChanges': [], '_bookmarks': []},\n",
    "#  '_events': [{'_time': 0, '_type': 1, '_value': 3}, LIST],\n",
    "#  '_notes': [{'_time': 12.5,\n",
    "#    '_lineIndex': 1,\n",
    "#    '_lineLayer': 0,\n",
    "#    '_type': 0,\n",
    "#    '_cutDirection': 1}, LIST],\n",
    "#  '_obstacles': [{'_time': 0,\n",
    "#    '_lineIndex': 3,\n",
    "#    '_type': 0,\n",
    "#    '_duration': 9,\n",
    "#    '_width': 1}, LIST]}\n",
    "\n",
    "def write_level(difficulty, events_list, notes_list, obstacles_list):\n",
    "    \"\"\"This function creates the 'level.dat' file that contains all the data for that paticular difficulty level\"\"\"\n",
    "    \n",
    "    level = {'_version': '2.0.0',\n",
    "             '_customData': {'_time': '', #not sure what time refers to \n",
    "                             '_BPMChanges': [], \n",
    "                             '_bookmarks': []},\n",
    "             '_events': events_list,\n",
    "             '_notes': notes_list,\n",
    "             '_obstacles': obstacles_list}\n",
    "    with open(f\"{difficulty}.dat\", 'w') as f:\n",
    "        json.dump(level, f)"
   ]
  },
  {
   "cell_type": "code",
   "execution_count": 5,
   "metadata": {},
   "outputs": [],
   "source": [
    "def beat_features(song_path):\n",
    "    \"\"\"This function takes in the song stored at 'song_path' and estimates the bpm and beat times.\"\"\"\n",
    "    #Load song and split into harmonic and percussive parts.\n",
    "    y, sr = librosa.load(song_path)\n",
    "    y_harmonic, y_percussive = librosa.effects.hpss(y)\n",
    "    #Isolate beats and beat times\n",
    "    bpm, beat_frames = librosa.beat.beat_track(y=y_percussive, sr=sr)\n",
    "    beat_times = librosa.frames_to_time(beat_frames, sr=sr)\n",
    "    return bpm, beat_times"
   ]
  },
  {
   "cell_type": "code",
   "execution_count": 6,
   "metadata": {},
   "outputs": [],
   "source": [
    "def music_file_converter(song_path):\n",
    "    \"\"\"This function makes sure the file type of the provided song will be converted to the music file type that \n",
    "    Beat Saber accepts\"\"\"\n",
    "    if song_path.endswith('.mp3'):\n",
    "        AudioSegment.from_mp3(song_path).export('song.egg', format='ogg')\n",
    "    elif song_path.endswith('.wav'):\n",
    "        AudioSegment.from_wav(song_path).export('song.egg', format='ogg')\n",
    "    elif song_path.endswith('.flv'):\n",
    "        AudioSegment.from_flv(song_path).export('song.egg', format='ogg')\n",
    "    elif song_path.endswith('.raw'):\n",
    "        AudioSegment.from_raw(song_path).export('song.egg', format='ogg')\n",
    "    elif song_path.endswith('.ogg') or song_path.endswith('.egg'):\n",
    "        pass\n",
    "    else:\n",
    "        print(\"Unsupported song file type. Choose a file of type .mp3, .wav, .flv, .raw, or .ogg.\")\n"
   ]
  },
  {
   "cell_type": "code",
   "execution_count": 7,
   "metadata": {},
   "outputs": [],
   "source": [
    "def random_notes_writer(beat_times, difficulty):\n",
    "    \"\"\"This function randomly places blocks at approximately each beat or every other beat depending on the difficulty.\"\"\"\n",
    "    notes_list = []\n",
    "    line_index = [0, 1, 2, 3]\n",
    "    line_layer = [0, 1, 2]\n",
    "    types = [0, 1, 2, 3]\n",
    "    directions = list(range(0, 10))\n",
    "    beat_times = [float(x) for x in beat_times]\n",
    "    \n",
    "    if difficulty == 'Easy' or difficulty == 'Normal':\n",
    "        for beat in beat_times:\n",
    "            empty = np.random.choice([0,1])\n",
    "            if empty == 1:\n",
    "                note = {'_time': beat,\n",
    "                        '_lineIndex': int(np.random.choice(line_index)),\n",
    "                        '_lineLayer': int(np.random.choice(line_layer)),\n",
    "                        '_type': int(np.random.choice(types)),\n",
    "                        '_cutDirection': int(np.random.choice(directions))}\n",
    "                notes_list.append(note)\n",
    "            else:\n",
    "                continue\n",
    "    else:\n",
    "        random_beats = np.random.choice(beat_times, np.random.choice(range(len(beat_times)))) #randomly choose beats to have more than one note placed\n",
    "        randomly_duplicated_beat_times = np.concatenate([beat_times, random_beats])\n",
    "        randomly_duplicated_beat_times.sort()\n",
    "        randomly_duplicated_beat_times = [float(x) for x in randomly_duplicated_beat_times]\n",
    "        for beat in randomly_duplicated_beat_times:\n",
    "            note = {'_time': beat,\n",
    "                    '_lineIndex': int(np.random.choice(line_index)),\n",
    "                    '_lineLayer': int(np.random.choice(line_layer)),\n",
    "                    '_type': int(np.random.choice(types)),\n",
    "                    '_cutDirection': int(np.random.choice(directions))}\n",
    "            notes_list.append(note)\n",
    "    return notes_list"
   ]
  },
  {
   "cell_type": "code",
   "execution_count": 20,
   "metadata": {},
   "outputs": [],
   "source": [
    "def random_notes_writer_v2(beat_times, difficulty):\n",
    "    \"\"\"This function randomly places blocks at approximately each beat or every other beat depending on the difficulty.\"\"\"\n",
    "    notes_list = []\n",
    "    line_index = [0, 1, 2, 3]\n",
    "    line_layer = [0, 1, 2]\n",
    "    types = [0, 1, 2, 3]\n",
    "    directions = list(range(0, 10))\n",
    "    #beat_times = [float(x) for x in beat_times]\n",
    "    beat_times = list(range(len(beat_times)))\n",
    "    \n",
    "    if difficulty == 'Easy' or difficulty == 'Normal':\n",
    "        for beat in beat_times:\n",
    "            empty = np.random.choice([0,1])\n",
    "            if empty == 1:\n",
    "                note = {'_time': beat,\n",
    "                        '_lineIndex': int(np.random.choice(line_index)),\n",
    "                        '_lineLayer': int(np.random.choice(line_layer)),\n",
    "                        '_type': int(np.random.choice(types)),\n",
    "                        '_cutDirection': int(np.random.choice(directions))}\n",
    "                notes_list.append(note)\n",
    "            else:\n",
    "                continue\n",
    "    else:\n",
    "        random_beats = np.random.choice(beat_times, np.random.choice(range(len(beat_times)))) #randomly choose beats to have more than one note placed\n",
    "        randomly_duplicated_beat_times = np.concatenate([beat_times, random_beats])\n",
    "        randomly_duplicated_beat_times.sort()\n",
    "        randomly_duplicated_beat_times = [float(x) for x in randomly_duplicated_beat_times]\n",
    "        for beat in randomly_duplicated_beat_times:\n",
    "            note = {'_time': beat,\n",
    "                    '_lineIndex': int(np.random.choice(line_index)),\n",
    "                    '_lineLayer': int(np.random.choice(line_layer)),\n",
    "                    '_type': int(np.random.choice(types)),\n",
    "                    '_cutDirection': int(np.random.choice(directions))}\n",
    "            notes_list.append(note)\n",
    "    return notes_list"
   ]
  },
  {
   "cell_type": "code",
   "execution_count": 9,
   "metadata": {},
   "outputs": [],
   "source": [
    "def events_writer(beat_times):\n",
    "    \n",
    "    events_list = []\n",
    "    return events_list"
   ]
  },
  {
   "cell_type": "code",
   "execution_count": 10,
   "metadata": {},
   "outputs": [],
   "source": [
    "def obstacles_writer(beat_times, difficulty):\n",
    "    \n",
    "    obstacles_list = []\n",
    "    return obstacles_list"
   ]
  },
  {
   "cell_type": "code",
   "execution_count": 11,
   "metadata": {},
   "outputs": [],
   "source": [
    "def zip_folder_exporter(song_name, difficulty):\n",
    "    \"This function exports the zip folder containing the info.dat, difficulty.dat, cover.jpg, and song.egg files.\"\n",
    "    files = ['info.dat', f\"{difficulty}.dat\", 'cover.jpg', 'song.egg']\n",
    "    with ZipFile(f\"{song_name}.zip\", 'w') as custom:\n",
    "        for file in files:\n",
    "            custom.write(file)"
   ]
  },
  {
   "cell_type": "code",
   "execution_count": 21,
   "metadata": {},
   "outputs": [],
   "source": [
    "def random_mapper(song_path, song_name, difficulty):\n",
    "    \"\"\"Function to output the automatically created completely random map (i.e., baseline model) for a provided song.\n",
    "    Returns a zipped folder that can be unzipped and placed in the 'CustomMusic' folder in the Beat Saber game\n",
    "    directory and played. CAUTION: This is completely random and is likely not enjoyable if even playable!\"\"\"\n",
    "    #Load song and get beat features\n",
    "    print(\"Loading Song...\")\n",
    "    bpm, beat_times = beat_features(song_path)\n",
    "    print(\"Song loaded successfully!\")\n",
    "    #Write lists for note placement, event placement, and obstacle placement\n",
    "    print(\"Random mapping...\")\n",
    "    #notes_list = random_notes_writer(beat_times, difficulty) \n",
    "    notes_list = random_notes_writer_v2(beat_times, difficulty) #fixes _time != beat time\n",
    "    events_list = events_writer(beat_times)\n",
    "    obstacles_list = obstacles_writer(beat_times, difficulty)\n",
    "    print(\"Mapping done!\")\n",
    "    #Write and zip files\n",
    "    print(\"Writing files to disk...\")\n",
    "    write_info(song_name, bpm, difficulty)\n",
    "    write_level(difficulty, events_list, notes_list, obstacles_list)\n",
    "    print(\"Converting music file...\")\n",
    "    music_file_converter(song_path)\n",
    "    print(\"Zipping folder...\")\n",
    "    zip_folder_exporter(song_name, difficulty)\n",
    "    print(\"Finished! Look for zipped folder in your current path, unzip the folder, and place in the 'CustomMusic' folder in the Beat Saber directory\")"
   ]
  },
  {
   "cell_type": "code",
   "execution_count": 22,
   "metadata": {},
   "outputs": [
    {
     "name": "stdout",
     "output_type": "stream",
     "text": [
      "Loading Song...\n"
     ]
    },
    {
     "name": "stderr",
     "output_type": "stream",
     "text": [
      "/opt/anaconda3/envs/BSmapsynth-env/lib/python3.6/site-packages/librosa/core/audio.py:146: UserWarning: PySoundFile failed. Trying audioread instead.\n",
      "  warnings.warn('PySoundFile failed. Trying audioread instead.')\n"
     ]
    },
    {
     "name": "stdout",
     "output_type": "stream",
     "text": [
      "Song loaded successfully!\n",
      "Random mapping...\n",
      "Mapping done!\n",
      "Writing files to disk...\n",
      "Converting music file...\n",
      "Zipping folder...\n",
      "Finished! Look for zipped folder in your current path, unzip the folder, and place in the 'CustomMusic' folder in the Beat Saber directory\n"
     ]
    }
   ],
   "source": [
    "random_mapper('song.egg', 'example', 'expert')"
   ]
  },
  {
   "cell_type": "code",
   "execution_count": 22,
   "metadata": {},
   "outputs": [
    {
     "name": "stdout",
     "output_type": "stream",
     "text": [
      "Loading Song...\n"
     ]
    },
    {
     "name": "stderr",
     "output_type": "stream",
     "text": [
      "/opt/anaconda3/envs/BSmapsynth-env/lib/python3.6/site-packages/librosa/core/audio.py:146: UserWarning: PySoundFile failed. Trying audioread instead.\n",
      "  warnings.warn('PySoundFile failed. Trying audioread instead.')\n"
     ]
    },
    {
     "name": "stdout",
     "output_type": "stream",
     "text": [
      "Song loaded successfully!\n",
      "Random mapping...\n",
      "Mapping done!\n",
      "Writing files to disk...\n",
      "Converting music file...\n",
      "Zipping folder...\n",
      "Finished! Look for zipped folder in your current path, unzip the folder, and place in the 'CustomMusic' folder in the Beat Saber directory\n"
     ]
    }
   ],
   "source": [
    "random_mapper('Sro_-_Submersed_Phonics_JBYo_Collab.mp3', 'Sro_example', 'Expert')"
   ]
  },
  {
   "cell_type": "code",
   "execution_count": null,
   "metadata": {},
   "outputs": [],
   "source": []
  }
 ],
 "metadata": {
  "kernelspec": {
   "display_name": "BSmapsynth-env",
   "language": "python",
   "name": "bsmapsynth-env"
  },
  "language_info": {
   "codemirror_mode": {
    "name": "ipython",
    "version": 3
   },
   "file_extension": ".py",
   "mimetype": "text/x-python",
   "name": "python",
   "nbconvert_exporter": "python",
   "pygments_lexer": "ipython3",
   "version": "3.6.9"
  }
 },
 "nbformat": 4,
 "nbformat_minor": 2
}

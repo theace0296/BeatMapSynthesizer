{
 "cells": [
  {
   "cell_type": "code",
   "execution_count": 202,
   "metadata": {},
   "outputs": [],
   "source": [
    "import numpy as np\n",
    "import pandas as pd\n",
    "import librosa\n",
    "import librosa.display\n",
    "import json\n",
    "import requests\n",
    "import pickle\n",
    "import matplotlib.pyplot as plt\n",
    "from io import BytesIO, TextIOWrapper, StringIO\n",
    "from zipfile import ZipFile\n",
    "import os\n",
    "import soundfile as sf\n",
    "import shutil\n",
    "import time"
   ]
  },
  {
   "cell_type": "code",
   "execution_count": 203,
   "metadata": {},
   "outputs": [],
   "source": [
    "with open('metadata.pkl', 'rb') as f:\n",
    "    metadata_total = pickle.load(f)"
   ]
  },
  {
   "cell_type": "code",
   "execution_count": 204,
   "metadata": {},
   "outputs": [],
   "source": [
    "def download_song_and_map(key):\n",
    "    \"\"\"Downloads the zipped folder of song and mapping data from the beatsaber api. Extracts files to a 'temp' folder \n",
    "    in the local directory.\"\"\"\n",
    "    response = requests.get(f\"https://beatsaver.com/api/download/key/{key}\")\n",
    "    if response.status_code == 200:\n",
    "        content_as_file = BytesIO(response.content)\n",
    "        zip_file = ZipFile(content_as_file)\n",
    "        for x in zip_file.filelist:\n",
    "            print(zip_file.extract(x.filename, path = 'temporary'))\n",
    "        return response.status_code\n",
    "    else:\n",
    "        return print(f\"API call failed at {key} with error code {response.status_code}\")"
   ]
  },
  {
   "cell_type": "code",
   "execution_count": 205,
   "metadata": {},
   "outputs": [],
   "source": [
    "def get_available_difficulties(metadata_record):\n",
    "    \"\"\"Gets the difficulty levels that are present for a song in a metadata record.\"\"\"\n",
    "    levels = []\n",
    "    for key, value in metadata_record['metadata']['difficulties'].items():\n",
    "        if value == True or value == 'True':\n",
    "            levels.append(key)\n",
    "    return levels"
   ]
  },
  {
   "cell_type": "code",
   "execution_count": 216,
   "metadata": {},
   "outputs": [],
   "source": [
    "def beat_frames_and_chroma(song_path, bpm):\n",
    "\n",
    "    #Load music file, estimate beat frames, and compute chromagram\n",
    "    y, sr = librosa.load(f\"./temporary/{song_path}\")\n",
    "    y_harmonic, y_percussive = librosa.effects.hpss(y)\n",
    "    tempo, beat_frames = librosa.beat.beat_track(y=y_percussive,\n",
    "                                                 sr=sr,\n",
    "                                                 trim = False,\n",
    "                                                 units = 'frames',\n",
    "                                                 start_bpm = bpm)\n",
    "    chromagram = librosa.feature.chroma_cqt(y=y_harmonic,\n",
    "                                            sr=sr)\n",
    "    return tempo, beat_frames, chromagram"
   ]
  },
  {
   "cell_type": "code",
   "execution_count": 207,
   "metadata": {},
   "outputs": [],
   "source": [
    "def beat_number_and_chroma_v2(beat_frames, chromagram, beat_list):\n",
    "    \n",
    "    \n",
    "    #Add beat count to beat frames\n",
    "    beat_count = np.arange(0, len(beat_frames), 1)\n",
    "    \n",
    "    beat_numbers = pd.concat([pd.Series(beat_count, name = '_time'), pd.Series(beat_frames, name = 'frame_no')], axis = 1)\n",
    "    beat_numbers['frame_no'] = beat_numbers['frame_no'].astype(int)\n",
    "    \n",
    "    #Merge beat_list (i.e., beat numbers) into beat_frames\n",
    "    this = pd.merge(beats_list, beat_numbers, on = '_time', how = 'outer', sort = True).interpolate()\n",
    "    this['frame_no'] = round(this['frame_no'])\n",
    "    this['frame_no'] = this['frame_no'].astype(int)\n",
    "    this.drop_duplicates('frame_no', keep='first', inplace=True)\n",
    "    \n",
    "    beat_chroma = librosa.util.sync(chromagram,\n",
    "                                np.array(this['frame_no']),\n",
    "                                aggregate=np.median)\n",
    "    chroma_df = pd.DataFrame(beat_chroma.T)\n",
    "    chroma_df.drop(0, axis = 0, inplace = True)\n",
    "    chroma_df.reset_index(inplace = True, drop = True)\n",
    "    chroma_beat_number = pd.concat([this, chroma_df], axis = 1)\n",
    "    chroma_beat_number.drop('frame_no', axis = 1, inplace = True)\n",
    "    return chroma_beat_number\n",
    "    "
   ]
  },
  {
   "cell_type": "code",
   "execution_count": 208,
   "metadata": {},
   "outputs": [],
   "source": [
    "def beat_number_and_chroma(song_path, bpm):\n",
    "    \"\"\"This function reads in a music file and returns a DataFrame of beat numbers (divided into 1/16th beats) and\n",
    "    chroma features at each beat. Chroma features are calculated for 1/4 beats and propagated forward across the \n",
    "    16th beats.\"\"\"\n",
    "    #Load music file, estimate beat frames, and compute chromagram\n",
    "    y, sr = librosa.load(song_path)\n",
    "    y_harmonic, y_percussive = librosa.effects.hpss(y)\n",
    "    tempo, beat_frames = librosa.beat.beat_track(y=y_percussive,\n",
    "                                                 sr=sr,\n",
    "                                                 #trim = False,\n",
    "                                                 units = 'frames',\n",
    "                                                 start_bpm = bpm)\n",
    "    chromagram = librosa.feature.chroma_cqt(y=y_harmonic,\n",
    "                                            sr=sr)\n",
    "    #Make a framework for syncing chroma features to 1/4 beat\n",
    "    extend = np.array([])\n",
    "    ind = 0\n",
    "    while ind < len(beat_frames)-1:\n",
    "        extend = np.append(extend, np.arange(beat_frames[ind], beat_frames[ind+1], round((beat_frames[ind+1]-beat_frames[ind])/4))[1:4])\n",
    "        ind += 1\n",
    "    beat_frames_merged = np.concatenate((np.array([0]), beat_frames, extend))\n",
    "    beat_frames_merged.sort()\n",
    "    \n",
    "    #Sync chroma features to 1/4 beats\n",
    "    beat_chroma = librosa.util.sync(chromagram,\n",
    "                                beat_frames_merged.astype(int),\n",
    "                                aggregate=np.median)\n",
    "    \n",
    "    #Add beat count to beat frames\n",
    "    t = np.arange(0, len(beat_frames), 1)\n",
    "    beat_numbers = pd.concat([pd.Series(t, name = '_time'), pd.Series(beat_frames, name = 'frame_no')], axis = 1)\n",
    "    beat_numbers['frame_no'] = beat_numbers['frame_no'].astype(int)\n",
    "    \n",
    "    #Merge chroma features with extended beat frames (1/4 beat)\n",
    "    chromabeats = pd.concat([pd.Series(beat_frames_merged.astype(int), name = 'frame_no'), pd.DataFrame(beat_chroma.T)], axis = 1)\n",
    "    z = pd.merge(beat_numbers, chromabeats, on = 'frame_no', how = 'outer', sort = True)\n",
    "    z.interpolate(inplace = True)\n",
    "    \n",
    "    #Expand beat frequency to 1/16th beat & merge\n",
    "    expand_time = pd.DataFrame(np.arange(0.00, z['_time'].max(), 0.0625), columns = ['_time'])\n",
    "    expanded_chromabeats = pd.merge(z, expand_time, on='_time', how = 'outer', sort = True)\n",
    "    \n",
    "    #Forward fill to fill NaNs\n",
    "    expanded_chromabeats.fillna(method='ffill', inplace = True)\n",
    "    expanded_chromabeats.drop('frame_no', axis = 1, inplace = True)\n",
    "    \n",
    "    return tempo, expanded_chromabeats"
   ]
  },
  {
   "cell_type": "code",
   "execution_count": 209,
   "metadata": {},
   "outputs": [],
   "source": [
    "def notes_processing(mapfile):\n",
    "    \"\"\"This function extracts the notes list from the mapfile and transforms it into a DataFrame of note features\n",
    "    at 16th beat time points.\"\"\"\n",
    "    notes = pd.DataFrame.from_dict(mapfile['_notes']).add_prefix('notes')\n",
    "    wide = widen_notes(notes)\n",
    "#     long = to_sixteenth_beat(wide)\n",
    "    return wide"
   ]
  },
  {
   "cell_type": "code",
   "execution_count": 210,
   "metadata": {},
   "outputs": [],
   "source": [
    "def widen_notes(notes):\n",
    "    \"\"\"This function takes a DataFrame containing all the notes (i.e., blocks) from a level.dat file and widens\n",
    "    the DataFrame such that one time point has seperate columns for each type of block.\"\"\"\n",
    "    wide = None\n",
    "    x = 0\n",
    "    while x < len(notes['notes_type'].unique()):\n",
    "        if x == 0:\n",
    "            #Make separate dataframe for first note type and add a suffix for the column names\n",
    "            notes_a = notes[notes['notes_type'] == notes['notes_type'].unique()[x]].reset_index()\n",
    "            notes_a.drop('index', axis = 1, inplace=True)\n",
    "            notes_a = notes_a.add_suffix(f\"_{notes['notes_type'].unique()[x]}\")\n",
    "            notes_a['_time'] = notes_a[f\"notes_time_{notes['notes_type'].unique()[x]}\"]\n",
    "            notes_a.drop(f\"notes_time_{notes['notes_type'].unique()[x]}\", axis = 1, inplace = True)\n",
    "            #Do the process again for the second note type\n",
    "            notes_b = notes[notes['notes_type'] == notes['notes_type'].unique()[x+1]].reset_index()\n",
    "            notes_b.drop('index', axis = 1, inplace=True)\n",
    "            notes_b = notes_b.add_suffix(f\"_{notes['notes_type'].unique()[x+1]}\")\n",
    "            notes_b['_time'] = notes_b[f\"notes_time_{notes['notes_type'].unique()[x+1]}\"]\n",
    "            notes_b.drop(f\"notes_time_{notes['notes_type'].unique()[x+1]}\", axis = 1, inplace = True)\n",
    "            #Merge the two dataframes\n",
    "            wide = pd.merge(notes_a, notes_b, on = '_time', how = 'outer', sort = True)\n",
    "            x += 2\n",
    "        else: \n",
    "            #Continue adding and merging until all note types have been merged\n",
    "            notes_c = notes[notes['notes_type'] == notes['notes_type'].unique()[x]].reset_index()\n",
    "            notes_c.drop('index', axis = 1, inplace=True)\n",
    "            notes_c = notes_c.add_suffix(f\"_{notes['notes_type'].unique()[x]}\")\n",
    "            notes_c['_time'] = notes_c[f\"notes_time_{notes['notes_type'].unique()[x]}\"]\n",
    "            notes_c.drop(f\"notes_time_{notes['notes_type'].unique()[x]}\", axis = 1, inplace = True)\n",
    "            wide = pd.merge(wide, notes_c, on = '_time', how = 'outer', sort = True)\n",
    "            x += 1\n",
    "    #Replace NaN with 999\n",
    "    wide.fillna(999, inplace = True)\n",
    "    #Coerce all columns except _time back to integer\n",
    "    for column in wide.columns:\n",
    "        if column != '_time':\n",
    "            wide[column] = wide[column].astype(int)\n",
    "    return wide"
   ]
  },
  {
   "cell_type": "code",
   "execution_count": 211,
   "metadata": {},
   "outputs": [],
   "source": [
    "def to_sixteenth_beat(notes_df):\n",
    "    \"\"\"This function expands the notes DataFrame to represent beats down to the sixteenth beat. Returns expanded \n",
    "    DataFrame with NaNs filled with 999.\"\"\"\n",
    "    song_len = notes_df['_time'].max()\n",
    "    expand_time = pd.DataFrame(np.arange(0.00, song_len, 0.0625), columns = ['_time'])\n",
    "    expanded_notes = pd.merge(notes_df, expand_time, on='_time', how = 'outer', sort = True)\n",
    "    #Replace NaN with 999\n",
    "    expanded_notes.fillna(999, inplace = True)\n",
    "    #Coerce all columns except _time back to integer\n",
    "    for column in expanded_notes.columns:\n",
    "        if column != '_time':\n",
    "            expanded_notes[column] = expanded_notes[column].astype(int)\n",
    "    return expanded_notes"
   ]
  },
  {
   "cell_type": "code",
   "execution_count": 212,
   "metadata": {},
   "outputs": [],
   "source": [
    "def download_and_process(metadata):\n",
    "    \"\"\"This is the master function that downloads the zipped folder with music, map, and info files. It extracts\n",
    "    features from the files and makes a single record out of the features.\"\"\"\n",
    "    #Construct list of download keys from metadata\n",
    "    key_list = []\n",
    "    for x in metadata:\n",
    "        key_list.append(x['key'])\n",
    "    \n",
    "    #For each dowload key in the metadata, download and process the zip folder\n",
    "    for key in key_list:\n",
    "        available_difficulties = get_available_difficulties(list(filter(lambda x: x['key'] == key, metadata))[0])\n",
    "        print(f\"{key}:\", available_difficulties)\n",
    "        code = download_song_and_map(key)\n",
    "        if code != 200:\n",
    "            continue\n",
    "        else:\n",
    "            try:\n",
    "                #open music file and process\n",
    "                with open('./temporary/info.dat', 'rb') as i:\n",
    "                    info = json.load(i)\n",
    "                music_path = info['_songFilename']\n",
    "                bpm = info['_beatsPerMinute']\n",
    "                tempo, beat_frames, chromagram = beat_frames_and_chroma(music_path, bpm)\n",
    "                \n",
    "                #open map files and process\n",
    "                for difficulty in available_difficulties:\n",
    "                    map_file = open_map_file(difficulty)\n",
    "                    notes_df = notes_processing(map_file)                    \n",
    "                    notes_df['_time'] = round(notes_df['_time'], 3)\n",
    "                    music_df = beat_number_and_chroma_v2(beat_frames, chromagram, notes_df['_time'])\n",
    "                    df = pd.merge(music_df, notes_df, on = '_time', how = 'outer', sort = True)\n",
    "                    df.iloc[:, 1:13] = df.iloc[:, 1:13].fillna(method = 'bfill', axis = 0)\n",
    "                    df.iloc[:, 13:] = df.iloc[:, 13:].fillna(value = 999, axis = 0)\n",
    "                    with open(f\"./level_df/{key}_{difficulty}.pkl\", 'wb') as f:\n",
    "                        pickle.dump(df, f)\n",
    "                    \n",
    "            except Exception as err:\n",
    "                 print(f\"{key}: \\n {err}\")\n",
    "            finally:\n",
    "                #delete temp directory\n",
    "                shutil.rmtree('./temporary/')\n",
    "        \n",
    "        \n",
    "        \n",
    "#         filelist = [f for f in os.listdir('temp')]\n",
    "#         for f in filelist:\n",
    "#             os.remove(os.path.join('temp', f))\n",
    "#         os.rmdir('temp')"
   ]
  },
  {
   "cell_type": "code",
   "execution_count": 213,
   "metadata": {},
   "outputs": [],
   "source": [
    "def open_map_file(difficulty):\n",
    "    \"\"\"This function opens the map file listed in the info.dat file for the specificed difficulty level.\"\"\"\n",
    "    with open('./temporary/info.dat', 'rb') as i:\n",
    "        info = json.load(i)\n",
    "    for x in info['_difficultyBeatmapSets']:\n",
    "        if x['_beatmapCharacteristicName'].casefold() == 'Standard'.casefold():\n",
    "            for y in x['_difficultyBeatmaps']:\n",
    "                if y['_difficulty'].casefold() == difficulty.casefold():\n",
    "                    file_name = y['_beatmapFilename']\n",
    "                    with open(f\"./temporary/{file_name}\", 'rb') as f:\n",
    "                        map_file = json.load(f)\n",
    "                    return map_file"
   ]
  },
  {
   "cell_type": "code",
   "execution_count": 214,
   "metadata": {},
   "outputs": [],
   "source": [
    "good_songs = list(filter(lambda x: x['stats']['rating'] >= .9, metadata_total))"
   ]
  },
  {
   "cell_type": "code",
   "execution_count": 217,
   "metadata": {},
   "outputs": [
    {
     "name": "stdout",
     "output_type": "stream",
     "text": [
      "7a64: ['easy', 'expert', 'expertPlus', 'hard', 'normal']\n",
      "temporary/EasyStandard.dat\n",
      "temporary/NormalStandard.dat\n",
      "temporary/HardStandard.dat\n",
      "temporary/ExpertStandard.dat\n",
      "temporary/ExpertPlusStandard.dat\n",
      "temporary/cover.jpg\n",
      "temporary/song.egg\n",
      "temporary/info.dat\n"
     ]
    },
    {
     "name": "stderr",
     "output_type": "stream",
     "text": [
      "/opt/anaconda3/envs/BSmapsynth-env/lib/python3.6/site-packages/librosa/core/audio.py:146: UserWarning: PySoundFile failed. Trying audioread instead.\n",
      "  warnings.warn('PySoundFile failed. Trying audioread instead.')\n",
      "/opt/anaconda3/envs/BSmapsynth-env/lib/python3.6/site-packages/pandas/core/reshape/merge.py:1089: UserWarning: You are merging on int and float columns where the float values are not equal to their int representation\n",
      "  UserWarning,\n"
     ]
    },
    {
     "name": "stdout",
     "output_type": "stream",
     "text": [
      "74d5: ['expert']\n",
      "temporary/cover.jpg\n",
      "temporary/ExpertStandard.dat\n",
      "temporary/song.egg\n",
      "temporary/info.dat\n"
     ]
    },
    {
     "name": "stderr",
     "output_type": "stream",
     "text": [
      "/opt/anaconda3/envs/BSmapsynth-env/lib/python3.6/site-packages/librosa/core/audio.py:146: UserWarning: PySoundFile failed. Trying audioread instead.\n",
      "  warnings.warn('PySoundFile failed. Trying audioread instead.')\n",
      "/opt/anaconda3/envs/BSmapsynth-env/lib/python3.6/site-packages/pandas/core/reshape/merge.py:1089: UserWarning: You are merging on int and float columns where the float values are not equal to their int representation\n",
      "  UserWarning,\n"
     ]
    },
    {
     "name": "stdout",
     "output_type": "stream",
     "text": [
      "72de: ['easy', 'expert', 'expertPlus', 'hard', 'normal']\n",
      "temporary/cover.jpg\n",
      "temporary/cyan.png\n",
      "temporary/EasyStandard.dat\n",
      "temporary/ExpertPlusStandard.dat\n",
      "temporary/ExpertStandard.dat\n",
      "temporary/HardStandard.dat\n",
      "temporary/NormalStandard.dat\n",
      "temporary/easter.egg\n",
      "temporary/info.dat\n"
     ]
    },
    {
     "name": "stderr",
     "output_type": "stream",
     "text": [
      "/opt/anaconda3/envs/BSmapsynth-env/lib/python3.6/site-packages/librosa/core/audio.py:146: UserWarning: PySoundFile failed. Trying audioread instead.\n",
      "  warnings.warn('PySoundFile failed. Trying audioread instead.')\n",
      "/opt/anaconda3/envs/BSmapsynth-env/lib/python3.6/site-packages/pandas/core/reshape/merge.py:1089: UserWarning: You are merging on int and float columns where the float values are not equal to their int representation\n",
      "  UserWarning,\n"
     ]
    },
    {
     "name": "stdout",
     "output_type": "stream",
     "text": [
      "70f1: ['expert']\n",
      "temporary/cover.jpg\n",
      "temporary/ExpertStandard.dat\n",
      "temporary/song.egg\n",
      "temporary/info.dat\n"
     ]
    },
    {
     "name": "stderr",
     "output_type": "stream",
     "text": [
      "/opt/anaconda3/envs/BSmapsynth-env/lib/python3.6/site-packages/librosa/core/audio.py:146: UserWarning: PySoundFile failed. Trying audioread instead.\n",
      "  warnings.warn('PySoundFile failed. Trying audioread instead.')\n",
      "/opt/anaconda3/envs/BSmapsynth-env/lib/python3.6/site-packages/pandas/core/reshape/merge.py:1089: UserWarning: You are merging on int and float columns where the float values are not equal to their int representation\n",
      "  UserWarning,\n"
     ]
    },
    {
     "name": "stdout",
     "output_type": "stream",
     "text": [
      "6ed4: ['expert', 'expertPlus', 'hard']\n",
      "temporary/HardStandard.dat\n",
      "temporary/ExpertStandard.dat\n",
      "temporary/ExpertPlusStandard.dat\n",
      "temporary/cover.jpg\n",
      "temporary/song.egg\n",
      "temporary/info.dat\n"
     ]
    },
    {
     "name": "stderr",
     "output_type": "stream",
     "text": [
      "/opt/anaconda3/envs/BSmapsynth-env/lib/python3.6/site-packages/librosa/core/audio.py:146: UserWarning: PySoundFile failed. Trying audioread instead.\n",
      "  warnings.warn('PySoundFile failed. Trying audioread instead.')\n",
      "/opt/anaconda3/envs/BSmapsynth-env/lib/python3.6/site-packages/pandas/core/reshape/merge.py:1089: UserWarning: You are merging on int and float columns where the float values are not equal to their int representation\n",
      "  UserWarning,\n"
     ]
    },
    {
     "name": "stdout",
     "output_type": "stream",
     "text": [
      "6ea9: ['easy', 'expert', 'expertPlus', 'hard', 'normal']\n",
      "temporary/cover.jpg\n",
      "temporary/EasyStandard.dat\n",
      "temporary/ExpertPlusStandard.dat\n",
      "temporary/ExpertStandard.dat\n",
      "temporary/HardStandard.dat\n",
      "temporary/mae.png\n",
      "temporary/mp.png\n",
      "temporary/NormalStandard.dat\n",
      "temporary/tb.png\n",
      "temporary/song.egg\n",
      "temporary/info.dat\n"
     ]
    },
    {
     "name": "stderr",
     "output_type": "stream",
     "text": [
      "/opt/anaconda3/envs/BSmapsynth-env/lib/python3.6/site-packages/librosa/core/audio.py:146: UserWarning: PySoundFile failed. Trying audioread instead.\n",
      "  warnings.warn('PySoundFile failed. Trying audioread instead.')\n",
      "/opt/anaconda3/envs/BSmapsynth-env/lib/python3.6/site-packages/pandas/core/reshape/merge.py:1089: UserWarning: You are merging on int and float columns where the float values are not equal to their int representation\n",
      "  UserWarning,\n"
     ]
    },
    {
     "name": "stdout",
     "output_type": "stream",
     "text": [
      "6d96: ['easy', 'expert', 'expertPlus', 'hard', 'normal']\n",
      "temporary/cover.jpg\n",
      "temporary/EasyStandard.dat\n",
      "temporary/ExpertPlusStandard.dat\n",
      "temporary/ExpertStandard.dat\n",
      "temporary/HardStandard.dat\n",
      "temporary/icon.png\n",
      "temporary/Lightshow.dat\n",
      "temporary/NormalStandard.dat\n",
      "temporary/song.egg\n",
      "temporary/info.dat\n"
     ]
    },
    {
     "name": "stderr",
     "output_type": "stream",
     "text": [
      "/opt/anaconda3/envs/BSmapsynth-env/lib/python3.6/site-packages/librosa/core/audio.py:146: UserWarning: PySoundFile failed. Trying audioread instead.\n",
      "  warnings.warn('PySoundFile failed. Trying audioread instead.')\n",
      "/opt/anaconda3/envs/BSmapsynth-env/lib/python3.6/site-packages/pandas/core/reshape/merge.py:1089: UserWarning: You are merging on int and float columns where the float values are not equal to their int representation\n",
      "  UserWarning,\n"
     ]
    },
    {
     "name": "stdout",
     "output_type": "stream",
     "text": [
      "6d63: ['easy', 'expert', 'hard', 'normal']\n",
      "temporary/a-ha_take_on_me.egg\n",
      "temporary/cover.jpg\n",
      "temporary/EasyStandard.dat\n",
      "temporary/ExpertStandard.dat\n",
      "temporary/HardStandard.dat\n",
      "temporary/info.dat\n",
      "temporary/NormalStandard.dat\n"
     ]
    },
    {
     "name": "stderr",
     "output_type": "stream",
     "text": [
      "/opt/anaconda3/envs/BSmapsynth-env/lib/python3.6/site-packages/librosa/core/audio.py:146: UserWarning: PySoundFile failed. Trying audioread instead.\n",
      "  warnings.warn('PySoundFile failed. Trying audioread instead.')\n",
      "/opt/anaconda3/envs/BSmapsynth-env/lib/python3.6/site-packages/pandas/core/reshape/merge.py:1089: UserWarning: You are merging on int and float columns where the float values are not equal to their int representation\n",
      "  UserWarning,\n"
     ]
    },
    {
     "name": "stdout",
     "output_type": "stream",
     "text": [
      "6cf7: ['easy', 'expert', 'expertPlus', 'hard', 'normal']\n",
      "temporary/EasyStandard.dat\n",
      "temporary/NormalStandard.dat\n",
      "temporary/HardStandard.dat\n",
      "temporary/ExpertStandard.dat\n",
      "temporary/ExpertPlusStandard.dat\n",
      "temporary/cover.jpg\n",
      "temporary/song.egg\n",
      "temporary/info.dat\n"
     ]
    },
    {
     "name": "stderr",
     "output_type": "stream",
     "text": [
      "/opt/anaconda3/envs/BSmapsynth-env/lib/python3.6/site-packages/librosa/core/audio.py:146: UserWarning: PySoundFile failed. Trying audioread instead.\n",
      "  warnings.warn('PySoundFile failed. Trying audioread instead.')\n",
      "/opt/anaconda3/envs/BSmapsynth-env/lib/python3.6/site-packages/pandas/core/reshape/merge.py:1089: UserWarning: You are merging on int and float columns where the float values are not equal to their int representation\n",
      "  UserWarning,\n"
     ]
    },
    {
     "name": "stdout",
     "output_type": "stream",
     "text": [
      "6bfa: ['expert']\n",
      "temporary/ExpertStandard.dat\n",
      "temporary/cover.jpg\n",
      "temporary/song.egg\n",
      "temporary/info.dat\n"
     ]
    },
    {
     "name": "stderr",
     "output_type": "stream",
     "text": [
      "/opt/anaconda3/envs/BSmapsynth-env/lib/python3.6/site-packages/librosa/core/audio.py:146: UserWarning: PySoundFile failed. Trying audioread instead.\n",
      "  warnings.warn('PySoundFile failed. Trying audioread instead.')\n",
      "/opt/anaconda3/envs/BSmapsynth-env/lib/python3.6/site-packages/pandas/core/reshape/merge.py:1089: UserWarning: You are merging on int and float columns where the float values are not equal to their int representation\n",
      "  UserWarning,\n"
     ]
    },
    {
     "name": "stdout",
     "output_type": "stream",
     "text": [
      "6b8c: ['easy', 'expert', 'expertPlus', 'hard', 'normal']\n",
      "temporary/Easy.dat\n",
      "temporary/Normal.dat\n",
      "temporary/Hard.dat\n",
      "temporary/Expert.dat\n",
      "temporary/ExpertPlus.dat\n",
      "temporary/Lightshow.dat\n",
      "temporary/song.egg\n",
      "temporary/cover.jpg\n",
      "temporary/info.dat\n"
     ]
    },
    {
     "name": "stderr",
     "output_type": "stream",
     "text": [
      "/opt/anaconda3/envs/BSmapsynth-env/lib/python3.6/site-packages/librosa/core/audio.py:146: UserWarning: PySoundFile failed. Trying audioread instead.\n",
      "  warnings.warn('PySoundFile failed. Trying audioread instead.')\n",
      "/opt/anaconda3/envs/BSmapsynth-env/lib/python3.6/site-packages/pandas/core/reshape/merge.py:1089: UserWarning: You are merging on int and float columns where the float values are not equal to their int representation\n",
      "  UserWarning,\n"
     ]
    },
    {
     "name": "stdout",
     "output_type": "stream",
     "text": [
      "6b55: ['expert', 'hard']\n",
      "temporary/HardStandard.dat\n",
      "temporary/ExpertStandard.dat\n",
      "temporary/cover.jpg\n",
      "temporary/song.egg\n",
      "temporary/info.dat\n"
     ]
    },
    {
     "name": "stderr",
     "output_type": "stream",
     "text": [
      "/opt/anaconda3/envs/BSmapsynth-env/lib/python3.6/site-packages/librosa/core/audio.py:146: UserWarning: PySoundFile failed. Trying audioread instead.\n",
      "  warnings.warn('PySoundFile failed. Trying audioread instead.')\n",
      "/opt/anaconda3/envs/BSmapsynth-env/lib/python3.6/site-packages/pandas/core/reshape/merge.py:1089: UserWarning: You are merging on int and float columns where the float values are not equal to their int representation\n",
      "  UserWarning,\n"
     ]
    },
    {
     "name": "stdout",
     "output_type": "stream",
     "text": [
      "6adc: ['expert', 'expertPlus', 'hard']\n",
      "temporary/HardStandard.dat\n",
      "temporary/ExpertStandard.dat\n",
      "temporary/ExpertPlus.dat\n",
      "temporary/Rasputin (Funk Overload).egg\n",
      "temporary/Rasputin.jpg\n",
      "temporary/info.dat\n"
     ]
    },
    {
     "name": "stderr",
     "output_type": "stream",
     "text": [
      "/opt/anaconda3/envs/BSmapsynth-env/lib/python3.6/site-packages/librosa/core/audio.py:146: UserWarning: PySoundFile failed. Trying audioread instead.\n",
      "  warnings.warn('PySoundFile failed. Trying audioread instead.')\n",
      "/opt/anaconda3/envs/BSmapsynth-env/lib/python3.6/site-packages/pandas/core/reshape/merge.py:1089: UserWarning: You are merging on int and float columns where the float values are not equal to their int representation\n",
      "  UserWarning,\n"
     ]
    },
    {
     "name": "stdout",
     "output_type": "stream",
     "text": [
      "699f: ['expert', 'hard', 'normal']\n",
      "temporary/Normal.dat\n",
      "temporary/Hard.dat\n",
      "temporary/Expert.dat\n",
      "temporary/song.egg\n",
      "temporary/cover.png\n",
      "temporary/info.dat\n"
     ]
    },
    {
     "name": "stderr",
     "output_type": "stream",
     "text": [
      "/opt/anaconda3/envs/BSmapsynth-env/lib/python3.6/site-packages/librosa/core/audio.py:146: UserWarning: PySoundFile failed. Trying audioread instead.\n",
      "  warnings.warn('PySoundFile failed. Trying audioread instead.')\n",
      "/opt/anaconda3/envs/BSmapsynth-env/lib/python3.6/site-packages/pandas/core/reshape/merge.py:1089: UserWarning: You are merging on int and float columns where the float values are not equal to their int representation\n",
      "  UserWarning,\n"
     ]
    },
    {
     "name": "stdout",
     "output_type": "stream",
     "text": [
      "68f4: ['expert', 'hard', 'normal']\n",
      "temporary/NormalStandard.dat\n",
      "temporary/HardStandard.dat\n",
      "temporary/ExpertStandard.dat\n",
      "temporary/cover.jpg\n",
      "temporary/song.egg\n",
      "temporary/info.dat\n"
     ]
    },
    {
     "name": "stderr",
     "output_type": "stream",
     "text": [
      "/opt/anaconda3/envs/BSmapsynth-env/lib/python3.6/site-packages/librosa/core/audio.py:146: UserWarning: PySoundFile failed. Trying audioread instead.\n",
      "  warnings.warn('PySoundFile failed. Trying audioread instead.')\n",
      "/opt/anaconda3/envs/BSmapsynth-env/lib/python3.6/site-packages/pandas/core/reshape/merge.py:1089: UserWarning: You are merging on int and float columns where the float values are not equal to their int representation\n",
      "  UserWarning,\n"
     ]
    },
    {
     "name": "stdout",
     "output_type": "stream",
     "text": [
      "68c5: ['easy', 'expert', 'expertPlus', 'hard', 'normal']\n",
      "temporary/219278.jpg\n",
      "temporary/Aeroluna.png\n",
      "temporary/Bloodcloak.jpg\n",
      "temporary/cover.jpg\n",
      "temporary/CyanSnow.jpg\n",
      "temporary/Easy.dat\n",
      "temporary/EasyLL.dat\n",
      "temporary/EasyLS.dat\n",
      "temporary/EasySS.dat\n",
      "temporary/EncodeRed.png\n",
      "temporary/Expert.dat\n",
      "temporary/ExpertLL.dat\n",
      "temporary/ExpertLS.dat\n",
      "temporary/ExpertNA.dat\n",
      "temporary/ExpertPlus.dat\n",
      "temporary/ExpertPlusLL.dat\n",
      "temporary/ExpertPlusLS.dat\n",
      "temporary/ExpertPlusSS.dat\n",
      "temporary/ExpertSS.dat\n",
      "temporary/Getsix.jpg\n",
      "temporary/Halcyon12.jpg\n",
      "temporary/Hard.dat\n",
      "temporary/HardLL.dat\n",
      "temporary/HardLS.dat\n",
      "temporary/HardNA.dat\n",
      "temporary/HardSS.dat\n",
      "temporary/HelenCarnate.jpg\n",
      "temporary/info.dat\n",
      "temporary/Kolezan.jpg\n",
      "temporary/leh4nnes.jpg\n",
      "temporary/MissLina.jpg\n",
      "temporary/Normal.dat\n",
      "temporary/NormalLL.dat\n",
      "temporary/NormalLS.dat\n",
      "temporary/NormalSS.dat\n",
      "temporary/pib.jpg\n",
      "temporary/Raxan.jpg\n",
      "temporary/Skeelie.jpg\n",
      "temporary/Skyler.png\n",
      "temporary/song.egg\n",
      "temporary/spooky.jpg\n",
      "temporary/Sykes.png\n",
      "temporary/techbutterfly.jpg\n",
      "temporary/Teuflum.png\n",
      "temporary/thelitlewiseowl.jpg\n",
      "temporary/UltimatePepega.dat\n",
      "temporary/xScaramouche.jpg\n"
     ]
    },
    {
     "name": "stderr",
     "output_type": "stream",
     "text": [
      "/opt/anaconda3/envs/BSmapsynth-env/lib/python3.6/site-packages/librosa/core/audio.py:146: UserWarning: PySoundFile failed. Trying audioread instead.\n",
      "  warnings.warn('PySoundFile failed. Trying audioread instead.')\n",
      "/opt/anaconda3/envs/BSmapsynth-env/lib/python3.6/site-packages/pandas/core/reshape/merge.py:1089: UserWarning: You are merging on int and float columns where the float values are not equal to their int representation\n",
      "  UserWarning,\n"
     ]
    },
    {
     "name": "stdout",
     "output_type": "stream",
     "text": [
      "68bb: ['expert', 'expertPlus', 'hard']\n",
      "temporary/1.jpg\n",
      "temporary/Expert.dat\n",
      "temporary/ExpertPlus.dat\n",
      "temporary/Hard.dat\n",
      "temporary/info.dat\n",
      "temporary/song.egg\n"
     ]
    },
    {
     "name": "stderr",
     "output_type": "stream",
     "text": [
      "/opt/anaconda3/envs/BSmapsynth-env/lib/python3.6/site-packages/librosa/core/audio.py:146: UserWarning: PySoundFile failed. Trying audioread instead.\n",
      "  warnings.warn('PySoundFile failed. Trying audioread instead.')\n",
      "/opt/anaconda3/envs/BSmapsynth-env/lib/python3.6/site-packages/pandas/core/reshape/merge.py:1089: UserWarning: You are merging on int and float columns where the float values are not equal to their int representation\n",
      "  UserWarning,\n"
     ]
    },
    {
     "name": "stdout",
     "output_type": "stream",
     "text": [
      "689b: ['expert']\n",
      "temporary/Ducktales.jpg\n",
      "temporary/ExpertStandard.dat\n",
      "temporary/Felicia Barton - DuckTales.egg\n",
      "temporary/info.dat\n"
     ]
    },
    {
     "name": "stderr",
     "output_type": "stream",
     "text": [
      "/opt/anaconda3/envs/BSmapsynth-env/lib/python3.6/site-packages/librosa/core/audio.py:146: UserWarning: PySoundFile failed. Trying audioread instead.\n",
      "  warnings.warn('PySoundFile failed. Trying audioread instead.')\n",
      "/opt/anaconda3/envs/BSmapsynth-env/lib/python3.6/site-packages/pandas/core/reshape/merge.py:1089: UserWarning: You are merging on int and float columns where the float values are not equal to their int representation\n",
      "  UserWarning,\n"
     ]
    },
    {
     "name": "stdout",
     "output_type": "stream",
     "text": [
      "6891: ['easy', 'expert', 'expertPlus', 'hard', 'normal']\n",
      "temporary/cover.jpg\n",
      "temporary/EasyStandard.dat\n",
      "temporary/ExpertPlusStandard.dat\n",
      "temporary/ExpertStandard.dat\n",
      "temporary/HardStandard.dat\n",
      "temporary/NormalStandard.dat\n",
      "temporary/song.egg\n",
      "temporary/info.dat\n"
     ]
    },
    {
     "name": "stderr",
     "output_type": "stream",
     "text": [
      "/opt/anaconda3/envs/BSmapsynth-env/lib/python3.6/site-packages/librosa/core/audio.py:146: UserWarning: PySoundFile failed. Trying audioread instead.\n",
      "  warnings.warn('PySoundFile failed. Trying audioread instead.')\n",
      "/opt/anaconda3/envs/BSmapsynth-env/lib/python3.6/site-packages/pandas/core/reshape/merge.py:1089: UserWarning: You are merging on int and float columns where the float values are not equal to their int representation\n",
      "  UserWarning,\n"
     ]
    },
    {
     "name": "stdout",
     "output_type": "stream",
     "text": [
      "67ba: ['expertPlus']\n",
      "temporary/cover.jpg\n",
      "temporary/ExpertPlus.dat\n",
      "temporary/Air - Anime Mix AMV.egg\n",
      "temporary/info.dat\n"
     ]
    },
    {
     "name": "stderr",
     "output_type": "stream",
     "text": [
      "/opt/anaconda3/envs/BSmapsynth-env/lib/python3.6/site-packages/librosa/core/audio.py:146: UserWarning: PySoundFile failed. Trying audioread instead.\n",
      "  warnings.warn('PySoundFile failed. Trying audioread instead.')\n",
      "/opt/anaconda3/envs/BSmapsynth-env/lib/python3.6/site-packages/pandas/core/reshape/merge.py:1089: UserWarning: You are merging on int and float columns where the float values are not equal to their int representation\n",
      "  UserWarning,\n"
     ]
    },
    {
     "name": "stdout",
     "output_type": "stream",
     "text": [
      "67a8: ['expert', 'hard']\n",
      "temporary/HardStandard.dat\n",
      "temporary/info.dat\n",
      "temporary/song.egg\n",
      "temporary/cover.jpg\n",
      "temporary/ExpertStandard.dat\n"
     ]
    },
    {
     "name": "stderr",
     "output_type": "stream",
     "text": [
      "/opt/anaconda3/envs/BSmapsynth-env/lib/python3.6/site-packages/librosa/core/audio.py:146: UserWarning: PySoundFile failed. Trying audioread instead.\n",
      "  warnings.warn('PySoundFile failed. Trying audioread instead.')\n",
      "/opt/anaconda3/envs/BSmapsynth-env/lib/python3.6/site-packages/pandas/core/reshape/merge.py:1089: UserWarning: You are merging on int and float columns where the float values are not equal to their int representation\n",
      "  UserWarning,\n"
     ]
    },
    {
     "name": "stdout",
     "output_type": "stream",
     "text": [
      "66e6: ['expert', 'expertPlus']\n",
      "temporary/cover.jpg\n",
      "temporary/Expert.dat\n",
      "temporary/ExpertPlus.dat\n",
      "temporary/info.dat\n",
      "temporary/song.egg\n"
     ]
    },
    {
     "name": "stderr",
     "output_type": "stream",
     "text": [
      "/opt/anaconda3/envs/BSmapsynth-env/lib/python3.6/site-packages/librosa/core/audio.py:146: UserWarning: PySoundFile failed. Trying audioread instead.\n",
      "  warnings.warn('PySoundFile failed. Trying audioread instead.')\n",
      "/opt/anaconda3/envs/BSmapsynth-env/lib/python3.6/site-packages/pandas/core/reshape/merge.py:1089: UserWarning: You are merging on int and float columns where the float values are not equal to their int representation\n",
      "  UserWarning,\n"
     ]
    },
    {
     "name": "stdout",
     "output_type": "stream",
     "text": [
      "65e6: ['hard']\n",
      "temporary/cover.jpg\n",
      "temporary/HardStandard.dat\n",
      "temporary/info.dat\n",
      "temporary/song.egg\n"
     ]
    },
    {
     "name": "stderr",
     "output_type": "stream",
     "text": [
      "/opt/anaconda3/envs/BSmapsynth-env/lib/python3.6/site-packages/librosa/core/audio.py:146: UserWarning: PySoundFile failed. Trying audioread instead.\n",
      "  warnings.warn('PySoundFile failed. Trying audioread instead.')\n",
      "/opt/anaconda3/envs/BSmapsynth-env/lib/python3.6/site-packages/pandas/core/reshape/merge.py:1089: UserWarning: You are merging on int and float columns where the float values are not equal to their int representation\n",
      "  UserWarning,\n"
     ]
    },
    {
     "name": "stdout",
     "output_type": "stream",
     "text": [
      "65c9: ['expert', 'hard']\n",
      "temporary/cover.jpg\n",
      "temporary/ExpertStandard.dat\n",
      "temporary/HardStandard.dat\n",
      "temporary/song.egg\n",
      "temporary/info.dat\n"
     ]
    },
    {
     "name": "stderr",
     "output_type": "stream",
     "text": [
      "/opt/anaconda3/envs/BSmapsynth-env/lib/python3.6/site-packages/librosa/core/audio.py:146: UserWarning: PySoundFile failed. Trying audioread instead.\n",
      "  warnings.warn('PySoundFile failed. Trying audioread instead.')\n",
      "/opt/anaconda3/envs/BSmapsynth-env/lib/python3.6/site-packages/pandas/core/reshape/merge.py:1089: UserWarning: You are merging on int and float columns where the float values are not equal to their int representation\n",
      "  UserWarning,\n"
     ]
    },
    {
     "name": "stdout",
     "output_type": "stream",
     "text": [
      "6484: ['expert']\n",
      "temporary/cover.jpg\n",
      "temporary/ExpertStandard.dat\n",
      "temporary/song.egg\n",
      "temporary/info.dat\n"
     ]
    },
    {
     "name": "stderr",
     "output_type": "stream",
     "text": [
      "/opt/anaconda3/envs/BSmapsynth-env/lib/python3.6/site-packages/librosa/core/audio.py:146: UserWarning: PySoundFile failed. Trying audioread instead.\n",
      "  warnings.warn('PySoundFile failed. Trying audioread instead.')\n",
      "/opt/anaconda3/envs/BSmapsynth-env/lib/python3.6/site-packages/pandas/core/reshape/merge.py:1089: UserWarning: You are merging on int and float columns where the float values are not equal to their int representation\n",
      "  UserWarning,\n"
     ]
    },
    {
     "name": "stdout",
     "output_type": "stream",
     "text": [
      "645a: ['expertPlus']\n",
      "temporary/ExpertPlusStandard.dat\n",
      "temporary/cover.jpg\n",
      "temporary/song.egg\n",
      "temporary/info.dat\n"
     ]
    },
    {
     "name": "stderr",
     "output_type": "stream",
     "text": [
      "/opt/anaconda3/envs/BSmapsynth-env/lib/python3.6/site-packages/librosa/core/audio.py:146: UserWarning: PySoundFile failed. Trying audioread instead.\n",
      "  warnings.warn('PySoundFile failed. Trying audioread instead.')\n",
      "/opt/anaconda3/envs/BSmapsynth-env/lib/python3.6/site-packages/pandas/core/reshape/merge.py:1089: UserWarning: You are merging on int and float columns where the float values are not equal to their int representation\n",
      "  UserWarning,\n"
     ]
    },
    {
     "name": "stdout",
     "output_type": "stream",
     "text": [
      "6368: ['expert']\n",
      "temporary/ExpertStandard.dat\n",
      "temporary/cover.jpg\n",
      "temporary/song.egg\n",
      "temporary/info.dat\n"
     ]
    },
    {
     "name": "stderr",
     "output_type": "stream",
     "text": [
      "/opt/anaconda3/envs/BSmapsynth-env/lib/python3.6/site-packages/librosa/core/audio.py:146: UserWarning: PySoundFile failed. Trying audioread instead.\n",
      "  warnings.warn('PySoundFile failed. Trying audioread instead.')\n",
      "/opt/anaconda3/envs/BSmapsynth-env/lib/python3.6/site-packages/pandas/core/reshape/merge.py:1089: UserWarning: You are merging on int and float columns where the float values are not equal to their int representation\n",
      "  UserWarning,\n"
     ]
    },
    {
     "name": "stdout",
     "output_type": "stream",
     "text": [
      "6366: ['expert', 'hard']\n",
      "temporary/cover.jpg\n",
      "temporary/ExpertStandard.dat\n",
      "temporary/HardStandard.dat\n",
      "temporary/info.dat\n",
      "temporary/song.egg\n"
     ]
    },
    {
     "name": "stderr",
     "output_type": "stream",
     "text": [
      "/opt/anaconda3/envs/BSmapsynth-env/lib/python3.6/site-packages/librosa/core/audio.py:146: UserWarning: PySoundFile failed. Trying audioread instead.\n",
      "  warnings.warn('PySoundFile failed. Trying audioread instead.')\n",
      "/opt/anaconda3/envs/BSmapsynth-env/lib/python3.6/site-packages/pandas/core/reshape/merge.py:1089: UserWarning: You are merging on int and float columns where the float values are not equal to their int representation\n",
      "  UserWarning,\n"
     ]
    },
    {
     "name": "stdout",
     "output_type": "stream",
     "text": [
      "6360: ['expert']\n",
      "temporary/ExpertStandard.dat\n",
      "temporary/cover.jpg\n",
      "temporary/song.egg\n",
      "temporary/info.dat\n"
     ]
    },
    {
     "name": "stderr",
     "output_type": "stream",
     "text": [
      "/opt/anaconda3/envs/BSmapsynth-env/lib/python3.6/site-packages/librosa/core/audio.py:146: UserWarning: PySoundFile failed. Trying audioread instead.\n",
      "  warnings.warn('PySoundFile failed. Trying audioread instead.')\n",
      "/opt/anaconda3/envs/BSmapsynth-env/lib/python3.6/site-packages/pandas/core/reshape/merge.py:1089: UserWarning: You are merging on int and float columns where the float values are not equal to their int representation\n",
      "  UserWarning,\n"
     ]
    },
    {
     "name": "stdout",
     "output_type": "stream",
     "text": [
      "6352: ['easy', 'expert', 'expertPlus']\n",
      "temporary/EasyStandard.dat\n",
      "temporary/ExpertStandard.dat\n",
      "temporary/ExpertPlusStandard.dat\n",
      "temporary/cover.jpg\n",
      "temporary/Paladin.egg\n",
      "temporary/info.dat\n"
     ]
    },
    {
     "name": "stderr",
     "output_type": "stream",
     "text": [
      "/opt/anaconda3/envs/BSmapsynth-env/lib/python3.6/site-packages/librosa/core/audio.py:146: UserWarning: PySoundFile failed. Trying audioread instead.\n",
      "  warnings.warn('PySoundFile failed. Trying audioread instead.')\n"
     ]
    },
    {
     "name": "stdout",
     "output_type": "stream",
     "text": [
      "6352: \n",
      " 'notes_type'\n",
      "618a: ['expert']\n",
      "temporary/Expert.dat\n",
      "temporary/song.egg\n",
      "temporary/cover.jpg\n",
      "temporary/info.dat\n"
     ]
    },
    {
     "name": "stderr",
     "output_type": "stream",
     "text": [
      "/opt/anaconda3/envs/BSmapsynth-env/lib/python3.6/site-packages/librosa/core/audio.py:146: UserWarning: PySoundFile failed. Trying audioread instead.\n",
      "  warnings.warn('PySoundFile failed. Trying audioread instead.')\n",
      "/opt/anaconda3/envs/BSmapsynth-env/lib/python3.6/site-packages/pandas/core/reshape/merge.py:1089: UserWarning: You are merging on int and float columns where the float values are not equal to their int representation\n",
      "  UserWarning,\n"
     ]
    },
    {
     "name": "stdout",
     "output_type": "stream",
     "text": [
      "6155: ['easy', 'expert', 'hard', 'normal']\n",
      "temporary/cover.jpg\n",
      "temporary/Easy.dat\n",
      "temporary/Expert.dat\n",
      "temporary/Hard.dat\n",
      "temporary/info.dat\n",
      "temporary/LIKEY.egg\n",
      "temporary/Normal.dat\n"
     ]
    },
    {
     "name": "stderr",
     "output_type": "stream",
     "text": [
      "/opt/anaconda3/envs/BSmapsynth-env/lib/python3.6/site-packages/librosa/core/audio.py:146: UserWarning: PySoundFile failed. Trying audioread instead.\n",
      "  warnings.warn('PySoundFile failed. Trying audioread instead.')\n",
      "/opt/anaconda3/envs/BSmapsynth-env/lib/python3.6/site-packages/pandas/core/reshape/merge.py:1089: UserWarning: You are merging on int and float columns where the float values are not equal to their int representation\n",
      "  UserWarning,\n"
     ]
    },
    {
     "name": "stdout",
     "output_type": "stream",
     "text": [
      "613b: ['expert', 'expertPlus', 'hard']\n",
      "temporary/cover.jpg\n",
      "temporary/Expert.dat\n",
      "temporary/ExpertPlus.dat\n",
      "temporary/Hard.dat\n",
      "temporary/info.dat\n",
      "temporary/song.egg\n"
     ]
    },
    {
     "name": "stderr",
     "output_type": "stream",
     "text": [
      "/opt/anaconda3/envs/BSmapsynth-env/lib/python3.6/site-packages/librosa/core/audio.py:146: UserWarning: PySoundFile failed. Trying audioread instead.\n",
      "  warnings.warn('PySoundFile failed. Trying audioread instead.')\n",
      "/opt/anaconda3/envs/BSmapsynth-env/lib/python3.6/site-packages/pandas/core/reshape/merge.py:1089: UserWarning: You are merging on int and float columns where the float values are not equal to their int representation\n",
      "  UserWarning,\n"
     ]
    },
    {
     "name": "stdout",
     "output_type": "stream",
     "text": [
      "6100: ['expert', 'expertPlus', 'hard', 'normal']\n",
      "temporary/cover.jpg\n",
      "temporary/Expert.dat\n",
      "temporary/ExpertPlus.dat\n",
      "temporary/Hard.dat\n",
      "temporary/info.dat\n",
      "temporary/Normal.dat\n",
      "temporary/song.egg\n"
     ]
    },
    {
     "name": "stderr",
     "output_type": "stream",
     "text": [
      "/opt/anaconda3/envs/BSmapsynth-env/lib/python3.6/site-packages/librosa/core/audio.py:146: UserWarning: PySoundFile failed. Trying audioread instead.\n",
      "  warnings.warn('PySoundFile failed. Trying audioread instead.')\n",
      "/opt/anaconda3/envs/BSmapsynth-env/lib/python3.6/site-packages/pandas/core/reshape/merge.py:1089: UserWarning: You are merging on int and float columns where the float values are not equal to their int representation\n",
      "  UserWarning,\n"
     ]
    },
    {
     "name": "stdout",
     "output_type": "stream",
     "text": [
      "6094: ['expert', 'hard', 'normal']\n",
      "temporary/cover.jpg\n",
      "temporary/Expert.dat\n",
      "temporary/Hard.dat\n",
      "temporary/info.dat\n",
      "temporary/Normal.dat\n",
      "temporary/song.egg\n"
     ]
    },
    {
     "name": "stderr",
     "output_type": "stream",
     "text": [
      "/opt/anaconda3/envs/BSmapsynth-env/lib/python3.6/site-packages/librosa/core/audio.py:146: UserWarning: PySoundFile failed. Trying audioread instead.\n",
      "  warnings.warn('PySoundFile failed. Trying audioread instead.')\n",
      "/opt/anaconda3/envs/BSmapsynth-env/lib/python3.6/site-packages/pandas/core/reshape/merge.py:1089: UserWarning: You are merging on int and float columns where the float values are not equal to their int representation\n",
      "  UserWarning,\n"
     ]
    },
    {
     "name": "stdout",
     "output_type": "stream",
     "text": [
      "5fda: ['expert', 'hard']\n",
      "temporary/cover.jpg\n",
      "temporary/Expert.dat\n",
      "temporary/Expert.json\n",
      "temporary/Hard.dat\n",
      "temporary/Hard.json\n",
      "temporary/info.dat\n",
      "temporary/info.json\n",
      "temporary/Normal.json\n",
      "temporary/song.egg\n",
      "temporary/Song.ogg\n"
     ]
    },
    {
     "name": "stderr",
     "output_type": "stream",
     "text": [
      "/opt/anaconda3/envs/BSmapsynth-env/lib/python3.6/site-packages/librosa/core/audio.py:146: UserWarning: PySoundFile failed. Trying audioread instead.\n",
      "  warnings.warn('PySoundFile failed. Trying audioread instead.')\n",
      "/opt/anaconda3/envs/BSmapsynth-env/lib/python3.6/site-packages/pandas/core/reshape/merge.py:1089: UserWarning: You are merging on int and float columns where the float values are not equal to their int representation\n",
      "  UserWarning,\n"
     ]
    },
    {
     "name": "stdout",
     "output_type": "stream",
     "text": [
      "5fd4: ['expert', 'expertPlus', 'hard']\n",
      "temporary/cover.jpg\n",
      "temporary/Expert.dat\n",
      "temporary/ExpertPlus.dat\n",
      "temporary/Hard.dat\n",
      "temporary/info.dat\n",
      "temporary/real.egg\n"
     ]
    },
    {
     "name": "stderr",
     "output_type": "stream",
     "text": [
      "/opt/anaconda3/envs/BSmapsynth-env/lib/python3.6/site-packages/librosa/core/audio.py:146: UserWarning: PySoundFile failed. Trying audioread instead.\n",
      "  warnings.warn('PySoundFile failed. Trying audioread instead.')\n",
      "/opt/anaconda3/envs/BSmapsynth-env/lib/python3.6/site-packages/pandas/core/reshape/merge.py:1089: UserWarning: You are merging on int and float columns where the float values are not equal to their int representation\n",
      "  UserWarning,\n"
     ]
    },
    {
     "name": "stdout",
     "output_type": "stream",
     "text": [
      "5efe: ['expert', 'expertPlus', 'hard', 'normal']\n",
      "temporary/cover.jpg\n",
      "temporary/Expert.dat\n",
      "temporary/ExpertPlus.dat\n",
      "temporary/Hard.dat\n",
      "temporary/info.dat\n",
      "temporary/Normal.dat\n",
      "temporary/song.egg\n"
     ]
    },
    {
     "name": "stderr",
     "output_type": "stream",
     "text": [
      "/opt/anaconda3/envs/BSmapsynth-env/lib/python3.6/site-packages/librosa/core/audio.py:146: UserWarning: PySoundFile failed. Trying audioread instead.\n",
      "  warnings.warn('PySoundFile failed. Trying audioread instead.')\n",
      "/opt/anaconda3/envs/BSmapsynth-env/lib/python3.6/site-packages/pandas/core/reshape/merge.py:1089: UserWarning: You are merging on int and float columns where the float values are not equal to their int representation\n",
      "  UserWarning,\n"
     ]
    },
    {
     "name": "stdout",
     "output_type": "stream",
     "text": [
      "5e81: ['expert']\n",
      "temporary/cover.jpg\n",
      "temporary/Expert.dat\n",
      "temporary/info.dat\n",
      "temporary/song.egg\n"
     ]
    },
    {
     "name": "stderr",
     "output_type": "stream",
     "text": [
      "/opt/anaconda3/envs/BSmapsynth-env/lib/python3.6/site-packages/librosa/core/audio.py:146: UserWarning: PySoundFile failed. Trying audioread instead.\n",
      "  warnings.warn('PySoundFile failed. Trying audioread instead.')\n",
      "/opt/anaconda3/envs/BSmapsynth-env/lib/python3.6/site-packages/pandas/core/reshape/merge.py:1089: UserWarning: You are merging on int and float columns where the float values are not equal to their int representation\n",
      "  UserWarning,\n"
     ]
    },
    {
     "name": "stdout",
     "output_type": "stream",
     "text": [
      "5e44: ['expert']\n",
      "temporary/cover.jpg\n",
      "temporary/Expert.dat\n",
      "temporary/info.dat\n",
      "temporary/song.egg\n"
     ]
    },
    {
     "name": "stderr",
     "output_type": "stream",
     "text": [
      "/opt/anaconda3/envs/BSmapsynth-env/lib/python3.6/site-packages/librosa/core/audio.py:146: UserWarning: PySoundFile failed. Trying audioread instead.\n",
      "  warnings.warn('PySoundFile failed. Trying audioread instead.')\n",
      "/opt/anaconda3/envs/BSmapsynth-env/lib/python3.6/site-packages/pandas/core/reshape/merge.py:1089: UserWarning: You are merging on int and float columns where the float values are not equal to their int representation\n",
      "  UserWarning,\n"
     ]
    },
    {
     "name": "stdout",
     "output_type": "stream",
     "text": [
      "5d8d: ['expertPlus']\n",
      "temporary/cover.jpg\n",
      "temporary/ExpertPlus.dat\n",
      "temporary/info.dat\n",
      "temporary/newgame.egg\n"
     ]
    },
    {
     "name": "stderr",
     "output_type": "stream",
     "text": [
      "/opt/anaconda3/envs/BSmapsynth-env/lib/python3.6/site-packages/librosa/core/audio.py:146: UserWarning: PySoundFile failed. Trying audioread instead.\n",
      "  warnings.warn('PySoundFile failed. Trying audioread instead.')\n",
      "/opt/anaconda3/envs/BSmapsynth-env/lib/python3.6/site-packages/pandas/core/reshape/merge.py:1089: UserWarning: You are merging on int and float columns where the float values are not equal to their int representation\n",
      "  UserWarning,\n"
     ]
    },
    {
     "name": "stdout",
     "output_type": "stream",
     "text": [
      "5d26: ['easy', 'expert', 'expertPlus', 'hard', 'normal']\n",
      "temporary/cover.jpg\n",
      "temporary/Easy.dat\n",
      "temporary/Expert.dat\n",
      "temporary/ExpertPlus.dat\n",
      "temporary/Hard.dat\n",
      "temporary/info.dat\n",
      "temporary/Normal.dat\n",
      "temporary/song.egg\n"
     ]
    },
    {
     "name": "stderr",
     "output_type": "stream",
     "text": [
      "/opt/anaconda3/envs/BSmapsynth-env/lib/python3.6/site-packages/librosa/core/audio.py:146: UserWarning: PySoundFile failed. Trying audioread instead.\n",
      "  warnings.warn('PySoundFile failed. Trying audioread instead.')\n",
      "/opt/anaconda3/envs/BSmapsynth-env/lib/python3.6/site-packages/pandas/core/reshape/merge.py:1089: UserWarning: You are merging on int and float columns where the float values are not equal to their int representation\n",
      "  UserWarning,\n"
     ]
    },
    {
     "name": "stdout",
     "output_type": "stream",
     "text": [
      "5d24: ['easy', 'expert', 'expertPlus', 'hard', 'normal']\n",
      "temporary/cover.jpg\n",
      "temporary/Easy.dat\n",
      "temporary/Expert.dat\n",
      "temporary/ExpertPlus.dat\n",
      "temporary/Hard.dat\n",
      "temporary/info.dat\n",
      "temporary/Normal.dat\n",
      "temporary/song.egg\n"
     ]
    },
    {
     "name": "stderr",
     "output_type": "stream",
     "text": [
      "/opt/anaconda3/envs/BSmapsynth-env/lib/python3.6/site-packages/librosa/core/audio.py:146: UserWarning: PySoundFile failed. Trying audioread instead.\n",
      "  warnings.warn('PySoundFile failed. Trying audioread instead.')\n",
      "/opt/anaconda3/envs/BSmapsynth-env/lib/python3.6/site-packages/pandas/core/reshape/merge.py:1089: UserWarning: You are merging on int and float columns where the float values are not equal to their int representation\n",
      "  UserWarning,\n"
     ]
    },
    {
     "name": "stdout",
     "output_type": "stream",
     "text": [
      "5d1f: ['expert', 'expertPlus', 'hard']\n",
      "temporary/cover.jpg\n",
      "temporary/Expert.dat\n",
      "temporary/ExpertLL.dat\n",
      "temporary/ExpertPlus.dat\n",
      "temporary/ExpertPlusLL.dat\n",
      "temporary/ExpertPlusSS.dat\n",
      "temporary/ExpertSS.dat\n",
      "temporary/Hard.dat\n",
      "temporary/info.dat\n",
      "temporary/song.egg\n"
     ]
    },
    {
     "name": "stderr",
     "output_type": "stream",
     "text": [
      "/opt/anaconda3/envs/BSmapsynth-env/lib/python3.6/site-packages/librosa/core/audio.py:146: UserWarning: PySoundFile failed. Trying audioread instead.\n",
      "  warnings.warn('PySoundFile failed. Trying audioread instead.')\n",
      "/opt/anaconda3/envs/BSmapsynth-env/lib/python3.6/site-packages/pandas/core/reshape/merge.py:1089: UserWarning: You are merging on int and float columns where the float values are not equal to their int representation\n",
      "  UserWarning,\n"
     ]
    },
    {
     "name": "stdout",
     "output_type": "stream",
     "text": [
      "5c83: ['expert', 'hard', 'normal']\n",
      "temporary/cover.jpg\n",
      "temporary/Expert.dat\n",
      "temporary/Hard.dat\n",
      "temporary/info.dat\n",
      "temporary/Normal.dat\n",
      "temporary/song.egg\n"
     ]
    },
    {
     "name": "stderr",
     "output_type": "stream",
     "text": [
      "/opt/anaconda3/envs/BSmapsynth-env/lib/python3.6/site-packages/librosa/core/audio.py:146: UserWarning: PySoundFile failed. Trying audioread instead.\n",
      "  warnings.warn('PySoundFile failed. Trying audioread instead.')\n",
      "/opt/anaconda3/envs/BSmapsynth-env/lib/python3.6/site-packages/pandas/core/reshape/merge.py:1089: UserWarning: You are merging on int and float columns where the float values are not equal to their int representation\n",
      "  UserWarning,\n"
     ]
    },
    {
     "name": "stdout",
     "output_type": "stream",
     "text": [
      "5a99: ['expert', 'expertPlus', 'hard']\n",
      "temporary/cover.jpg\n",
      "temporary/Expert.dat\n",
      "temporary/ExpertPlus.dat\n",
      "temporary/Hard.dat\n",
      "temporary/info.dat\n",
      "temporary/song.egg\n"
     ]
    },
    {
     "name": "stderr",
     "output_type": "stream",
     "text": [
      "/opt/anaconda3/envs/BSmapsynth-env/lib/python3.6/site-packages/librosa/core/audio.py:146: UserWarning: PySoundFile failed. Trying audioread instead.\n",
      "  warnings.warn('PySoundFile failed. Trying audioread instead.')\n",
      "/opt/anaconda3/envs/BSmapsynth-env/lib/python3.6/site-packages/pandas/core/reshape/merge.py:1089: UserWarning: You are merging on int and float columns where the float values are not equal to their int representation\n",
      "  UserWarning,\n"
     ]
    },
    {
     "name": "stdout",
     "output_type": "stream",
     "text": [
      "5a5f: ['expert', 'hard', 'normal']\n",
      "temporary/cover.jpg\n",
      "temporary/Expert.dat\n",
      "temporary/Hard.dat\n",
      "temporary/info.dat\n",
      "temporary/Normal.dat\n",
      "temporary/song.egg\n"
     ]
    },
    {
     "name": "stderr",
     "output_type": "stream",
     "text": [
      "/opt/anaconda3/envs/BSmapsynth-env/lib/python3.6/site-packages/librosa/core/audio.py:146: UserWarning: PySoundFile failed. Trying audioread instead.\n",
      "  warnings.warn('PySoundFile failed. Trying audioread instead.')\n",
      "/opt/anaconda3/envs/BSmapsynth-env/lib/python3.6/site-packages/pandas/core/reshape/merge.py:1089: UserWarning: You are merging on int and float columns where the float values are not equal to their int representation\n",
      "  UserWarning,\n"
     ]
    },
    {
     "name": "stdout",
     "output_type": "stream",
     "text": [
      "5925: ['expertPlus']\n",
      "temporary/cover.jpg\n",
      "temporary/ExpertPlus.dat\n",
      "temporary/info.dat\n",
      "temporary/song.egg\n"
     ]
    },
    {
     "name": "stderr",
     "output_type": "stream",
     "text": [
      "/opt/anaconda3/envs/BSmapsynth-env/lib/python3.6/site-packages/librosa/core/audio.py:146: UserWarning: PySoundFile failed. Trying audioread instead.\n",
      "  warnings.warn('PySoundFile failed. Trying audioread instead.')\n",
      "/opt/anaconda3/envs/BSmapsynth-env/lib/python3.6/site-packages/pandas/core/reshape/merge.py:1089: UserWarning: You are merging on int and float columns where the float values are not equal to their int representation\n",
      "  UserWarning,\n"
     ]
    },
    {
     "name": "stdout",
     "output_type": "stream",
     "text": [
      "58b7: ['expert']\n",
      "temporary/cover.jpg\n",
      "temporary/Expert.dat\n",
      "temporary/info.dat\n",
      "temporary/song.egg\n"
     ]
    },
    {
     "name": "stderr",
     "output_type": "stream",
     "text": [
      "/opt/anaconda3/envs/BSmapsynth-env/lib/python3.6/site-packages/librosa/core/audio.py:146: UserWarning: PySoundFile failed. Trying audioread instead.\n",
      "  warnings.warn('PySoundFile failed. Trying audioread instead.')\n",
      "/opt/anaconda3/envs/BSmapsynth-env/lib/python3.6/site-packages/pandas/core/reshape/merge.py:1089: UserWarning: You are merging on int and float columns where the float values are not equal to their int representation\n",
      "  UserWarning,\n"
     ]
    },
    {
     "name": "stdout",
     "output_type": "stream",
     "text": [
      "587c: ['expert', 'expertPlus', 'hard']\n",
      "temporary/aero.jpg\n",
      "temporary/cover.jpg\n",
      "temporary/Expert.dat\n",
      "temporary/ExpertPlus.dat\n",
      "temporary/Hard.dat\n",
      "temporary/info.dat\n",
      "temporary/song.egg\n",
      "temporary/tranq.jpg\n"
     ]
    },
    {
     "name": "stderr",
     "output_type": "stream",
     "text": [
      "/opt/anaconda3/envs/BSmapsynth-env/lib/python3.6/site-packages/librosa/core/audio.py:146: UserWarning: PySoundFile failed. Trying audioread instead.\n",
      "  warnings.warn('PySoundFile failed. Trying audioread instead.')\n",
      "/opt/anaconda3/envs/BSmapsynth-env/lib/python3.6/site-packages/pandas/core/reshape/merge.py:1089: UserWarning: You are merging on int and float columns where the float values are not equal to their int representation\n",
      "  UserWarning,\n"
     ]
    },
    {
     "name": "stdout",
     "output_type": "stream",
     "text": [
      "585c: ['expert', 'hard', 'normal']\n",
      "temporary/cover.jpg\n",
      "temporary/Expert.dat\n",
      "temporary/Hard.dat\n",
      "temporary/info.dat\n",
      "temporary/Normal.dat\n",
      "temporary/song.egg\n"
     ]
    },
    {
     "name": "stderr",
     "output_type": "stream",
     "text": [
      "/opt/anaconda3/envs/BSmapsynth-env/lib/python3.6/site-packages/librosa/core/audio.py:146: UserWarning: PySoundFile failed. Trying audioread instead.\n",
      "  warnings.warn('PySoundFile failed. Trying audioread instead.')\n",
      "/opt/anaconda3/envs/BSmapsynth-env/lib/python3.6/site-packages/pandas/core/reshape/merge.py:1089: UserWarning: You are merging on int and float columns where the float values are not equal to their int representation\n",
      "  UserWarning,\n"
     ]
    },
    {
     "name": "stdout",
     "output_type": "stream",
     "text": [
      "57f1: ['expert']\n",
      "temporary/cover.jpg\n",
      "temporary/Expert.dat\n",
      "temporary/info.dat\n",
      "temporary/song.egg\n"
     ]
    },
    {
     "name": "stderr",
     "output_type": "stream",
     "text": [
      "/opt/anaconda3/envs/BSmapsynth-env/lib/python3.6/site-packages/librosa/core/audio.py:146: UserWarning: PySoundFile failed. Trying audioread instead.\n",
      "  warnings.warn('PySoundFile failed. Trying audioread instead.')\n",
      "/opt/anaconda3/envs/BSmapsynth-env/lib/python3.6/site-packages/pandas/core/reshape/merge.py:1089: UserWarning: You are merging on int and float columns where the float values are not equal to their int representation\n",
      "  UserWarning,\n"
     ]
    },
    {
     "name": "stdout",
     "output_type": "stream",
     "text": [
      "57c2: ['expert', 'hard']\n",
      "temporary/lol.jpg\n",
      "temporary/street.egg\n",
      "temporary/Expert.dat\n",
      "temporary/Hard.dat\n",
      "temporary/info.dat\n"
     ]
    },
    {
     "name": "stderr",
     "output_type": "stream",
     "text": [
      "/opt/anaconda3/envs/BSmapsynth-env/lib/python3.6/site-packages/librosa/core/audio.py:146: UserWarning: PySoundFile failed. Trying audioread instead.\n",
      "  warnings.warn('PySoundFile failed. Trying audioread instead.')\n",
      "/opt/anaconda3/envs/BSmapsynth-env/lib/python3.6/site-packages/pandas/core/reshape/merge.py:1089: UserWarning: You are merging on int and float columns where the float values are not equal to their int representation\n",
      "  UserWarning,\n"
     ]
    },
    {
     "name": "stdout",
     "output_type": "stream",
     "text": [
      "5725: ['expert']\n",
      "temporary/cover.jpg\n",
      "temporary/Expert.dat\n",
      "temporary/info.dat\n",
      "temporary/song.egg\n"
     ]
    },
    {
     "name": "stderr",
     "output_type": "stream",
     "text": [
      "/opt/anaconda3/envs/BSmapsynth-env/lib/python3.6/site-packages/librosa/core/audio.py:146: UserWarning: PySoundFile failed. Trying audioread instead.\n",
      "  warnings.warn('PySoundFile failed. Trying audioread instead.')\n",
      "/opt/anaconda3/envs/BSmapsynth-env/lib/python3.6/site-packages/pandas/core/reshape/merge.py:1089: UserWarning: You are merging on int and float columns where the float values are not equal to their int representation\n",
      "  UserWarning,\n"
     ]
    },
    {
     "name": "stdout",
     "output_type": "stream",
     "text": [
      "56cb: ['expert', 'expertPlus', 'hard']\n",
      "temporary/cover.jpg\n",
      "temporary/Expert.dat\n",
      "temporary/ExpertPlus.dat\n",
      "temporary/Hard.dat\n",
      "temporary/info.dat\n",
      "temporary/song.egg\n"
     ]
    },
    {
     "name": "stderr",
     "output_type": "stream",
     "text": [
      "/opt/anaconda3/envs/BSmapsynth-env/lib/python3.6/site-packages/librosa/core/audio.py:146: UserWarning: PySoundFile failed. Trying audioread instead.\n",
      "  warnings.warn('PySoundFile failed. Trying audioread instead.')\n",
      "/opt/anaconda3/envs/BSmapsynth-env/lib/python3.6/site-packages/pandas/core/reshape/merge.py:1089: UserWarning: You are merging on int and float columns where the float values are not equal to their int representation\n",
      "  UserWarning,\n"
     ]
    },
    {
     "name": "stdout",
     "output_type": "stream",
     "text": [
      "56c2: ['easy', 'expert', 'expertPlus', 'hard', 'normal']\n",
      "temporary/cover.jpg\n",
      "temporary/Easy.dat\n",
      "temporary/Expert.dat\n",
      "temporary/ExpertPlus.dat\n",
      "temporary/Hard.dat\n",
      "temporary/helen.png\n",
      "temporary/info.dat\n",
      "temporary/Normal.dat\n",
      "temporary/redmagi.png\n",
      "temporary/song.egg\n",
      "temporary/tech.png\n",
      "temporary/teuflum.png\n"
     ]
    },
    {
     "name": "stderr",
     "output_type": "stream",
     "text": [
      "/opt/anaconda3/envs/BSmapsynth-env/lib/python3.6/site-packages/librosa/core/audio.py:146: UserWarning: PySoundFile failed. Trying audioread instead.\n",
      "  warnings.warn('PySoundFile failed. Trying audioread instead.')\n",
      "/opt/anaconda3/envs/BSmapsynth-env/lib/python3.6/site-packages/pandas/core/reshape/merge.py:1089: UserWarning: You are merging on int and float columns where the float values are not equal to their int representation\n",
      "  UserWarning,\n"
     ]
    },
    {
     "name": "stdout",
     "output_type": "stream",
     "text": [
      "5616: ['easy', 'expert', 'expertPlus', 'hard', 'normal']\n",
      "temporary/cover.jpg\n",
      "temporary/Easy.dat\n",
      "temporary/Expert.dat\n",
      "temporary/ExpertNA.dat\n",
      "temporary/ExpertPlus.dat\n",
      "temporary/ExpertPlusNA.dat\n",
      "temporary/ExpertPlusSS.dat\n",
      "temporary/ExpertSS.dat\n",
      "temporary/Hard.dat\n",
      "temporary/HardSS.dat\n",
      "temporary/info.dat\n",
      "temporary/Normal.dat\n",
      "temporary/song.egg\n"
     ]
    },
    {
     "name": "stderr",
     "output_type": "stream",
     "text": [
      "/opt/anaconda3/envs/BSmapsynth-env/lib/python3.6/site-packages/librosa/core/audio.py:146: UserWarning: PySoundFile failed. Trying audioread instead.\n",
      "  warnings.warn('PySoundFile failed. Trying audioread instead.')\n",
      "/opt/anaconda3/envs/BSmapsynth-env/lib/python3.6/site-packages/pandas/core/reshape/merge.py:1089: UserWarning: You are merging on int and float columns where the float values are not equal to their int representation\n",
      "  UserWarning,\n"
     ]
    },
    {
     "name": "stdout",
     "output_type": "stream",
     "text": [
      "557f: ['hard']\n",
      "temporary/cover.jpg\n",
      "temporary/Hard.dat\n",
      "temporary/info.dat\n",
      "temporary/song.egg\n"
     ]
    },
    {
     "name": "stderr",
     "output_type": "stream",
     "text": [
      "/opt/anaconda3/envs/BSmapsynth-env/lib/python3.6/site-packages/librosa/core/audio.py:146: UserWarning: PySoundFile failed. Trying audioread instead.\n",
      "  warnings.warn('PySoundFile failed. Trying audioread instead.')\n",
      "/opt/anaconda3/envs/BSmapsynth-env/lib/python3.6/site-packages/pandas/core/reshape/merge.py:1089: UserWarning: You are merging on int and float columns where the float values are not equal to their int representation\n",
      "  UserWarning,\n"
     ]
    },
    {
     "name": "stdout",
     "output_type": "stream",
     "text": [
      "5552: ['expert']\n",
      "temporary/cover.jpg\n",
      "temporary/Expert.dat\n",
      "temporary/info.dat\n",
      "temporary/song.egg\n"
     ]
    },
    {
     "name": "stderr",
     "output_type": "stream",
     "text": [
      "/opt/anaconda3/envs/BSmapsynth-env/lib/python3.6/site-packages/librosa/core/audio.py:146: UserWarning: PySoundFile failed. Trying audioread instead.\n",
      "  warnings.warn('PySoundFile failed. Trying audioread instead.')\n",
      "/opt/anaconda3/envs/BSmapsynth-env/lib/python3.6/site-packages/pandas/core/reshape/merge.py:1089: UserWarning: You are merging on int and float columns where the float values are not equal to their int representation\n",
      "  UserWarning,\n"
     ]
    },
    {
     "name": "stdout",
     "output_type": "stream",
     "text": [
      "54bb: ['expert']\n",
      "temporary/cover.jpg\n",
      "temporary/Expert.dat\n",
      "temporary/info.dat\n",
      "temporary/song.egg\n"
     ]
    },
    {
     "name": "stderr",
     "output_type": "stream",
     "text": [
      "/opt/anaconda3/envs/BSmapsynth-env/lib/python3.6/site-packages/librosa/core/audio.py:146: UserWarning: PySoundFile failed. Trying audioread instead.\n",
      "  warnings.warn('PySoundFile failed. Trying audioread instead.')\n",
      "/opt/anaconda3/envs/BSmapsynth-env/lib/python3.6/site-packages/pandas/core/reshape/merge.py:1089: UserWarning: You are merging on int and float columns where the float values are not equal to their int representation\n",
      "  UserWarning,\n"
     ]
    },
    {
     "name": "stdout",
     "output_type": "stream",
     "text": [
      "540b: ['easy', 'expert', 'expertPlus', 'hard', 'normal']\n",
      "temporary/cover.jpg\n",
      "temporary/Easy.dat\n",
      "temporary/Expert.dat\n",
      "temporary/ExpertPlus.dat\n",
      "temporary/Hard.dat\n",
      "temporary/info.dat\n",
      "temporary/Normal.dat\n",
      "temporary/song.egg\n"
     ]
    },
    {
     "name": "stderr",
     "output_type": "stream",
     "text": [
      "/opt/anaconda3/envs/BSmapsynth-env/lib/python3.6/site-packages/librosa/core/audio.py:146: UserWarning: PySoundFile failed. Trying audioread instead.\n",
      "  warnings.warn('PySoundFile failed. Trying audioread instead.')\n"
     ]
    },
    {
     "name": "stdout",
     "output_type": "stream",
     "text": [
      "540b: \n",
      " 'NoneType' object is not subscriptable\n",
      "53fc: ['expert', 'expertPlus', 'hard']\n",
      "temporary/autosaves/1560483252-Expert.json\n",
      "temporary/autosaves/1560483497-Hard.json\n",
      "temporary/autosaves/1560483512-Normal.json\n",
      "temporary/autosaves/1560805181-Expert.json\n",
      "temporary/autosaves/1560805206-Expert.json\n",
      "temporary/autosaves/1560805221-ExpertPlus.json\n",
      "temporary/autosaves/1560805229-ExpertPlus.json\n",
      "temporary/autosaves/1560805448-ExpertPlus.json\n",
      "temporary/autosaves/1560908077-ExpertPlus.json\n",
      "temporary/autosaves/1561106258-ExpertPlus.json\n",
      "temporary/autosaves/1561106264-ExpertPlus.json\n",
      "temporary/autosaves/1561191642-ExpertPlus.json\n",
      "temporary/autosaves/1561191693-ExpertPlus.json\n",
      "temporary/autosaves/1561191704-ExpertPlus.json\n",
      "temporary/autosaves/1561191715-Hard.json\n",
      "temporary/autosaves/1561191730-Expert.json\n",
      "temporary/autosaves/1561191751-Easy.json\n",
      "temporary/autosaves/1561191761-Easy.json\n",
      "temporary/autosaves/1561191786-Expert.json\n",
      "temporary/autosaves/1561191973-ExpertPlus.json\n",
      "temporary/Easy.json\n",
      "temporary/Expert.dat\n",
      "temporary/ExpertPlus.dat\n",
      "temporary/Hard.dat\n",
      "temporary/info.dat\n",
      "temporary/Normal.json\n",
      "temporary/SabatonShiroyama.egg\n",
      "temporary/SabatonShiroyama.png\n"
     ]
    },
    {
     "name": "stderr",
     "output_type": "stream",
     "text": [
      "/opt/anaconda3/envs/BSmapsynth-env/lib/python3.6/site-packages/librosa/core/audio.py:146: UserWarning: PySoundFile failed. Trying audioread instead.\n",
      "  warnings.warn('PySoundFile failed. Trying audioread instead.')\n",
      "/opt/anaconda3/envs/BSmapsynth-env/lib/python3.6/site-packages/pandas/core/reshape/merge.py:1089: UserWarning: You are merging on int and float columns where the float values are not equal to their int representation\n",
      "  UserWarning,\n"
     ]
    },
    {
     "name": "stdout",
     "output_type": "stream",
     "text": [
      "53f0: ['expert']\n",
      "temporary/cover.jpg\n",
      "temporary/Expert.dat\n",
      "temporary/info.dat\n",
      "temporary/song.egg\n"
     ]
    },
    {
     "name": "stderr",
     "output_type": "stream",
     "text": [
      "/opt/anaconda3/envs/BSmapsynth-env/lib/python3.6/site-packages/librosa/core/audio.py:146: UserWarning: PySoundFile failed. Trying audioread instead.\n",
      "  warnings.warn('PySoundFile failed. Trying audioread instead.')\n",
      "/opt/anaconda3/envs/BSmapsynth-env/lib/python3.6/site-packages/pandas/core/reshape/merge.py:1089: UserWarning: You are merging on int and float columns where the float values are not equal to their int representation\n",
      "  UserWarning,\n"
     ]
    },
    {
     "name": "stdout",
     "output_type": "stream",
     "text": [
      "53a3: ['easy', 'expert', 'expertPlus', 'hard', 'normal']\n",
      "temporary/cover.jpg\n",
      "temporary/Easy.dat\n",
      "temporary/Expert.dat\n",
      "temporary/ExpertPlus.dat\n",
      "temporary/Hard.dat\n",
      "temporary/info.dat\n",
      "temporary/Normal.dat\n",
      "temporary/song.egg\n"
     ]
    },
    {
     "name": "stderr",
     "output_type": "stream",
     "text": [
      "/opt/anaconda3/envs/BSmapsynth-env/lib/python3.6/site-packages/librosa/core/audio.py:146: UserWarning: PySoundFile failed. Trying audioread instead.\n",
      "  warnings.warn('PySoundFile failed. Trying audioread instead.')\n",
      "/opt/anaconda3/envs/BSmapsynth-env/lib/python3.6/site-packages/pandas/core/reshape/merge.py:1089: UserWarning: You are merging on int and float columns where the float values are not equal to their int representation\n",
      "  UserWarning,\n"
     ]
    },
    {
     "name": "stdout",
     "output_type": "stream",
     "text": [
      "5389: ['expert', 'expertPlus', 'hard', 'normal']\n",
      "temporary/cover.png\n",
      "temporary/Expert.dat\n",
      "temporary/ExpertPlus.dat\n",
      "temporary/Hard.dat\n",
      "temporary/info.dat\n",
      "temporary/Normal.dat\n",
      "temporary/song.egg\n"
     ]
    },
    {
     "name": "stderr",
     "output_type": "stream",
     "text": [
      "/opt/anaconda3/envs/BSmapsynth-env/lib/python3.6/site-packages/librosa/core/audio.py:146: UserWarning: PySoundFile failed. Trying audioread instead.\n",
      "  warnings.warn('PySoundFile failed. Trying audioread instead.')\n",
      "/opt/anaconda3/envs/BSmapsynth-env/lib/python3.6/site-packages/pandas/core/reshape/merge.py:1089: UserWarning: You are merging on int and float columns where the float values are not equal to their int representation\n",
      "  UserWarning,\n"
     ]
    },
    {
     "name": "stdout",
     "output_type": "stream",
     "text": [
      "5373: ['easy', 'expert', 'expertPlus', 'hard', 'normal']\n",
      "temporary/cover.jpg\n",
      "temporary/Easy.dat\n",
      "temporary/Expert.dat\n",
      "temporary/ExpertPlus.dat\n",
      "temporary/Hard.dat\n",
      "temporary/info.dat\n",
      "temporary/Normal.dat\n",
      "temporary/song.egg\n"
     ]
    },
    {
     "name": "stderr",
     "output_type": "stream",
     "text": [
      "/opt/anaconda3/envs/BSmapsynth-env/lib/python3.6/site-packages/librosa/core/audio.py:146: UserWarning: PySoundFile failed. Trying audioread instead.\n",
      "  warnings.warn('PySoundFile failed. Trying audioread instead.')\n",
      "/opt/anaconda3/envs/BSmapsynth-env/lib/python3.6/site-packages/pandas/core/reshape/merge.py:1089: UserWarning: You are merging on int and float columns where the float values are not equal to their int representation\n",
      "  UserWarning,\n"
     ]
    },
    {
     "name": "stdout",
     "output_type": "stream",
     "text": [
      "5352: ['easy', 'expert', 'expertPlus', 'hard']\n",
      "temporary/cover.jpg\n",
      "temporary/Easy.dat\n",
      "temporary/Expert.dat\n",
      "temporary/ExpertPlus.dat\n",
      "temporary/Hard.dat\n",
      "temporary/info.dat\n",
      "temporary/song.egg\n"
     ]
    },
    {
     "name": "stderr",
     "output_type": "stream",
     "text": [
      "/opt/anaconda3/envs/BSmapsynth-env/lib/python3.6/site-packages/librosa/core/audio.py:146: UserWarning: PySoundFile failed. Trying audioread instead.\n",
      "  warnings.warn('PySoundFile failed. Trying audioread instead.')\n"
     ]
    },
    {
     "name": "stdout",
     "output_type": "stream",
     "text": [
      "5352: \n",
      " 'NoneType' object is not subscriptable\n",
      "5335: ['expert', 'expertPlus', 'hard', 'normal']\n",
      "temporary/cover.jpg\n",
      "temporary/Expert.dat\n",
      "temporary/ExpertPlus.dat\n",
      "temporary/Hard.dat\n",
      "temporary/icon.png\n",
      "temporary/info.dat\n",
      "temporary/Normal.dat\n",
      "temporary/song.egg\n"
     ]
    },
    {
     "name": "stderr",
     "output_type": "stream",
     "text": [
      "/opt/anaconda3/envs/BSmapsynth-env/lib/python3.6/site-packages/librosa/core/audio.py:146: UserWarning: PySoundFile failed. Trying audioread instead.\n",
      "  warnings.warn('PySoundFile failed. Trying audioread instead.')\n",
      "/opt/anaconda3/envs/BSmapsynth-env/lib/python3.6/site-packages/pandas/core/reshape/merge.py:1089: UserWarning: You are merging on int and float columns where the float values are not equal to their int representation\n",
      "  UserWarning,\n"
     ]
    },
    {
     "name": "stdout",
     "output_type": "stream",
     "text": [
      "5281: ['expert']\n",
      "temporary/cover.jpg\n",
      "temporary/Expert.dat\n",
      "temporary/song.egg\n",
      "temporary/info.dat\n"
     ]
    },
    {
     "name": "stderr",
     "output_type": "stream",
     "text": [
      "/opt/anaconda3/envs/BSmapsynth-env/lib/python3.6/site-packages/librosa/core/audio.py:146: UserWarning: PySoundFile failed. Trying audioread instead.\n",
      "  warnings.warn('PySoundFile failed. Trying audioread instead.')\n",
      "/opt/anaconda3/envs/BSmapsynth-env/lib/python3.6/site-packages/pandas/core/reshape/merge.py:1089: UserWarning: You are merging on int and float columns where the float values are not equal to their int representation\n",
      "  UserWarning,\n"
     ]
    },
    {
     "name": "stdout",
     "output_type": "stream",
     "text": [
      "5270: ['hard', 'expert']\n",
      "temporary/cover.png\n",
      "temporary/Expert.dat\n",
      "temporary/Hard.dat\n",
      "temporary/song.egg\n",
      "temporary/info.dat\n"
     ]
    },
    {
     "name": "stderr",
     "output_type": "stream",
     "text": [
      "/opt/anaconda3/envs/BSmapsynth-env/lib/python3.6/site-packages/librosa/core/audio.py:146: UserWarning: PySoundFile failed. Trying audioread instead.\n",
      "  warnings.warn('PySoundFile failed. Trying audioread instead.')\n",
      "/opt/anaconda3/envs/BSmapsynth-env/lib/python3.6/site-packages/pandas/core/reshape/merge.py:1089: UserWarning: You are merging on int and float columns where the float values are not equal to their int representation\n",
      "  UserWarning,\n"
     ]
    },
    {
     "name": "stdout",
     "output_type": "stream",
     "text": [
      "51fd: ['expertPlus']\n",
      "temporary/cover.jpg\n",
      "temporary/ExpertPlus.dat\n",
      "temporary/song.egg\n",
      "temporary/info.dat\n"
     ]
    },
    {
     "name": "stderr",
     "output_type": "stream",
     "text": [
      "/opt/anaconda3/envs/BSmapsynth-env/lib/python3.6/site-packages/librosa/core/audio.py:146: UserWarning: PySoundFile failed. Trying audioread instead.\n",
      "  warnings.warn('PySoundFile failed. Trying audioread instead.')\n",
      "/opt/anaconda3/envs/BSmapsynth-env/lib/python3.6/site-packages/pandas/core/reshape/merge.py:1089: UserWarning: You are merging on int and float columns where the float values are not equal to their int representation\n",
      "  UserWarning,\n"
     ]
    },
    {
     "name": "stdout",
     "output_type": "stream",
     "text": [
      "51be: ['expert', 'expertPlus']\n",
      "temporary/cover.jpg\n",
      "temporary/ExpertPlus.dat\n",
      "temporary/Expert.dat\n",
      "temporary/song.egg\n",
      "temporary/info.dat\n"
     ]
    },
    {
     "name": "stderr",
     "output_type": "stream",
     "text": [
      "/opt/anaconda3/envs/BSmapsynth-env/lib/python3.6/site-packages/librosa/core/audio.py:146: UserWarning: PySoundFile failed. Trying audioread instead.\n",
      "  warnings.warn('PySoundFile failed. Trying audioread instead.')\n",
      "/opt/anaconda3/envs/BSmapsynth-env/lib/python3.6/site-packages/pandas/core/reshape/merge.py:1089: UserWarning: You are merging on int and float columns where the float values are not equal to their int representation\n",
      "  UserWarning,\n"
     ]
    },
    {
     "name": "stdout",
     "output_type": "stream",
     "text": [
      "5062: ['normal', 'hard', 'expert', 'expertPlus']\n",
      "temporary/cover.jpg\n",
      "temporary/ExpertPlus.dat\n",
      "temporary/Expert.dat\n",
      "temporary/Hard.dat\n",
      "temporary/Normal.dat\n",
      "temporary/song.egg\n",
      "temporary/info.dat\n"
     ]
    },
    {
     "name": "stderr",
     "output_type": "stream",
     "text": [
      "/opt/anaconda3/envs/BSmapsynth-env/lib/python3.6/site-packages/librosa/core/audio.py:146: UserWarning: PySoundFile failed. Trying audioread instead.\n",
      "  warnings.warn('PySoundFile failed. Trying audioread instead.')\n",
      "/opt/anaconda3/envs/BSmapsynth-env/lib/python3.6/site-packages/pandas/core/reshape/merge.py:1089: UserWarning: You are merging on int and float columns where the float values are not equal to their int representation\n",
      "  UserWarning,\n"
     ]
    },
    {
     "name": "stdout",
     "output_type": "stream",
     "text": [
      "5038: ['hard', 'expert']\n",
      "temporary/cover.png\n",
      "temporary/Expert.dat\n",
      "temporary/Hard.dat\n",
      "temporary/song.egg\n",
      "temporary/info.dat\n"
     ]
    },
    {
     "name": "stderr",
     "output_type": "stream",
     "text": [
      "/opt/anaconda3/envs/BSmapsynth-env/lib/python3.6/site-packages/librosa/core/audio.py:146: UserWarning: PySoundFile failed. Trying audioread instead.\n",
      "  warnings.warn('PySoundFile failed. Trying audioread instead.')\n",
      "/opt/anaconda3/envs/BSmapsynth-env/lib/python3.6/site-packages/pandas/core/reshape/merge.py:1089: UserWarning: You are merging on int and float columns where the float values are not equal to their int representation\n",
      "  UserWarning,\n"
     ]
    },
    {
     "name": "stdout",
     "output_type": "stream",
     "text": [
      "500d: ['easy', 'normal', 'hard', 'expert', 'expertPlus']\n",
      "temporary/cover.jpg\n",
      "temporary/ExpertPlus.dat\n",
      "temporary/Expert.dat\n",
      "temporary/Hard.dat\n",
      "temporary/Normal.dat\n",
      "temporary/Easy.dat\n",
      "temporary/song.egg\n",
      "temporary/info.dat\n"
     ]
    },
    {
     "name": "stderr",
     "output_type": "stream",
     "text": [
      "/opt/anaconda3/envs/BSmapsynth-env/lib/python3.6/site-packages/librosa/core/audio.py:146: UserWarning: PySoundFile failed. Trying audioread instead.\n",
      "  warnings.warn('PySoundFile failed. Trying audioread instead.')\n",
      "/opt/anaconda3/envs/BSmapsynth-env/lib/python3.6/site-packages/pandas/core/reshape/merge.py:1089: UserWarning: You are merging on int and float columns where the float values are not equal to their int representation\n",
      "  UserWarning,\n"
     ]
    },
    {
     "name": "stdout",
     "output_type": "stream",
     "text": [
      "4fe8: ['expert']\n",
      "temporary/cover.jpg\n",
      "temporary/red like roses 1.egg\n",
      "temporary/ExpertSS.dat\n",
      "temporary/info.dat\n"
     ]
    },
    {
     "name": "stderr",
     "output_type": "stream",
     "text": [
      "/opt/anaconda3/envs/BSmapsynth-env/lib/python3.6/site-packages/librosa/core/audio.py:146: UserWarning: PySoundFile failed. Trying audioread instead.\n",
      "  warnings.warn('PySoundFile failed. Trying audioread instead.')\n"
     ]
    },
    {
     "name": "stdout",
     "output_type": "stream",
     "text": [
      "4fe8: \n",
      " 'NoneType' object is not subscriptable\n",
      "4fc3: ['normal', 'hard', 'expert', 'expertPlus']\n",
      "temporary/cover.jpg\n",
      "temporary/ExpertPlus.dat\n",
      "temporary/Expert.dat\n",
      "temporary/Hard.dat\n",
      "temporary/Normal.dat\n",
      "temporary/song.egg\n",
      "temporary/info.dat\n"
     ]
    },
    {
     "name": "stderr",
     "output_type": "stream",
     "text": [
      "/opt/anaconda3/envs/BSmapsynth-env/lib/python3.6/site-packages/librosa/core/audio.py:146: UserWarning: PySoundFile failed. Trying audioread instead.\n",
      "  warnings.warn('PySoundFile failed. Trying audioread instead.')\n",
      "/opt/anaconda3/envs/BSmapsynth-env/lib/python3.6/site-packages/pandas/core/reshape/merge.py:1089: UserWarning: You are merging on int and float columns where the float values are not equal to their int representation\n",
      "  UserWarning,\n"
     ]
    },
    {
     "name": "stdout",
     "output_type": "stream",
     "text": [
      "4fba: ['expert']\n",
      "temporary/cover.jpg\n",
      "temporary/ExpertSS.dat\n",
      "temporary/song.egg\n",
      "temporary/info.dat\n"
     ]
    },
    {
     "name": "stderr",
     "output_type": "stream",
     "text": [
      "/opt/anaconda3/envs/BSmapsynth-env/lib/python3.6/site-packages/librosa/core/audio.py:146: UserWarning: PySoundFile failed. Trying audioread instead.\n",
      "  warnings.warn('PySoundFile failed. Trying audioread instead.')\n"
     ]
    },
    {
     "name": "stdout",
     "output_type": "stream",
     "text": [
      "4fba: \n",
      " 'NoneType' object is not subscriptable\n",
      "4e92: ['easy', 'normal', 'hard', 'expert', 'expertPlus']\n",
      "temporary/cover.jpg\n",
      "temporary/hoppaw.png\n",
      "temporary/ExpertPlus.dat\n",
      "temporary/Expert.dat\n",
      "temporary/Hard.dat\n",
      "temporary/Normal.dat\n",
      "temporary/Easy.dat\n",
      "temporary/Shera.egg\n",
      "temporary/info.dat\n"
     ]
    },
    {
     "name": "stderr",
     "output_type": "stream",
     "text": [
      "/opt/anaconda3/envs/BSmapsynth-env/lib/python3.6/site-packages/librosa/core/audio.py:146: UserWarning: PySoundFile failed. Trying audioread instead.\n",
      "  warnings.warn('PySoundFile failed. Trying audioread instead.')\n",
      "/opt/anaconda3/envs/BSmapsynth-env/lib/python3.6/site-packages/pandas/core/reshape/merge.py:1089: UserWarning: You are merging on int and float columns where the float values are not equal to their int representation\n",
      "  UserWarning,\n"
     ]
    },
    {
     "name": "stdout",
     "output_type": "stream",
     "text": [
      "4e86: ['hard', 'expert', 'expertPlus']\n",
      "temporary/zero2hero.png\n",
      "temporary/ExpertPlus.dat\n",
      "temporary/Expert.dat\n",
      "temporary/Hard.dat\n",
      "temporary/song.egg\n",
      "temporary/info.dat\n"
     ]
    },
    {
     "name": "stderr",
     "output_type": "stream",
     "text": [
      "/opt/anaconda3/envs/BSmapsynth-env/lib/python3.6/site-packages/librosa/core/audio.py:146: UserWarning: PySoundFile failed. Trying audioread instead.\n",
      "  warnings.warn('PySoundFile failed. Trying audioread instead.')\n",
      "/opt/anaconda3/envs/BSmapsynth-env/lib/python3.6/site-packages/pandas/core/reshape/merge.py:1089: UserWarning: You are merging on int and float columns where the float values are not equal to their int representation\n",
      "  UserWarning,\n"
     ]
    },
    {
     "name": "stdout",
     "output_type": "stream",
     "text": [
      "4e6f: ['hard', 'expert']\n",
      "temporary/fla.jpg\n",
      "temporary/Expert.dat\n",
      "temporary/Hard.dat\n",
      "temporary/flamingo.egg\n",
      "temporary/info.dat\n"
     ]
    },
    {
     "name": "stderr",
     "output_type": "stream",
     "text": [
      "/opt/anaconda3/envs/BSmapsynth-env/lib/python3.6/site-packages/librosa/core/audio.py:146: UserWarning: PySoundFile failed. Trying audioread instead.\n",
      "  warnings.warn('PySoundFile failed. Trying audioread instead.')\n",
      "/opt/anaconda3/envs/BSmapsynth-env/lib/python3.6/site-packages/pandas/core/reshape/merge.py:1089: UserWarning: You are merging on int and float columns where the float values are not equal to their int representation\n",
      "  UserWarning,\n"
     ]
    },
    {
     "name": "stdout",
     "output_type": "stream",
     "text": [
      "4d62: ['easy', 'normal', 'hard', 'expert', 'expertPlus']\n",
      "temporary/bangarang.jpg\n",
      "temporary/ExpertPlus.dat\n",
      "temporary/Expert.dat\n",
      "temporary/Hard.dat\n",
      "temporary/Normal.dat\n",
      "temporary/Easy.dat\n",
      "temporary/Skrillex - Bangarang (Ft. Sirah) [Official Audio].egg\n",
      "temporary/info.dat\n"
     ]
    },
    {
     "name": "stderr",
     "output_type": "stream",
     "text": [
      "/opt/anaconda3/envs/BSmapsynth-env/lib/python3.6/site-packages/librosa/core/audio.py:146: UserWarning: PySoundFile failed. Trying audioread instead.\n",
      "  warnings.warn('PySoundFile failed. Trying audioread instead.')\n",
      "/opt/anaconda3/envs/BSmapsynth-env/lib/python3.6/site-packages/pandas/core/reshape/merge.py:1089: UserWarning: You are merging on int and float columns where the float values are not equal to their int representation\n",
      "  UserWarning,\n"
     ]
    },
    {
     "name": "stdout",
     "output_type": "stream",
     "text": [
      "4cf7: ['expert']\n",
      "temporary/cover.jpg\n",
      "temporary/Expert.dat\n",
      "temporary/song.egg\n",
      "temporary/info.dat\n"
     ]
    },
    {
     "name": "stderr",
     "output_type": "stream",
     "text": [
      "/opt/anaconda3/envs/BSmapsynth-env/lib/python3.6/site-packages/librosa/core/audio.py:146: UserWarning: PySoundFile failed. Trying audioread instead.\n",
      "  warnings.warn('PySoundFile failed. Trying audioread instead.')\n",
      "/opt/anaconda3/envs/BSmapsynth-env/lib/python3.6/site-packages/pandas/core/reshape/merge.py:1089: UserWarning: You are merging on int and float columns where the float values are not equal to their int representation\n",
      "  UserWarning,\n"
     ]
    },
    {
     "name": "stdout",
     "output_type": "stream",
     "text": [
      "4cd2: ['hard', 'expert']\n",
      "temporary/cover.jpg\n",
      "temporary/Expert.dat\n",
      "temporary/Hard.dat\n",
      "temporary/song.egg\n",
      "temporary/info.dat\n"
     ]
    },
    {
     "name": "stderr",
     "output_type": "stream",
     "text": [
      "/opt/anaconda3/envs/BSmapsynth-env/lib/python3.6/site-packages/librosa/core/audio.py:146: UserWarning: PySoundFile failed. Trying audioread instead.\n",
      "  warnings.warn('PySoundFile failed. Trying audioread instead.')\n",
      "/opt/anaconda3/envs/BSmapsynth-env/lib/python3.6/site-packages/pandas/core/reshape/merge.py:1089: UserWarning: You are merging on int and float columns where the float values are not equal to their int representation\n",
      "  UserWarning,\n"
     ]
    },
    {
     "name": "stdout",
     "output_type": "stream",
     "text": [
      "4b20: ['easy', 'normal', 'hard', 'expert', 'expertPlus']\n",
      "temporary/cover.jpg\n",
      "temporary/ExpertPlus.dat\n",
      "temporary/Expert.dat\n",
      "temporary/Hard.dat\n",
      "temporary/Normal.dat\n",
      "temporary/Easy.dat\n",
      "temporary/booty.egg\n",
      "temporary/info.dat\n"
     ]
    },
    {
     "name": "stderr",
     "output_type": "stream",
     "text": [
      "/opt/anaconda3/envs/BSmapsynth-env/lib/python3.6/site-packages/librosa/core/audio.py:146: UserWarning: PySoundFile failed. Trying audioread instead.\n",
      "  warnings.warn('PySoundFile failed. Trying audioread instead.')\n",
      "/opt/anaconda3/envs/BSmapsynth-env/lib/python3.6/site-packages/pandas/core/reshape/merge.py:1089: UserWarning: You are merging on int and float columns where the float values are not equal to their int representation\n",
      "  UserWarning,\n"
     ]
    },
    {
     "name": "stdout",
     "output_type": "stream",
     "text": [
      "4adb: ['easy', 'normal', 'hard', 'expert', 'expertPlus']\n",
      "temporary/cover.jpg\n",
      "temporary/ExpertPlus.dat\n",
      "temporary/Expert.dat\n",
      "temporary/Hard.dat\n",
      "temporary/Normal.dat\n",
      "temporary/Easy.dat\n",
      "temporary/Deja Vu.egg\n",
      "temporary/info.dat\n"
     ]
    },
    {
     "name": "stderr",
     "output_type": "stream",
     "text": [
      "/opt/anaconda3/envs/BSmapsynth-env/lib/python3.6/site-packages/librosa/core/audio.py:146: UserWarning: PySoundFile failed. Trying audioread instead.\n",
      "  warnings.warn('PySoundFile failed. Trying audioread instead.')\n",
      "/opt/anaconda3/envs/BSmapsynth-env/lib/python3.6/site-packages/pandas/core/reshape/merge.py:1089: UserWarning: You are merging on int and float columns where the float values are not equal to their int representation\n",
      "  UserWarning,\n"
     ]
    },
    {
     "name": "stdout",
     "output_type": "stream",
     "text": [
      "4a47: ['easy', 'normal', 'hard', 'expert', 'expertPlus']\n",
      "temporary/cover.jpg\n",
      "temporary/ExpertPlus.dat\n",
      "temporary/Easy.dat\n",
      "temporary/Normal.dat\n",
      "temporary/Expert.dat\n",
      "temporary/Hard.dat\n",
      "temporary/song.egg\n",
      "temporary/info.dat\n"
     ]
    },
    {
     "name": "stderr",
     "output_type": "stream",
     "text": [
      "/opt/anaconda3/envs/BSmapsynth-env/lib/python3.6/site-packages/librosa/core/audio.py:146: UserWarning: PySoundFile failed. Trying audioread instead.\n",
      "  warnings.warn('PySoundFile failed. Trying audioread instead.')\n",
      "/opt/anaconda3/envs/BSmapsynth-env/lib/python3.6/site-packages/pandas/core/reshape/merge.py:1089: UserWarning: You are merging on int and float columns where the float values are not equal to their int representation\n",
      "  UserWarning,\n"
     ]
    },
    {
     "name": "stdout",
     "output_type": "stream",
     "text": [
      "4a45: ['easy', 'normal', 'hard', 'expert', 'expertPlus']\n",
      "temporary/cover.jpg\n",
      "temporary/Expert.dat\n",
      "temporary/Hard.dat\n",
      "temporary/Normal.dat\n",
      "temporary/Easy.dat\n",
      "temporary/ExpertPlus.dat\n",
      "temporary/song.egg\n",
      "temporary/info.dat\n"
     ]
    },
    {
     "name": "stderr",
     "output_type": "stream",
     "text": [
      "/opt/anaconda3/envs/BSmapsynth-env/lib/python3.6/site-packages/librosa/core/audio.py:146: UserWarning: PySoundFile failed. Trying audioread instead.\n",
      "  warnings.warn('PySoundFile failed. Trying audioread instead.')\n",
      "/opt/anaconda3/envs/BSmapsynth-env/lib/python3.6/site-packages/pandas/core/reshape/merge.py:1089: UserWarning: You are merging on int and float columns where the float values are not equal to their int representation\n",
      "  UserWarning,\n"
     ]
    },
    {
     "name": "stdout",
     "output_type": "stream",
     "text": [
      "4a3f: ['easy', 'normal', 'hard', 'expert', 'expertPlus']\n",
      "temporary/cover.jpg\n",
      "temporary/ExpertPlus.dat\n",
      "temporary/Easy.dat\n",
      "temporary/Normal.dat\n",
      "temporary/Hard.dat\n",
      "temporary/Expert.dat\n",
      "temporary/song.egg\n",
      "temporary/info.dat\n"
     ]
    },
    {
     "name": "stderr",
     "output_type": "stream",
     "text": [
      "/opt/anaconda3/envs/BSmapsynth-env/lib/python3.6/site-packages/librosa/core/audio.py:146: UserWarning: PySoundFile failed. Trying audioread instead.\n",
      "  warnings.warn('PySoundFile failed. Trying audioread instead.')\n",
      "/opt/anaconda3/envs/BSmapsynth-env/lib/python3.6/site-packages/pandas/core/reshape/merge.py:1089: UserWarning: You are merging on int and float columns where the float values are not equal to their int representation\n",
      "  UserWarning,\n"
     ]
    },
    {
     "name": "stdout",
     "output_type": "stream",
     "text": [
      "4a3d: ['hard', 'expert', 'expertPlus']\n",
      "temporary/cover.jpg\n",
      "temporary/ExpertPlus.dat\n",
      "temporary/Expert.dat\n",
      "temporary/Hard.dat\n",
      "temporary/song.egg\n",
      "temporary/info.dat\n"
     ]
    },
    {
     "name": "stderr",
     "output_type": "stream",
     "text": [
      "/opt/anaconda3/envs/BSmapsynth-env/lib/python3.6/site-packages/librosa/core/audio.py:146: UserWarning: PySoundFile failed. Trying audioread instead.\n",
      "  warnings.warn('PySoundFile failed. Trying audioread instead.')\n",
      "/opt/anaconda3/envs/BSmapsynth-env/lib/python3.6/site-packages/pandas/core/reshape/merge.py:1089: UserWarning: You are merging on int and float columns where the float values are not equal to their int representation\n",
      "  UserWarning,\n"
     ]
    },
    {
     "name": "stdout",
     "output_type": "stream",
     "text": [
      "4a36: ['easy', 'normal', 'hard', 'expert', 'expertPlus']\n",
      "temporary/cover.jpg\n",
      "temporary/ExpertPlus.dat\n",
      "temporary/Expert.dat\n",
      "temporary/Hard.dat\n",
      "temporary/Normal.dat\n",
      "temporary/Easy.dat\n",
      "temporary/song.egg\n",
      "temporary/info.dat\n"
     ]
    },
    {
     "name": "stderr",
     "output_type": "stream",
     "text": [
      "/opt/anaconda3/envs/BSmapsynth-env/lib/python3.6/site-packages/librosa/core/audio.py:146: UserWarning: PySoundFile failed. Trying audioread instead.\n",
      "  warnings.warn('PySoundFile failed. Trying audioread instead.')\n",
      "/opt/anaconda3/envs/BSmapsynth-env/lib/python3.6/site-packages/pandas/core/reshape/merge.py:1089: UserWarning: You are merging on int and float columns where the float values are not equal to their int representation\n",
      "  UserWarning,\n"
     ]
    },
    {
     "name": "stdout",
     "output_type": "stream",
     "text": [
      "4a35: ['easy', 'normal', 'hard', 'expert', 'expertPlus']\n",
      "temporary/cover.jpg\n",
      "temporary/Expert.dat\n",
      "temporary/ExpertPlus.dat\n",
      "temporary/Hard.dat\n",
      "temporary/Normal.dat\n",
      "temporary/Easy.dat\n",
      "temporary/song.egg\n",
      "temporary/info.dat\n"
     ]
    },
    {
     "name": "stderr",
     "output_type": "stream",
     "text": [
      "/opt/anaconda3/envs/BSmapsynth-env/lib/python3.6/site-packages/librosa/core/audio.py:146: UserWarning: PySoundFile failed. Trying audioread instead.\n",
      "  warnings.warn('PySoundFile failed. Trying audioread instead.')\n",
      "/opt/anaconda3/envs/BSmapsynth-env/lib/python3.6/site-packages/pandas/core/reshape/merge.py:1089: UserWarning: You are merging on int and float columns where the float values are not equal to their int representation\n",
      "  UserWarning,\n"
     ]
    },
    {
     "name": "stdout",
     "output_type": "stream",
     "text": [
      "49fc: ['expert']\n",
      "temporary/cover.jpg\n",
      "temporary/Expert.dat\n",
      "temporary/song.egg\n",
      "temporary/info.dat\n"
     ]
    },
    {
     "name": "stderr",
     "output_type": "stream",
     "text": [
      "/opt/anaconda3/envs/BSmapsynth-env/lib/python3.6/site-packages/librosa/core/audio.py:146: UserWarning: PySoundFile failed. Trying audioread instead.\n",
      "  warnings.warn('PySoundFile failed. Trying audioread instead.')\n",
      "/opt/anaconda3/envs/BSmapsynth-env/lib/python3.6/site-packages/pandas/core/reshape/merge.py:1089: UserWarning: You are merging on int and float columns where the float values are not equal to their int representation\n",
      "  UserWarning,\n"
     ]
    },
    {
     "name": "stdout",
     "output_type": "stream",
     "text": [
      "49f2: ['hard']\n",
      "temporary/cover.jpg\n",
      "temporary/Hard.dat\n",
      "temporary/song.egg\n",
      "temporary/info.dat\n"
     ]
    },
    {
     "name": "stderr",
     "output_type": "stream",
     "text": [
      "/opt/anaconda3/envs/BSmapsynth-env/lib/python3.6/site-packages/librosa/core/audio.py:146: UserWarning: PySoundFile failed. Trying audioread instead.\n",
      "  warnings.warn('PySoundFile failed. Trying audioread instead.')\n",
      "/opt/anaconda3/envs/BSmapsynth-env/lib/python3.6/site-packages/pandas/core/reshape/merge.py:1089: UserWarning: You are merging on int and float columns where the float values are not equal to their int representation\n",
      "  UserWarning,\n"
     ]
    },
    {
     "name": "stdout",
     "output_type": "stream",
     "text": [
      "49ae: ['easy', 'normal', 'hard', 'expert', 'expertPlus']\n",
      "temporary/shatterme.jpg\n",
      "temporary/ExpertPlus.dat\n",
      "temporary/Expert.dat\n",
      "temporary/Normal.dat\n",
      "temporary/Easy.dat\n",
      "temporary/Hard.dat\n",
      "temporary/Lindsey Stirling ft. Izzy Hale - Shatter Me.egg\n",
      "temporary/info.dat\n"
     ]
    },
    {
     "name": "stderr",
     "output_type": "stream",
     "text": [
      "/opt/anaconda3/envs/BSmapsynth-env/lib/python3.6/site-packages/librosa/core/audio.py:146: UserWarning: PySoundFile failed. Trying audioread instead.\n",
      "  warnings.warn('PySoundFile failed. Trying audioread instead.')\n"
     ]
    },
    {
     "name": "stdout",
     "output_type": "stream",
     "text": [
      "49ae: \n",
      " 'notes_type'\n",
      "4980: ['expert']\n",
      "temporary/cover.jpg\n",
      "temporary/Expert.dat\n",
      "temporary/song.egg\n",
      "temporary/info.dat\n"
     ]
    },
    {
     "name": "stderr",
     "output_type": "stream",
     "text": [
      "/opt/anaconda3/envs/BSmapsynth-env/lib/python3.6/site-packages/librosa/core/audio.py:146: UserWarning: PySoundFile failed. Trying audioread instead.\n",
      "  warnings.warn('PySoundFile failed. Trying audioread instead.')\n",
      "/opt/anaconda3/envs/BSmapsynth-env/lib/python3.6/site-packages/pandas/core/reshape/merge.py:1089: UserWarning: You are merging on int and float columns where the float values are not equal to their int representation\n",
      "  UserWarning,\n"
     ]
    },
    {
     "name": "stdout",
     "output_type": "stream",
     "text": [
      "492e: ['normal', 'hard', 'expert', 'expertPlus']\n",
      "temporary/ab.png\n",
      "temporary/cover.png\n",
      "temporary/Easy.json\n",
      "temporary/ExpertPlus.dat\n",
      "temporary/Hard.dat\n",
      "temporary/Expert.dat\n",
      "temporary/Normal.dat\n",
      "temporary/song.egg\n",
      "temporary/info.dat\n"
     ]
    },
    {
     "name": "stderr",
     "output_type": "stream",
     "text": [
      "/opt/anaconda3/envs/BSmapsynth-env/lib/python3.6/site-packages/librosa/core/audio.py:146: UserWarning: PySoundFile failed. Trying audioread instead.\n",
      "  warnings.warn('PySoundFile failed. Trying audioread instead.')\n",
      "/opt/anaconda3/envs/BSmapsynth-env/lib/python3.6/site-packages/pandas/core/reshape/merge.py:1089: UserWarning: You are merging on int and float columns where the float values are not equal to their int representation\n",
      "  UserWarning,\n"
     ]
    },
    {
     "name": "stdout",
     "output_type": "stream",
     "text": [
      "48ff: ['normal', 'hard', 'expert', 'expertPlus']\n",
      "temporary/1.jpg\n",
      "temporary/ExpertPlus.dat\n",
      "temporary/Hard.dat\n",
      "temporary/Normal.dat\n",
      "temporary/Expert.dat\n",
      "temporary/song.egg\n",
      "temporary/info.dat\n"
     ]
    },
    {
     "name": "stderr",
     "output_type": "stream",
     "text": [
      "/opt/anaconda3/envs/BSmapsynth-env/lib/python3.6/site-packages/librosa/core/audio.py:146: UserWarning: PySoundFile failed. Trying audioread instead.\n",
      "  warnings.warn('PySoundFile failed. Trying audioread instead.')\n",
      "/opt/anaconda3/envs/BSmapsynth-env/lib/python3.6/site-packages/pandas/core/reshape/merge.py:1089: UserWarning: You are merging on int and float columns where the float values are not equal to their int representation\n",
      "  UserWarning,\n"
     ]
    },
    {
     "name": "stdout",
     "output_type": "stream",
     "text": [
      "48e8: ['hard', 'expert', 'expertPlus']\n",
      "temporary/cover.jpg\n",
      "temporary/ExpertPlus.dat\n",
      "temporary/Expert.dat\n",
      "temporary/Hard.dat\n",
      "temporary/song.egg\n",
      "temporary/info.dat\n"
     ]
    },
    {
     "name": "stderr",
     "output_type": "stream",
     "text": [
      "/opt/anaconda3/envs/BSmapsynth-env/lib/python3.6/site-packages/librosa/core/audio.py:146: UserWarning: PySoundFile failed. Trying audioread instead.\n",
      "  warnings.warn('PySoundFile failed. Trying audioread instead.')\n",
      "/opt/anaconda3/envs/BSmapsynth-env/lib/python3.6/site-packages/pandas/core/reshape/merge.py:1089: UserWarning: You are merging on int and float columns where the float values are not equal to their int representation\n",
      "  UserWarning,\n"
     ]
    },
    {
     "name": "stdout",
     "output_type": "stream",
     "text": [
      "485a: ['easy', 'normal', 'hard', 'expert', 'expertPlus']\n",
      "temporary/baxman.png\n",
      "temporary/cover.png\n",
      "temporary/littleasi.png\n",
      "temporary/Rycon.png\n",
      "temporary/ExpertPlus.dat\n",
      "temporary/Expert.dat\n",
      "temporary/Hard.dat\n",
      "temporary/Normal.dat\n",
      "temporary/Easy.dat\n",
      "temporary/Lightshow.dat\n",
      "temporary/song.egg\n",
      "temporary/info.dat\n"
     ]
    },
    {
     "name": "stderr",
     "output_type": "stream",
     "text": [
      "/opt/anaconda3/envs/BSmapsynth-env/lib/python3.6/site-packages/librosa/core/audio.py:146: UserWarning: PySoundFile failed. Trying audioread instead.\n",
      "  warnings.warn('PySoundFile failed. Trying audioread instead.')\n",
      "/opt/anaconda3/envs/BSmapsynth-env/lib/python3.6/site-packages/pandas/core/reshape/merge.py:1089: UserWarning: You are merging on int and float columns where the float values are not equal to their int representation\n",
      "  UserWarning,\n"
     ]
    },
    {
     "name": "stdout",
     "output_type": "stream",
     "text": [
      "4858: ['hard', 'expert', 'expertPlus']\n",
      "temporary/cover.jpg\n",
      "temporary/ExpertPlus.dat\n",
      "temporary/Expert.dat\n",
      "temporary/Hard.dat\n",
      "temporary/song.egg\n",
      "temporary/info.dat\n"
     ]
    },
    {
     "name": "stderr",
     "output_type": "stream",
     "text": [
      "/opt/anaconda3/envs/BSmapsynth-env/lib/python3.6/site-packages/librosa/core/audio.py:146: UserWarning: PySoundFile failed. Trying audioread instead.\n",
      "  warnings.warn('PySoundFile failed. Trying audioread instead.')\n",
      "/opt/anaconda3/envs/BSmapsynth-env/lib/python3.6/site-packages/pandas/core/reshape/merge.py:1089: UserWarning: You are merging on int and float columns where the float values are not equal to their int representation\n",
      "  UserWarning,\n"
     ]
    },
    {
     "name": "stdout",
     "output_type": "stream",
     "text": [
      "484d: ['easy', 'hard', 'expert', 'expertPlus']\n",
      "temporary/ab.png\n",
      "temporary/cover.jpg\n",
      "temporary/skeelie.png\n",
      "temporary/ExpertPlus.dat\n",
      "temporary/Expert.dat\n",
      "temporary/Hard.dat\n",
      "temporary/Easy.dat\n",
      "temporary/song.egg\n",
      "temporary/info.dat\n"
     ]
    },
    {
     "name": "stderr",
     "output_type": "stream",
     "text": [
      "/opt/anaconda3/envs/BSmapsynth-env/lib/python3.6/site-packages/librosa/core/audio.py:146: UserWarning: PySoundFile failed. Trying audioread instead.\n",
      "  warnings.warn('PySoundFile failed. Trying audioread instead.')\n",
      "/opt/anaconda3/envs/BSmapsynth-env/lib/python3.6/site-packages/pandas/core/reshape/merge.py:1089: UserWarning: You are merging on int and float columns where the float values are not equal to their int representation\n",
      "  UserWarning,\n"
     ]
    },
    {
     "name": "stdout",
     "output_type": "stream",
     "text": [
      "47f3: ['normal', 'hard', 'expert', 'expertPlus']\n",
      "temporary/Aggro.png\n",
      "temporary/cover.jpg\n",
      "temporary/Kikae.png\n",
      "temporary/ExpertPlus.dat\n",
      "temporary/Normal.dat\n",
      "temporary/Expert.dat\n",
      "temporary/Hard.dat\n",
      "temporary/song.egg\n",
      "temporary/info.dat\n"
     ]
    },
    {
     "name": "stderr",
     "output_type": "stream",
     "text": [
      "/opt/anaconda3/envs/BSmapsynth-env/lib/python3.6/site-packages/librosa/core/audio.py:146: UserWarning: PySoundFile failed. Trying audioread instead.\n",
      "  warnings.warn('PySoundFile failed. Trying audioread instead.')\n",
      "/opt/anaconda3/envs/BSmapsynth-env/lib/python3.6/site-packages/pandas/core/reshape/merge.py:1089: UserWarning: You are merging on int and float columns where the float values are not equal to their int representation\n",
      "  UserWarning,\n"
     ]
    },
    {
     "name": "stdout",
     "output_type": "stream",
     "text": [
      "46d4: ['expert', 'expertPlus']\n",
      "temporary/RapGod.png\n",
      "temporary/ExpertPlus.dat\n",
      "temporary/Expert.dat\n",
      "temporary/01 Rap God.egg\n",
      "temporary/info.dat\n"
     ]
    },
    {
     "name": "stderr",
     "output_type": "stream",
     "text": [
      "/opt/anaconda3/envs/BSmapsynth-env/lib/python3.6/site-packages/librosa/core/audio.py:146: UserWarning: PySoundFile failed. Trying audioread instead.\n",
      "  warnings.warn('PySoundFile failed. Trying audioread instead.')\n",
      "/opt/anaconda3/envs/BSmapsynth-env/lib/python3.6/site-packages/pandas/core/reshape/merge.py:1089: UserWarning: You are merging on int and float columns where the float values are not equal to their int representation\n",
      "  UserWarning,\n"
     ]
    },
    {
     "name": "stdout",
     "output_type": "stream",
     "text": [
      "46be: ['normal', 'hard', 'expert', 'expertPlus']\n",
      "temporary/cover.png\n",
      "temporary/ExpertPlus.dat\n",
      "temporary/Normal.dat\n",
      "temporary/Hard.dat\n",
      "temporary/Expert.dat\n",
      "temporary/killthislove.egg\n",
      "temporary/info.dat\n"
     ]
    },
    {
     "name": "stderr",
     "output_type": "stream",
     "text": [
      "/opt/anaconda3/envs/BSmapsynth-env/lib/python3.6/site-packages/librosa/core/audio.py:146: UserWarning: PySoundFile failed. Trying audioread instead.\n",
      "  warnings.warn('PySoundFile failed. Trying audioread instead.')\n",
      "/opt/anaconda3/envs/BSmapsynth-env/lib/python3.6/site-packages/pandas/core/reshape/merge.py:1089: UserWarning: You are merging on int and float columns where the float values are not equal to their int representation\n",
      "  UserWarning,\n"
     ]
    },
    {
     "name": "stdout",
     "output_type": "stream",
     "text": [
      "46b1: ['expert', 'expertPlus']\n",
      "temporary/cover.jpg\n",
      "temporary/ExpertPlus.dat\n",
      "temporary/Expert.dat\n",
      "temporary/song.egg\n",
      "temporary/info.dat\n"
     ]
    },
    {
     "name": "stderr",
     "output_type": "stream",
     "text": [
      "/opt/anaconda3/envs/BSmapsynth-env/lib/python3.6/site-packages/librosa/core/audio.py:146: UserWarning: PySoundFile failed. Trying audioread instead.\n",
      "  warnings.warn('PySoundFile failed. Trying audioread instead.')\n",
      "/opt/anaconda3/envs/BSmapsynth-env/lib/python3.6/site-packages/pandas/core/reshape/merge.py:1089: UserWarning: You are merging on int and float columns where the float values are not equal to their int representation\n",
      "  UserWarning,\n"
     ]
    },
    {
     "name": "stdout",
     "output_type": "stream",
     "text": [
      "4611: ['hard', 'expertPlus']\n",
      "temporary/soul.jpg\n",
      "temporary/ExpertPlus.dat\n",
      "temporary/Hard.dat\n",
      "temporary/Boy With Luv.egg\n",
      "temporary/info.dat\n"
     ]
    },
    {
     "name": "stderr",
     "output_type": "stream",
     "text": [
      "/opt/anaconda3/envs/BSmapsynth-env/lib/python3.6/site-packages/librosa/core/audio.py:146: UserWarning: PySoundFile failed. Trying audioread instead.\n",
      "  warnings.warn('PySoundFile failed. Trying audioread instead.')\n",
      "/opt/anaconda3/envs/BSmapsynth-env/lib/python3.6/site-packages/pandas/core/reshape/merge.py:1089: UserWarning: You are merging on int and float columns where the float values are not equal to their int representation\n",
      "  UserWarning,\n"
     ]
    },
    {
     "name": "stdout",
     "output_type": "stream",
     "text": [
      "45eb: ['easy', 'expert', 'expertPlus']\n",
      "temporary/cover.jpg\n",
      "temporary/Expert.dat\n",
      "temporary/ExpertPlus.dat\n",
      "temporary/Easy.dat\n",
      "temporary/song.egg\n",
      "temporary/info.dat\n"
     ]
    },
    {
     "name": "stderr",
     "output_type": "stream",
     "text": [
      "/opt/anaconda3/envs/BSmapsynth-env/lib/python3.6/site-packages/librosa/core/audio.py:146: UserWarning: PySoundFile failed. Trying audioread instead.\n",
      "  warnings.warn('PySoundFile failed. Trying audioread instead.')\n"
     ]
    },
    {
     "name": "stdout",
     "output_type": "stream",
     "text": [
      "45eb: \n",
      " 'notes_type'\n",
      "456d: ['easy', 'normal', 'hard', 'expert']\n",
      "temporary/cover.jpg\n",
      "temporary/Expert.dat\n",
      "temporary/Hard.dat\n",
      "temporary/Normal.dat\n",
      "temporary/Easy.dat\n",
      "temporary/song.egg\n",
      "temporary/info.dat\n"
     ]
    },
    {
     "name": "stderr",
     "output_type": "stream",
     "text": [
      "/opt/anaconda3/envs/BSmapsynth-env/lib/python3.6/site-packages/librosa/core/audio.py:146: UserWarning: PySoundFile failed. Trying audioread instead.\n",
      "  warnings.warn('PySoundFile failed. Trying audioread instead.')\n",
      "/opt/anaconda3/envs/BSmapsynth-env/lib/python3.6/site-packages/pandas/core/reshape/merge.py:1089: UserWarning: You are merging on int and float columns where the float values are not equal to their int representation\n",
      "  UserWarning,\n"
     ]
    },
    {
     "name": "stdout",
     "output_type": "stream",
     "text": [
      "451b: ['easy', 'normal', 'hard', 'expert', 'expertPlus']\n",
      "temporary/Cover.jpg\n",
      "temporary/ExpertPlus.dat\n",
      "temporary/Expert.dat\n",
      "temporary/Hard.dat\n",
      "temporary/Normal.dat\n",
      "temporary/Easy.dat\n",
      "temporary/Getsix_Orion_BS_Edit.egg\n",
      "temporary/info.dat\n"
     ]
    },
    {
     "name": "stderr",
     "output_type": "stream",
     "text": [
      "/opt/anaconda3/envs/BSmapsynth-env/lib/python3.6/site-packages/librosa/core/audio.py:146: UserWarning: PySoundFile failed. Trying audioread instead.\n",
      "  warnings.warn('PySoundFile failed. Trying audioread instead.')\n",
      "/opt/anaconda3/envs/BSmapsynth-env/lib/python3.6/site-packages/pandas/core/reshape/merge.py:1089: UserWarning: You are merging on int and float columns where the float values are not equal to their int representation\n",
      "  UserWarning,\n"
     ]
    },
    {
     "name": "stdout",
     "output_type": "stream",
     "text": [
      "44f6: ['normal', 'hard', 'expert', 'expertPlus']\n",
      "temporary/cover.jpg\n",
      "temporary/ExpertPlus.dat\n",
      "temporary/Expert.dat\n",
      "temporary/Hard.dat\n",
      "temporary/Normal.dat\n",
      "temporary/song.egg\n",
      "temporary/info.dat\n"
     ]
    },
    {
     "name": "stderr",
     "output_type": "stream",
     "text": [
      "/opt/anaconda3/envs/BSmapsynth-env/lib/python3.6/site-packages/librosa/core/audio.py:146: UserWarning: PySoundFile failed. Trying audioread instead.\n",
      "  warnings.warn('PySoundFile failed. Trying audioread instead.')\n",
      "/opt/anaconda3/envs/BSmapsynth-env/lib/python3.6/site-packages/pandas/core/reshape/merge.py:1089: UserWarning: You are merging on int and float columns where the float values are not equal to their int representation\n",
      "  UserWarning,\n"
     ]
    },
    {
     "name": "stdout",
     "output_type": "stream",
     "text": [
      "44f4: ['easy', 'normal', 'hard', 'expert', 'expertPlus']\n",
      "temporary/cover.png\n",
      "temporary/ExpertPlus.dat\n",
      "temporary/Expert.dat\n",
      "temporary/Hard.dat\n",
      "temporary/Normal.dat\n",
      "temporary/Easy.dat\n",
      "temporary/song.egg\n",
      "temporary/info.dat\n"
     ]
    },
    {
     "name": "stderr",
     "output_type": "stream",
     "text": [
      "/opt/anaconda3/envs/BSmapsynth-env/lib/python3.6/site-packages/librosa/core/audio.py:146: UserWarning: PySoundFile failed. Trying audioread instead.\n",
      "  warnings.warn('PySoundFile failed. Trying audioread instead.')\n",
      "/opt/anaconda3/envs/BSmapsynth-env/lib/python3.6/site-packages/pandas/core/reshape/merge.py:1089: UserWarning: You are merging on int and float columns where the float values are not equal to their int representation\n",
      "  UserWarning,\n"
     ]
    },
    {
     "name": "stdout",
     "output_type": "stream",
     "text": [
      "447a: ['expert']\n",
      "temporary/1.jpg\n",
      "temporary/Expert.dat\n",
      "temporary/song.egg\n",
      "temporary/info.dat\n"
     ]
    },
    {
     "name": "stderr",
     "output_type": "stream",
     "text": [
      "/opt/anaconda3/envs/BSmapsynth-env/lib/python3.6/site-packages/librosa/core/audio.py:146: UserWarning: PySoundFile failed. Trying audioread instead.\n",
      "  warnings.warn('PySoundFile failed. Trying audioread instead.')\n",
      "/opt/anaconda3/envs/BSmapsynth-env/lib/python3.6/site-packages/pandas/core/reshape/merge.py:1089: UserWarning: You are merging on int and float columns where the float values are not equal to their int representation\n",
      "  UserWarning,\n"
     ]
    },
    {
     "name": "stdout",
     "output_type": "stream",
     "text": [
      "4445: ['expert']\n",
      "temporary/cover.jpg\n",
      "temporary/Expert.dat\n",
      "temporary/song.egg\n",
      "temporary/info.dat\n"
     ]
    },
    {
     "name": "stderr",
     "output_type": "stream",
     "text": [
      "/opt/anaconda3/envs/BSmapsynth-env/lib/python3.6/site-packages/librosa/core/audio.py:146: UserWarning: PySoundFile failed. Trying audioread instead.\n",
      "  warnings.warn('PySoundFile failed. Trying audioread instead.')\n",
      "/opt/anaconda3/envs/BSmapsynth-env/lib/python3.6/site-packages/pandas/core/reshape/merge.py:1089: UserWarning: You are merging on int and float columns where the float values are not equal to their int representation\n",
      "  UserWarning,\n"
     ]
    },
    {
     "name": "stdout",
     "output_type": "stream",
     "text": [
      "443d: ['expert', 'expertPlus']\n",
      "temporary/cover.jpg\n",
      "temporary/ExpertPlus.dat\n",
      "temporary/Expert.dat\n",
      "temporary/song.egg\n",
      "temporary/info.dat\n"
     ]
    },
    {
     "name": "stderr",
     "output_type": "stream",
     "text": [
      "/opt/anaconda3/envs/BSmapsynth-env/lib/python3.6/site-packages/librosa/core/audio.py:146: UserWarning: PySoundFile failed. Trying audioread instead.\n",
      "  warnings.warn('PySoundFile failed. Trying audioread instead.')\n",
      "/opt/anaconda3/envs/BSmapsynth-env/lib/python3.6/site-packages/pandas/core/reshape/merge.py:1089: UserWarning: You are merging on int and float columns where the float values are not equal to their int representation\n",
      "  UserWarning,\n"
     ]
    },
    {
     "name": "stdout",
     "output_type": "stream",
     "text": [
      "4377: ['expertPlus']\n",
      "temporary/cover.png\n",
      "temporary/ExpertPlus.dat\n",
      "temporary/song.egg\n",
      "temporary/info.dat\n"
     ]
    },
    {
     "name": "stderr",
     "output_type": "stream",
     "text": [
      "/opt/anaconda3/envs/BSmapsynth-env/lib/python3.6/site-packages/librosa/core/audio.py:146: UserWarning: PySoundFile failed. Trying audioread instead.\n",
      "  warnings.warn('PySoundFile failed. Trying audioread instead.')\n",
      "/opt/anaconda3/envs/BSmapsynth-env/lib/python3.6/site-packages/pandas/core/reshape/merge.py:1089: UserWarning: You are merging on int and float columns where the float values are not equal to their int representation\n",
      "  UserWarning,\n"
     ]
    },
    {
     "name": "stdout",
     "output_type": "stream",
     "text": [
      "4373: ['expertPlus']\n",
      "temporary/cover.jpg\n",
      "temporary/ExpertPlus.dat\n",
      "temporary/song.egg\n",
      "temporary/info.dat\n"
     ]
    },
    {
     "name": "stderr",
     "output_type": "stream",
     "text": [
      "/opt/anaconda3/envs/BSmapsynth-env/lib/python3.6/site-packages/librosa/core/audio.py:146: UserWarning: PySoundFile failed. Trying audioread instead.\n",
      "  warnings.warn('PySoundFile failed. Trying audioread instead.')\n",
      "/opt/anaconda3/envs/BSmapsynth-env/lib/python3.6/site-packages/pandas/core/reshape/merge.py:1089: UserWarning: You are merging on int and float columns where the float values are not equal to their int representation\n",
      "  UserWarning,\n"
     ]
    },
    {
     "name": "stdout",
     "output_type": "stream",
     "text": [
      "4353: ['expertPlus']\n",
      "temporary/cover.jpg\n",
      "temporary/ExpertPlus.dat\n",
      "temporary/Plus Danshi.egg\n",
      "temporary/info.dat\n"
     ]
    },
    {
     "name": "stderr",
     "output_type": "stream",
     "text": [
      "/opt/anaconda3/envs/BSmapsynth-env/lib/python3.6/site-packages/librosa/core/audio.py:146: UserWarning: PySoundFile failed. Trying audioread instead.\n",
      "  warnings.warn('PySoundFile failed. Trying audioread instead.')\n",
      "/opt/anaconda3/envs/BSmapsynth-env/lib/python3.6/site-packages/pandas/core/reshape/merge.py:1089: UserWarning: You are merging on int and float columns where the float values are not equal to their int representation\n",
      "  UserWarning,\n"
     ]
    },
    {
     "name": "stdout",
     "output_type": "stream",
     "text": [
      "42ea: ['expert', 'expertPlus']\n",
      "temporary/cover.jpg\n",
      "temporary/ExpertPlus.dat\n",
      "temporary/Expert.dat\n",
      "temporary/song_120.egg\n",
      "temporary/info.dat\n"
     ]
    },
    {
     "name": "stderr",
     "output_type": "stream",
     "text": [
      "/opt/anaconda3/envs/BSmapsynth-env/lib/python3.6/site-packages/librosa/core/audio.py:146: UserWarning: PySoundFile failed. Trying audioread instead.\n",
      "  warnings.warn('PySoundFile failed. Trying audioread instead.')\n",
      "/opt/anaconda3/envs/BSmapsynth-env/lib/python3.6/site-packages/pandas/core/reshape/merge.py:1089: UserWarning: You are merging on int and float columns where the float values are not equal to their int representation\n",
      "  UserWarning,\n"
     ]
    },
    {
     "name": "stdout",
     "output_type": "stream",
     "text": [
      "42de: ['easy', 'normal', 'hard', 'expert']\n",
      "temporary/cover.png\n",
      "temporary/Expert.dat\n",
      "temporary/Hard.dat\n",
      "temporary/Normal.dat\n",
      "temporary/Easy.dat\n",
      "temporary/song.egg\n",
      "temporary/info.dat\n"
     ]
    },
    {
     "name": "stderr",
     "output_type": "stream",
     "text": [
      "/opt/anaconda3/envs/BSmapsynth-env/lib/python3.6/site-packages/librosa/core/audio.py:146: UserWarning: PySoundFile failed. Trying audioread instead.\n",
      "  warnings.warn('PySoundFile failed. Trying audioread instead.')\n",
      "/opt/anaconda3/envs/BSmapsynth-env/lib/python3.6/site-packages/pandas/core/reshape/merge.py:1089: UserWarning: You are merging on int and float columns where the float values are not equal to their int representation\n",
      "  UserWarning,\n"
     ]
    },
    {
     "name": "stdout",
     "output_type": "stream",
     "text": [
      "41e4: ['easy', 'normal', 'hard', 'expert']\n",
      "temporary/cover.jpg\n",
      "temporary/Easy.dat\n",
      "temporary/Normal.dat\n",
      "temporary/Hard.dat\n",
      "temporary/Expert.dat\n",
      "temporary/meanttolive.egg\n",
      "temporary/info.dat\n"
     ]
    },
    {
     "name": "stderr",
     "output_type": "stream",
     "text": [
      "/opt/anaconda3/envs/BSmapsynth-env/lib/python3.6/site-packages/librosa/core/audio.py:146: UserWarning: PySoundFile failed. Trying audioread instead.\n",
      "  warnings.warn('PySoundFile failed. Trying audioread instead.')\n",
      "/opt/anaconda3/envs/BSmapsynth-env/lib/python3.6/site-packages/pandas/core/reshape/merge.py:1089: UserWarning: You are merging on int and float columns where the float values are not equal to their int representation\n",
      "  UserWarning,\n"
     ]
    },
    {
     "name": "stdout",
     "output_type": "stream",
     "text": [
      "41a8: ['easy', 'normal', 'hard', 'expert']\n",
      "temporary/aozora.jpg\n",
      "temporary/ExpertPlus.json\n",
      "temporary/Expert.dat\n",
      "temporary/Hard.dat\n",
      "temporary/Normal.dat\n",
      "temporary/Easy.dat\n",
      "temporary/Aozora no Rhapsody.egg\n",
      "temporary/info.dat\n"
     ]
    },
    {
     "name": "stderr",
     "output_type": "stream",
     "text": [
      "/opt/anaconda3/envs/BSmapsynth-env/lib/python3.6/site-packages/librosa/core/audio.py:146: UserWarning: PySoundFile failed. Trying audioread instead.\n",
      "  warnings.warn('PySoundFile failed. Trying audioread instead.')\n",
      "/opt/anaconda3/envs/BSmapsynth-env/lib/python3.6/site-packages/pandas/core/reshape/merge.py:1089: UserWarning: You are merging on int and float columns where the float values are not equal to their int representation\n",
      "  UserWarning,\n"
     ]
    },
    {
     "name": "stdout",
     "output_type": "stream",
     "text": [
      "417c: ['easy', 'normal', 'hard', 'expert', 'expertPlus']\n",
      "temporary/cover.png\n",
      "temporary/ExpertPlus.dat\n",
      "temporary/Expert.dat\n",
      "temporary/Hard.dat\n",
      "temporary/Normal.dat\n",
      "temporary/Easy.dat\n",
      "temporary/song.egg\n",
      "temporary/info.dat\n"
     ]
    },
    {
     "name": "stderr",
     "output_type": "stream",
     "text": [
      "/opt/anaconda3/envs/BSmapsynth-env/lib/python3.6/site-packages/librosa/core/audio.py:146: UserWarning: PySoundFile failed. Trying audioread instead.\n",
      "  warnings.warn('PySoundFile failed. Trying audioread instead.')\n",
      "/opt/anaconda3/envs/BSmapsynth-env/lib/python3.6/site-packages/pandas/core/reshape/merge.py:1089: UserWarning: You are merging on int and float columns where the float values are not equal to their int representation\n",
      "  UserWarning,\n"
     ]
    },
    {
     "name": "stdout",
     "output_type": "stream",
     "text": [
      "3ff2: ['expert']\n",
      "temporary/cover.png\n",
      "temporary/Expert.dat\n",
      "temporary/Cowboy Bebop - Tank! (Ben Briggs Remix).egg\n",
      "temporary/info.dat\n"
     ]
    },
    {
     "name": "stderr",
     "output_type": "stream",
     "text": [
      "/opt/anaconda3/envs/BSmapsynth-env/lib/python3.6/site-packages/librosa/core/audio.py:146: UserWarning: PySoundFile failed. Trying audioread instead.\n",
      "  warnings.warn('PySoundFile failed. Trying audioread instead.')\n",
      "/opt/anaconda3/envs/BSmapsynth-env/lib/python3.6/site-packages/pandas/core/reshape/merge.py:1089: UserWarning: You are merging on int and float columns where the float values are not equal to their int representation\n",
      "  UserWarning,\n"
     ]
    },
    {
     "name": "stdout",
     "output_type": "stream",
     "text": [
      "3fd3: ['expert', 'expertPlus']\n",
      "temporary/cover.png\n",
      "temporary/ExpertPlus.dat\n",
      "temporary/Expert.dat\n",
      "temporary/Tank.egg\n",
      "temporary/info.dat\n"
     ]
    },
    {
     "name": "stderr",
     "output_type": "stream",
     "text": [
      "/opt/anaconda3/envs/BSmapsynth-env/lib/python3.6/site-packages/librosa/core/audio.py:146: UserWarning: PySoundFile failed. Trying audioread instead.\n",
      "  warnings.warn('PySoundFile failed. Trying audioread instead.')\n",
      "/opt/anaconda3/envs/BSmapsynth-env/lib/python3.6/site-packages/pandas/core/reshape/merge.py:1089: UserWarning: You are merging on int and float columns where the float values are not equal to their int representation\n",
      "  UserWarning,\n"
     ]
    },
    {
     "name": "stdout",
     "output_type": "stream",
     "text": [
      "3f79: ['normal', 'hard', 'expert']\n",
      "temporary/cover.jpg\n",
      "temporary/Expert.dat\n",
      "temporary/Hard.dat\n",
      "temporary/Normal.dat\n",
      "temporary/here_with_me_itunes.egg\n",
      "temporary/info.dat\n"
     ]
    },
    {
     "name": "stderr",
     "output_type": "stream",
     "text": [
      "/opt/anaconda3/envs/BSmapsynth-env/lib/python3.6/site-packages/librosa/core/audio.py:146: UserWarning: PySoundFile failed. Trying audioread instead.\n",
      "  warnings.warn('PySoundFile failed. Trying audioread instead.')\n",
      "/opt/anaconda3/envs/BSmapsynth-env/lib/python3.6/site-packages/pandas/core/reshape/merge.py:1089: UserWarning: You are merging on int and float columns where the float values are not equal to their int representation\n",
      "  UserWarning,\n"
     ]
    },
    {
     "name": "stdout",
     "output_type": "stream",
     "text": [
      "3f6e: ['hard', 'expert']\n",
      "temporary/cover.jpg\n",
      "temporary/Expert.dat\n",
      "temporary/Hard.dat\n",
      "temporary/song.egg\n",
      "temporary/info.dat\n"
     ]
    },
    {
     "name": "stderr",
     "output_type": "stream",
     "text": [
      "/opt/anaconda3/envs/BSmapsynth-env/lib/python3.6/site-packages/librosa/core/audio.py:146: UserWarning: PySoundFile failed. Trying audioread instead.\n",
      "  warnings.warn('PySoundFile failed. Trying audioread instead.')\n",
      "/opt/anaconda3/envs/BSmapsynth-env/lib/python3.6/site-packages/pandas/core/reshape/merge.py:1089: UserWarning: You are merging on int and float columns where the float values are not equal to their int representation\n",
      "  UserWarning,\n"
     ]
    },
    {
     "name": "stdout",
     "output_type": "stream",
     "text": [
      "3f38: ['expert']\n",
      "temporary/cover.jpg\n",
      "temporary/Expert.dat\n",
      "temporary/song.egg\n",
      "temporary/info.dat\n"
     ]
    },
    {
     "name": "stderr",
     "output_type": "stream",
     "text": [
      "/opt/anaconda3/envs/BSmapsynth-env/lib/python3.6/site-packages/librosa/core/audio.py:146: UserWarning: PySoundFile failed. Trying audioread instead.\n",
      "  warnings.warn('PySoundFile failed. Trying audioread instead.')\n",
      "/opt/anaconda3/envs/BSmapsynth-env/lib/python3.6/site-packages/pandas/core/reshape/merge.py:1089: UserWarning: You are merging on int and float columns where the float values are not equal to their int representation\n",
      "  UserWarning,\n"
     ]
    },
    {
     "name": "stdout",
     "output_type": "stream",
     "text": [
      "3e11: ['easy', 'normal', 'hard', 'expert', 'expertPlus']\n",
      "temporary/Cover.jpg\n",
      "temporary/Lyrics.srt\n",
      "temporary/video.json\n",
      "temporary/ExpertPlus.dat\n",
      "temporary/Expert.dat\n",
      "temporary/Hard.dat\n",
      "temporary/Normal.dat\n",
      "temporary/Easy.dat\n",
      "temporary/WW_KizunaAI_The_Light.egg\n",
      "temporary/info.dat\n"
     ]
    },
    {
     "name": "stderr",
     "output_type": "stream",
     "text": [
      "/opt/anaconda3/envs/BSmapsynth-env/lib/python3.6/site-packages/librosa/core/audio.py:146: UserWarning: PySoundFile failed. Trying audioread instead.\n",
      "  warnings.warn('PySoundFile failed. Trying audioread instead.')\n",
      "/opt/anaconda3/envs/BSmapsynth-env/lib/python3.6/site-packages/pandas/core/reshape/merge.py:1089: UserWarning: You are merging on int and float columns where the float values are not equal to their int representation\n",
      "  UserWarning,\n"
     ]
    },
    {
     "name": "stdout",
     "output_type": "stream",
     "text": [
      "3dbb: ['expert']\n",
      "temporary/cover.jpg\n",
      "temporary/Expert.dat\n",
      "temporary/song.egg\n",
      "temporary/info.dat\n"
     ]
    },
    {
     "name": "stderr",
     "output_type": "stream",
     "text": [
      "/opt/anaconda3/envs/BSmapsynth-env/lib/python3.6/site-packages/librosa/core/audio.py:146: UserWarning: PySoundFile failed. Trying audioread instead.\n",
      "  warnings.warn('PySoundFile failed. Trying audioread instead.')\n",
      "/opt/anaconda3/envs/BSmapsynth-env/lib/python3.6/site-packages/pandas/core/reshape/merge.py:1089: UserWarning: You are merging on int and float columns where the float values are not equal to their int representation\n",
      "  UserWarning,\n"
     ]
    },
    {
     "name": "stdout",
     "output_type": "stream",
     "text": [
      "3cf5: ['expert']\n",
      "temporary/1.jpg\n",
      "temporary/Expert.dat\n",
      "temporary/song.egg\n",
      "temporary/info.dat\n"
     ]
    },
    {
     "name": "stderr",
     "output_type": "stream",
     "text": [
      "/opt/anaconda3/envs/BSmapsynth-env/lib/python3.6/site-packages/librosa/core/audio.py:146: UserWarning: PySoundFile failed. Trying audioread instead.\n",
      "  warnings.warn('PySoundFile failed. Trying audioread instead.')\n",
      "/opt/anaconda3/envs/BSmapsynth-env/lib/python3.6/site-packages/pandas/core/reshape/merge.py:1089: UserWarning: You are merging on int and float columns where the float values are not equal to their int representation\n",
      "  UserWarning,\n"
     ]
    },
    {
     "name": "stdout",
     "output_type": "stream",
     "text": [
      "3c1d: ['normal', 'hard', 'expert']\n",
      "temporary/cover.jpg\n",
      "temporary/Expert.dat\n",
      "temporary/Hard.dat\n",
      "temporary/Normal.dat\n",
      "temporary/orchestra_itunes.egg\n",
      "temporary/info.dat\n"
     ]
    },
    {
     "name": "stderr",
     "output_type": "stream",
     "text": [
      "/opt/anaconda3/envs/BSmapsynth-env/lib/python3.6/site-packages/librosa/core/audio.py:146: UserWarning: PySoundFile failed. Trying audioread instead.\n",
      "  warnings.warn('PySoundFile failed. Trying audioread instead.')\n",
      "/opt/anaconda3/envs/BSmapsynth-env/lib/python3.6/site-packages/pandas/core/reshape/merge.py:1089: UserWarning: You are merging on int and float columns where the float values are not equal to their int representation\n",
      "  UserWarning,\n"
     ]
    },
    {
     "name": "stdout",
     "output_type": "stream",
     "text": [
      "3c10: ['expertPlus']\n",
      "temporary/cover.jpg\n",
      "temporary/ExpertPlus.dat\n",
      "temporary/song.egg\n",
      "temporary/info.dat\n"
     ]
    },
    {
     "name": "stderr",
     "output_type": "stream",
     "text": [
      "/opt/anaconda3/envs/BSmapsynth-env/lib/python3.6/site-packages/librosa/core/audio.py:146: UserWarning: PySoundFile failed. Trying audioread instead.\n",
      "  warnings.warn('PySoundFile failed. Trying audioread instead.')\n",
      "/opt/anaconda3/envs/BSmapsynth-env/lib/python3.6/site-packages/pandas/core/reshape/merge.py:1089: UserWarning: You are merging on int and float columns where the float values are not equal to their int representation\n",
      "  UserWarning,\n"
     ]
    },
    {
     "name": "stdout",
     "output_type": "stream",
     "text": [
      "3bbc: ['expert']\n",
      "temporary/cover.jpg\n",
      "temporary/Expert.dat\n",
      "temporary/song.egg\n",
      "temporary/info.dat\n"
     ]
    },
    {
     "name": "stderr",
     "output_type": "stream",
     "text": [
      "/opt/anaconda3/envs/BSmapsynth-env/lib/python3.6/site-packages/librosa/core/audio.py:146: UserWarning: PySoundFile failed. Trying audioread instead.\n",
      "  warnings.warn('PySoundFile failed. Trying audioread instead.')\n",
      "/opt/anaconda3/envs/BSmapsynth-env/lib/python3.6/site-packages/pandas/core/reshape/merge.py:1089: UserWarning: You are merging on int and float columns where the float values are not equal to their int representation\n",
      "  UserWarning,\n"
     ]
    },
    {
     "name": "stdout",
     "output_type": "stream",
     "text": [
      "3b84: ['expert']\n",
      "temporary/cover.jpg\n",
      "temporary/Expert.dat\n",
      "temporary/song.egg\n",
      "temporary/info.dat\n"
     ]
    },
    {
     "name": "stderr",
     "output_type": "stream",
     "text": [
      "/opt/anaconda3/envs/BSmapsynth-env/lib/python3.6/site-packages/librosa/core/audio.py:146: UserWarning: PySoundFile failed. Trying audioread instead.\n",
      "  warnings.warn('PySoundFile failed. Trying audioread instead.')\n",
      "/opt/anaconda3/envs/BSmapsynth-env/lib/python3.6/site-packages/pandas/core/reshape/merge.py:1089: UserWarning: You are merging on int and float columns where the float values are not equal to their int representation\n",
      "  UserWarning,\n"
     ]
    },
    {
     "name": "stdout",
     "output_type": "stream",
     "text": [
      "3b76: ['normal', 'hard', 'expert', 'expertPlus']\n",
      "temporary/cover.jpg\n",
      "temporary/ExpertPlus.dat\n",
      "temporary/Expert.dat\n",
      "temporary/Hard.dat\n",
      "temporary/Normal.dat\n",
      "temporary/song.egg\n",
      "temporary/info.dat\n"
     ]
    },
    {
     "name": "stderr",
     "output_type": "stream",
     "text": [
      "/opt/anaconda3/envs/BSmapsynth-env/lib/python3.6/site-packages/librosa/core/audio.py:146: UserWarning: PySoundFile failed. Trying audioread instead.\n",
      "  warnings.warn('PySoundFile failed. Trying audioread instead.')\n",
      "/opt/anaconda3/envs/BSmapsynth-env/lib/python3.6/site-packages/pandas/core/reshape/merge.py:1089: UserWarning: You are merging on int and float columns where the float values are not equal to their int representation\n",
      "  UserWarning,\n"
     ]
    },
    {
     "name": "stdout",
     "output_type": "stream",
     "text": [
      "3b6c: ['hard', 'expert']\n",
      "temporary/ExpertPlus.json\n",
      "temporary/Yattacd.jpg\n",
      "temporary/Expert.dat\n",
      "temporary/Hard.dat\n",
      "temporary/yatta.egg\n",
      "temporary/info.dat\n"
     ]
    },
    {
     "name": "stderr",
     "output_type": "stream",
     "text": [
      "/opt/anaconda3/envs/BSmapsynth-env/lib/python3.6/site-packages/librosa/core/audio.py:146: UserWarning: PySoundFile failed. Trying audioread instead.\n",
      "  warnings.warn('PySoundFile failed. Trying audioread instead.')\n",
      "/opt/anaconda3/envs/BSmapsynth-env/lib/python3.6/site-packages/pandas/core/reshape/merge.py:1089: UserWarning: You are merging on int and float columns where the float values are not equal to their int representation\n",
      "  UserWarning,\n"
     ]
    },
    {
     "name": "stdout",
     "output_type": "stream",
     "text": [
      "3b31: ['normal', 'hard', 'expert']\n",
      "temporary/cover.jpg\n",
      "temporary/Expert.dat\n",
      "temporary/Hard.dat\n",
      "temporary/Normal.dat\n",
      "temporary/song.egg\n",
      "temporary/info.dat\n"
     ]
    },
    {
     "name": "stderr",
     "output_type": "stream",
     "text": [
      "/opt/anaconda3/envs/BSmapsynth-env/lib/python3.6/site-packages/librosa/core/audio.py:146: UserWarning: PySoundFile failed. Trying audioread instead.\n",
      "  warnings.warn('PySoundFile failed. Trying audioread instead.')\n",
      "/opt/anaconda3/envs/BSmapsynth-env/lib/python3.6/site-packages/pandas/core/reshape/merge.py:1089: UserWarning: You are merging on int and float columns where the float values are not equal to their int representation\n",
      "  UserWarning,\n"
     ]
    },
    {
     "name": "stdout",
     "output_type": "stream",
     "text": [
      "3ae2: ['normal', 'hard', 'expert']\n",
      "temporary/cover.jpg\n",
      "temporary/Expert.dat\n",
      "temporary/Hard.dat\n",
      "temporary/Normal.dat\n",
      "temporary/song.egg\n",
      "temporary/info.dat\n"
     ]
    },
    {
     "name": "stderr",
     "output_type": "stream",
     "text": [
      "/opt/anaconda3/envs/BSmapsynth-env/lib/python3.6/site-packages/librosa/core/audio.py:146: UserWarning: PySoundFile failed. Trying audioread instead.\n",
      "  warnings.warn('PySoundFile failed. Trying audioread instead.')\n",
      "/opt/anaconda3/envs/BSmapsynth-env/lib/python3.6/site-packages/pandas/core/reshape/merge.py:1089: UserWarning: You are merging on int and float columns where the float values are not equal to their int representation\n",
      "  UserWarning,\n"
     ]
    },
    {
     "name": "stdout",
     "output_type": "stream",
     "text": [
      "3969: ['normal', 'hard', 'expert']\n",
      "temporary/cover.jpg\n",
      "temporary/Expert.dat\n",
      "temporary/Hard.dat\n",
      "temporary/Normal.dat\n",
      "temporary/song.egg\n",
      "temporary/info.dat\n"
     ]
    },
    {
     "name": "stderr",
     "output_type": "stream",
     "text": [
      "/opt/anaconda3/envs/BSmapsynth-env/lib/python3.6/site-packages/librosa/core/audio.py:146: UserWarning: PySoundFile failed. Trying audioread instead.\n",
      "  warnings.warn('PySoundFile failed. Trying audioread instead.')\n",
      "/opt/anaconda3/envs/BSmapsynth-env/lib/python3.6/site-packages/pandas/core/reshape/merge.py:1089: UserWarning: You are merging on int and float columns where the float values are not equal to their int representation\n",
      "  UserWarning,\n"
     ]
    },
    {
     "name": "stdout",
     "output_type": "stream",
     "text": [
      "38ff: ['expert']\n",
      "temporary/cover.jpg\n",
      "temporary/Expert.dat\n",
      "temporary/song.egg\n",
      "temporary/info.dat\n"
     ]
    },
    {
     "name": "stderr",
     "output_type": "stream",
     "text": [
      "/opt/anaconda3/envs/BSmapsynth-env/lib/python3.6/site-packages/librosa/core/audio.py:146: UserWarning: PySoundFile failed. Trying audioread instead.\n",
      "  warnings.warn('PySoundFile failed. Trying audioread instead.')\n",
      "/opt/anaconda3/envs/BSmapsynth-env/lib/python3.6/site-packages/pandas/core/reshape/merge.py:1089: UserWarning: You are merging on int and float columns where the float values are not equal to their int representation\n",
      "  UserWarning,\n"
     ]
    },
    {
     "name": "stdout",
     "output_type": "stream",
     "text": [
      "38ec: ['expert', 'expertPlus']\n",
      "temporary/cover.jpg\n",
      "temporary/ExpertPlus.dat\n",
      "temporary/Expert.dat\n",
      "temporary/TheBadTouch.egg\n",
      "temporary/info.dat\n"
     ]
    },
    {
     "name": "stderr",
     "output_type": "stream",
     "text": [
      "/opt/anaconda3/envs/BSmapsynth-env/lib/python3.6/site-packages/librosa/core/audio.py:146: UserWarning: PySoundFile failed. Trying audioread instead.\n",
      "  warnings.warn('PySoundFile failed. Trying audioread instead.')\n",
      "/opt/anaconda3/envs/BSmapsynth-env/lib/python3.6/site-packages/pandas/core/reshape/merge.py:1089: UserWarning: You are merging on int and float columns where the float values are not equal to their int representation\n",
      "  UserWarning,\n"
     ]
    },
    {
     "name": "stdout",
     "output_type": "stream",
     "text": [
      "38eb: ['expert', 'expertPlus']\n",
      "temporary/cover.jpg\n",
      "temporary/ExpertPlus.dat\n",
      "temporary/Expert.dat\n",
      "temporary/RockafellerSkank_fix_153.egg\n",
      "temporary/info.dat\n"
     ]
    },
    {
     "name": "stderr",
     "output_type": "stream",
     "text": [
      "/opt/anaconda3/envs/BSmapsynth-env/lib/python3.6/site-packages/librosa/core/audio.py:146: UserWarning: PySoundFile failed. Trying audioread instead.\n",
      "  warnings.warn('PySoundFile failed. Trying audioread instead.')\n",
      "/opt/anaconda3/envs/BSmapsynth-env/lib/python3.6/site-packages/pandas/core/reshape/merge.py:1089: UserWarning: You are merging on int and float columns where the float values are not equal to their int representation\n",
      "  UserWarning,\n"
     ]
    },
    {
     "name": "stdout",
     "output_type": "stream",
     "text": [
      "38ea: ['expert', 'expertPlus']\n",
      "temporary/cover.jpg\n",
      "temporary/ExpertPlus.dat\n",
      "temporary/Expert.dat\n",
      "temporary/BetterOffAlone.egg\n",
      "temporary/info.dat\n"
     ]
    },
    {
     "name": "stderr",
     "output_type": "stream",
     "text": [
      "/opt/anaconda3/envs/BSmapsynth-env/lib/python3.6/site-packages/librosa/core/audio.py:146: UserWarning: PySoundFile failed. Trying audioread instead.\n",
      "  warnings.warn('PySoundFile failed. Trying audioread instead.')\n",
      "/opt/anaconda3/envs/BSmapsynth-env/lib/python3.6/site-packages/pandas/core/reshape/merge.py:1089: UserWarning: You are merging on int and float columns where the float values are not equal to their int representation\n",
      "  UserWarning,\n"
     ]
    },
    {
     "name": "stdout",
     "output_type": "stream",
     "text": [
      "381a: ['expert']\n",
      "temporary/cover.jpg\n",
      "temporary/Expert.dat\n",
      "temporary/song.egg\n",
      "temporary/info.dat\n"
     ]
    },
    {
     "name": "stderr",
     "output_type": "stream",
     "text": [
      "/opt/anaconda3/envs/BSmapsynth-env/lib/python3.6/site-packages/librosa/core/audio.py:146: UserWarning: PySoundFile failed. Trying audioread instead.\n",
      "  warnings.warn('PySoundFile failed. Trying audioread instead.')\n",
      "/opt/anaconda3/envs/BSmapsynth-env/lib/python3.6/site-packages/pandas/core/reshape/merge.py:1089: UserWarning: You are merging on int and float columns where the float values are not equal to their int representation\n",
      "  UserWarning,\n"
     ]
    },
    {
     "name": "stdout",
     "output_type": "stream",
     "text": [
      "3714: ['expertPlus']\n",
      "temporary/cover.jpg\n",
      "temporary/ExpertPlus.dat\n",
      "temporary/song.egg\n",
      "temporary/info.dat\n"
     ]
    },
    {
     "name": "stderr",
     "output_type": "stream",
     "text": [
      "/opt/anaconda3/envs/BSmapsynth-env/lib/python3.6/site-packages/librosa/core/audio.py:146: UserWarning: PySoundFile failed. Trying audioread instead.\n",
      "  warnings.warn('PySoundFile failed. Trying audioread instead.')\n",
      "/opt/anaconda3/envs/BSmapsynth-env/lib/python3.6/site-packages/pandas/core/reshape/merge.py:1089: UserWarning: You are merging on int and float columns where the float values are not equal to their int representation\n",
      "  UserWarning,\n"
     ]
    },
    {
     "name": "stdout",
     "output_type": "stream",
     "text": [
      "3700: ['expert']\n",
      "temporary/cover.jpg\n",
      "temporary/Expert.dat\n",
      "temporary/song.egg\n",
      "temporary/info.dat\n"
     ]
    },
    {
     "name": "stderr",
     "output_type": "stream",
     "text": [
      "/opt/anaconda3/envs/BSmapsynth-env/lib/python3.6/site-packages/librosa/core/audio.py:146: UserWarning: PySoundFile failed. Trying audioread instead.\n",
      "  warnings.warn('PySoundFile failed. Trying audioread instead.')\n",
      "/opt/anaconda3/envs/BSmapsynth-env/lib/python3.6/site-packages/pandas/core/reshape/merge.py:1089: UserWarning: You are merging on int and float columns where the float values are not equal to their int representation\n",
      "  UserWarning,\n"
     ]
    },
    {
     "name": "stdout",
     "output_type": "stream",
     "text": [
      "36d5: ['expert']\n",
      "temporary/cover.jpg\n",
      "temporary/Expert.dat\n",
      "temporary/song.egg\n",
      "temporary/info.dat\n"
     ]
    },
    {
     "name": "stderr",
     "output_type": "stream",
     "text": [
      "/opt/anaconda3/envs/BSmapsynth-env/lib/python3.6/site-packages/librosa/core/audio.py:146: UserWarning: PySoundFile failed. Trying audioread instead.\n",
      "  warnings.warn('PySoundFile failed. Trying audioread instead.')\n",
      "/opt/anaconda3/envs/BSmapsynth-env/lib/python3.6/site-packages/pandas/core/reshape/merge.py:1089: UserWarning: You are merging on int and float columns where the float values are not equal to their int representation\n",
      "  UserWarning,\n"
     ]
    },
    {
     "name": "stdout",
     "output_type": "stream",
     "text": [
      "36c2: ['hard', 'expert']\n",
      "temporary/cover.jpg\n",
      "temporary/Expert.dat\n",
      "temporary/Hard.dat\n",
      "temporary/itunes_luvu.egg\n",
      "temporary/info.dat\n"
     ]
    },
    {
     "name": "stderr",
     "output_type": "stream",
     "text": [
      "/opt/anaconda3/envs/BSmapsynth-env/lib/python3.6/site-packages/librosa/core/audio.py:146: UserWarning: PySoundFile failed. Trying audioread instead.\n",
      "  warnings.warn('PySoundFile failed. Trying audioread instead.')\n",
      "/opt/anaconda3/envs/BSmapsynth-env/lib/python3.6/site-packages/pandas/core/reshape/merge.py:1089: UserWarning: You are merging on int and float columns where the float values are not equal to their int representation\n",
      "  UserWarning,\n"
     ]
    },
    {
     "name": "stdout",
     "output_type": "stream",
     "text": [
      "36bf: ['hard', 'expertPlus']\n",
      "temporary/cover.png\n",
      "temporary/ExpertPlus.dat\n",
      "temporary/Hard.dat\n",
      "temporary/song.egg\n",
      "temporary/info.dat\n"
     ]
    },
    {
     "name": "stderr",
     "output_type": "stream",
     "text": [
      "/opt/anaconda3/envs/BSmapsynth-env/lib/python3.6/site-packages/librosa/core/audio.py:146: UserWarning: PySoundFile failed. Trying audioread instead.\n",
      "  warnings.warn('PySoundFile failed. Trying audioread instead.')\n",
      "/opt/anaconda3/envs/BSmapsynth-env/lib/python3.6/site-packages/pandas/core/reshape/merge.py:1089: UserWarning: You are merging on int and float columns where the float values are not equal to their int representation\n",
      "  UserWarning,\n"
     ]
    },
    {
     "name": "stdout",
     "output_type": "stream",
     "text": [
      "3694: ['expert', 'expertPlus']\n",
      "temporary/Centipede.png\n",
      "temporary/ExpertPlus.dat\n",
      "temporary/Expert.dat\n",
      "temporary/Centipede.egg\n",
      "temporary/info.dat\n"
     ]
    },
    {
     "name": "stderr",
     "output_type": "stream",
     "text": [
      "/opt/anaconda3/envs/BSmapsynth-env/lib/python3.6/site-packages/librosa/core/audio.py:146: UserWarning: PySoundFile failed. Trying audioread instead.\n",
      "  warnings.warn('PySoundFile failed. Trying audioread instead.')\n",
      "/opt/anaconda3/envs/BSmapsynth-env/lib/python3.6/site-packages/pandas/core/reshape/merge.py:1089: UserWarning: You are merging on int and float columns where the float values are not equal to their int representation\n",
      "  UserWarning,\n"
     ]
    },
    {
     "name": "stdout",
     "output_type": "stream",
     "text": [
      "368c: ['easy', 'normal', 'hard', 'expert']\n",
      "temporary/cover.jpg\n",
      "temporary/Expert.dat\n",
      "temporary/Easy.dat\n",
      "temporary/Normal.dat\n",
      "temporary/Hard.dat\n",
      "temporary/haraiya.egg\n",
      "temporary/info.dat\n"
     ]
    },
    {
     "name": "stderr",
     "output_type": "stream",
     "text": [
      "/opt/anaconda3/envs/BSmapsynth-env/lib/python3.6/site-packages/librosa/core/audio.py:146: UserWarning: PySoundFile failed. Trying audioread instead.\n",
      "  warnings.warn('PySoundFile failed. Trying audioread instead.')\n",
      "/opt/anaconda3/envs/BSmapsynth-env/lib/python3.6/site-packages/pandas/core/reshape/merge.py:1089: UserWarning: You are merging on int and float columns where the float values are not equal to their int representation\n",
      "  UserWarning,\n"
     ]
    },
    {
     "name": "stdout",
     "output_type": "stream",
     "text": [
      "3519: ['normal', 'expert']\n",
      "temporary/cover.jpg\n",
      "temporary/Expert.dat\n",
      "temporary/Normal.dat\n",
      "temporary/song.egg\n",
      "temporary/info.dat\n"
     ]
    },
    {
     "name": "stderr",
     "output_type": "stream",
     "text": [
      "/opt/anaconda3/envs/BSmapsynth-env/lib/python3.6/site-packages/librosa/core/audio.py:146: UserWarning: PySoundFile failed. Trying audioread instead.\n",
      "  warnings.warn('PySoundFile failed. Trying audioread instead.')\n",
      "/opt/anaconda3/envs/BSmapsynth-env/lib/python3.6/site-packages/pandas/core/reshape/merge.py:1089: UserWarning: You are merging on int and float columns where the float values are not equal to their int representation\n",
      "  UserWarning,\n"
     ]
    },
    {
     "name": "stdout",
     "output_type": "stream",
     "text": [
      "33dc: ['easy', 'normal', 'hard', 'expert']\n",
      "temporary/cover.jpg\n",
      "temporary/Expert.dat\n",
      "temporary/Hard.dat\n",
      "temporary/Normal.dat\n",
      "temporary/Easy.dat\n",
      "temporary/song.egg\n",
      "temporary/info.dat\n"
     ]
    },
    {
     "name": "stderr",
     "output_type": "stream",
     "text": [
      "/opt/anaconda3/envs/BSmapsynth-env/lib/python3.6/site-packages/librosa/core/audio.py:146: UserWarning: PySoundFile failed. Trying audioread instead.\n",
      "  warnings.warn('PySoundFile failed. Trying audioread instead.')\n",
      "/opt/anaconda3/envs/BSmapsynth-env/lib/python3.6/site-packages/pandas/core/reshape/merge.py:1089: UserWarning: You are merging on int and float columns where the float values are not equal to their int representation\n",
      "  UserWarning,\n"
     ]
    },
    {
     "name": "stdout",
     "output_type": "stream",
     "text": [
      "33a9: ['expert']\n",
      "temporary/cover.jpg\n",
      "temporary/Expert.dat\n",
      "temporary/song.egg\n",
      "temporary/info.dat\n"
     ]
    },
    {
     "name": "stderr",
     "output_type": "stream",
     "text": [
      "/opt/anaconda3/envs/BSmapsynth-env/lib/python3.6/site-packages/librosa/core/audio.py:146: UserWarning: PySoundFile failed. Trying audioread instead.\n",
      "  warnings.warn('PySoundFile failed. Trying audioread instead.')\n",
      "/opt/anaconda3/envs/BSmapsynth-env/lib/python3.6/site-packages/pandas/core/reshape/merge.py:1089: UserWarning: You are merging on int and float columns where the float values are not equal to their int representation\n",
      "  UserWarning,\n"
     ]
    },
    {
     "name": "stdout",
     "output_type": "stream",
     "text": [
      "3342: ['easy', 'normal', 'hard', 'expert', 'expertPlus']\n",
      "temporary/cover.jpg\n",
      "temporary/ExpertPlus.dat\n",
      "temporary/Expert.dat\n",
      "temporary/Hard.dat\n",
      "temporary/Normal.dat\n",
      "temporary/Easy.dat\n",
      "temporary/song.egg\n",
      "temporary/info.dat\n"
     ]
    },
    {
     "name": "stderr",
     "output_type": "stream",
     "text": [
      "/opt/anaconda3/envs/BSmapsynth-env/lib/python3.6/site-packages/librosa/core/audio.py:146: UserWarning: PySoundFile failed. Trying audioread instead.\n",
      "  warnings.warn('PySoundFile failed. Trying audioread instead.')\n",
      "/opt/anaconda3/envs/BSmapsynth-env/lib/python3.6/site-packages/pandas/core/reshape/merge.py:1089: UserWarning: You are merging on int and float columns where the float values are not equal to their int representation\n",
      "  UserWarning,\n"
     ]
    },
    {
     "name": "stdout",
     "output_type": "stream",
     "text": [
      "32d4: ['easy', 'normal', 'hard', 'expert', 'expertPlus']\n",
      "temporary/cover.jpg\n",
      "temporary/ExpertPlus.dat\n",
      "temporary/Expert.dat\n",
      "temporary/Hard.dat\n",
      "temporary/Normal.dat\n",
      "temporary/Easy.dat\n",
      "temporary/MariannE.egg\n",
      "temporary/info.dat\n"
     ]
    },
    {
     "name": "stderr",
     "output_type": "stream",
     "text": [
      "/opt/anaconda3/envs/BSmapsynth-env/lib/python3.6/site-packages/librosa/core/audio.py:146: UserWarning: PySoundFile failed. Trying audioread instead.\n",
      "  warnings.warn('PySoundFile failed. Trying audioread instead.')\n",
      "/opt/anaconda3/envs/BSmapsynth-env/lib/python3.6/site-packages/pandas/core/reshape/merge.py:1089: UserWarning: You are merging on int and float columns where the float values are not equal to their int representation\n",
      "  UserWarning,\n"
     ]
    },
    {
     "name": "stdout",
     "output_type": "stream",
     "text": [
      "321d: ['expert']\n",
      "temporary/cover.jpg\n",
      "temporary/Expert.dat\n",
      "temporary/song.egg\n",
      "temporary/info.dat\n"
     ]
    },
    {
     "name": "stderr",
     "output_type": "stream",
     "text": [
      "/opt/anaconda3/envs/BSmapsynth-env/lib/python3.6/site-packages/librosa/core/audio.py:146: UserWarning: PySoundFile failed. Trying audioread instead.\n",
      "  warnings.warn('PySoundFile failed. Trying audioread instead.')\n",
      "/opt/anaconda3/envs/BSmapsynth-env/lib/python3.6/site-packages/pandas/core/reshape/merge.py:1089: UserWarning: You are merging on int and float columns where the float values are not equal to their int representation\n",
      "  UserWarning,\n"
     ]
    },
    {
     "name": "stdout",
     "output_type": "stream",
     "text": [
      "31fa: ['easy', 'normal', 'hard', 'expert']\n",
      "temporary/_ExpertPlus.json\n",
      "temporary/cover.jpg\n",
      "temporary/Expert.dat\n",
      "temporary/Hard.dat\n",
      "temporary/Normal.dat\n",
      "temporary/Easy.dat\n",
      "temporary/song.egg\n",
      "temporary/info.dat\n"
     ]
    },
    {
     "name": "stderr",
     "output_type": "stream",
     "text": [
      "/opt/anaconda3/envs/BSmapsynth-env/lib/python3.6/site-packages/librosa/core/audio.py:146: UserWarning: PySoundFile failed. Trying audioread instead.\n",
      "  warnings.warn('PySoundFile failed. Trying audioread instead.')\n",
      "/opt/anaconda3/envs/BSmapsynth-env/lib/python3.6/site-packages/pandas/core/reshape/merge.py:1089: UserWarning: You are merging on int and float columns where the float values are not equal to their int representation\n",
      "  UserWarning,\n"
     ]
    },
    {
     "name": "stdout",
     "output_type": "stream",
     "text": [
      "31ad: ['easy', 'normal', 'hard', 'expert', 'expertPlus']\n",
      "temporary/MTC.jpg\n",
      "temporary/Easy.dat\n",
      "temporary/Normal.dat\n",
      "temporary/Hard.dat\n",
      "temporary/Expert.dat\n",
      "temporary/ExpertPlus.dat\n",
      "temporary/The City.egg\n",
      "temporary/info.dat\n"
     ]
    },
    {
     "name": "stderr",
     "output_type": "stream",
     "text": [
      "/opt/anaconda3/envs/BSmapsynth-env/lib/python3.6/site-packages/librosa/core/audio.py:146: UserWarning: PySoundFile failed. Trying audioread instead.\n",
      "  warnings.warn('PySoundFile failed. Trying audioread instead.')\n",
      "/opt/anaconda3/envs/BSmapsynth-env/lib/python3.6/site-packages/pandas/core/reshape/merge.py:1089: UserWarning: You are merging on int and float columns where the float values are not equal to their int representation\n",
      "  UserWarning,\n"
     ]
    },
    {
     "name": "stdout",
     "output_type": "stream",
     "text": [
      "319f: ['easy', 'normal', 'hard', 'expert']\n",
      "temporary/cover.jpg\n",
      "temporary/Expert.dat\n",
      "temporary/Hard.dat\n",
      "temporary/Normal.dat\n",
      "temporary/Easy.dat\n",
      "temporary/song.egg\n",
      "temporary/info.dat\n"
     ]
    },
    {
     "name": "stderr",
     "output_type": "stream",
     "text": [
      "/opt/anaconda3/envs/BSmapsynth-env/lib/python3.6/site-packages/librosa/core/audio.py:146: UserWarning: PySoundFile failed. Trying audioread instead.\n",
      "  warnings.warn('PySoundFile failed. Trying audioread instead.')\n",
      "/opt/anaconda3/envs/BSmapsynth-env/lib/python3.6/site-packages/pandas/core/reshape/merge.py:1089: UserWarning: You are merging on int and float columns where the float values are not equal to their int representation\n",
      "  UserWarning,\n"
     ]
    },
    {
     "name": "stdout",
     "output_type": "stream",
     "text": [
      "318f: ['expert']\n",
      "temporary/cover.jpg\n",
      "temporary/Expert.dat\n",
      "temporary/song.egg\n",
      "temporary/info.dat\n"
     ]
    },
    {
     "name": "stderr",
     "output_type": "stream",
     "text": [
      "/opt/anaconda3/envs/BSmapsynth-env/lib/python3.6/site-packages/librosa/core/audio.py:146: UserWarning: PySoundFile failed. Trying audioread instead.\n",
      "  warnings.warn('PySoundFile failed. Trying audioread instead.')\n",
      "/opt/anaconda3/envs/BSmapsynth-env/lib/python3.6/site-packages/pandas/core/reshape/merge.py:1089: UserWarning: You are merging on int and float columns where the float values are not equal to their int representation\n",
      "  UserWarning,\n"
     ]
    },
    {
     "name": "stdout",
     "output_type": "stream",
     "text": [
      "30fd: ['easy', 'normal', 'hard', 'expert', 'expertPlus']\n",
      "temporary/Love The Way You Lie.jpg\n",
      "temporary/ExpertPlus.dat\n",
      "temporary/Expert.dat\n",
      "temporary/Hard.dat\n",
      "temporary/Normal.dat\n",
      "temporary/Easy.dat\n",
      "temporary/Love The Way You Lie.egg\n",
      "temporary/info.dat\n"
     ]
    },
    {
     "name": "stderr",
     "output_type": "stream",
     "text": [
      "/opt/anaconda3/envs/BSmapsynth-env/lib/python3.6/site-packages/librosa/core/audio.py:146: UserWarning: PySoundFile failed. Trying audioread instead.\n",
      "  warnings.warn('PySoundFile failed. Trying audioread instead.')\n",
      "/opt/anaconda3/envs/BSmapsynth-env/lib/python3.6/site-packages/pandas/core/reshape/merge.py:1089: UserWarning: You are merging on int and float columns where the float values are not equal to their int representation\n",
      "  UserWarning,\n"
     ]
    },
    {
     "name": "stdout",
     "output_type": "stream",
     "text": [
      "3038: ['easy', 'normal', 'hard', 'expert']\n",
      "temporary/cover.jpg\n",
      "temporary/Expert.dat\n",
      "temporary/Hard.dat\n",
      "temporary/Normal.dat\n",
      "temporary/Easy.dat\n",
      "temporary/jagger.egg\n",
      "temporary/info.dat\n"
     ]
    },
    {
     "name": "stderr",
     "output_type": "stream",
     "text": [
      "/opt/anaconda3/envs/BSmapsynth-env/lib/python3.6/site-packages/librosa/core/audio.py:146: UserWarning: PySoundFile failed. Trying audioread instead.\n",
      "  warnings.warn('PySoundFile failed. Trying audioread instead.')\n",
      "/opt/anaconda3/envs/BSmapsynth-env/lib/python3.6/site-packages/pandas/core/reshape/merge.py:1089: UserWarning: You are merging on int and float columns where the float values are not equal to their int representation\n",
      "  UserWarning,\n"
     ]
    },
    {
     "name": "stdout",
     "output_type": "stream",
     "text": [
      "3023: ['normal', 'hard', 'expert']\n",
      "temporary/cover.jpg\n",
      "temporary/Expert.dat\n",
      "temporary/Hard.dat\n",
      "temporary/Normal.dat\n",
      "temporary/itunes_houdini.egg\n",
      "temporary/info.dat\n"
     ]
    },
    {
     "name": "stderr",
     "output_type": "stream",
     "text": [
      "/opt/anaconda3/envs/BSmapsynth-env/lib/python3.6/site-packages/librosa/core/audio.py:146: UserWarning: PySoundFile failed. Trying audioread instead.\n",
      "  warnings.warn('PySoundFile failed. Trying audioread instead.')\n",
      "/opt/anaconda3/envs/BSmapsynth-env/lib/python3.6/site-packages/pandas/core/reshape/merge.py:1089: UserWarning: You are merging on int and float columns where the float values are not equal to their int representation\n",
      "  UserWarning,\n"
     ]
    },
    {
     "name": "stdout",
     "output_type": "stream",
     "text": [
      "3019: ['normal', 'hard', 'expert', 'expertPlus']\n",
      "API call failed at 3019 with error code 404\n",
      "2ece: ['expert']\n",
      "temporary/cookie.jpg\n",
      "temporary/Expert.dat\n",
      "temporary/Red Velvet Cookie Jar MV.egg\n",
      "temporary/info.dat\n"
     ]
    },
    {
     "name": "stderr",
     "output_type": "stream",
     "text": [
      "/opt/anaconda3/envs/BSmapsynth-env/lib/python3.6/site-packages/librosa/core/audio.py:146: UserWarning: PySoundFile failed. Trying audioread instead.\n",
      "  warnings.warn('PySoundFile failed. Trying audioread instead.')\n",
      "/opt/anaconda3/envs/BSmapsynth-env/lib/python3.6/site-packages/pandas/core/reshape/merge.py:1089: UserWarning: You are merging on int and float columns where the float values are not equal to their int representation\n",
      "  UserWarning,\n"
     ]
    },
    {
     "name": "stdout",
     "output_type": "stream",
     "text": [
      "2e9e: ['easy', 'normal', 'hard', 'expert', 'expertPlus']\n",
      "temporary/cover.jpg\n",
      "temporary/ExpertPlus.dat\n",
      "temporary/Expert.dat\n",
      "temporary/Hard.dat\n",
      "temporary/Normal.dat\n",
      "temporary/Easy.dat\n",
      "temporary/REOL_yoiyoi_kokon.egg\n",
      "temporary/info.dat\n"
     ]
    },
    {
     "name": "stderr",
     "output_type": "stream",
     "text": [
      "/opt/anaconda3/envs/BSmapsynth-env/lib/python3.6/site-packages/librosa/core/audio.py:146: UserWarning: PySoundFile failed. Trying audioread instead.\n",
      "  warnings.warn('PySoundFile failed. Trying audioread instead.')\n",
      "/opt/anaconda3/envs/BSmapsynth-env/lib/python3.6/site-packages/pandas/core/reshape/merge.py:1089: UserWarning: You are merging on int and float columns where the float values are not equal to their int representation\n",
      "  UserWarning,\n"
     ]
    },
    {
     "name": "stdout",
     "output_type": "stream",
     "text": [
      "2dd6: ['normal', 'hard', 'expert', 'expertPlus']\n",
      "temporary/cover.jpg\n",
      "temporary/ExpertPlus.dat\n",
      "temporary/Expert.dat\n",
      "temporary/Hard.dat\n",
      "temporary/Normal.dat\n",
      "temporary/Berry Go!!.egg\n",
      "temporary/info.dat\n"
     ]
    },
    {
     "name": "stderr",
     "output_type": "stream",
     "text": [
      "/opt/anaconda3/envs/BSmapsynth-env/lib/python3.6/site-packages/librosa/core/audio.py:146: UserWarning: PySoundFile failed. Trying audioread instead.\n",
      "  warnings.warn('PySoundFile failed. Trying audioread instead.')\n",
      "/opt/anaconda3/envs/BSmapsynth-env/lib/python3.6/site-packages/pandas/core/reshape/merge.py:1089: UserWarning: You are merging on int and float columns where the float values are not equal to their int representation\n",
      "  UserWarning,\n"
     ]
    },
    {
     "name": "stdout",
     "output_type": "stream",
     "text": [
      "2db1: ['easy', 'normal', 'hard', 'expert']\n",
      "temporary/cover.jpg\n",
      "temporary/Expert.dat\n",
      "temporary/Hard.dat\n",
      "temporary/Normal.dat\n",
      "temporary/Easy.dat\n",
      "temporary/song.egg\n",
      "temporary/info.dat\n"
     ]
    },
    {
     "name": "stderr",
     "output_type": "stream",
     "text": [
      "/opt/anaconda3/envs/BSmapsynth-env/lib/python3.6/site-packages/librosa/core/audio.py:146: UserWarning: PySoundFile failed. Trying audioread instead.\n",
      "  warnings.warn('PySoundFile failed. Trying audioread instead.')\n",
      "/opt/anaconda3/envs/BSmapsynth-env/lib/python3.6/site-packages/pandas/core/reshape/merge.py:1089: UserWarning: You are merging on int and float columns where the float values are not equal to their int representation\n",
      "  UserWarning,\n"
     ]
    },
    {
     "name": "stdout",
     "output_type": "stream",
     "text": [
      "2db0: ['hard', 'expert', 'expertPlus']\n",
      "temporary/cover.jpg\n",
      "temporary/ExpertPlus.dat\n",
      "temporary/Expert.dat\n",
      "temporary/Hard.dat\n",
      "temporary/song.egg\n",
      "temporary/info.dat\n"
     ]
    },
    {
     "name": "stderr",
     "output_type": "stream",
     "text": [
      "/opt/anaconda3/envs/BSmapsynth-env/lib/python3.6/site-packages/librosa/core/audio.py:146: UserWarning: PySoundFile failed. Trying audioread instead.\n",
      "  warnings.warn('PySoundFile failed. Trying audioread instead.')\n",
      "/opt/anaconda3/envs/BSmapsynth-env/lib/python3.6/site-packages/pandas/core/reshape/merge.py:1089: UserWarning: You are merging on int and float columns where the float values are not equal to their int representation\n",
      "  UserWarning,\n"
     ]
    },
    {
     "name": "stdout",
     "output_type": "stream",
     "text": [
      "2da4: ['easy', 'normal', 'hard', 'expert']\n",
      "temporary/cover.jpg\n",
      "temporary/Expert.dat\n",
      "temporary/Hard.dat\n",
      "temporary/Normal.dat\n",
      "temporary/Easy.dat\n",
      "temporary/song.egg\n",
      "temporary/info.dat\n"
     ]
    },
    {
     "name": "stderr",
     "output_type": "stream",
     "text": [
      "/opt/anaconda3/envs/BSmapsynth-env/lib/python3.6/site-packages/librosa/core/audio.py:146: UserWarning: PySoundFile failed. Trying audioread instead.\n",
      "  warnings.warn('PySoundFile failed. Trying audioread instead.')\n",
      "/opt/anaconda3/envs/BSmapsynth-env/lib/python3.6/site-packages/pandas/core/reshape/merge.py:1089: UserWarning: You are merging on int and float columns where the float values are not equal to their int representation\n",
      "  UserWarning,\n"
     ]
    },
    {
     "name": "stdout",
     "output_type": "stream",
     "text": [
      "2d45: ['normal', 'hard', 'expert']\n",
      "temporary/cover.jpg\n",
      "temporary/Expert.dat\n",
      "temporary/Hard.dat\n",
      "temporary/Normal.dat\n",
      "temporary/song.egg\n",
      "temporary/info.dat\n"
     ]
    },
    {
     "name": "stderr",
     "output_type": "stream",
     "text": [
      "/opt/anaconda3/envs/BSmapsynth-env/lib/python3.6/site-packages/librosa/core/audio.py:146: UserWarning: PySoundFile failed. Trying audioread instead.\n",
      "  warnings.warn('PySoundFile failed. Trying audioread instead.')\n",
      "/opt/anaconda3/envs/BSmapsynth-env/lib/python3.6/site-packages/pandas/core/reshape/merge.py:1089: UserWarning: You are merging on int and float columns where the float values are not equal to their int representation\n",
      "  UserWarning,\n"
     ]
    },
    {
     "name": "stdout",
     "output_type": "stream",
     "text": [
      "2c5d: ['normal', 'hard', 'expert']\n",
      "temporary/cover.jpg\n",
      "temporary/Expert.dat\n",
      "temporary/Hard.dat\n",
      "temporary/Normal.dat\n",
      "temporary/itunes_frosty.egg\n",
      "temporary/info.dat\n"
     ]
    },
    {
     "name": "stderr",
     "output_type": "stream",
     "text": [
      "/opt/anaconda3/envs/BSmapsynth-env/lib/python3.6/site-packages/librosa/core/audio.py:146: UserWarning: PySoundFile failed. Trying audioread instead.\n",
      "  warnings.warn('PySoundFile failed. Trying audioread instead.')\n",
      "/opt/anaconda3/envs/BSmapsynth-env/lib/python3.6/site-packages/pandas/core/reshape/merge.py:1089: UserWarning: You are merging on int and float columns where the float values are not equal to their int representation\n",
      "  UserWarning,\n"
     ]
    },
    {
     "name": "stdout",
     "output_type": "stream",
     "text": [
      "2c4f: ['expertPlus']\n",
      "temporary/cover.jpg\n",
      "temporary/ExpertPlus.dat\n",
      "temporary/song.egg\n",
      "temporary/info.dat\n"
     ]
    },
    {
     "name": "stderr",
     "output_type": "stream",
     "text": [
      "/opt/anaconda3/envs/BSmapsynth-env/lib/python3.6/site-packages/librosa/core/audio.py:146: UserWarning: PySoundFile failed. Trying audioread instead.\n",
      "  warnings.warn('PySoundFile failed. Trying audioread instead.')\n",
      "/opt/anaconda3/envs/BSmapsynth-env/lib/python3.6/site-packages/pandas/core/reshape/merge.py:1089: UserWarning: You are merging on int and float columns where the float values are not equal to their int representation\n",
      "  UserWarning,\n"
     ]
    },
    {
     "name": "stdout",
     "output_type": "stream",
     "text": [
      "2c3e: ['easy', 'normal', 'hard', 'expert', 'expertPlus']\n",
      "temporary/cover.png\n",
      "temporary/Expert.dat\n",
      "temporary/ExpertPlus.dat\n",
      "temporary/Easy.dat\n",
      "temporary/Hard.dat\n",
      "temporary/Normal.dat\n",
      "temporary/song.egg\n",
      "temporary/info.dat\n"
     ]
    },
    {
     "name": "stderr",
     "output_type": "stream",
     "text": [
      "/opt/anaconda3/envs/BSmapsynth-env/lib/python3.6/site-packages/librosa/core/audio.py:146: UserWarning: PySoundFile failed. Trying audioread instead.\n",
      "  warnings.warn('PySoundFile failed. Trying audioread instead.')\n",
      "/opt/anaconda3/envs/BSmapsynth-env/lib/python3.6/site-packages/pandas/core/reshape/merge.py:1089: UserWarning: You are merging on int and float columns where the float values are not equal to their int representation\n",
      "  UserWarning,\n"
     ]
    },
    {
     "name": "stdout",
     "output_type": "stream",
     "text": [
      "2c14: ['normal', 'hard', 'expert']\n",
      "temporary/cover.png\n",
      "temporary/Expert.dat\n",
      "temporary/Hard.dat\n",
      "temporary/Normal.dat\n",
      "temporary/song.egg\n",
      "temporary/info.dat\n"
     ]
    },
    {
     "name": "stderr",
     "output_type": "stream",
     "text": [
      "/opt/anaconda3/envs/BSmapsynth-env/lib/python3.6/site-packages/librosa/core/audio.py:146: UserWarning: PySoundFile failed. Trying audioread instead.\n",
      "  warnings.warn('PySoundFile failed. Trying audioread instead.')\n",
      "/opt/anaconda3/envs/BSmapsynth-env/lib/python3.6/site-packages/pandas/core/reshape/merge.py:1089: UserWarning: You are merging on int and float columns where the float values are not equal to their int representation\n",
      "  UserWarning,\n"
     ]
    },
    {
     "name": "stdout",
     "output_type": "stream",
     "text": [
      "2b56: ['hard', 'expert']\n",
      "temporary/cover.jpg\n",
      "temporary/Expert.dat\n",
      "temporary/Hard.dat\n",
      "temporary/timber.egg\n",
      "temporary/info.dat\n"
     ]
    },
    {
     "name": "stderr",
     "output_type": "stream",
     "text": [
      "/opt/anaconda3/envs/BSmapsynth-env/lib/python3.6/site-packages/librosa/core/audio.py:146: UserWarning: PySoundFile failed. Trying audioread instead.\n",
      "  warnings.warn('PySoundFile failed. Trying audioread instead.')\n",
      "/opt/anaconda3/envs/BSmapsynth-env/lib/python3.6/site-packages/pandas/core/reshape/merge.py:1089: UserWarning: You are merging on int and float columns where the float values are not equal to their int representation\n",
      "  UserWarning,\n"
     ]
    },
    {
     "name": "stdout",
     "output_type": "stream",
     "text": [
      "2b1a: ['hard']\n",
      "temporary/cover.jpg\n",
      "temporary/Hard.dat\n",
      "temporary/song.egg\n",
      "temporary/info.dat\n"
     ]
    },
    {
     "name": "stderr",
     "output_type": "stream",
     "text": [
      "/opt/anaconda3/envs/BSmapsynth-env/lib/python3.6/site-packages/librosa/core/audio.py:146: UserWarning: PySoundFile failed. Trying audioread instead.\n",
      "  warnings.warn('PySoundFile failed. Trying audioread instead.')\n",
      "/opt/anaconda3/envs/BSmapsynth-env/lib/python3.6/site-packages/pandas/core/reshape/merge.py:1089: UserWarning: You are merging on int and float columns where the float values are not equal to their int representation\n",
      "  UserWarning,\n"
     ]
    },
    {
     "name": "stdout",
     "output_type": "stream",
     "text": [
      "276a: ['easy', 'normal', 'hard', 'expert']\n",
      "temporary/cover.jpg\n",
      "temporary/Expert.dat\n",
      "temporary/Hard.dat\n",
      "temporary/Normal.dat\n",
      "temporary/Easy.dat\n",
      "temporary/song.egg\n",
      "temporary/info.dat\n"
     ]
    },
    {
     "name": "stderr",
     "output_type": "stream",
     "text": [
      "/opt/anaconda3/envs/BSmapsynth-env/lib/python3.6/site-packages/librosa/core/audio.py:146: UserWarning: PySoundFile failed. Trying audioread instead.\n",
      "  warnings.warn('PySoundFile failed. Trying audioread instead.')\n",
      "/opt/anaconda3/envs/BSmapsynth-env/lib/python3.6/site-packages/pandas/core/reshape/merge.py:1089: UserWarning: You are merging on int and float columns where the float values are not equal to their int representation\n",
      "  UserWarning,\n"
     ]
    },
    {
     "name": "stdout",
     "output_type": "stream",
     "text": [
      "2712: ['expertPlus']\n",
      "temporary/cover.jpg\n",
      "temporary/ExpertPlus.dat\n",
      "temporary/song.egg\n",
      "temporary/info.dat\n"
     ]
    },
    {
     "name": "stderr",
     "output_type": "stream",
     "text": [
      "/opt/anaconda3/envs/BSmapsynth-env/lib/python3.6/site-packages/librosa/core/audio.py:146: UserWarning: PySoundFile failed. Trying audioread instead.\n",
      "  warnings.warn('PySoundFile failed. Trying audioread instead.')\n",
      "/opt/anaconda3/envs/BSmapsynth-env/lib/python3.6/site-packages/pandas/core/reshape/merge.py:1089: UserWarning: You are merging on int and float columns where the float values are not equal to their int representation\n",
      "  UserWarning,\n"
     ]
    },
    {
     "name": "stdout",
     "output_type": "stream",
     "text": [
      "2711: ['expert']\n",
      "temporary/cover.jpg\n",
      "temporary/Expert.dat\n",
      "temporary/info.dat\n",
      "temporary/song.egg\n"
     ]
    },
    {
     "name": "stderr",
     "output_type": "stream",
     "text": [
      "/opt/anaconda3/envs/BSmapsynth-env/lib/python3.6/site-packages/librosa/core/audio.py:146: UserWarning: PySoundFile failed. Trying audioread instead.\n",
      "  warnings.warn('PySoundFile failed. Trying audioread instead.')\n",
      "/opt/anaconda3/envs/BSmapsynth-env/lib/python3.6/site-packages/pandas/core/reshape/merge.py:1089: UserWarning: You are merging on int and float columns where the float values are not equal to their int representation\n",
      "  UserWarning,\n"
     ]
    },
    {
     "name": "stdout",
     "output_type": "stream",
     "text": [
      "26fd: ['expertPlus']\n",
      "temporary/cover.jpg\n",
      "temporary/ExpertPlus.dat\n",
      "temporary/song.egg\n",
      "temporary/info.dat\n"
     ]
    },
    {
     "name": "stderr",
     "output_type": "stream",
     "text": [
      "/opt/anaconda3/envs/BSmapsynth-env/lib/python3.6/site-packages/librosa/core/audio.py:146: UserWarning: PySoundFile failed. Trying audioread instead.\n",
      "  warnings.warn('PySoundFile failed. Trying audioread instead.')\n",
      "/opt/anaconda3/envs/BSmapsynth-env/lib/python3.6/site-packages/pandas/core/reshape/merge.py:1089: UserWarning: You are merging on int and float columns where the float values are not equal to their int representation\n",
      "  UserWarning,\n"
     ]
    },
    {
     "name": "stdout",
     "output_type": "stream",
     "text": [
      "26f6: ['expert']\n",
      "temporary/cover.jpg\n",
      "temporary/Expert.dat\n",
      "temporary/song.egg\n",
      "temporary/info.dat\n"
     ]
    },
    {
     "name": "stderr",
     "output_type": "stream",
     "text": [
      "/opt/anaconda3/envs/BSmapsynth-env/lib/python3.6/site-packages/librosa/core/audio.py:146: UserWarning: PySoundFile failed. Trying audioread instead.\n",
      "  warnings.warn('PySoundFile failed. Trying audioread instead.')\n",
      "/opt/anaconda3/envs/BSmapsynth-env/lib/python3.6/site-packages/pandas/core/reshape/merge.py:1089: UserWarning: You are merging on int and float columns where the float values are not equal to their int representation\n",
      "  UserWarning,\n"
     ]
    },
    {
     "name": "stdout",
     "output_type": "stream",
     "text": [
      "269f: ['normal', 'hard', 'expert', 'expertPlus']\n",
      "temporary/cover.jpg\n",
      "temporary/ExpertPlus.dat\n",
      "temporary/Expert.dat\n",
      "temporary/Hard.dat\n",
      "temporary/Normal.dat\n",
      "temporary/song.egg\n",
      "temporary/info.dat\n"
     ]
    },
    {
     "name": "stderr",
     "output_type": "stream",
     "text": [
      "/opt/anaconda3/envs/BSmapsynth-env/lib/python3.6/site-packages/librosa/core/audio.py:146: UserWarning: PySoundFile failed. Trying audioread instead.\n",
      "  warnings.warn('PySoundFile failed. Trying audioread instead.')\n",
      "/opt/anaconda3/envs/BSmapsynth-env/lib/python3.6/site-packages/pandas/core/reshape/merge.py:1089: UserWarning: You are merging on int and float columns where the float values are not equal to their int representation\n",
      "  UserWarning,\n"
     ]
    },
    {
     "name": "stdout",
     "output_type": "stream",
     "text": [
      "2693: ['easy', 'normal', 'hard', 'expert']\n",
      "temporary/cover.jpg\n",
      "temporary/Expert.dat\n",
      "temporary/Hard.dat\n",
      "temporary/Normal.dat\n",
      "temporary/Easy.dat\n",
      "temporary/song.egg\n",
      "temporary/info.dat\n"
     ]
    },
    {
     "name": "stderr",
     "output_type": "stream",
     "text": [
      "/opt/anaconda3/envs/BSmapsynth-env/lib/python3.6/site-packages/librosa/core/audio.py:146: UserWarning: PySoundFile failed. Trying audioread instead.\n",
      "  warnings.warn('PySoundFile failed. Trying audioread instead.')\n",
      "/opt/anaconda3/envs/BSmapsynth-env/lib/python3.6/site-packages/pandas/core/reshape/merge.py:1089: UserWarning: You are merging on int and float columns where the float values are not equal to their int representation\n",
      "  UserWarning,\n"
     ]
    },
    {
     "name": "stdout",
     "output_type": "stream",
     "text": [
      "2649: ['expert']\n",
      "temporary/Aurora.jpg\n",
      "temporary/Expert.dat\n",
      "temporary/Soar.egg\n",
      "temporary/info.dat\n"
     ]
    },
    {
     "name": "stderr",
     "output_type": "stream",
     "text": [
      "/opt/anaconda3/envs/BSmapsynth-env/lib/python3.6/site-packages/librosa/core/audio.py:146: UserWarning: PySoundFile failed. Trying audioread instead.\n",
      "  warnings.warn('PySoundFile failed. Trying audioread instead.')\n",
      "/opt/anaconda3/envs/BSmapsynth-env/lib/python3.6/site-packages/pandas/core/reshape/merge.py:1089: UserWarning: You are merging on int and float columns where the float values are not equal to their int representation\n",
      "  UserWarning,\n"
     ]
    },
    {
     "name": "stdout",
     "output_type": "stream",
     "text": [
      "25dc: ['easy', 'normal', 'hard', 'expert']\n",
      "temporary/cover.jpg\n",
      "temporary/Expert.dat\n",
      "temporary/Hard.dat\n",
      "temporary/Normal.dat\n",
      "temporary/Easy.dat\n",
      "temporary/info.dat\n",
      "temporary/kizuna_ai_hello_morning.egg\n",
      "temporary/kizuna_ai_hello_morning_no_intro.egg\n"
     ]
    },
    {
     "name": "stderr",
     "output_type": "stream",
     "text": [
      "/opt/anaconda3/envs/BSmapsynth-env/lib/python3.6/site-packages/librosa/core/audio.py:146: UserWarning: PySoundFile failed. Trying audioread instead.\n",
      "  warnings.warn('PySoundFile failed. Trying audioread instead.')\n",
      "/opt/anaconda3/envs/BSmapsynth-env/lib/python3.6/site-packages/pandas/core/reshape/merge.py:1089: UserWarning: You are merging on int and float columns where the float values are not equal to their int representation\n",
      "  UserWarning,\n"
     ]
    },
    {
     "name": "stdout",
     "output_type": "stream",
     "text": [
      "2569: ['hard', 'expert']\n",
      "temporary/cover.jpg\n",
      "temporary/Expert.dat\n",
      "temporary/Hard.dat\n",
      "temporary/CelticWoman-CarolOfTheBells.egg\n",
      "temporary/info.dat\n"
     ]
    },
    {
     "name": "stderr",
     "output_type": "stream",
     "text": [
      "/opt/anaconda3/envs/BSmapsynth-env/lib/python3.6/site-packages/librosa/core/audio.py:146: UserWarning: PySoundFile failed. Trying audioread instead.\n",
      "  warnings.warn('PySoundFile failed. Trying audioread instead.')\n",
      "/opt/anaconda3/envs/BSmapsynth-env/lib/python3.6/site-packages/pandas/core/reshape/merge.py:1089: UserWarning: You are merging on int and float columns where the float values are not equal to their int representation\n",
      "  UserWarning,\n"
     ]
    },
    {
     "name": "stdout",
     "output_type": "stream",
     "text": [
      "2530: ['hard', 'expert']\n",
      "temporary/cover.jpg\n",
      "temporary/Expert.dat\n",
      "temporary/Hard.dat\n",
      "temporary/song.egg\n",
      "temporary/info.dat\n"
     ]
    },
    {
     "name": "stderr",
     "output_type": "stream",
     "text": [
      "/opt/anaconda3/envs/BSmapsynth-env/lib/python3.6/site-packages/librosa/core/audio.py:146: UserWarning: PySoundFile failed. Trying audioread instead.\n",
      "  warnings.warn('PySoundFile failed. Trying audioread instead.')\n",
      "/opt/anaconda3/envs/BSmapsynth-env/lib/python3.6/site-packages/pandas/core/reshape/merge.py:1089: UserWarning: You are merging on int and float columns where the float values are not equal to their int representation\n",
      "  UserWarning,\n"
     ]
    },
    {
     "name": "stdout",
     "output_type": "stream",
     "text": [
      "248e: ['easy', 'normal', 'hard', 'expert']\n",
      "temporary/cover.jpg\n",
      "temporary/Expert.dat\n",
      "temporary/Hard.dat\n",
      "temporary/Normal.dat\n",
      "temporary/Easy.dat\n",
      "temporary/song.egg\n",
      "temporary/info.dat\n"
     ]
    },
    {
     "name": "stderr",
     "output_type": "stream",
     "text": [
      "/opt/anaconda3/envs/BSmapsynth-env/lib/python3.6/site-packages/librosa/core/audio.py:146: UserWarning: PySoundFile failed. Trying audioread instead.\n",
      "  warnings.warn('PySoundFile failed. Trying audioread instead.')\n",
      "/opt/anaconda3/envs/BSmapsynth-env/lib/python3.6/site-packages/pandas/core/reshape/merge.py:1089: UserWarning: You are merging on int and float columns where the float values are not equal to their int representation\n",
      "  UserWarning,\n"
     ]
    },
    {
     "name": "stdout",
     "output_type": "stream",
     "text": [
      "2475: ['easy', 'normal', 'hard', 'expert']\n",
      "temporary/Cover.jpg\n",
      "temporary/Expert.dat\n",
      "temporary/Hard.dat\n",
      "temporary/Normal.dat\n",
      "temporary/Easy.dat\n",
      "temporary/info.dat\n",
      "temporary/GigaP_Bring_It_On.egg\n",
      "temporary/GigaP_Bring_It_On_Instrumental.egg\n",
      "temporary/GigaP_Bring_It_On_Karaoke.egg\n"
     ]
    },
    {
     "name": "stderr",
     "output_type": "stream",
     "text": [
      "/opt/anaconda3/envs/BSmapsynth-env/lib/python3.6/site-packages/librosa/core/audio.py:146: UserWarning: PySoundFile failed. Trying audioread instead.\n",
      "  warnings.warn('PySoundFile failed. Trying audioread instead.')\n",
      "/opt/anaconda3/envs/BSmapsynth-env/lib/python3.6/site-packages/pandas/core/reshape/merge.py:1089: UserWarning: You are merging on int and float columns where the float values are not equal to their int representation\n",
      "  UserWarning,\n"
     ]
    },
    {
     "name": "stdout",
     "output_type": "stream",
     "text": [
      "243c: ['hard', 'expert']\n",
      "temporary/cover.jpg\n",
      "temporary/Hard.dat\n",
      "temporary/Expert.dat\n",
      "temporary/song.egg\n",
      "temporary/info.dat\n"
     ]
    },
    {
     "name": "stderr",
     "output_type": "stream",
     "text": [
      "/opt/anaconda3/envs/BSmapsynth-env/lib/python3.6/site-packages/librosa/core/audio.py:146: UserWarning: PySoundFile failed. Trying audioread instead.\n",
      "  warnings.warn('PySoundFile failed. Trying audioread instead.')\n",
      "/opt/anaconda3/envs/BSmapsynth-env/lib/python3.6/site-packages/pandas/core/reshape/merge.py:1089: UserWarning: You are merging on int and float columns where the float values are not equal to their int representation\n",
      "  UserWarning,\n"
     ]
    },
    {
     "name": "stdout",
     "output_type": "stream",
     "text": [
      "23c3: ['easy', 'normal', 'hard', 'expert', 'expertPlus']\n",
      "temporary/Without Me ILLENIUM Remix.jpg\n",
      "temporary/ExpertPlus.dat\n",
      "temporary/Expert.dat\n",
      "temporary/Hard.dat\n",
      "temporary/Normal.dat\n",
      "temporary/Easy.dat\n",
      "temporary/Without Me ILLENIUM.egg\n",
      "temporary/info.dat\n"
     ]
    },
    {
     "name": "stderr",
     "output_type": "stream",
     "text": [
      "/opt/anaconda3/envs/BSmapsynth-env/lib/python3.6/site-packages/librosa/core/audio.py:146: UserWarning: PySoundFile failed. Trying audioread instead.\n",
      "  warnings.warn('PySoundFile failed. Trying audioread instead.')\n",
      "/opt/anaconda3/envs/BSmapsynth-env/lib/python3.6/site-packages/pandas/core/reshape/merge.py:1089: UserWarning: You are merging on int and float columns where the float values are not equal to their int representation\n",
      "  UserWarning,\n"
     ]
    },
    {
     "name": "stdout",
     "output_type": "stream",
     "text": [
      "2394: ['easy', 'normal', 'hard', 'expert', 'expertPlus']\n",
      "temporary/are you gonna be my girl.egg\n",
      "temporary/cover.jpg\n",
      "temporary/ExpertPlus.dat\n",
      "temporary/Expert.dat\n",
      "temporary/Hard.dat\n",
      "temporary/Normal.dat\n",
      "temporary/Easy.dat\n",
      "temporary/info.dat\n"
     ]
    },
    {
     "name": "stderr",
     "output_type": "stream",
     "text": [
      "/opt/anaconda3/envs/BSmapsynth-env/lib/python3.6/site-packages/librosa/core/audio.py:146: UserWarning: PySoundFile failed. Trying audioread instead.\n",
      "  warnings.warn('PySoundFile failed. Trying audioread instead.')\n",
      "/opt/anaconda3/envs/BSmapsynth-env/lib/python3.6/site-packages/pandas/core/reshape/merge.py:1089: UserWarning: You are merging on int and float columns where the float values are not equal to their int representation\n",
      "  UserWarning,\n"
     ]
    },
    {
     "name": "stdout",
     "output_type": "stream",
     "text": [
      "238a: ['normal', 'hard', 'expertPlus']\n",
      "temporary/cover.jpg\n",
      "temporary/ExpertPlus.dat\n",
      "temporary/Hard.dat\n",
      "temporary/Normal.dat\n",
      "temporary/song.egg\n",
      "temporary/info.dat\n"
     ]
    },
    {
     "name": "stderr",
     "output_type": "stream",
     "text": [
      "/opt/anaconda3/envs/BSmapsynth-env/lib/python3.6/site-packages/librosa/core/audio.py:146: UserWarning: PySoundFile failed. Trying audioread instead.\n",
      "  warnings.warn('PySoundFile failed. Trying audioread instead.')\n",
      "/opt/anaconda3/envs/BSmapsynth-env/lib/python3.6/site-packages/pandas/core/reshape/merge.py:1089: UserWarning: You are merging on int and float columns where the float values are not equal to their int representation\n",
      "  UserWarning,\n"
     ]
    },
    {
     "name": "stdout",
     "output_type": "stream",
     "text": [
      "22bf: ['easy', 'normal', 'hard', 'expert', 'expertPlus']\n",
      "temporary/Badlands.png\n",
      "temporary/ExpertPlus.dat\n",
      "temporary/Expert.dat\n",
      "temporary/Hard.dat\n",
      "temporary/Normal.dat\n",
      "temporary/Easy.dat\n",
      "temporary/Hold Me Down - Halsey.egg\n",
      "temporary/info.dat\n"
     ]
    },
    {
     "name": "stderr",
     "output_type": "stream",
     "text": [
      "/opt/anaconda3/envs/BSmapsynth-env/lib/python3.6/site-packages/librosa/core/audio.py:146: UserWarning: PySoundFile failed. Trying audioread instead.\n",
      "  warnings.warn('PySoundFile failed. Trying audioread instead.')\n",
      "/opt/anaconda3/envs/BSmapsynth-env/lib/python3.6/site-packages/pandas/core/reshape/merge.py:1089: UserWarning: You are merging on int and float columns where the float values are not equal to their int representation\n",
      "  UserWarning,\n"
     ]
    },
    {
     "name": "stdout",
     "output_type": "stream",
     "text": [
      "226e: ['normal', 'hard', 'expert']\n",
      "temporary/cover.jpg\n",
      "temporary/Expert.dat\n",
      "temporary/Hard.dat\n",
      "temporary/Normal.dat\n",
      "temporary/song.egg\n",
      "temporary/info.dat\n"
     ]
    },
    {
     "name": "stderr",
     "output_type": "stream",
     "text": [
      "/opt/anaconda3/envs/BSmapsynth-env/lib/python3.6/site-packages/librosa/core/audio.py:146: UserWarning: PySoundFile failed. Trying audioread instead.\n",
      "  warnings.warn('PySoundFile failed. Trying audioread instead.')\n",
      "/opt/anaconda3/envs/BSmapsynth-env/lib/python3.6/site-packages/pandas/core/reshape/merge.py:1089: UserWarning: You are merging on int and float columns where the float values are not equal to their int representation\n",
      "  UserWarning,\n"
     ]
    },
    {
     "name": "stdout",
     "output_type": "stream",
     "text": [
      "21c2: ['easy', 'normal', 'hard', 'expert', 'expertPlus']\n",
      "temporary/cover.jpg\n",
      "temporary/Hibikase_v2.egg\n",
      "temporary/lyrics.srt\n",
      "temporary/ExpertPlus.dat\n",
      "temporary/Expert.dat\n",
      "temporary/Hard.dat\n",
      "temporary/Normal.dat\n",
      "temporary/Easy.dat\n",
      "temporary/info.dat\n",
      "temporary/Hibikase_v2_Hatsune_Miku.egg\n",
      "temporary/Hibikase_v2_Instrumental.egg\n"
     ]
    },
    {
     "name": "stderr",
     "output_type": "stream",
     "text": [
      "/opt/anaconda3/envs/BSmapsynth-env/lib/python3.6/site-packages/librosa/core/audio.py:146: UserWarning: PySoundFile failed. Trying audioread instead.\n",
      "  warnings.warn('PySoundFile failed. Trying audioread instead.')\n",
      "/opt/anaconda3/envs/BSmapsynth-env/lib/python3.6/site-packages/pandas/core/reshape/merge.py:1089: UserWarning: You are merging on int and float columns where the float values are not equal to their int representation\n",
      "  UserWarning,\n"
     ]
    },
    {
     "name": "stdout",
     "output_type": "stream",
     "text": [
      "21b8: ['expertPlus']\n",
      "temporary/cover.jpg\n",
      "temporary/Expert_1541799906.json\n",
      "temporary/ExpertPlus.dat\n",
      "temporary/song.egg\n",
      "temporary/info.dat\n"
     ]
    },
    {
     "name": "stderr",
     "output_type": "stream",
     "text": [
      "/opt/anaconda3/envs/BSmapsynth-env/lib/python3.6/site-packages/librosa/core/audio.py:146: UserWarning: PySoundFile failed. Trying audioread instead.\n",
      "  warnings.warn('PySoundFile failed. Trying audioread instead.')\n",
      "/opt/anaconda3/envs/BSmapsynth-env/lib/python3.6/site-packages/pandas/core/reshape/merge.py:1089: UserWarning: You are merging on int and float columns where the float values are not equal to their int representation\n",
      "  UserWarning,\n"
     ]
    },
    {
     "name": "stdout",
     "output_type": "stream",
     "text": [
      "2144: ['normal', 'hard', 'expert', 'expertPlus']\n",
      "temporary/cover.png\n",
      "temporary/Expert.dat\n",
      "temporary/Hard.dat\n",
      "temporary/Normal.dat\n",
      "temporary/ExpertPlus.dat\n",
      "temporary/song.egg\n",
      "temporary/info.dat\n"
     ]
    },
    {
     "name": "stderr",
     "output_type": "stream",
     "text": [
      "/opt/anaconda3/envs/BSmapsynth-env/lib/python3.6/site-packages/librosa/core/audio.py:146: UserWarning: PySoundFile failed. Trying audioread instead.\n",
      "  warnings.warn('PySoundFile failed. Trying audioread instead.')\n",
      "/opt/anaconda3/envs/BSmapsynth-env/lib/python3.6/site-packages/pandas/core/reshape/merge.py:1089: UserWarning: You are merging on int and float columns where the float values are not equal to their int representation\n",
      "  UserWarning,\n"
     ]
    },
    {
     "name": "stdout",
     "output_type": "stream",
     "text": [
      "2087: ['easy', 'normal', 'hard', 'expert']\n",
      "temporary/Greatest cover.jpg\n",
      "temporary/Expert.dat\n",
      "temporary/Hard.dat\n",
      "temporary/Normal.dat\n",
      "temporary/Easy.dat\n",
      "temporary/Panic at the disco - The greatest show.egg\n",
      "temporary/info.dat\n"
     ]
    },
    {
     "name": "stderr",
     "output_type": "stream",
     "text": [
      "/opt/anaconda3/envs/BSmapsynth-env/lib/python3.6/site-packages/librosa/core/audio.py:146: UserWarning: PySoundFile failed. Trying audioread instead.\n",
      "  warnings.warn('PySoundFile failed. Trying audioread instead.')\n",
      "/opt/anaconda3/envs/BSmapsynth-env/lib/python3.6/site-packages/pandas/core/reshape/merge.py:1089: UserWarning: You are merging on int and float columns where the float values are not equal to their int representation\n",
      "  UserWarning,\n"
     ]
    },
    {
     "name": "stdout",
     "output_type": "stream",
     "text": [
      "2005: ['easy', 'normal', 'hard', 'expert']\n",
      "temporary/cover.jpg\n",
      "temporary/Expert.dat\n",
      "temporary/Hard.dat\n",
      "temporary/Normal.dat\n",
      "temporary/Easy.dat\n",
      "temporary/song.egg\n",
      "temporary/info.dat\n"
     ]
    },
    {
     "name": "stderr",
     "output_type": "stream",
     "text": [
      "/opt/anaconda3/envs/BSmapsynth-env/lib/python3.6/site-packages/librosa/core/audio.py:146: UserWarning: PySoundFile failed. Trying audioread instead.\n",
      "  warnings.warn('PySoundFile failed. Trying audioread instead.')\n",
      "/opt/anaconda3/envs/BSmapsynth-env/lib/python3.6/site-packages/pandas/core/reshape/merge.py:1089: UserWarning: You are merging on int and float columns where the float values are not equal to their int representation\n",
      "  UserWarning,\n"
     ]
    },
    {
     "name": "stdout",
     "output_type": "stream",
     "text": [
      "1fff: ['easy', 'normal', 'hard', 'expert']\n",
      "temporary/cover.jpg\n",
      "temporary/Expert.dat\n",
      "temporary/Hard.dat\n",
      "temporary/Normal.dat\n",
      "temporary/Easy.dat\n",
      "temporary/song.egg\n",
      "temporary/info.dat\n"
     ]
    },
    {
     "name": "stderr",
     "output_type": "stream",
     "text": [
      "/opt/anaconda3/envs/BSmapsynth-env/lib/python3.6/site-packages/librosa/core/audio.py:146: UserWarning: PySoundFile failed. Trying audioread instead.\n",
      "  warnings.warn('PySoundFile failed. Trying audioread instead.')\n",
      "/opt/anaconda3/envs/BSmapsynth-env/lib/python3.6/site-packages/pandas/core/reshape/merge.py:1089: UserWarning: You are merging on int and float columns where the float values are not equal to their int representation\n",
      "  UserWarning,\n"
     ]
    },
    {
     "name": "stdout",
     "output_type": "stream",
     "text": [
      "1ffd: ['easy', 'normal', 'hard', 'expert', 'expertPlus']\n",
      "temporary/Cover.jpg\n",
      "temporary/ExpertPlus.dat\n",
      "temporary/Expert.dat\n",
      "temporary/Hard.dat\n",
      "temporary/Normal.dat\n",
      "temporary/Easy.dat\n",
      "temporary/kradness_senbonzakura.egg\n",
      "temporary/info.dat\n"
     ]
    },
    {
     "name": "stderr",
     "output_type": "stream",
     "text": [
      "/opt/anaconda3/envs/BSmapsynth-env/lib/python3.6/site-packages/librosa/core/audio.py:146: UserWarning: PySoundFile failed. Trying audioread instead.\n",
      "  warnings.warn('PySoundFile failed. Trying audioread instead.')\n",
      "/opt/anaconda3/envs/BSmapsynth-env/lib/python3.6/site-packages/pandas/core/reshape/merge.py:1089: UserWarning: You are merging on int and float columns where the float values are not equal to their int representation\n",
      "  UserWarning,\n"
     ]
    },
    {
     "name": "stdout",
     "output_type": "stream",
     "text": [
      "1ff9: ['easy', 'normal', 'hard', 'expert', 'expertPlus']\n",
      "temporary/cover.png\n",
      "temporary/ExpertPlus.dat\n",
      "temporary/Hard.dat\n",
      "temporary/Normal.dat\n",
      "temporary/Easy.dat\n",
      "temporary/Expert.dat\n",
      "temporary/song.egg\n",
      "temporary/info.dat\n"
     ]
    },
    {
     "name": "stderr",
     "output_type": "stream",
     "text": [
      "/opt/anaconda3/envs/BSmapsynth-env/lib/python3.6/site-packages/librosa/core/audio.py:146: UserWarning: PySoundFile failed. Trying audioread instead.\n",
      "  warnings.warn('PySoundFile failed. Trying audioread instead.')\n",
      "/opt/anaconda3/envs/BSmapsynth-env/lib/python3.6/site-packages/pandas/core/reshape/merge.py:1089: UserWarning: You are merging on int and float columns where the float values are not equal to their int representation\n",
      "  UserWarning,\n"
     ]
    },
    {
     "name": "stdout",
     "output_type": "stream",
     "text": [
      "1ff6: ['easy', 'normal', 'hard', 'expert', 'expertPlus']\n",
      "temporary/cover.png\n",
      "temporary/ExpertPlus.dat\n",
      "temporary/Easy.dat\n",
      "temporary/Normal.dat\n",
      "temporary/Hard.dat\n",
      "temporary/Expert.dat\n",
      "temporary/song.egg\n",
      "temporary/info.dat\n"
     ]
    },
    {
     "name": "stderr",
     "output_type": "stream",
     "text": [
      "/opt/anaconda3/envs/BSmapsynth-env/lib/python3.6/site-packages/librosa/core/audio.py:146: UserWarning: PySoundFile failed. Trying audioread instead.\n",
      "  warnings.warn('PySoundFile failed. Trying audioread instead.')\n",
      "/opt/anaconda3/envs/BSmapsynth-env/lib/python3.6/site-packages/pandas/core/reshape/merge.py:1089: UserWarning: You are merging on int and float columns where the float values are not equal to their int representation\n",
      "  UserWarning,\n"
     ]
    },
    {
     "name": "stdout",
     "output_type": "stream",
     "text": [
      "1ff4: ['easy', 'normal', 'hard', 'expert']\n",
      "temporary/cover - sheppard.jpg\n",
      "temporary/Expert.dat\n",
      "temporary/Hard.dat\n",
      "temporary/Normal.dat\n",
      "temporary/Easy.dat\n",
      "temporary/Sheppard - Geronimo.egg\n",
      "temporary/info.dat\n"
     ]
    },
    {
     "name": "stderr",
     "output_type": "stream",
     "text": [
      "/opt/anaconda3/envs/BSmapsynth-env/lib/python3.6/site-packages/librosa/core/audio.py:146: UserWarning: PySoundFile failed. Trying audioread instead.\n",
      "  warnings.warn('PySoundFile failed. Trying audioread instead.')\n",
      "/opt/anaconda3/envs/BSmapsynth-env/lib/python3.6/site-packages/pandas/core/reshape/merge.py:1089: UserWarning: You are merging on int and float columns where the float values are not equal to their int representation\n",
      "  UserWarning,\n"
     ]
    },
    {
     "name": "stdout",
     "output_type": "stream",
     "text": [
      "1ff0: ['easy', 'normal', 'hard', 'expert']\n",
      "temporary/cover.jpg\n",
      "temporary/Expert.dat\n",
      "temporary/Hard.dat\n",
      "temporary/Normal.dat\n",
      "temporary/Easy.dat\n",
      "temporary/song.egg\n",
      "temporary/info.dat\n"
     ]
    },
    {
     "name": "stderr",
     "output_type": "stream",
     "text": [
      "/opt/anaconda3/envs/BSmapsynth-env/lib/python3.6/site-packages/librosa/core/audio.py:146: UserWarning: PySoundFile failed. Trying audioread instead.\n",
      "  warnings.warn('PySoundFile failed. Trying audioread instead.')\n",
      "/opt/anaconda3/envs/BSmapsynth-env/lib/python3.6/site-packages/pandas/core/reshape/merge.py:1089: UserWarning: You are merging on int and float columns where the float values are not equal to their int representation\n",
      "  UserWarning,\n"
     ]
    },
    {
     "name": "stdout",
     "output_type": "stream",
     "text": [
      "1fef: ['easy', 'normal', 'hard', 'expert']\n",
      "temporary/cover.jpg\n",
      "temporary/Expert.dat\n",
      "temporary/Easy.dat\n",
      "temporary/Hard.dat\n",
      "temporary/Normal.dat\n",
      "temporary/song.egg\n",
      "temporary/info.dat\n"
     ]
    },
    {
     "name": "stderr",
     "output_type": "stream",
     "text": [
      "/opt/anaconda3/envs/BSmapsynth-env/lib/python3.6/site-packages/librosa/core/audio.py:146: UserWarning: PySoundFile failed. Trying audioread instead.\n",
      "  warnings.warn('PySoundFile failed. Trying audioread instead.')\n",
      "/opt/anaconda3/envs/BSmapsynth-env/lib/python3.6/site-packages/pandas/core/reshape/merge.py:1089: UserWarning: You are merging on int and float columns where the float values are not equal to their int representation\n",
      "  UserWarning,\n"
     ]
    },
    {
     "name": "stdout",
     "output_type": "stream",
     "text": [
      "1fee: ['easy', 'normal', 'hard', 'expert', 'expertPlus']\n",
      "temporary/cover.jpg\n",
      "temporary/ExpertPlus.dat\n",
      "temporary/Expert.dat\n",
      "temporary/Hard.dat\n",
      "temporary/Normal.dat\n",
      "temporary/Easy.dat\n",
      "temporary/song.egg\n",
      "temporary/info.dat\n"
     ]
    },
    {
     "name": "stderr",
     "output_type": "stream",
     "text": [
      "/opt/anaconda3/envs/BSmapsynth-env/lib/python3.6/site-packages/librosa/core/audio.py:146: UserWarning: PySoundFile failed. Trying audioread instead.\n",
      "  warnings.warn('PySoundFile failed. Trying audioread instead.')\n",
      "/opt/anaconda3/envs/BSmapsynth-env/lib/python3.6/site-packages/pandas/core/reshape/merge.py:1089: UserWarning: You are merging on int and float columns where the float values are not equal to their int representation\n",
      "  UserWarning,\n"
     ]
    },
    {
     "name": "stdout",
     "output_type": "stream",
     "text": [
      "1fed: ['easy', 'normal', 'hard', 'expert']\n",
      "temporary/cover_sharp.jpg\n",
      "temporary/Expert.dat\n",
      "temporary/Hard.dat\n",
      "temporary/Normal.dat\n",
      "temporary/Easy.dat\n",
      "temporary/01 Change the World.egg\n",
      "temporary/info.dat\n"
     ]
    },
    {
     "name": "stderr",
     "output_type": "stream",
     "text": [
      "/opt/anaconda3/envs/BSmapsynth-env/lib/python3.6/site-packages/librosa/core/audio.py:146: UserWarning: PySoundFile failed. Trying audioread instead.\n",
      "  warnings.warn('PySoundFile failed. Trying audioread instead.')\n",
      "/opt/anaconda3/envs/BSmapsynth-env/lib/python3.6/site-packages/pandas/core/reshape/merge.py:1089: UserWarning: You are merging on int and float columns where the float values are not equal to their int representation\n",
      "  UserWarning,\n"
     ]
    },
    {
     "name": "stdout",
     "output_type": "stream",
     "text": [
      "1fea: ['easy', 'normal', 'hard', 'expert', 'expertPlus']\n",
      "temporary/Cover.PNG\n",
      "temporary/Expert.dat\n",
      "temporary/Hard.dat\n",
      "temporary/Normal.dat\n",
      "temporary/Easy.dat\n",
      "temporary/ExpertPlus.dat\n",
      "temporary/song.egg\n",
      "temporary/info.dat\n"
     ]
    },
    {
     "name": "stderr",
     "output_type": "stream",
     "text": [
      "/opt/anaconda3/envs/BSmapsynth-env/lib/python3.6/site-packages/librosa/core/audio.py:146: UserWarning: PySoundFile failed. Trying audioread instead.\n",
      "  warnings.warn('PySoundFile failed. Trying audioread instead.')\n",
      "/opt/anaconda3/envs/BSmapsynth-env/lib/python3.6/site-packages/pandas/core/reshape/merge.py:1089: UserWarning: You are merging on int and float columns where the float values are not equal to their int representation\n",
      "  UserWarning,\n"
     ]
    },
    {
     "name": "stdout",
     "output_type": "stream",
     "text": [
      "1fe5: ['easy', 'normal', 'hard', 'expert']\n",
      "temporary/cover.jpg\n",
      "temporary/Expert.dat\n",
      "temporary/Hard.dat\n",
      "temporary/Easy.dat\n",
      "temporary/Normal.dat\n",
      "temporary/song.egg\n",
      "temporary/info.dat\n"
     ]
    },
    {
     "name": "stderr",
     "output_type": "stream",
     "text": [
      "/opt/anaconda3/envs/BSmapsynth-env/lib/python3.6/site-packages/librosa/core/audio.py:146: UserWarning: PySoundFile failed. Trying audioread instead.\n",
      "  warnings.warn('PySoundFile failed. Trying audioread instead.')\n",
      "/opt/anaconda3/envs/BSmapsynth-env/lib/python3.6/site-packages/pandas/core/reshape/merge.py:1089: UserWarning: You are merging on int and float columns where the float values are not equal to their int representation\n",
      "  UserWarning,\n"
     ]
    },
    {
     "name": "stdout",
     "output_type": "stream",
     "text": [
      "1f90: ['expertPlus']\n",
      "temporary/cover.jpg\n",
      "temporary/ExpertPlus.dat\n",
      "temporary/RIOT - Overkill [Monstercat Release].egg\n",
      "temporary/info.dat\n"
     ]
    },
    {
     "name": "stderr",
     "output_type": "stream",
     "text": [
      "/opt/anaconda3/envs/BSmapsynth-env/lib/python3.6/site-packages/librosa/core/audio.py:146: UserWarning: PySoundFile failed. Trying audioread instead.\n",
      "  warnings.warn('PySoundFile failed. Trying audioread instead.')\n",
      "/opt/anaconda3/envs/BSmapsynth-env/lib/python3.6/site-packages/pandas/core/reshape/merge.py:1089: UserWarning: You are merging on int and float columns where the float values are not equal to their int representation\n",
      "  UserWarning,\n"
     ]
    },
    {
     "name": "stdout",
     "output_type": "stream",
     "text": [
      "1f42: ['normal', 'hard', 'expert']\n",
      "temporary/cover.jpg\n",
      "temporary/Expert.dat\n",
      "temporary/Hard.dat\n",
      "temporary/Normal.dat\n",
      "temporary/song.egg\n",
      "temporary/info.dat\n"
     ]
    },
    {
     "name": "stderr",
     "output_type": "stream",
     "text": [
      "/opt/anaconda3/envs/BSmapsynth-env/lib/python3.6/site-packages/librosa/core/audio.py:146: UserWarning: PySoundFile failed. Trying audioread instead.\n",
      "  warnings.warn('PySoundFile failed. Trying audioread instead.')\n",
      "/opt/anaconda3/envs/BSmapsynth-env/lib/python3.6/site-packages/pandas/core/reshape/merge.py:1089: UserWarning: You are merging on int and float columns where the float values are not equal to their int representation\n",
      "  UserWarning,\n"
     ]
    },
    {
     "name": "stdout",
     "output_type": "stream",
     "text": [
      "1f03: ['easy', 'normal', 'hard', 'expert']\n",
      "temporary/cover.jpg\n",
      "temporary/Expert.dat\n",
      "temporary/Hard.dat\n",
      "temporary/Normal.dat\n",
      "temporary/Easy.dat\n",
      "temporary/skillet_monster.egg\n",
      "temporary/info.dat\n"
     ]
    },
    {
     "name": "stderr",
     "output_type": "stream",
     "text": [
      "/opt/anaconda3/envs/BSmapsynth-env/lib/python3.6/site-packages/librosa/core/audio.py:146: UserWarning: PySoundFile failed. Trying audioread instead.\n",
      "  warnings.warn('PySoundFile failed. Trying audioread instead.')\n",
      "/opt/anaconda3/envs/BSmapsynth-env/lib/python3.6/site-packages/pandas/core/reshape/merge.py:1089: UserWarning: You are merging on int and float columns where the float values are not equal to their int representation\n",
      "  UserWarning,\n"
     ]
    },
    {
     "name": "stdout",
     "output_type": "stream",
     "text": [
      "1eb2: ['normal', 'hard', 'expert']\n",
      "temporary/cover.jpg\n",
      "temporary/Expert.dat\n",
      "temporary/Hard.dat\n",
      "temporary/Normal.dat\n",
      "temporary/song.egg\n",
      "temporary/info.dat\n"
     ]
    },
    {
     "name": "stderr",
     "output_type": "stream",
     "text": [
      "/opt/anaconda3/envs/BSmapsynth-env/lib/python3.6/site-packages/librosa/core/audio.py:146: UserWarning: PySoundFile failed. Trying audioread instead.\n",
      "  warnings.warn('PySoundFile failed. Trying audioread instead.')\n",
      "/opt/anaconda3/envs/BSmapsynth-env/lib/python3.6/site-packages/pandas/core/reshape/merge.py:1089: UserWarning: You are merging on int and float columns where the float values are not equal to their int representation\n",
      "  UserWarning,\n"
     ]
    },
    {
     "name": "stdout",
     "output_type": "stream",
     "text": [
      "1e9b: ['hard', 'expert', 'expertPlus']\n",
      "temporary/cover.jpg\n",
      "temporary/ExpertPlus.dat\n",
      "temporary/Expert.dat\n",
      "temporary/Hard.dat\n",
      "temporary/du_hast.egg\n",
      "temporary/info.dat\n"
     ]
    },
    {
     "name": "stderr",
     "output_type": "stream",
     "text": [
      "/opt/anaconda3/envs/BSmapsynth-env/lib/python3.6/site-packages/librosa/core/audio.py:146: UserWarning: PySoundFile failed. Trying audioread instead.\n",
      "  warnings.warn('PySoundFile failed. Trying audioread instead.')\n"
     ]
    },
    {
     "name": "stdout",
     "output_type": "stream",
     "text": [
      "1e9b: \n",
      " 'NoneType' object is not subscriptable\n",
      "1d50: ['hard', 'expert']\n",
      "temporary/cover.jpg\n",
      "temporary/Expert.dat\n",
      "temporary/Hard.dat\n",
      "temporary/song.egg\n",
      "temporary/info.dat\n"
     ]
    },
    {
     "name": "stderr",
     "output_type": "stream",
     "text": [
      "/opt/anaconda3/envs/BSmapsynth-env/lib/python3.6/site-packages/librosa/core/audio.py:146: UserWarning: PySoundFile failed. Trying audioread instead.\n",
      "  warnings.warn('PySoundFile failed. Trying audioread instead.')\n",
      "/opt/anaconda3/envs/BSmapsynth-env/lib/python3.6/site-packages/pandas/core/reshape/merge.py:1089: UserWarning: You are merging on int and float columns where the float values are not equal to their int representation\n",
      "  UserWarning,\n"
     ]
    },
    {
     "name": "stdout",
     "output_type": "stream",
     "text": [
      "1d42: ['hard', 'expert']\n",
      "temporary/cover.jpg\n",
      "temporary/Expert.dat\n",
      "temporary/Hard.dat\n",
      "temporary/aikotoba3.egg\n",
      "temporary/info.dat\n"
     ]
    },
    {
     "name": "stderr",
     "output_type": "stream",
     "text": [
      "/opt/anaconda3/envs/BSmapsynth-env/lib/python3.6/site-packages/librosa/core/audio.py:146: UserWarning: PySoundFile failed. Trying audioread instead.\n",
      "  warnings.warn('PySoundFile failed. Trying audioread instead.')\n",
      "/opt/anaconda3/envs/BSmapsynth-env/lib/python3.6/site-packages/pandas/core/reshape/merge.py:1089: UserWarning: You are merging on int and float columns where the float values are not equal to their int representation\n",
      "  UserWarning,\n"
     ]
    },
    {
     "name": "stdout",
     "output_type": "stream",
     "text": [
      "1c94: ['easy', 'normal', 'hard', 'expert']\n",
      "temporary/cover.png\n",
      "temporary/Expert.dat\n",
      "temporary/Hard.dat\n",
      "temporary/Normal.dat\n",
      "temporary/Easy.dat\n",
      "temporary/The_Ghost - Niviro.egg\n",
      "temporary/info.dat\n"
     ]
    },
    {
     "name": "stderr",
     "output_type": "stream",
     "text": [
      "/opt/anaconda3/envs/BSmapsynth-env/lib/python3.6/site-packages/librosa/core/audio.py:146: UserWarning: PySoundFile failed. Trying audioread instead.\n",
      "  warnings.warn('PySoundFile failed. Trying audioread instead.')\n",
      "/opt/anaconda3/envs/BSmapsynth-env/lib/python3.6/site-packages/pandas/core/reshape/merge.py:1089: UserWarning: You are merging on int and float columns where the float values are not equal to their int representation\n",
      "  UserWarning,\n"
     ]
    },
    {
     "name": "stdout",
     "output_type": "stream",
     "text": [
      "1c00: ['normal', 'hard', 'expert', 'expertPlus']\n",
      "temporary/toxicity.png\n",
      "temporary/Expert.dat\n",
      "temporary/Hard.dat\n",
      "temporary/ExpertPlus.dat\n",
      "temporary/Normal.dat\n",
      "temporary/song.egg\n",
      "temporary/info.dat\n"
     ]
    },
    {
     "name": "stderr",
     "output_type": "stream",
     "text": [
      "/opt/anaconda3/envs/BSmapsynth-env/lib/python3.6/site-packages/librosa/core/audio.py:146: UserWarning: PySoundFile failed. Trying audioread instead.\n",
      "  warnings.warn('PySoundFile failed. Trying audioread instead.')\n",
      "/opt/anaconda3/envs/BSmapsynth-env/lib/python3.6/site-packages/pandas/core/reshape/merge.py:1089: UserWarning: You are merging on int and float columns where the float values are not equal to their int representation\n",
      "  UserWarning,\n"
     ]
    },
    {
     "name": "stdout",
     "output_type": "stream",
     "text": [
      "1bc4: ['expertPlus']\n",
      "temporary/cover.png\n",
      "temporary/ExpertPlus.dat\n",
      "temporary/song.egg\n",
      "temporary/info.dat\n"
     ]
    },
    {
     "name": "stderr",
     "output_type": "stream",
     "text": [
      "/opt/anaconda3/envs/BSmapsynth-env/lib/python3.6/site-packages/librosa/core/audio.py:146: UserWarning: PySoundFile failed. Trying audioread instead.\n",
      "  warnings.warn('PySoundFile failed. Trying audioread instead.')\n",
      "/opt/anaconda3/envs/BSmapsynth-env/lib/python3.6/site-packages/pandas/core/reshape/merge.py:1089: UserWarning: You are merging on int and float columns where the float values are not equal to their int representation\n",
      "  UserWarning,\n"
     ]
    },
    {
     "name": "stdout",
     "output_type": "stream",
     "text": [
      "1b30: ['expert']\n",
      "temporary/cover.jpg\n",
      "temporary/Expert.dat\n",
      "temporary/song.egg\n",
      "temporary/info.dat\n"
     ]
    },
    {
     "name": "stderr",
     "output_type": "stream",
     "text": [
      "/opt/anaconda3/envs/BSmapsynth-env/lib/python3.6/site-packages/librosa/core/audio.py:146: UserWarning: PySoundFile failed. Trying audioread instead.\n",
      "  warnings.warn('PySoundFile failed. Trying audioread instead.')\n",
      "/opt/anaconda3/envs/BSmapsynth-env/lib/python3.6/site-packages/pandas/core/reshape/merge.py:1089: UserWarning: You are merging on int and float columns where the float values are not equal to their int representation\n",
      "  UserWarning,\n"
     ]
    },
    {
     "name": "stdout",
     "output_type": "stream",
     "text": [
      "19f3: ['normal', 'hard', 'expert']\n",
      "temporary/cover.jpg\n",
      "temporary/Expert.dat\n",
      "temporary/Hard.dat\n",
      "temporary/Normal.dat\n",
      "temporary/pon.egg\n",
      "temporary/info.dat\n"
     ]
    },
    {
     "name": "stderr",
     "output_type": "stream",
     "text": [
      "/opt/anaconda3/envs/BSmapsynth-env/lib/python3.6/site-packages/librosa/core/audio.py:146: UserWarning: PySoundFile failed. Trying audioread instead.\n",
      "  warnings.warn('PySoundFile failed. Trying audioread instead.')\n",
      "/opt/anaconda3/envs/BSmapsynth-env/lib/python3.6/site-packages/pandas/core/reshape/merge.py:1089: UserWarning: You are merging on int and float columns where the float values are not equal to their int representation\n",
      "  UserWarning,\n"
     ]
    },
    {
     "name": "stdout",
     "output_type": "stream",
     "text": [
      "19d5: ['easy', 'normal', 'hard', 'expert']\n",
      "temporary/cover.jpg\n",
      "temporary/song.egg\n",
      "temporary/Expert.dat\n",
      "temporary/Easy.dat\n",
      "temporary/Normal.dat\n",
      "temporary/Hard.dat\n",
      "temporary/info.dat\n"
     ]
    },
    {
     "name": "stderr",
     "output_type": "stream",
     "text": [
      "/opt/anaconda3/envs/BSmapsynth-env/lib/python3.6/site-packages/librosa/core/audio.py:146: UserWarning: PySoundFile failed. Trying audioread instead.\n",
      "  warnings.warn('PySoundFile failed. Trying audioread instead.')\n",
      "/opt/anaconda3/envs/BSmapsynth-env/lib/python3.6/site-packages/pandas/core/reshape/merge.py:1089: UserWarning: You are merging on int and float columns where the float values are not equal to their int representation\n",
      "  UserWarning,\n"
     ]
    },
    {
     "name": "stdout",
     "output_type": "stream",
     "text": [
      "19ca: ['easy', 'normal', 'hard', 'expert']\n",
      "temporary/cover.jpg\n",
      "temporary/Expert.dat\n",
      "temporary/Hard.dat\n",
      "temporary/Normal.dat\n",
      "temporary/Easy.dat\n",
      "temporary/bubblepop.egg\n",
      "temporary/info.dat\n"
     ]
    },
    {
     "name": "stderr",
     "output_type": "stream",
     "text": [
      "/opt/anaconda3/envs/BSmapsynth-env/lib/python3.6/site-packages/librosa/core/audio.py:146: UserWarning: PySoundFile failed. Trying audioread instead.\n",
      "  warnings.warn('PySoundFile failed. Trying audioread instead.')\n",
      "/opt/anaconda3/envs/BSmapsynth-env/lib/python3.6/site-packages/pandas/core/reshape/merge.py:1089: UserWarning: You are merging on int and float columns where the float values are not equal to their int representation\n",
      "  UserWarning,\n"
     ]
    },
    {
     "name": "stdout",
     "output_type": "stream",
     "text": [
      "199e: ['normal', 'expert', 'expertPlus']\n",
      "temporary/cover.jpg\n",
      "temporary/Expert.dat\n",
      "temporary/ExpertPlus.dat\n",
      "temporary/Normal.dat\n",
      "temporary/WispX-DireDireDocks(WispXRemix).egg\n",
      "temporary/info.dat\n"
     ]
    },
    {
     "name": "stderr",
     "output_type": "stream",
     "text": [
      "/opt/anaconda3/envs/BSmapsynth-env/lib/python3.6/site-packages/librosa/core/audio.py:146: UserWarning: PySoundFile failed. Trying audioread instead.\n",
      "  warnings.warn('PySoundFile failed. Trying audioread instead.')\n",
      "/opt/anaconda3/envs/BSmapsynth-env/lib/python3.6/site-packages/pandas/core/reshape/merge.py:1089: UserWarning: You are merging on int and float columns where the float values are not equal to their int representation\n",
      "  UserWarning,\n"
     ]
    },
    {
     "name": "stdout",
     "output_type": "stream",
     "text": [
      "1970: ['hard', 'expert']\n",
      "temporary/coversharp.jpg\n",
      "temporary/Expert.dat\n",
      "temporary/Hard.dat\n",
      "temporary/itunes_still_into_you.egg\n",
      "temporary/info.dat\n"
     ]
    },
    {
     "name": "stderr",
     "output_type": "stream",
     "text": [
      "/opt/anaconda3/envs/BSmapsynth-env/lib/python3.6/site-packages/librosa/core/audio.py:146: UserWarning: PySoundFile failed. Trying audioread instead.\n",
      "  warnings.warn('PySoundFile failed. Trying audioread instead.')\n",
      "/opt/anaconda3/envs/BSmapsynth-env/lib/python3.6/site-packages/pandas/core/reshape/merge.py:1089: UserWarning: You are merging on int and float columns where the float values are not equal to their int representation\n",
      "  UserWarning,\n"
     ]
    },
    {
     "name": "stdout",
     "output_type": "stream",
     "text": [
      "195f: ['normal', 'hard', 'expert', 'expertPlus']\n",
      "temporary/cover.png\n",
      "temporary/ExpertPlus.dat\n",
      "temporary/Hard.dat\n",
      "temporary/Expert.dat\n",
      "temporary/Normal.dat\n",
      "temporary/song.egg\n",
      "temporary/info.dat\n"
     ]
    },
    {
     "name": "stderr",
     "output_type": "stream",
     "text": [
      "/opt/anaconda3/envs/BSmapsynth-env/lib/python3.6/site-packages/librosa/core/audio.py:146: UserWarning: PySoundFile failed. Trying audioread instead.\n",
      "  warnings.warn('PySoundFile failed. Trying audioread instead.')\n",
      "/opt/anaconda3/envs/BSmapsynth-env/lib/python3.6/site-packages/pandas/core/reshape/merge.py:1089: UserWarning: You are merging on int and float columns where the float values are not equal to their int representation\n",
      "  UserWarning,\n"
     ]
    },
    {
     "name": "stdout",
     "output_type": "stream",
     "text": [
      "1957: ['expert']\n",
      "temporary/changelog.txt\n",
      "temporary/cover.jpg\n",
      "temporary/Expert.dat\n",
      "temporary/timewarp.egg\n",
      "temporary/info.dat\n"
     ]
    },
    {
     "name": "stderr",
     "output_type": "stream",
     "text": [
      "/opt/anaconda3/envs/BSmapsynth-env/lib/python3.6/site-packages/librosa/core/audio.py:146: UserWarning: PySoundFile failed. Trying audioread instead.\n",
      "  warnings.warn('PySoundFile failed. Trying audioread instead.')\n",
      "/opt/anaconda3/envs/BSmapsynth-env/lib/python3.6/site-packages/pandas/core/reshape/merge.py:1089: UserWarning: You are merging on int and float columns where the float values are not equal to their int representation\n",
      "  UserWarning,\n"
     ]
    },
    {
     "name": "stdout",
     "output_type": "stream",
     "text": [
      "194d: ['expertPlus']\n",
      "temporary/cover.png\n",
      "temporary/ExpertPlus.dat\n",
      "temporary/song.egg\n",
      "temporary/info.dat\n"
     ]
    },
    {
     "name": "stderr",
     "output_type": "stream",
     "text": [
      "/opt/anaconda3/envs/BSmapsynth-env/lib/python3.6/site-packages/librosa/core/audio.py:146: UserWarning: PySoundFile failed. Trying audioread instead.\n",
      "  warnings.warn('PySoundFile failed. Trying audioread instead.')\n",
      "/opt/anaconda3/envs/BSmapsynth-env/lib/python3.6/site-packages/pandas/core/reshape/merge.py:1089: UserWarning: You are merging on int and float columns where the float values are not equal to their int representation\n",
      "  UserWarning,\n"
     ]
    },
    {
     "name": "stdout",
     "output_type": "stream",
     "text": [
      "194c: ['normal', 'hard', 'expert']\n",
      "temporary/cover.png\n",
      "temporary/Expert.dat\n",
      "temporary/Hard.dat\n",
      "temporary/Normal.dat\n",
      "temporary/song.egg\n",
      "temporary/info.dat\n"
     ]
    },
    {
     "name": "stderr",
     "output_type": "stream",
     "text": [
      "/opt/anaconda3/envs/BSmapsynth-env/lib/python3.6/site-packages/librosa/core/audio.py:146: UserWarning: PySoundFile failed. Trying audioread instead.\n",
      "  warnings.warn('PySoundFile failed. Trying audioread instead.')\n",
      "/opt/anaconda3/envs/BSmapsynth-env/lib/python3.6/site-packages/pandas/core/reshape/merge.py:1089: UserWarning: You are merging on int and float columns where the float values are not equal to their int representation\n",
      "  UserWarning,\n"
     ]
    },
    {
     "name": "stdout",
     "output_type": "stream",
     "text": [
      "18d5: ['normal', 'hard', 'expert']\n",
      "temporary/Cover.jpg\n",
      "temporary/song.egg\n",
      "temporary/Expert.dat\n",
      "temporary/Normal.dat\n",
      "temporary/Hard.dat\n",
      "temporary/info.dat\n"
     ]
    },
    {
     "name": "stderr",
     "output_type": "stream",
     "text": [
      "/opt/anaconda3/envs/BSmapsynth-env/lib/python3.6/site-packages/librosa/core/audio.py:146: UserWarning: PySoundFile failed. Trying audioread instead.\n",
      "  warnings.warn('PySoundFile failed. Trying audioread instead.')\n",
      "/opt/anaconda3/envs/BSmapsynth-env/lib/python3.6/site-packages/pandas/core/reshape/merge.py:1089: UserWarning: You are merging on int and float columns where the float values are not equal to their int representation\n",
      "  UserWarning,\n"
     ]
    },
    {
     "name": "stdout",
     "output_type": "stream",
     "text": [
      "18ce: ['expert']\n",
      "temporary/cover.JPG\n",
      "temporary/Expert.dat\n",
      "temporary/song.egg\n",
      "temporary/info.dat\n"
     ]
    },
    {
     "name": "stderr",
     "output_type": "stream",
     "text": [
      "/opt/anaconda3/envs/BSmapsynth-env/lib/python3.6/site-packages/librosa/core/audio.py:146: UserWarning: PySoundFile failed. Trying audioread instead.\n",
      "  warnings.warn('PySoundFile failed. Trying audioread instead.')\n",
      "/opt/anaconda3/envs/BSmapsynth-env/lib/python3.6/site-packages/pandas/core/reshape/merge.py:1089: UserWarning: You are merging on int and float columns where the float values are not equal to their int representation\n",
      "  UserWarning,\n"
     ]
    },
    {
     "name": "stdout",
     "output_type": "stream",
     "text": [
      "18cc: ['easy', 'normal', 'hard', 'expert']\n",
      "temporary/cover.jpg\n",
      "temporary/Expert.dat\n",
      "temporary/Hard.dat\n",
      "temporary/Normal.dat\n",
      "temporary/Easy.dat\n",
      "temporary/du_hast.egg\n",
      "temporary/info.dat\n"
     ]
    },
    {
     "name": "stderr",
     "output_type": "stream",
     "text": [
      "/opt/anaconda3/envs/BSmapsynth-env/lib/python3.6/site-packages/librosa/core/audio.py:146: UserWarning: PySoundFile failed. Trying audioread instead.\n",
      "  warnings.warn('PySoundFile failed. Trying audioread instead.')\n",
      "/opt/anaconda3/envs/BSmapsynth-env/lib/python3.6/site-packages/pandas/core/reshape/merge.py:1089: UserWarning: You are merging on int and float columns where the float values are not equal to their int representation\n",
      "  UserWarning,\n"
     ]
    },
    {
     "name": "stdout",
     "output_type": "stream",
     "text": [
      "18bf: ['hard', 'expertPlus']\n",
      "temporary/cover.jpg\n",
      "temporary/ExpertPlus.dat\n",
      "temporary/Hard.dat\n",
      "temporary/song.egg\n",
      "temporary/info.dat\n"
     ]
    },
    {
     "name": "stderr",
     "output_type": "stream",
     "text": [
      "/opt/anaconda3/envs/BSmapsynth-env/lib/python3.6/site-packages/librosa/core/audio.py:146: UserWarning: PySoundFile failed. Trying audioread instead.\n",
      "  warnings.warn('PySoundFile failed. Trying audioread instead.')\n",
      "/opt/anaconda3/envs/BSmapsynth-env/lib/python3.6/site-packages/pandas/core/reshape/merge.py:1089: UserWarning: You are merging on int and float columns where the float values are not equal to their int representation\n",
      "  UserWarning,\n"
     ]
    },
    {
     "name": "stdout",
     "output_type": "stream",
     "text": [
      "18a6: ['normal', 'hard', 'expert']\n",
      "temporary/cover.jpg\n",
      "temporary/Expert.dat\n",
      "temporary/Hard.dat\n",
      "temporary/Normal.dat\n",
      "temporary/song.egg\n",
      "temporary/info.dat\n"
     ]
    },
    {
     "name": "stderr",
     "output_type": "stream",
     "text": [
      "/opt/anaconda3/envs/BSmapsynth-env/lib/python3.6/site-packages/librosa/core/audio.py:146: UserWarning: PySoundFile failed. Trying audioread instead.\n",
      "  warnings.warn('PySoundFile failed. Trying audioread instead.')\n",
      "/opt/anaconda3/envs/BSmapsynth-env/lib/python3.6/site-packages/pandas/core/reshape/merge.py:1089: UserWarning: You are merging on int and float columns where the float values are not equal to their int representation\n",
      "  UserWarning,\n"
     ]
    },
    {
     "name": "stdout",
     "output_type": "stream",
     "text": [
      "1814: ['expertPlus']\n",
      "temporary/cover.jpg\n",
      "temporary/ExpertPlus.dat\n",
      "temporary/song.egg\n",
      "temporary/info.dat\n"
     ]
    },
    {
     "name": "stderr",
     "output_type": "stream",
     "text": [
      "/opt/anaconda3/envs/BSmapsynth-env/lib/python3.6/site-packages/librosa/core/audio.py:146: UserWarning: PySoundFile failed. Trying audioread instead.\n",
      "  warnings.warn('PySoundFile failed. Trying audioread instead.')\n",
      "/opt/anaconda3/envs/BSmapsynth-env/lib/python3.6/site-packages/pandas/core/reshape/merge.py:1089: UserWarning: You are merging on int and float columns where the float values are not equal to their int representation\n",
      "  UserWarning,\n"
     ]
    },
    {
     "name": "stdout",
     "output_type": "stream",
     "text": [
      "17f9: ['expertPlus']\n",
      "temporary/cover.jpg\n",
      "temporary/ExpertPlus.dat\n",
      "temporary/toh.egg\n",
      "temporary/info.dat\n"
     ]
    },
    {
     "name": "stderr",
     "output_type": "stream",
     "text": [
      "/opt/anaconda3/envs/BSmapsynth-env/lib/python3.6/site-packages/librosa/core/audio.py:146: UserWarning: PySoundFile failed. Trying audioread instead.\n",
      "  warnings.warn('PySoundFile failed. Trying audioread instead.')\n",
      "/opt/anaconda3/envs/BSmapsynth-env/lib/python3.6/site-packages/pandas/core/reshape/merge.py:1089: UserWarning: You are merging on int and float columns where the float values are not equal to their int representation\n",
      "  UserWarning,\n"
     ]
    },
    {
     "name": "stdout",
     "output_type": "stream",
     "text": [
      "17ac: ['normal', 'hard', 'expert']\n",
      "temporary/cover.jpg\n",
      "temporary/Expert.dat\n",
      "temporary/Hard.dat\n",
      "temporary/Normal.dat\n",
      "temporary/song.egg\n",
      "temporary/info.dat\n"
     ]
    },
    {
     "name": "stderr",
     "output_type": "stream",
     "text": [
      "/opt/anaconda3/envs/BSmapsynth-env/lib/python3.6/site-packages/librosa/core/audio.py:146: UserWarning: PySoundFile failed. Trying audioread instead.\n",
      "  warnings.warn('PySoundFile failed. Trying audioread instead.')\n",
      "/opt/anaconda3/envs/BSmapsynth-env/lib/python3.6/site-packages/pandas/core/reshape/merge.py:1089: UserWarning: You are merging on int and float columns where the float values are not equal to their int representation\n",
      "  UserWarning,\n"
     ]
    },
    {
     "name": "stdout",
     "output_type": "stream",
     "text": [
      "176c: ['normal', 'hard', 'expert']\n",
      "temporary/cover.png\n",
      "temporary/Expert.dat\n",
      "temporary/Hard.dat\n",
      "temporary/Normal.dat\n",
      "temporary/song.egg\n",
      "temporary/info.dat\n"
     ]
    },
    {
     "name": "stderr",
     "output_type": "stream",
     "text": [
      "/opt/anaconda3/envs/BSmapsynth-env/lib/python3.6/site-packages/librosa/core/audio.py:146: UserWarning: PySoundFile failed. Trying audioread instead.\n",
      "  warnings.warn('PySoundFile failed. Trying audioread instead.')\n",
      "/opt/anaconda3/envs/BSmapsynth-env/lib/python3.6/site-packages/pandas/core/reshape/merge.py:1089: UserWarning: You are merging on int and float columns where the float values are not equal to their int representation\n",
      "  UserWarning,\n"
     ]
    },
    {
     "name": "stdout",
     "output_type": "stream",
     "text": [
      "1716: ['normal', 'hard', 'expert', 'expertPlus']\n",
      "temporary/cover.png\n",
      "temporary/ExpertPlus.dat\n",
      "temporary/Expert.dat\n",
      "temporary/Hard.dat\n",
      "temporary/Normal.dat\n",
      "temporary/song.egg\n",
      "temporary/info.dat\n"
     ]
    },
    {
     "name": "stderr",
     "output_type": "stream",
     "text": [
      "/opt/anaconda3/envs/BSmapsynth-env/lib/python3.6/site-packages/librosa/core/audio.py:146: UserWarning: PySoundFile failed. Trying audioread instead.\n",
      "  warnings.warn('PySoundFile failed. Trying audioread instead.')\n",
      "/opt/anaconda3/envs/BSmapsynth-env/lib/python3.6/site-packages/pandas/core/reshape/merge.py:1089: UserWarning: You are merging on int and float columns where the float values are not equal to their int representation\n",
      "  UserWarning,\n"
     ]
    },
    {
     "name": "stdout",
     "output_type": "stream",
     "text": [
      "16ff: ['expert']\n",
      "temporary/cover.jpg\n",
      "temporary/Expert.dat\n",
      "temporary/song.egg\n",
      "temporary/info.dat\n"
     ]
    },
    {
     "name": "stderr",
     "output_type": "stream",
     "text": [
      "/opt/anaconda3/envs/BSmapsynth-env/lib/python3.6/site-packages/librosa/core/audio.py:146: UserWarning: PySoundFile failed. Trying audioread instead.\n",
      "  warnings.warn('PySoundFile failed. Trying audioread instead.')\n",
      "/opt/anaconda3/envs/BSmapsynth-env/lib/python3.6/site-packages/pandas/core/reshape/merge.py:1089: UserWarning: You are merging on int and float columns where the float values are not equal to their int representation\n",
      "  UserWarning,\n"
     ]
    },
    {
     "name": "stdout",
     "output_type": "stream",
     "text": [
      "166c: ['normal', 'hard', 'expert']\n",
      "temporary/cover.jpg\n",
      "temporary/Expert.dat\n",
      "temporary/Hard.dat\n",
      "temporary/Normal.dat\n",
      "temporary/song.egg\n",
      "temporary/info.dat\n"
     ]
    },
    {
     "name": "stderr",
     "output_type": "stream",
     "text": [
      "/opt/anaconda3/envs/BSmapsynth-env/lib/python3.6/site-packages/librosa/core/audio.py:146: UserWarning: PySoundFile failed. Trying audioread instead.\n",
      "  warnings.warn('PySoundFile failed. Trying audioread instead.')\n",
      "/opt/anaconda3/envs/BSmapsynth-env/lib/python3.6/site-packages/pandas/core/reshape/merge.py:1089: UserWarning: You are merging on int and float columns where the float values are not equal to their int representation\n",
      "  UserWarning,\n"
     ]
    },
    {
     "name": "stdout",
     "output_type": "stream",
     "text": [
      "1602: ['expert']\n",
      "temporary/cover.jpg\n",
      "temporary/Expert.dat\n",
      "temporary/song.egg\n",
      "temporary/info.dat\n"
     ]
    },
    {
     "name": "stderr",
     "output_type": "stream",
     "text": [
      "/opt/anaconda3/envs/BSmapsynth-env/lib/python3.6/site-packages/librosa/core/audio.py:146: UserWarning: PySoundFile failed. Trying audioread instead.\n",
      "  warnings.warn('PySoundFile failed. Trying audioread instead.')\n",
      "/opt/anaconda3/envs/BSmapsynth-env/lib/python3.6/site-packages/pandas/core/reshape/merge.py:1089: UserWarning: You are merging on int and float columns where the float values are not equal to their int representation\n",
      "  UserWarning,\n"
     ]
    },
    {
     "name": "stdout",
     "output_type": "stream",
     "text": [
      "15c6: ['easy', 'normal', 'hard', 'expert']\n",
      "temporary/cover.jpg\n",
      "temporary/Expert.dat\n",
      "temporary/Hard.dat\n",
      "temporary/Normal.dat\n",
      "temporary/Easy.dat\n",
      "temporary/Ghostbusters.egg\n",
      "temporary/info.dat\n"
     ]
    },
    {
     "name": "stderr",
     "output_type": "stream",
     "text": [
      "/opt/anaconda3/envs/BSmapsynth-env/lib/python3.6/site-packages/librosa/core/audio.py:146: UserWarning: PySoundFile failed. Trying audioread instead.\n",
      "  warnings.warn('PySoundFile failed. Trying audioread instead.')\n",
      "/opt/anaconda3/envs/BSmapsynth-env/lib/python3.6/site-packages/pandas/core/reshape/merge.py:1089: UserWarning: You are merging on int and float columns where the float values are not equal to their int representation\n",
      "  UserWarning,\n"
     ]
    },
    {
     "name": "stdout",
     "output_type": "stream",
     "text": [
      "1573: ['easy', 'normal', 'hard', 'expert']\n",
      "temporary/cover.png\n",
      "temporary/Expert.dat\n",
      "temporary/Hard.dat\n",
      "temporary/Normal.dat\n",
      "temporary/Easy.dat\n",
      "temporary/badapple.egg\n",
      "temporary/info.dat\n"
     ]
    },
    {
     "name": "stderr",
     "output_type": "stream",
     "text": [
      "/opt/anaconda3/envs/BSmapsynth-env/lib/python3.6/site-packages/librosa/core/audio.py:146: UserWarning: PySoundFile failed. Trying audioread instead.\n",
      "  warnings.warn('PySoundFile failed. Trying audioread instead.')\n",
      "/opt/anaconda3/envs/BSmapsynth-env/lib/python3.6/site-packages/pandas/core/reshape/merge.py:1089: UserWarning: You are merging on int and float columns where the float values are not equal to their int representation\n",
      "  UserWarning,\n"
     ]
    },
    {
     "name": "stdout",
     "output_type": "stream",
     "text": [
      "14bd: ['normal', 'hard', 'expert']\n",
      "temporary/cover.jpg\n",
      "temporary/Expert.dat\n",
      "temporary/Hard.dat\n",
      "temporary/Normal.dat\n",
      "temporary/song.egg\n",
      "temporary/info.dat\n"
     ]
    },
    {
     "name": "stderr",
     "output_type": "stream",
     "text": [
      "/opt/anaconda3/envs/BSmapsynth-env/lib/python3.6/site-packages/librosa/core/audio.py:146: UserWarning: PySoundFile failed. Trying audioread instead.\n",
      "  warnings.warn('PySoundFile failed. Trying audioread instead.')\n",
      "/opt/anaconda3/envs/BSmapsynth-env/lib/python3.6/site-packages/pandas/core/reshape/merge.py:1089: UserWarning: You are merging on int and float columns where the float values are not equal to their int representation\n",
      "  UserWarning,\n"
     ]
    },
    {
     "name": "stdout",
     "output_type": "stream",
     "text": [
      "14aa: ['normal', 'hard', 'expert']\n",
      "temporary/DummyBG.jpg\n",
      "temporary/Expert.dat\n",
      "temporary/Hard.dat\n",
      "temporary/Normal.dat\n",
      "temporary/UTDummy.egg\n",
      "temporary/info.dat\n"
     ]
    },
    {
     "name": "stderr",
     "output_type": "stream",
     "text": [
      "/opt/anaconda3/envs/BSmapsynth-env/lib/python3.6/site-packages/librosa/core/audio.py:146: UserWarning: PySoundFile failed. Trying audioread instead.\n",
      "  warnings.warn('PySoundFile failed. Trying audioread instead.')\n",
      "/opt/anaconda3/envs/BSmapsynth-env/lib/python3.6/site-packages/pandas/core/reshape/merge.py:1089: UserWarning: You are merging on int and float columns where the float values are not equal to their int representation\n",
      "  UserWarning,\n"
     ]
    },
    {
     "name": "stdout",
     "output_type": "stream",
     "text": [
      "14a1: ['hard', 'expert']\n",
      "temporary/damngoodgame.jpg\n",
      "temporary/Expert.dat\n",
      "temporary/Hard.dat\n",
      "temporary/41_Dance_with_Courtney_Gearsv2.egg\n",
      "temporary/info.dat\n"
     ]
    },
    {
     "name": "stderr",
     "output_type": "stream",
     "text": [
      "/opt/anaconda3/envs/BSmapsynth-env/lib/python3.6/site-packages/librosa/core/audio.py:146: UserWarning: PySoundFile failed. Trying audioread instead.\n",
      "  warnings.warn('PySoundFile failed. Trying audioread instead.')\n",
      "/opt/anaconda3/envs/BSmapsynth-env/lib/python3.6/site-packages/pandas/core/reshape/merge.py:1089: UserWarning: You are merging on int and float columns where the float values are not equal to their int representation\n",
      "  UserWarning,\n"
     ]
    },
    {
     "name": "stdout",
     "output_type": "stream",
     "text": [
      "13e9: ['hard', 'expert']\n",
      "temporary/cover.jpg\n",
      "temporary/Expert.dat\n",
      "temporary/Hard.dat\n",
      "temporary/dark cat - BUBBLE TEA.egg\n",
      "temporary/info.dat\n"
     ]
    },
    {
     "name": "stderr",
     "output_type": "stream",
     "text": [
      "/opt/anaconda3/envs/BSmapsynth-env/lib/python3.6/site-packages/librosa/core/audio.py:146: UserWarning: PySoundFile failed. Trying audioread instead.\n",
      "  warnings.warn('PySoundFile failed. Trying audioread instead.')\n",
      "/opt/anaconda3/envs/BSmapsynth-env/lib/python3.6/site-packages/pandas/core/reshape/merge.py:1089: UserWarning: You are merging on int and float columns where the float values are not equal to their int representation\n",
      "  UserWarning,\n"
     ]
    },
    {
     "name": "stdout",
     "output_type": "stream",
     "text": [
      "133b: ['hard', 'expert']\n",
      "temporary/cover.jpg\n",
      "temporary/Expert.dat\n",
      "temporary/Hard.dat\n",
      "temporary/Daddy.egg\n",
      "temporary/info.dat\n"
     ]
    },
    {
     "name": "stderr",
     "output_type": "stream",
     "text": [
      "/opt/anaconda3/envs/BSmapsynth-env/lib/python3.6/site-packages/librosa/core/audio.py:146: UserWarning: PySoundFile failed. Trying audioread instead.\n",
      "  warnings.warn('PySoundFile failed. Trying audioread instead.')\n",
      "/opt/anaconda3/envs/BSmapsynth-env/lib/python3.6/site-packages/pandas/core/reshape/merge.py:1089: UserWarning: You are merging on int and float columns where the float values are not equal to their int representation\n",
      "  UserWarning,\n"
     ]
    },
    {
     "name": "stdout",
     "output_type": "stream",
     "text": [
      "1311: ['expert', 'expertPlus']\n",
      "temporary/Subtact Restart.png\n",
      "temporary/ExpertPlus.dat\n",
      "temporary/Expert.dat\n",
      "temporary/Subtact Restart.egg\n",
      "temporary/info.dat\n"
     ]
    },
    {
     "name": "stderr",
     "output_type": "stream",
     "text": [
      "/opt/anaconda3/envs/BSmapsynth-env/lib/python3.6/site-packages/librosa/core/audio.py:146: UserWarning: PySoundFile failed. Trying audioread instead.\n",
      "  warnings.warn('PySoundFile failed. Trying audioread instead.')\n",
      "/opt/anaconda3/envs/BSmapsynth-env/lib/python3.6/site-packages/pandas/core/reshape/merge.py:1089: UserWarning: You are merging on int and float columns where the float values are not equal to their int representation\n",
      "  UserWarning,\n"
     ]
    },
    {
     "name": "stdout",
     "output_type": "stream",
     "text": [
      "12f2: ['easy', 'normal', 'hard', 'expert']\n",
      "API call failed at 12f2 with error code 404\n",
      "12d9: ['hard', 'expert']\n",
      "temporary/cover.jpg\n",
      "temporary/Expert.dat\n",
      "temporary/Hard.dat\n",
      "temporary/PixelGalaxy-SnailsHouse.egg\n",
      "temporary/info.dat\n"
     ]
    },
    {
     "name": "stderr",
     "output_type": "stream",
     "text": [
      "/opt/anaconda3/envs/BSmapsynth-env/lib/python3.6/site-packages/librosa/core/audio.py:146: UserWarning: PySoundFile failed. Trying audioread instead.\n",
      "  warnings.warn('PySoundFile failed. Trying audioread instead.')\n",
      "/opt/anaconda3/envs/BSmapsynth-env/lib/python3.6/site-packages/pandas/core/reshape/merge.py:1089: UserWarning: You are merging on int and float columns where the float values are not equal to their int representation\n",
      "  UserWarning,\n"
     ]
    },
    {
     "name": "stdout",
     "output_type": "stream",
     "text": [
      "12ca: ['hard', 'expert']\n",
      "temporary/cover.jpg\n",
      "temporary/Expert.dat\n",
      "temporary/Hard.dat\n",
      "temporary/hellomydudesimthesongfile.egg\n",
      "temporary/info.dat\n"
     ]
    },
    {
     "name": "stderr",
     "output_type": "stream",
     "text": [
      "/opt/anaconda3/envs/BSmapsynth-env/lib/python3.6/site-packages/librosa/core/audio.py:146: UserWarning: PySoundFile failed. Trying audioread instead.\n",
      "  warnings.warn('PySoundFile failed. Trying audioread instead.')\n",
      "/opt/anaconda3/envs/BSmapsynth-env/lib/python3.6/site-packages/pandas/core/reshape/merge.py:1089: UserWarning: You are merging on int and float columns where the float values are not equal to their int representation\n",
      "  UserWarning,\n"
     ]
    },
    {
     "name": "stdout",
     "output_type": "stream",
     "text": [
      "1230: ['easy', 'normal', 'hard', 'expert']\n",
      "temporary/cover.jpg\n",
      "temporary/Expert.dat\n",
      "temporary/Hard.dat\n",
      "temporary/Normal.dat\n",
      "temporary/Easy.dat\n",
      "temporary/Hymn For The Weekend - Coldplay.egg\n",
      "temporary/info.dat\n"
     ]
    },
    {
     "name": "stderr",
     "output_type": "stream",
     "text": [
      "/opt/anaconda3/envs/BSmapsynth-env/lib/python3.6/site-packages/librosa/core/audio.py:146: UserWarning: PySoundFile failed. Trying audioread instead.\n",
      "  warnings.warn('PySoundFile failed. Trying audioread instead.')\n",
      "/opt/anaconda3/envs/BSmapsynth-env/lib/python3.6/site-packages/pandas/core/reshape/merge.py:1089: UserWarning: You are merging on int and float columns where the float values are not equal to their int representation\n",
      "  UserWarning,\n"
     ]
    },
    {
     "name": "stdout",
     "output_type": "stream",
     "text": [
      "121f: ['hard', 'expert']\n",
      "temporary/cover.jpg\n",
      "temporary/Expert.dat\n",
      "temporary/Hard.dat\n",
      "temporary/song.egg\n",
      "temporary/info.dat\n"
     ]
    },
    {
     "name": "stderr",
     "output_type": "stream",
     "text": [
      "/opt/anaconda3/envs/BSmapsynth-env/lib/python3.6/site-packages/librosa/core/audio.py:146: UserWarning: PySoundFile failed. Trying audioread instead.\n",
      "  warnings.warn('PySoundFile failed. Trying audioread instead.')\n",
      "/opt/anaconda3/envs/BSmapsynth-env/lib/python3.6/site-packages/pandas/core/reshape/merge.py:1089: UserWarning: You are merging on int and float columns where the float values are not equal to their int representation\n",
      "  UserWarning,\n"
     ]
    },
    {
     "name": "stdout",
     "output_type": "stream",
     "text": [
      "10e6: ['expert', 'expertPlus']\n",
      "temporary/feintwewontbealone.png\n",
      "temporary/Expert.dat\n",
      "temporary/ExpertPlus.dat\n",
      "temporary/Feint We Wont Be Alone.egg\n",
      "temporary/info.dat\n"
     ]
    },
    {
     "name": "stderr",
     "output_type": "stream",
     "text": [
      "/opt/anaconda3/envs/BSmapsynth-env/lib/python3.6/site-packages/librosa/core/audio.py:146: UserWarning: PySoundFile failed. Trying audioread instead.\n",
      "  warnings.warn('PySoundFile failed. Trying audioread instead.')\n",
      "/opt/anaconda3/envs/BSmapsynth-env/lib/python3.6/site-packages/pandas/core/reshape/merge.py:1089: UserWarning: You are merging on int and float columns where the float values are not equal to their int representation\n",
      "  UserWarning,\n"
     ]
    },
    {
     "name": "stdout",
     "output_type": "stream",
     "text": [
      "1084: ['hard', 'expert']\n",
      "temporary/cover.jpg\n",
      "temporary/Expert.dat\n",
      "temporary/Hard.dat\n",
      "temporary/02 Conqueror.egg\n",
      "temporary/info.dat\n"
     ]
    },
    {
     "name": "stderr",
     "output_type": "stream",
     "text": [
      "/opt/anaconda3/envs/BSmapsynth-env/lib/python3.6/site-packages/librosa/core/audio.py:146: UserWarning: PySoundFile failed. Trying audioread instead.\n",
      "  warnings.warn('PySoundFile failed. Trying audioread instead.')\n",
      "/opt/anaconda3/envs/BSmapsynth-env/lib/python3.6/site-packages/pandas/core/reshape/merge.py:1089: UserWarning: You are merging on int and float columns where the float values are not equal to their int representation\n",
      "  UserWarning,\n"
     ]
    },
    {
     "name": "stdout",
     "output_type": "stream",
     "text": [
      "1060: ['expert']\n",
      "temporary/cover.jpg\n",
      "temporary/Expert.dat\n",
      "temporary/X.egg\n",
      "temporary/info.dat\n"
     ]
    },
    {
     "name": "stderr",
     "output_type": "stream",
     "text": [
      "/opt/anaconda3/envs/BSmapsynth-env/lib/python3.6/site-packages/librosa/core/audio.py:146: UserWarning: PySoundFile failed. Trying audioread instead.\n",
      "  warnings.warn('PySoundFile failed. Trying audioread instead.')\n",
      "/opt/anaconda3/envs/BSmapsynth-env/lib/python3.6/site-packages/pandas/core/reshape/merge.py:1089: UserWarning: You are merging on int and float columns where the float values are not equal to their int representation\n",
      "  UserWarning,\n"
     ]
    },
    {
     "name": "stdout",
     "output_type": "stream",
     "text": [
      "1023: ['expert']\n",
      "temporary/cover.jpg\n",
      "temporary/Expert.dat\n",
      "temporary/song.egg\n",
      "temporary/info.dat\n"
     ]
    },
    {
     "name": "stderr",
     "output_type": "stream",
     "text": [
      "/opt/anaconda3/envs/BSmapsynth-env/lib/python3.6/site-packages/librosa/core/audio.py:146: UserWarning: PySoundFile failed. Trying audioread instead.\n",
      "  warnings.warn('PySoundFile failed. Trying audioread instead.')\n",
      "/opt/anaconda3/envs/BSmapsynth-env/lib/python3.6/site-packages/pandas/core/reshape/merge.py:1089: UserWarning: You are merging on int and float columns where the float values are not equal to their int representation\n",
      "  UserWarning,\n"
     ]
    },
    {
     "name": "stdout",
     "output_type": "stream",
     "text": [
      "efe: ['normal', 'hard', 'expert', 'expertPlus']\n",
      "temporary/cover.png\n",
      "temporary/ExpertPlus.dat\n",
      "temporary/Expert.dat\n",
      "temporary/Hard.dat\n",
      "temporary/Normal.dat\n",
      "temporary/song.egg\n",
      "temporary/info.dat\n"
     ]
    },
    {
     "name": "stderr",
     "output_type": "stream",
     "text": [
      "/opt/anaconda3/envs/BSmapsynth-env/lib/python3.6/site-packages/librosa/core/audio.py:146: UserWarning: PySoundFile failed. Trying audioread instead.\n",
      "  warnings.warn('PySoundFile failed. Trying audioread instead.')\n",
      "/opt/anaconda3/envs/BSmapsynth-env/lib/python3.6/site-packages/pandas/core/reshape/merge.py:1089: UserWarning: You are merging on int and float columns where the float values are not equal to their int representation\n",
      "  UserWarning,\n"
     ]
    },
    {
     "name": "stdout",
     "output_type": "stream",
     "text": [
      "edf: ['expert']\n",
      "temporary/cover.jpg\n",
      "temporary/Expert.dat\n",
      "temporary/song.egg\n",
      "temporary/info.dat\n"
     ]
    },
    {
     "name": "stderr",
     "output_type": "stream",
     "text": [
      "/opt/anaconda3/envs/BSmapsynth-env/lib/python3.6/site-packages/librosa/core/audio.py:146: UserWarning: PySoundFile failed. Trying audioread instead.\n",
      "  warnings.warn('PySoundFile failed. Trying audioread instead.')\n",
      "/opt/anaconda3/envs/BSmapsynth-env/lib/python3.6/site-packages/pandas/core/reshape/merge.py:1089: UserWarning: You are merging on int and float columns where the float values are not equal to their int representation\n",
      "  UserWarning,\n"
     ]
    },
    {
     "name": "stdout",
     "output_type": "stream",
     "text": [
      "ebb: ['easy', 'normal', 'hard', 'expert']\n",
      "temporary/cover.jpg\n",
      "temporary/Expert.dat\n",
      "temporary/Hard.dat\n",
      "temporary/Normal.dat\n",
      "temporary/Easy.dat\n",
      "temporary/Do I Wanna Know.egg\n",
      "temporary/info.dat\n"
     ]
    },
    {
     "name": "stderr",
     "output_type": "stream",
     "text": [
      "/opt/anaconda3/envs/BSmapsynth-env/lib/python3.6/site-packages/librosa/core/audio.py:146: UserWarning: PySoundFile failed. Trying audioread instead.\n",
      "  warnings.warn('PySoundFile failed. Trying audioread instead.')\n",
      "/opt/anaconda3/envs/BSmapsynth-env/lib/python3.6/site-packages/pandas/core/reshape/merge.py:1089: UserWarning: You are merging on int and float columns where the float values are not equal to their int representation\n",
      "  UserWarning,\n"
     ]
    },
    {
     "name": "stdout",
     "output_type": "stream",
     "text": [
      "eba: ['normal', 'hard', 'expert']\n",
      "temporary/cover.jpg\n",
      "temporary/Expert.dat\n",
      "temporary/Hard.dat\n",
      "temporary/Normal.dat\n",
      "temporary/song.egg\n",
      "temporary/info.dat\n"
     ]
    },
    {
     "name": "stderr",
     "output_type": "stream",
     "text": [
      "/opt/anaconda3/envs/BSmapsynth-env/lib/python3.6/site-packages/librosa/core/audio.py:146: UserWarning: PySoundFile failed. Trying audioread instead.\n",
      "  warnings.warn('PySoundFile failed. Trying audioread instead.')\n",
      "/opt/anaconda3/envs/BSmapsynth-env/lib/python3.6/site-packages/pandas/core/reshape/merge.py:1089: UserWarning: You are merging on int and float columns where the float values are not equal to their int representation\n",
      "  UserWarning,\n"
     ]
    },
    {
     "name": "stdout",
     "output_type": "stream",
     "text": [
      "e44: ['expert']\n",
      "temporary/cover.jpg\n",
      "temporary/Expert.dat\n",
      "temporary/08 Big Girl (You Are Beautiful).egg\n",
      "temporary/info.dat\n"
     ]
    },
    {
     "name": "stderr",
     "output_type": "stream",
     "text": [
      "/opt/anaconda3/envs/BSmapsynth-env/lib/python3.6/site-packages/librosa/core/audio.py:146: UserWarning: PySoundFile failed. Trying audioread instead.\n",
      "  warnings.warn('PySoundFile failed. Trying audioread instead.')\n",
      "/opt/anaconda3/envs/BSmapsynth-env/lib/python3.6/site-packages/pandas/core/reshape/merge.py:1089: UserWarning: You are merging on int and float columns where the float values are not equal to their int representation\n",
      "  UserWarning,\n"
     ]
    },
    {
     "name": "stdout",
     "output_type": "stream",
     "text": [
      "d98: ['normal', 'hard', 'expert']\n",
      "temporary/Cover.jpg\n",
      "temporary/song.egg\n",
      "temporary/Expert.dat\n",
      "temporary/Hard.dat\n",
      "temporary/Normal.dat\n",
      "temporary/info.dat\n"
     ]
    },
    {
     "name": "stderr",
     "output_type": "stream",
     "text": [
      "/opt/anaconda3/envs/BSmapsynth-env/lib/python3.6/site-packages/librosa/core/audio.py:146: UserWarning: PySoundFile failed. Trying audioread instead.\n",
      "  warnings.warn('PySoundFile failed. Trying audioread instead.')\n",
      "/opt/anaconda3/envs/BSmapsynth-env/lib/python3.6/site-packages/pandas/core/reshape/merge.py:1089: UserWarning: You are merging on int and float columns where the float values are not equal to their int representation\n",
      "  UserWarning,\n"
     ]
    },
    {
     "name": "stdout",
     "output_type": "stream",
     "text": [
      "ce0: ['expertPlus']\n",
      "temporary/cover.jpg\n",
      "temporary/ExpertPlus.dat\n",
      "temporary/Bitch.egg\n",
      "temporary/info.dat\n"
     ]
    },
    {
     "name": "stderr",
     "output_type": "stream",
     "text": [
      "/opt/anaconda3/envs/BSmapsynth-env/lib/python3.6/site-packages/librosa/core/audio.py:146: UserWarning: PySoundFile failed. Trying audioread instead.\n",
      "  warnings.warn('PySoundFile failed. Trying audioread instead.')\n",
      "/opt/anaconda3/envs/BSmapsynth-env/lib/python3.6/site-packages/pandas/core/reshape/merge.py:1089: UserWarning: You are merging on int and float columns where the float values are not equal to their int representation\n",
      "  UserWarning,\n"
     ]
    },
    {
     "name": "stdout",
     "output_type": "stream",
     "text": [
      "c1d: ['normal', 'hard', 'expert', 'expertPlus']\n",
      "temporary/cover.jpg\n",
      "temporary/ExpertPlus.dat\n",
      "temporary/Expert.dat\n",
      "temporary/Hard.dat\n",
      "temporary/Normal.dat\n",
      "temporary/song.egg\n",
      "temporary/info.dat\n"
     ]
    },
    {
     "name": "stderr",
     "output_type": "stream",
     "text": [
      "/opt/anaconda3/envs/BSmapsynth-env/lib/python3.6/site-packages/librosa/core/audio.py:146: UserWarning: PySoundFile failed. Trying audioread instead.\n",
      "  warnings.warn('PySoundFile failed. Trying audioread instead.')\n",
      "/opt/anaconda3/envs/BSmapsynth-env/lib/python3.6/site-packages/pandas/core/reshape/merge.py:1089: UserWarning: You are merging on int and float columns where the float values are not equal to their int representation\n",
      "  UserWarning,\n"
     ]
    },
    {
     "name": "stdout",
     "output_type": "stream",
     "text": [
      "bd3: ['normal', 'hard', 'expert', 'expertPlus']\n",
      "temporary/cover.png\n",
      "temporary/ExpertPlus.dat\n",
      "temporary/Expert.dat\n",
      "temporary/Hard.dat\n",
      "temporary/Normal.dat\n",
      "temporary/song.egg\n",
      "temporary/info.dat\n"
     ]
    },
    {
     "name": "stderr",
     "output_type": "stream",
     "text": [
      "/opt/anaconda3/envs/BSmapsynth-env/lib/python3.6/site-packages/librosa/core/audio.py:146: UserWarning: PySoundFile failed. Trying audioread instead.\n",
      "  warnings.warn('PySoundFile failed. Trying audioread instead.')\n",
      "/opt/anaconda3/envs/BSmapsynth-env/lib/python3.6/site-packages/pandas/core/reshape/merge.py:1089: UserWarning: You are merging on int and float columns where the float values are not equal to their int representation\n",
      "  UserWarning,\n"
     ]
    },
    {
     "name": "stdout",
     "output_type": "stream",
     "text": [
      "bb4: ['expert']\n",
      "temporary/cover.jpg\n",
      "temporary/Expert.dat\n",
      "temporary/Octopath Traveler Main Theme.egg\n",
      "temporary/info.dat\n"
     ]
    },
    {
     "name": "stderr",
     "output_type": "stream",
     "text": [
      "/opt/anaconda3/envs/BSmapsynth-env/lib/python3.6/site-packages/librosa/core/audio.py:146: UserWarning: PySoundFile failed. Trying audioread instead.\n",
      "  warnings.warn('PySoundFile failed. Trying audioread instead.')\n",
      "/opt/anaconda3/envs/BSmapsynth-env/lib/python3.6/site-packages/pandas/core/reshape/merge.py:1089: UserWarning: You are merging on int and float columns where the float values are not equal to their int representation\n",
      "  UserWarning,\n"
     ]
    },
    {
     "name": "stdout",
     "output_type": "stream",
     "text": [
      "acf: ['hard', 'expert']\n",
      "temporary/cover.jpg\n",
      "temporary/Expert.dat\n",
      "temporary/Hard.dat\n",
      "temporary/song.egg\n",
      "temporary/info.dat\n"
     ]
    },
    {
     "name": "stderr",
     "output_type": "stream",
     "text": [
      "/opt/anaconda3/envs/BSmapsynth-env/lib/python3.6/site-packages/librosa/core/audio.py:146: UserWarning: PySoundFile failed. Trying audioread instead.\n",
      "  warnings.warn('PySoundFile failed. Trying audioread instead.')\n",
      "/opt/anaconda3/envs/BSmapsynth-env/lib/python3.6/site-packages/pandas/core/reshape/merge.py:1089: UserWarning: You are merging on int and float columns where the float values are not equal to their int representation\n",
      "  UserWarning,\n"
     ]
    },
    {
     "name": "stdout",
     "output_type": "stream",
     "text": [
      "ac9: ['hard', 'expert']\n",
      "temporary/cover.jpg\n",
      "temporary/Expert.dat\n",
      "temporary/Hard.dat\n",
      "temporary/song.egg\n",
      "temporary/info.dat\n"
     ]
    },
    {
     "name": "stderr",
     "output_type": "stream",
     "text": [
      "/opt/anaconda3/envs/BSmapsynth-env/lib/python3.6/site-packages/librosa/core/audio.py:146: UserWarning: PySoundFile failed. Trying audioread instead.\n",
      "  warnings.warn('PySoundFile failed. Trying audioread instead.')\n",
      "/opt/anaconda3/envs/BSmapsynth-env/lib/python3.6/site-packages/pandas/core/reshape/merge.py:1089: UserWarning: You are merging on int and float columns where the float values are not equal to their int representation\n",
      "  UserWarning,\n"
     ]
    },
    {
     "name": "stdout",
     "output_type": "stream",
     "text": [
      "a5a: ['expert']\n",
      "temporary/cover.jpg\n",
      "temporary/Expert.dat\n",
      "temporary/Jump Up, Super Star!.egg\n",
      "temporary/info.dat\n"
     ]
    },
    {
     "name": "stderr",
     "output_type": "stream",
     "text": [
      "/opt/anaconda3/envs/BSmapsynth-env/lib/python3.6/site-packages/librosa/core/audio.py:146: UserWarning: PySoundFile failed. Trying audioread instead.\n",
      "  warnings.warn('PySoundFile failed. Trying audioread instead.')\n",
      "/opt/anaconda3/envs/BSmapsynth-env/lib/python3.6/site-packages/pandas/core/reshape/merge.py:1089: UserWarning: You are merging on int and float columns where the float values are not equal to their int representation\n",
      "  UserWarning,\n"
     ]
    },
    {
     "name": "stdout",
     "output_type": "stream",
     "text": [
      "a3a: ['easy', 'normal', 'hard', 'expert']\n",
      "temporary/plat-disco.jpg\n",
      "temporary/Expert.dat\n",
      "temporary/Hard.dat\n",
      "temporary/Normal.dat\n",
      "temporary/Easy.dat\n",
      "temporary/Platinum Disco - Yuka Iguchi.egg\n",
      "temporary/info.dat\n"
     ]
    },
    {
     "name": "stderr",
     "output_type": "stream",
     "text": [
      "/opt/anaconda3/envs/BSmapsynth-env/lib/python3.6/site-packages/librosa/core/audio.py:146: UserWarning: PySoundFile failed. Trying audioread instead.\n",
      "  warnings.warn('PySoundFile failed. Trying audioread instead.')\n",
      "/opt/anaconda3/envs/BSmapsynth-env/lib/python3.6/site-packages/pandas/core/reshape/merge.py:1089: UserWarning: You are merging on int and float columns where the float values are not equal to their int representation\n",
      "  UserWarning,\n"
     ]
    },
    {
     "name": "stdout",
     "output_type": "stream",
     "text": [
      "9d7: ['easy', 'normal', 'hard', 'expert']\n",
      "temporary/cover.jpg\n",
      "temporary/Expert.dat\n",
      "temporary/Hard.dat\n",
      "temporary/Normal.dat\n",
      "temporary/Easy.dat\n",
      "temporary/Back in Black.egg\n",
      "temporary/info.dat\n"
     ]
    },
    {
     "name": "stderr",
     "output_type": "stream",
     "text": [
      "/opt/anaconda3/envs/BSmapsynth-env/lib/python3.6/site-packages/librosa/core/audio.py:146: UserWarning: PySoundFile failed. Trying audioread instead.\n",
      "  warnings.warn('PySoundFile failed. Trying audioread instead.')\n",
      "/opt/anaconda3/envs/BSmapsynth-env/lib/python3.6/site-packages/pandas/core/reshape/merge.py:1089: UserWarning: You are merging on int and float columns where the float values are not equal to their int representation\n",
      "  UserWarning,\n"
     ]
    },
    {
     "name": "stdout",
     "output_type": "stream",
     "text": [
      "9d0: ['hard', 'expert']\n",
      "temporary/cover.png\n",
      "temporary/Expert.dat\n",
      "temporary/Hard.dat\n",
      "temporary/song.egg\n",
      "temporary/info.dat\n"
     ]
    },
    {
     "name": "stderr",
     "output_type": "stream",
     "text": [
      "/opt/anaconda3/envs/BSmapsynth-env/lib/python3.6/site-packages/librosa/core/audio.py:146: UserWarning: PySoundFile failed. Trying audioread instead.\n",
      "  warnings.warn('PySoundFile failed. Trying audioread instead.')\n",
      "/opt/anaconda3/envs/BSmapsynth-env/lib/python3.6/site-packages/pandas/core/reshape/merge.py:1089: UserWarning: You are merging on int and float columns where the float values are not equal to their int representation\n",
      "  UserWarning,\n"
     ]
    },
    {
     "name": "stdout",
     "output_type": "stream",
     "text": [
      "9c9: ['normal', 'hard', 'expert']\n",
      "temporary/cover.jpg\n",
      "temporary/Expert.dat\n",
      "temporary/Hard.dat\n",
      "temporary/Normal.dat\n",
      "temporary/The Final Countdown.egg\n",
      "temporary/info.dat\n"
     ]
    },
    {
     "name": "stderr",
     "output_type": "stream",
     "text": [
      "/opt/anaconda3/envs/BSmapsynth-env/lib/python3.6/site-packages/librosa/core/audio.py:146: UserWarning: PySoundFile failed. Trying audioread instead.\n",
      "  warnings.warn('PySoundFile failed. Trying audioread instead.')\n",
      "/opt/anaconda3/envs/BSmapsynth-env/lib/python3.6/site-packages/pandas/core/reshape/merge.py:1089: UserWarning: You are merging on int and float columns where the float values are not equal to their int representation\n",
      "  UserWarning,\n"
     ]
    },
    {
     "name": "stdout",
     "output_type": "stream",
     "text": [
      "900: ['easy', 'normal', 'hard', 'expert']\n",
      "temporary/cover.jpg\n",
      "temporary/Expert.dat\n",
      "temporary/Hard.dat\n",
      "temporary/Normal.dat\n",
      "temporary/Easy.dat\n",
      "temporary/song.egg\n",
      "temporary/info.dat\n"
     ]
    },
    {
     "name": "stderr",
     "output_type": "stream",
     "text": [
      "/opt/anaconda3/envs/BSmapsynth-env/lib/python3.6/site-packages/librosa/core/audio.py:146: UserWarning: PySoundFile failed. Trying audioread instead.\n",
      "  warnings.warn('PySoundFile failed. Trying audioread instead.')\n",
      "/opt/anaconda3/envs/BSmapsynth-env/lib/python3.6/site-packages/pandas/core/reshape/merge.py:1089: UserWarning: You are merging on int and float columns where the float values are not equal to their int representation\n",
      "  UserWarning,\n"
     ]
    },
    {
     "name": "stdout",
     "output_type": "stream",
     "text": [
      "860: ['normal', 'hard', 'expert']\n",
      "temporary/cover.jpg\n",
      "temporary/Expert.dat\n",
      "temporary/Hard.dat\n",
      "temporary/Normal.dat\n",
      "temporary/song3.egg\n",
      "temporary/info.dat\n"
     ]
    },
    {
     "name": "stderr",
     "output_type": "stream",
     "text": [
      "/opt/anaconda3/envs/BSmapsynth-env/lib/python3.6/site-packages/librosa/core/audio.py:146: UserWarning: PySoundFile failed. Trying audioread instead.\n",
      "  warnings.warn('PySoundFile failed. Trying audioread instead.')\n",
      "/opt/anaconda3/envs/BSmapsynth-env/lib/python3.6/site-packages/pandas/core/reshape/merge.py:1089: UserWarning: You are merging on int and float columns where the float values are not equal to their int representation\n",
      "  UserWarning,\n"
     ]
    },
    {
     "name": "stdout",
     "output_type": "stream",
     "text": [
      "85b: ['hard']\n",
      "temporary/cover.jpg\n",
      "temporary/Hard.dat\n",
      "temporary/Fallout 76.egg\n",
      "temporary/info.dat\n"
     ]
    },
    {
     "name": "stderr",
     "output_type": "stream",
     "text": [
      "/opt/anaconda3/envs/BSmapsynth-env/lib/python3.6/site-packages/librosa/core/audio.py:146: UserWarning: PySoundFile failed. Trying audioread instead.\n",
      "  warnings.warn('PySoundFile failed. Trying audioread instead.')\n",
      "/opt/anaconda3/envs/BSmapsynth-env/lib/python3.6/site-packages/pandas/core/reshape/merge.py:1089: UserWarning: You are merging on int and float columns where the float values are not equal to their int representation\n",
      "  UserWarning,\n"
     ]
    },
    {
     "name": "stdout",
     "output_type": "stream",
     "text": [
      "83b: ['expertPlus']\n",
      "temporary/cover.png\n",
      "temporary/ExpertPlus.dat\n",
      "temporary/song.egg\n",
      "temporary/info.dat\n"
     ]
    },
    {
     "name": "stderr",
     "output_type": "stream",
     "text": [
      "/opt/anaconda3/envs/BSmapsynth-env/lib/python3.6/site-packages/librosa/core/audio.py:146: UserWarning: PySoundFile failed. Trying audioread instead.\n",
      "  warnings.warn('PySoundFile failed. Trying audioread instead.')\n",
      "/opt/anaconda3/envs/BSmapsynth-env/lib/python3.6/site-packages/pandas/core/reshape/merge.py:1089: UserWarning: You are merging on int and float columns where the float values are not equal to their int representation\n",
      "  UserWarning,\n"
     ]
    },
    {
     "name": "stdout",
     "output_type": "stream",
     "text": [
      "78e: ['normal', 'hard', 'expert']\n",
      "temporary/cover.jpg\n",
      "temporary/Expert.dat\n",
      "temporary/Hard.dat\n",
      "temporary/Normal.dat\n",
      "temporary/song.egg\n",
      "temporary/info.dat\n"
     ]
    },
    {
     "name": "stderr",
     "output_type": "stream",
     "text": [
      "/opt/anaconda3/envs/BSmapsynth-env/lib/python3.6/site-packages/librosa/core/audio.py:146: UserWarning: PySoundFile failed. Trying audioread instead.\n",
      "  warnings.warn('PySoundFile failed. Trying audioread instead.')\n",
      "/opt/anaconda3/envs/BSmapsynth-env/lib/python3.6/site-packages/pandas/core/reshape/merge.py:1089: UserWarning: You are merging on int and float columns where the float values are not equal to their int representation\n",
      "  UserWarning,\n"
     ]
    },
    {
     "name": "stdout",
     "output_type": "stream",
     "text": [
      "74a: ['hard', 'expert']\n",
      "temporary/cover.jpg\n",
      "temporary/Expert.dat\n",
      "temporary/Hard.dat\n",
      "temporary/song.egg\n",
      "temporary/info.dat\n"
     ]
    },
    {
     "name": "stderr",
     "output_type": "stream",
     "text": [
      "/opt/anaconda3/envs/BSmapsynth-env/lib/python3.6/site-packages/librosa/core/audio.py:146: UserWarning: PySoundFile failed. Trying audioread instead.\n",
      "  warnings.warn('PySoundFile failed. Trying audioread instead.')\n",
      "/opt/anaconda3/envs/BSmapsynth-env/lib/python3.6/site-packages/pandas/core/reshape/merge.py:1089: UserWarning: You are merging on int and float columns where the float values are not equal to their int representation\n",
      "  UserWarning,\n"
     ]
    },
    {
     "name": "stdout",
     "output_type": "stream",
     "text": [
      "747: ['normal', 'hard', 'expert']\n",
      "temporary/cover.jpg\n",
      "temporary/Expert.dat\n",
      "temporary/Hard.dat\n",
      "temporary/Normal.dat\n",
      "temporary/song.egg\n",
      "temporary/info.dat\n"
     ]
    },
    {
     "name": "stderr",
     "output_type": "stream",
     "text": [
      "/opt/anaconda3/envs/BSmapsynth-env/lib/python3.6/site-packages/librosa/core/audio.py:146: UserWarning: PySoundFile failed. Trying audioread instead.\n",
      "  warnings.warn('PySoundFile failed. Trying audioread instead.')\n",
      "/opt/anaconda3/envs/BSmapsynth-env/lib/python3.6/site-packages/pandas/core/reshape/merge.py:1089: UserWarning: You are merging on int and float columns where the float values are not equal to their int representation\n",
      "  UserWarning,\n"
     ]
    },
    {
     "name": "stdout",
     "output_type": "stream",
     "text": [
      "744: ['hard', 'expert']\n",
      "temporary/cover.jpg\n",
      "temporary/Expert.dat\n",
      "temporary/Hard.dat\n",
      "temporary/song.egg\n",
      "temporary/info.dat\n"
     ]
    },
    {
     "name": "stderr",
     "output_type": "stream",
     "text": [
      "/opt/anaconda3/envs/BSmapsynth-env/lib/python3.6/site-packages/librosa/core/audio.py:146: UserWarning: PySoundFile failed. Trying audioread instead.\n",
      "  warnings.warn('PySoundFile failed. Trying audioread instead.')\n",
      "/opt/anaconda3/envs/BSmapsynth-env/lib/python3.6/site-packages/pandas/core/reshape/merge.py:1089: UserWarning: You are merging on int and float columns where the float values are not equal to their int representation\n",
      "  UserWarning,\n"
     ]
    },
    {
     "name": "stdout",
     "output_type": "stream",
     "text": [
      "709: ['expert']\n",
      "temporary/cover.jpg\n",
      "temporary/Expert.dat\n",
      "temporary/AJR - Weak (Lyrics) HQ.egg\n",
      "temporary/info.dat\n"
     ]
    },
    {
     "name": "stderr",
     "output_type": "stream",
     "text": [
      "/opt/anaconda3/envs/BSmapsynth-env/lib/python3.6/site-packages/librosa/core/audio.py:146: UserWarning: PySoundFile failed. Trying audioread instead.\n",
      "  warnings.warn('PySoundFile failed. Trying audioread instead.')\n",
      "/opt/anaconda3/envs/BSmapsynth-env/lib/python3.6/site-packages/pandas/core/reshape/merge.py:1089: UserWarning: You are merging on int and float columns where the float values are not equal to their int representation\n",
      "  UserWarning,\n"
     ]
    },
    {
     "name": "stdout",
     "output_type": "stream",
     "text": [
      "6ac: ['hard']\n",
      "temporary/cover.jpg\n",
      "temporary/Hard.dat\n",
      "temporary/Pompeii.egg\n",
      "temporary/info.dat\n"
     ]
    },
    {
     "name": "stderr",
     "output_type": "stream",
     "text": [
      "/opt/anaconda3/envs/BSmapsynth-env/lib/python3.6/site-packages/librosa/core/audio.py:146: UserWarning: PySoundFile failed. Trying audioread instead.\n",
      "  warnings.warn('PySoundFile failed. Trying audioread instead.')\n",
      "/opt/anaconda3/envs/BSmapsynth-env/lib/python3.6/site-packages/pandas/core/reshape/merge.py:1089: UserWarning: You are merging on int and float columns where the float values are not equal to their int representation\n",
      "  UserWarning,\n"
     ]
    },
    {
     "name": "stdout",
     "output_type": "stream",
     "text": [
      "687: ['normal', 'hard', 'expert', 'expertPlus']\n",
      "temporary/cover.jpg\n",
      "temporary/ExpertPlus.dat\n",
      "temporary/Expert.dat\n",
      "temporary/Hard.dat\n",
      "temporary/Normal.dat\n",
      "temporary/song.egg\n",
      "temporary/info.dat\n"
     ]
    },
    {
     "name": "stderr",
     "output_type": "stream",
     "text": [
      "/opt/anaconda3/envs/BSmapsynth-env/lib/python3.6/site-packages/librosa/core/audio.py:146: UserWarning: PySoundFile failed. Trying audioread instead.\n",
      "  warnings.warn('PySoundFile failed. Trying audioread instead.')\n",
      "/opt/anaconda3/envs/BSmapsynth-env/lib/python3.6/site-packages/pandas/core/reshape/merge.py:1089: UserWarning: You are merging on int and float columns where the float values are not equal to their int representation\n",
      "  UserWarning,\n"
     ]
    },
    {
     "name": "stdout",
     "output_type": "stream",
     "text": [
      "66f: ['normal', 'hard', 'expert']\n",
      "temporary/cover.jpg\n",
      "temporary/Hard.dat\n",
      "temporary/Expert.dat\n",
      "temporary/Normal.dat\n",
      "temporary/song.egg\n",
      "temporary/info.dat\n"
     ]
    },
    {
     "name": "stderr",
     "output_type": "stream",
     "text": [
      "/opt/anaconda3/envs/BSmapsynth-env/lib/python3.6/site-packages/librosa/core/audio.py:146: UserWarning: PySoundFile failed. Trying audioread instead.\n",
      "  warnings.warn('PySoundFile failed. Trying audioread instead.')\n",
      "/opt/anaconda3/envs/BSmapsynth-env/lib/python3.6/site-packages/pandas/core/reshape/merge.py:1089: UserWarning: You are merging on int and float columns where the float values are not equal to their int representation\n",
      "  UserWarning,\n"
     ]
    },
    {
     "name": "stdout",
     "output_type": "stream",
     "text": [
      "646: ['expert']\n",
      "temporary/copier.js\n",
      "temporary/cover.jpg\n",
      "temporary/Expert - Copy.json\n",
      "temporary/Expert.dat\n",
      "temporary/DJ Okawari - Luv Letter.egg\n",
      "temporary/info.dat\n"
     ]
    },
    {
     "name": "stderr",
     "output_type": "stream",
     "text": [
      "/opt/anaconda3/envs/BSmapsynth-env/lib/python3.6/site-packages/librosa/core/audio.py:146: UserWarning: PySoundFile failed. Trying audioread instead.\n",
      "  warnings.warn('PySoundFile failed. Trying audioread instead.')\n",
      "/opt/anaconda3/envs/BSmapsynth-env/lib/python3.6/site-packages/pandas/core/reshape/merge.py:1089: UserWarning: You are merging on int and float columns where the float values are not equal to their int representation\n",
      "  UserWarning,\n"
     ]
    },
    {
     "name": "stdout",
     "output_type": "stream",
     "text": [
      "636: ['easy', 'hard', 'expert']\n",
      "temporary/cover.png\n",
      "temporary/Expert.dat\n",
      "temporary/Hard.dat\n",
      "temporary/Easy.dat\n",
      "temporary/song.egg\n",
      "temporary/info.dat\n"
     ]
    },
    {
     "name": "stderr",
     "output_type": "stream",
     "text": [
      "/opt/anaconda3/envs/BSmapsynth-env/lib/python3.6/site-packages/librosa/core/audio.py:146: UserWarning: PySoundFile failed. Trying audioread instead.\n",
      "  warnings.warn('PySoundFile failed. Trying audioread instead.')\n",
      "/opt/anaconda3/envs/BSmapsynth-env/lib/python3.6/site-packages/pandas/core/reshape/merge.py:1089: UserWarning: You are merging on int and float columns where the float values are not equal to their int representation\n",
      "  UserWarning,\n"
     ]
    },
    {
     "name": "stdout",
     "output_type": "stream",
     "text": [
      "608: ['easy', 'normal', 'hard', 'expert']\n",
      "temporary/Charts.txt\n",
      "temporary/cover.jpg\n",
      "temporary/Easy.dat\n",
      "temporary/Normal.dat\n",
      "temporary/Hard.dat\n",
      "temporary/Expert.dat\n",
      "temporary/Death to Disco.egg\n",
      "temporary/info.dat\n"
     ]
    },
    {
     "name": "stderr",
     "output_type": "stream",
     "text": [
      "/opt/anaconda3/envs/BSmapsynth-env/lib/python3.6/site-packages/librosa/core/audio.py:146: UserWarning: PySoundFile failed. Trying audioread instead.\n",
      "  warnings.warn('PySoundFile failed. Trying audioread instead.')\n",
      "/opt/anaconda3/envs/BSmapsynth-env/lib/python3.6/site-packages/pandas/core/reshape/merge.py:1089: UserWarning: You are merging on int and float columns where the float values are not equal to their int representation\n",
      "  UserWarning,\n"
     ]
    },
    {
     "name": "stdout",
     "output_type": "stream",
     "text": [
      "5fc: ['easy', 'normal', 'hard', 'expert']\n",
      "temporary/waiting_for_love.jpg\n",
      "temporary/Expert.dat\n",
      "temporary/Normal.dat\n",
      "temporary/Hard.dat\n",
      "temporary/Easy.dat\n",
      "temporary/Avicii - Waiting For Love.egg\n",
      "temporary/info.dat\n"
     ]
    },
    {
     "name": "stderr",
     "output_type": "stream",
     "text": [
      "/opt/anaconda3/envs/BSmapsynth-env/lib/python3.6/site-packages/librosa/core/audio.py:146: UserWarning: PySoundFile failed. Trying audioread instead.\n",
      "  warnings.warn('PySoundFile failed. Trying audioread instead.')\n",
      "/opt/anaconda3/envs/BSmapsynth-env/lib/python3.6/site-packages/pandas/core/reshape/merge.py:1089: UserWarning: You are merging on int and float columns where the float values are not equal to their int representation\n",
      "  UserWarning,\n"
     ]
    },
    {
     "name": "stdout",
     "output_type": "stream",
     "text": [
      "58e: ['normal', 'hard', 'expert']\n",
      "temporary/cover.jpg\n",
      "temporary/Expert.dat\n",
      "temporary/Hard.dat\n",
      "temporary/Normal.dat\n",
      "temporary/song.egg\n",
      "temporary/info.dat\n"
     ]
    },
    {
     "name": "stderr",
     "output_type": "stream",
     "text": [
      "/opt/anaconda3/envs/BSmapsynth-env/lib/python3.6/site-packages/librosa/core/audio.py:146: UserWarning: PySoundFile failed. Trying audioread instead.\n",
      "  warnings.warn('PySoundFile failed. Trying audioread instead.')\n",
      "/opt/anaconda3/envs/BSmapsynth-env/lib/python3.6/site-packages/pandas/core/reshape/merge.py:1089: UserWarning: You are merging on int and float columns where the float values are not equal to their int representation\n",
      "  UserWarning,\n"
     ]
    },
    {
     "name": "stdout",
     "output_type": "stream",
     "text": [
      "57e: ['expert', 'expertPlus']\n",
      "temporary/owl.jpg\n",
      "temporary/ExpertPlus.dat\n",
      "temporary/Expert.dat\n",
      "temporary/whencaniseeyouagain.egg\n",
      "temporary/info.dat\n"
     ]
    },
    {
     "name": "stderr",
     "output_type": "stream",
     "text": [
      "/opt/anaconda3/envs/BSmapsynth-env/lib/python3.6/site-packages/librosa/core/audio.py:146: UserWarning: PySoundFile failed. Trying audioread instead.\n",
      "  warnings.warn('PySoundFile failed. Trying audioread instead.')\n",
      "/opt/anaconda3/envs/BSmapsynth-env/lib/python3.6/site-packages/pandas/core/reshape/merge.py:1089: UserWarning: You are merging on int and float columns where the float values are not equal to their int representation\n",
      "  UserWarning,\n"
     ]
    },
    {
     "name": "stdout",
     "output_type": "stream",
     "text": [
      "570: ['normal', 'hard', 'expert']\n",
      "temporary/cover.jpg\n",
      "temporary/song.egg\n",
      "temporary/Expert.dat\n",
      "temporary/Hard.dat\n",
      "temporary/Normal.dat\n",
      "temporary/info.dat\n"
     ]
    },
    {
     "name": "stderr",
     "output_type": "stream",
     "text": [
      "/opt/anaconda3/envs/BSmapsynth-env/lib/python3.6/site-packages/librosa/core/audio.py:146: UserWarning: PySoundFile failed. Trying audioread instead.\n",
      "  warnings.warn('PySoundFile failed. Trying audioread instead.')\n",
      "/opt/anaconda3/envs/BSmapsynth-env/lib/python3.6/site-packages/pandas/core/reshape/merge.py:1089: UserWarning: You are merging on int and float columns where the float values are not equal to their int representation\n",
      "  UserWarning,\n"
     ]
    },
    {
     "name": "stdout",
     "output_type": "stream",
     "text": [
      "4d4: ['expert']\n",
      "temporary/icon.png\n",
      "temporary/Expert.dat\n",
      "temporary/song.egg\n",
      "temporary/info.dat\n"
     ]
    },
    {
     "name": "stderr",
     "output_type": "stream",
     "text": [
      "/opt/anaconda3/envs/BSmapsynth-env/lib/python3.6/site-packages/librosa/core/audio.py:146: UserWarning: PySoundFile failed. Trying audioread instead.\n",
      "  warnings.warn('PySoundFile failed. Trying audioread instead.')\n",
      "/opt/anaconda3/envs/BSmapsynth-env/lib/python3.6/site-packages/pandas/core/reshape/merge.py:1089: UserWarning: You are merging on int and float columns where the float values are not equal to their int representation\n",
      "  UserWarning,\n"
     ]
    },
    {
     "name": "stdout",
     "output_type": "stream",
     "text": [
      "4c6: ['hard', 'expert']\n",
      "temporary/cover.jpg\n",
      "temporary/Expert.dat\n",
      "temporary/Hard.dat\n",
      "temporary/song.egg\n",
      "temporary/info.dat\n"
     ]
    },
    {
     "name": "stderr",
     "output_type": "stream",
     "text": [
      "/opt/anaconda3/envs/BSmapsynth-env/lib/python3.6/site-packages/librosa/core/audio.py:146: UserWarning: PySoundFile failed. Trying audioread instead.\n",
      "  warnings.warn('PySoundFile failed. Trying audioread instead.')\n",
      "/opt/anaconda3/envs/BSmapsynth-env/lib/python3.6/site-packages/pandas/core/reshape/merge.py:1089: UserWarning: You are merging on int and float columns where the float values are not equal to their int representation\n",
      "  UserWarning,\n"
     ]
    },
    {
     "name": "stdout",
     "output_type": "stream",
     "text": [
      "480: ['normal', 'hard', 'expert']\n",
      "temporary/cover.jpg\n",
      "temporary/Expert.dat\n",
      "temporary/Hard.dat\n",
      "temporary/Normal.dat\n",
      "temporary/Earth Wind Fire - September.egg\n",
      "temporary/info.dat\n"
     ]
    },
    {
     "name": "stderr",
     "output_type": "stream",
     "text": [
      "/opt/anaconda3/envs/BSmapsynth-env/lib/python3.6/site-packages/librosa/core/audio.py:146: UserWarning: PySoundFile failed. Trying audioread instead.\n",
      "  warnings.warn('PySoundFile failed. Trying audioread instead.')\n",
      "/opt/anaconda3/envs/BSmapsynth-env/lib/python3.6/site-packages/pandas/core/reshape/merge.py:1089: UserWarning: You are merging on int and float columns where the float values are not equal to their int representation\n",
      "  UserWarning,\n"
     ]
    },
    {
     "name": "stdout",
     "output_type": "stream",
     "text": [
      "475: ['normal', 'expert']\n",
      "temporary/cover.jpg\n",
      "temporary/Expert.dat\n",
      "temporary/Normal.dat\n",
      "temporary/song.egg\n",
      "temporary/info.dat\n"
     ]
    },
    {
     "name": "stderr",
     "output_type": "stream",
     "text": [
      "/opt/anaconda3/envs/BSmapsynth-env/lib/python3.6/site-packages/librosa/core/audio.py:146: UserWarning: PySoundFile failed. Trying audioread instead.\n",
      "  warnings.warn('PySoundFile failed. Trying audioread instead.')\n",
      "/opt/anaconda3/envs/BSmapsynth-env/lib/python3.6/site-packages/pandas/core/reshape/merge.py:1089: UserWarning: You are merging on int and float columns where the float values are not equal to their int representation\n",
      "  UserWarning,\n"
     ]
    },
    {
     "name": "stdout",
     "output_type": "stream",
     "text": [
      "462: ['normal', 'hard', 'expert']\n",
      "temporary/the nights - avicii.jpg\n",
      "temporary/Expert.dat\n",
      "temporary/Hard.dat\n",
      "temporary/Normal.dat\n",
      "temporary/Avicii_-_The_Nights_192_kbps.egg\n",
      "temporary/info.dat\n"
     ]
    },
    {
     "name": "stderr",
     "output_type": "stream",
     "text": [
      "/opt/anaconda3/envs/BSmapsynth-env/lib/python3.6/site-packages/librosa/core/audio.py:146: UserWarning: PySoundFile failed. Trying audioread instead.\n",
      "  warnings.warn('PySoundFile failed. Trying audioread instead.')\n",
      "/opt/anaconda3/envs/BSmapsynth-env/lib/python3.6/site-packages/pandas/core/reshape/merge.py:1089: UserWarning: You are merging on int and float columns where the float values are not equal to their int representation\n",
      "  UserWarning,\n"
     ]
    },
    {
     "name": "stdout",
     "output_type": "stream",
     "text": [
      "45e: ['expert']\n",
      "temporary/cover.png\n",
      "temporary/Expert.dat\n",
      "temporary/song.egg\n",
      "temporary/info.dat\n"
     ]
    },
    {
     "name": "stderr",
     "output_type": "stream",
     "text": [
      "/opt/anaconda3/envs/BSmapsynth-env/lib/python3.6/site-packages/librosa/core/audio.py:146: UserWarning: PySoundFile failed. Trying audioread instead.\n",
      "  warnings.warn('PySoundFile failed. Trying audioread instead.')\n",
      "/opt/anaconda3/envs/BSmapsynth-env/lib/python3.6/site-packages/pandas/core/reshape/merge.py:1089: UserWarning: You are merging on int and float columns where the float values are not equal to their int representation\n",
      "  UserWarning,\n"
     ]
    },
    {
     "name": "stdout",
     "output_type": "stream",
     "text": [
      "459: ['normal', 'hard', 'expert']\n",
      "temporary/cover.jpg\n",
      "temporary/Expert.dat\n",
      "temporary/Hard.dat\n",
      "temporary/Normal.dat\n",
      "temporary/song.egg\n",
      "temporary/info.dat\n"
     ]
    },
    {
     "name": "stderr",
     "output_type": "stream",
     "text": [
      "/opt/anaconda3/envs/BSmapsynth-env/lib/python3.6/site-packages/librosa/core/audio.py:146: UserWarning: PySoundFile failed. Trying audioread instead.\n",
      "  warnings.warn('PySoundFile failed. Trying audioread instead.')\n",
      "/opt/anaconda3/envs/BSmapsynth-env/lib/python3.6/site-packages/pandas/core/reshape/merge.py:1089: UserWarning: You are merging on int and float columns where the float values are not equal to their int representation\n",
      "  UserWarning,\n"
     ]
    },
    {
     "name": "stdout",
     "output_type": "stream",
     "text": [
      "446: ['normal', 'hard', 'expert']\n",
      "temporary/cover.jpg\n",
      "temporary/Expert.dat\n",
      "temporary/Hard.dat\n",
      "temporary/Normal.dat\n",
      "temporary/song.egg\n",
      "temporary/info.dat\n"
     ]
    },
    {
     "name": "stderr",
     "output_type": "stream",
     "text": [
      "/opt/anaconda3/envs/BSmapsynth-env/lib/python3.6/site-packages/librosa/core/audio.py:146: UserWarning: PySoundFile failed. Trying audioread instead.\n",
      "  warnings.warn('PySoundFile failed. Trying audioread instead.')\n",
      "/opt/anaconda3/envs/BSmapsynth-env/lib/python3.6/site-packages/pandas/core/reshape/merge.py:1089: UserWarning: You are merging on int and float columns where the float values are not equal to their int representation\n",
      "  UserWarning,\n"
     ]
    },
    {
     "name": "stdout",
     "output_type": "stream",
     "text": [
      "41b: ['normal', 'hard', 'expert']\n",
      "temporary/cover.jpg\n",
      "temporary/song.egg\n",
      "temporary/Expert.dat\n",
      "temporary/Hard.dat\n",
      "temporary/Normal.dat\n",
      "temporary/info.dat\n"
     ]
    },
    {
     "name": "stderr",
     "output_type": "stream",
     "text": [
      "/opt/anaconda3/envs/BSmapsynth-env/lib/python3.6/site-packages/librosa/core/audio.py:146: UserWarning: PySoundFile failed. Trying audioread instead.\n",
      "  warnings.warn('PySoundFile failed. Trying audioread instead.')\n",
      "/opt/anaconda3/envs/BSmapsynth-env/lib/python3.6/site-packages/pandas/core/reshape/merge.py:1089: UserWarning: You are merging on int and float columns where the float values are not equal to their int representation\n",
      "  UserWarning,\n"
     ]
    },
    {
     "name": "stdout",
     "output_type": "stream",
     "text": [
      "3fc: ['normal', 'hard']\n",
      "temporary/cover.jpg\n",
      "temporary/Hard.dat\n",
      "temporary/Normal.dat\n",
      "temporary/song.egg\n",
      "temporary/info.dat\n"
     ]
    },
    {
     "name": "stderr",
     "output_type": "stream",
     "text": [
      "/opt/anaconda3/envs/BSmapsynth-env/lib/python3.6/site-packages/librosa/core/audio.py:146: UserWarning: PySoundFile failed. Trying audioread instead.\n",
      "  warnings.warn('PySoundFile failed. Trying audioread instead.')\n",
      "/opt/anaconda3/envs/BSmapsynth-env/lib/python3.6/site-packages/pandas/core/reshape/merge.py:1089: UserWarning: You are merging on int and float columns where the float values are not equal to their int representation\n",
      "  UserWarning,\n"
     ]
    },
    {
     "name": "stdout",
     "output_type": "stream",
     "text": [
      "3e4: ['normal', 'hard', 'expert', 'expertPlus']\n",
      "temporary/cover.jpg\n",
      "temporary/ExpertPlus.dat\n",
      "temporary/Expert.dat\n",
      "temporary/Hard.dat\n",
      "temporary/Normal.dat\n",
      "temporary/I'll Make A Man Out Of You.egg\n",
      "temporary/info.dat\n"
     ]
    },
    {
     "name": "stderr",
     "output_type": "stream",
     "text": [
      "/opt/anaconda3/envs/BSmapsynth-env/lib/python3.6/site-packages/librosa/core/audio.py:146: UserWarning: PySoundFile failed. Trying audioread instead.\n",
      "  warnings.warn('PySoundFile failed. Trying audioread instead.')\n",
      "/opt/anaconda3/envs/BSmapsynth-env/lib/python3.6/site-packages/pandas/core/reshape/merge.py:1089: UserWarning: You are merging on int and float columns where the float values are not equal to their int representation\n",
      "  UserWarning,\n"
     ]
    },
    {
     "name": "stdout",
     "output_type": "stream",
     "text": [
      "3a4: ['normal', 'hard', 'expert']\n",
      "temporary/cover.jpg\n",
      "temporary/Expert.dat\n",
      "temporary/Hard.dat\n",
      "temporary/Normal.dat\n",
      "temporary/song.egg\n",
      "temporary/info.dat\n"
     ]
    },
    {
     "name": "stderr",
     "output_type": "stream",
     "text": [
      "/opt/anaconda3/envs/BSmapsynth-env/lib/python3.6/site-packages/librosa/core/audio.py:146: UserWarning: PySoundFile failed. Trying audioread instead.\n",
      "  warnings.warn('PySoundFile failed. Trying audioread instead.')\n",
      "/opt/anaconda3/envs/BSmapsynth-env/lib/python3.6/site-packages/pandas/core/reshape/merge.py:1089: UserWarning: You are merging on int and float columns where the float values are not equal to their int representation\n",
      "  UserWarning,\n"
     ]
    },
    {
     "name": "stdout",
     "output_type": "stream",
     "text": [
      "393: ['hard']\n",
      "temporary/ozone.jpg\n",
      "temporary/Hard.dat\n",
      "temporary/numanuma.egg\n",
      "temporary/info.dat\n"
     ]
    },
    {
     "name": "stderr",
     "output_type": "stream",
     "text": [
      "/opt/anaconda3/envs/BSmapsynth-env/lib/python3.6/site-packages/librosa/core/audio.py:146: UserWarning: PySoundFile failed. Trying audioread instead.\n",
      "  warnings.warn('PySoundFile failed. Trying audioread instead.')\n",
      "/opt/anaconda3/envs/BSmapsynth-env/lib/python3.6/site-packages/pandas/core/reshape/merge.py:1089: UserWarning: You are merging on int and float columns where the float values are not equal to their int representation\n",
      "  UserWarning,\n"
     ]
    },
    {
     "name": "stdout",
     "output_type": "stream",
     "text": [
      "384: ['normal', 'hard', 'expert']\n",
      "temporary/cover.jpg\n",
      "temporary/Expert.dat\n",
      "temporary/Hard.dat\n",
      "temporary/Normal.dat\n",
      "temporary/song.egg\n",
      "temporary/info.dat\n"
     ]
    },
    {
     "name": "stderr",
     "output_type": "stream",
     "text": [
      "/opt/anaconda3/envs/BSmapsynth-env/lib/python3.6/site-packages/librosa/core/audio.py:146: UserWarning: PySoundFile failed. Trying audioread instead.\n",
      "  warnings.warn('PySoundFile failed. Trying audioread instead.')\n",
      "/opt/anaconda3/envs/BSmapsynth-env/lib/python3.6/site-packages/pandas/core/reshape/merge.py:1089: UserWarning: You are merging on int and float columns where the float values are not equal to their int representation\n",
      "  UserWarning,\n"
     ]
    },
    {
     "name": "stdout",
     "output_type": "stream",
     "text": [
      "348: ['normal', 'hard', 'expert']\n",
      "temporary/cover.jpg\n",
      "temporary/Expert - Copy.json\n",
      "temporary/Expert.dat\n",
      "temporary/Hard.dat\n",
      "temporary/Normal.dat\n",
      "temporary/song.egg\n",
      "temporary/info.dat\n"
     ]
    },
    {
     "name": "stderr",
     "output_type": "stream",
     "text": [
      "/opt/anaconda3/envs/BSmapsynth-env/lib/python3.6/site-packages/librosa/core/audio.py:146: UserWarning: PySoundFile failed. Trying audioread instead.\n",
      "  warnings.warn('PySoundFile failed. Trying audioread instead.')\n",
      "/opt/anaconda3/envs/BSmapsynth-env/lib/python3.6/site-packages/pandas/core/reshape/merge.py:1089: UserWarning: You are merging on int and float columns where the float values are not equal to their int representation\n",
      "  UserWarning,\n"
     ]
    },
    {
     "name": "stdout",
     "output_type": "stream",
     "text": [
      "32e: ['hard', 'expert']\n",
      "temporary/Cover.jpg\n",
      "temporary/Expert.dat\n",
      "temporary/Hard.dat\n",
      "temporary/Daft Punk - Harder Better Faster Stronger.egg\n",
      "temporary/info.dat\n"
     ]
    },
    {
     "name": "stderr",
     "output_type": "stream",
     "text": [
      "/opt/anaconda3/envs/BSmapsynth-env/lib/python3.6/site-packages/librosa/core/audio.py:146: UserWarning: PySoundFile failed. Trying audioread instead.\n",
      "  warnings.warn('PySoundFile failed. Trying audioread instead.')\n",
      "/opt/anaconda3/envs/BSmapsynth-env/lib/python3.6/site-packages/pandas/core/reshape/merge.py:1089: UserWarning: You are merging on int and float columns where the float values are not equal to their int representation\n",
      "  UserWarning,\n"
     ]
    },
    {
     "name": "stdout",
     "output_type": "stream",
     "text": [
      "2ef: ['hard']\n",
      "temporary/art1.jpg\n",
      "temporary/Hard.dat\n",
      "temporary/evangelion.egg\n",
      "temporary/info.dat\n"
     ]
    },
    {
     "name": "stderr",
     "output_type": "stream",
     "text": [
      "/opt/anaconda3/envs/BSmapsynth-env/lib/python3.6/site-packages/librosa/core/audio.py:146: UserWarning: PySoundFile failed. Trying audioread instead.\n",
      "  warnings.warn('PySoundFile failed. Trying audioread instead.')\n",
      "/opt/anaconda3/envs/BSmapsynth-env/lib/python3.6/site-packages/pandas/core/reshape/merge.py:1089: UserWarning: You are merging on int and float columns where the float values are not equal to their int representation\n",
      "  UserWarning,\n"
     ]
    },
    {
     "name": "stdout",
     "output_type": "stream",
     "text": [
      "2c3: ['expert']\n",
      "temporary/KOTO.jpg\n",
      "temporary/Expert.dat\n",
      "temporary/koto.egg\n",
      "temporary/info.dat\n"
     ]
    },
    {
     "name": "stderr",
     "output_type": "stream",
     "text": [
      "/opt/anaconda3/envs/BSmapsynth-env/lib/python3.6/site-packages/librosa/core/audio.py:146: UserWarning: PySoundFile failed. Trying audioread instead.\n",
      "  warnings.warn('PySoundFile failed. Trying audioread instead.')\n",
      "/opt/anaconda3/envs/BSmapsynth-env/lib/python3.6/site-packages/pandas/core/reshape/merge.py:1089: UserWarning: You are merging on int and float columns where the float values are not equal to their int representation\n",
      "  UserWarning,\n"
     ]
    },
    {
     "name": "stdout",
     "output_type": "stream",
     "text": [
      "24e: ['easy', 'normal', 'hard', 'expert']\n",
      "temporary/GetSchwiftyCover.jpg\n",
      "temporary/Expert.dat\n",
      "temporary/Hard.dat\n",
      "temporary/Normal.dat\n",
      "temporary/Easy.dat\n",
      "temporary/Maculate - Rick & Morty - Get Schwifty (Andromulus Remix).egg\n",
      "temporary/info.dat\n"
     ]
    },
    {
     "name": "stderr",
     "output_type": "stream",
     "text": [
      "/opt/anaconda3/envs/BSmapsynth-env/lib/python3.6/site-packages/librosa/core/audio.py:146: UserWarning: PySoundFile failed. Trying audioread instead.\n",
      "  warnings.warn('PySoundFile failed. Trying audioread instead.')\n",
      "/opt/anaconda3/envs/BSmapsynth-env/lib/python3.6/site-packages/pandas/core/reshape/merge.py:1089: UserWarning: You are merging on int and float columns where the float values are not equal to their int representation\n",
      "  UserWarning,\n"
     ]
    },
    {
     "name": "stdout",
     "output_type": "stream",
     "text": [
      "235: ['easy', 'normal', 'hard', 'expert']\n",
      "temporary/DoomsdayCover1.jpg\n",
      "temporary/Expert.dat\n",
      "temporary/Hard.dat\n",
      "temporary/Normal.dat\n",
      "temporary/Easy.dat\n",
      "temporary/Doomsday.egg\n",
      "temporary/info.dat\n"
     ]
    },
    {
     "name": "stderr",
     "output_type": "stream",
     "text": [
      "/opt/anaconda3/envs/BSmapsynth-env/lib/python3.6/site-packages/librosa/core/audio.py:146: UserWarning: PySoundFile failed. Trying audioread instead.\n",
      "  warnings.warn('PySoundFile failed. Trying audioread instead.')\n",
      "/opt/anaconda3/envs/BSmapsynth-env/lib/python3.6/site-packages/pandas/core/reshape/merge.py:1089: UserWarning: You are merging on int and float columns where the float values are not equal to their int representation\n",
      "  UserWarning,\n"
     ]
    },
    {
     "name": "stdout",
     "output_type": "stream",
     "text": [
      "21c: ['normal', 'hard', 'expert']\n",
      "temporary/cover.jpg\n",
      "temporary/Expert.dat\n",
      "temporary/Hard.dat\n",
      "temporary/Normal.dat\n",
      "temporary/Freaks.egg\n",
      "temporary/info.dat\n"
     ]
    },
    {
     "name": "stderr",
     "output_type": "stream",
     "text": [
      "/opt/anaconda3/envs/BSmapsynth-env/lib/python3.6/site-packages/librosa/core/audio.py:146: UserWarning: PySoundFile failed. Trying audioread instead.\n",
      "  warnings.warn('PySoundFile failed. Trying audioread instead.')\n",
      "/opt/anaconda3/envs/BSmapsynth-env/lib/python3.6/site-packages/pandas/core/reshape/merge.py:1089: UserWarning: You are merging on int and float columns where the float values are not equal to their int representation\n",
      "  UserWarning,\n"
     ]
    },
    {
     "name": "stdout",
     "output_type": "stream",
     "text": [
      "217: ['easy', 'normal', 'hard', 'expert']\n",
      "temporary/Beat it.egg\n",
      "temporary/cover.jpg\n",
      "temporary/Expert.dat\n",
      "temporary/Hard.dat\n",
      "temporary/Normal.dat\n",
      "temporary/Easy.dat\n",
      "temporary/info.dat\n"
     ]
    },
    {
     "name": "stderr",
     "output_type": "stream",
     "text": [
      "/opt/anaconda3/envs/BSmapsynth-env/lib/python3.6/site-packages/librosa/core/audio.py:146: UserWarning: PySoundFile failed. Trying audioread instead.\n",
      "  warnings.warn('PySoundFile failed. Trying audioread instead.')\n",
      "/opt/anaconda3/envs/BSmapsynth-env/lib/python3.6/site-packages/pandas/core/reshape/merge.py:1089: UserWarning: You are merging on int and float columns where the float values are not equal to their int representation\n",
      "  UserWarning,\n"
     ]
    },
    {
     "name": "stdout",
     "output_type": "stream",
     "text": [
      "201: ['normal']\n",
      "temporary/cover.jpg\n",
      "temporary/Normal.dat\n",
      "temporary/song.egg\n",
      "temporary/info.dat\n"
     ]
    },
    {
     "name": "stderr",
     "output_type": "stream",
     "text": [
      "/opt/anaconda3/envs/BSmapsynth-env/lib/python3.6/site-packages/librosa/core/audio.py:146: UserWarning: PySoundFile failed. Trying audioread instead.\n",
      "  warnings.warn('PySoundFile failed. Trying audioread instead.')\n",
      "/opt/anaconda3/envs/BSmapsynth-env/lib/python3.6/site-packages/pandas/core/reshape/merge.py:1089: UserWarning: You are merging on int and float columns where the float values are not equal to their int representation\n",
      "  UserWarning,\n"
     ]
    },
    {
     "name": "stdout",
     "output_type": "stream",
     "text": [
      "1c1: ['easy', 'normal', 'hard', 'expert']\n",
      "temporary/shia-labeouf.jpg\n",
      "temporary/Hard.dat\n",
      "temporary/Normal.dat\n",
      "temporary/Easy.dat\n",
      "temporary/Expert.dat\n",
      "temporary/Shia LaBeouf.egg\n",
      "temporary/info.dat\n"
     ]
    },
    {
     "name": "stderr",
     "output_type": "stream",
     "text": [
      "/opt/anaconda3/envs/BSmapsynth-env/lib/python3.6/site-packages/librosa/core/audio.py:146: UserWarning: PySoundFile failed. Trying audioread instead.\n",
      "  warnings.warn('PySoundFile failed. Trying audioread instead.')\n",
      "/opt/anaconda3/envs/BSmapsynth-env/lib/python3.6/site-packages/pandas/core/reshape/merge.py:1089: UserWarning: You are merging on int and float columns where the float values are not equal to their int representation\n",
      "  UserWarning,\n"
     ]
    },
    {
     "name": "stdout",
     "output_type": "stream",
     "text": [
      "1bf: ['easy', 'normal', 'hard', 'expert']\n",
      "temporary/cover.jpg\n",
      "temporary/Hard.dat\n",
      "temporary/Normal.dat\n",
      "temporary/Expert.dat\n",
      "temporary/Easy.dat\n",
      "temporary/Caravan Palace - Lone Digger.egg\n",
      "temporary/info.dat\n"
     ]
    },
    {
     "name": "stderr",
     "output_type": "stream",
     "text": [
      "/opt/anaconda3/envs/BSmapsynth-env/lib/python3.6/site-packages/librosa/core/audio.py:146: UserWarning: PySoundFile failed. Trying audioread instead.\n",
      "  warnings.warn('PySoundFile failed. Trying audioread instead.')\n",
      "/opt/anaconda3/envs/BSmapsynth-env/lib/python3.6/site-packages/pandas/core/reshape/merge.py:1089: UserWarning: You are merging on int and float columns where the float values are not equal to their int representation\n",
      "  UserWarning,\n"
     ]
    },
    {
     "name": "stdout",
     "output_type": "stream",
     "text": [
      "19a: ['normal', 'hard', 'expert']\n",
      "temporary/cover.jpg\n",
      "temporary/Expert.dat\n",
      "temporary/Hard.dat\n",
      "temporary/Normal.dat\n",
      "temporary/Cool Patrol - NSP.egg\n",
      "temporary/info.dat\n"
     ]
    },
    {
     "name": "stderr",
     "output_type": "stream",
     "text": [
      "/opt/anaconda3/envs/BSmapsynth-env/lib/python3.6/site-packages/librosa/core/audio.py:146: UserWarning: PySoundFile failed. Trying audioread instead.\n",
      "  warnings.warn('PySoundFile failed. Trying audioread instead.')\n",
      "/opt/anaconda3/envs/BSmapsynth-env/lib/python3.6/site-packages/pandas/core/reshape/merge.py:1089: UserWarning: You are merging on int and float columns where the float values are not equal to their int representation\n",
      "  UserWarning,\n"
     ]
    },
    {
     "name": "stdout",
     "output_type": "stream",
     "text": [
      "18b: ['normal', 'hard', 'expert']\n",
      "temporary/cover.jpg\n",
      "temporary/Expert.dat\n",
      "temporary/Hard.dat\n",
      "temporary/Normal.dat\n",
      "temporary/song.egg\n",
      "temporary/info.dat\n"
     ]
    },
    {
     "name": "stderr",
     "output_type": "stream",
     "text": [
      "/opt/anaconda3/envs/BSmapsynth-env/lib/python3.6/site-packages/librosa/core/audio.py:146: UserWarning: PySoundFile failed. Trying audioread instead.\n",
      "  warnings.warn('PySoundFile failed. Trying audioread instead.')\n",
      "/opt/anaconda3/envs/BSmapsynth-env/lib/python3.6/site-packages/pandas/core/reshape/merge.py:1089: UserWarning: You are merging on int and float columns where the float values are not equal to their int representation\n",
      "  UserWarning,\n"
     ]
    },
    {
     "name": "stdout",
     "output_type": "stream",
     "text": [
      "17d: ['hard', 'expert']\n",
      "temporary/cover.jpg\n",
      "temporary/Hard.dat\n",
      "temporary/Expert.dat\n",
      "temporary/Life Will Change.egg\n",
      "temporary/info.dat\n"
     ]
    },
    {
     "name": "stderr",
     "output_type": "stream",
     "text": [
      "/opt/anaconda3/envs/BSmapsynth-env/lib/python3.6/site-packages/librosa/core/audio.py:146: UserWarning: PySoundFile failed. Trying audioread instead.\n",
      "  warnings.warn('PySoundFile failed. Trying audioread instead.')\n",
      "/opt/anaconda3/envs/BSmapsynth-env/lib/python3.6/site-packages/pandas/core/reshape/merge.py:1089: UserWarning: You are merging on int and float columns where the float values are not equal to their int representation\n",
      "  UserWarning,\n"
     ]
    },
    {
     "name": "stdout",
     "output_type": "stream",
     "text": [
      "157: ['normal', 'hard', 'expert']\n",
      "temporary/cover.jpg\n",
      "temporary/Normal.dat\n",
      "temporary/Hard.dat\n",
      "temporary/Expert.dat\n",
      "temporary/song.egg\n",
      "temporary/info.dat\n"
     ]
    },
    {
     "name": "stderr",
     "output_type": "stream",
     "text": [
      "/opt/anaconda3/envs/BSmapsynth-env/lib/python3.6/site-packages/librosa/core/audio.py:146: UserWarning: PySoundFile failed. Trying audioread instead.\n",
      "  warnings.warn('PySoundFile failed. Trying audioread instead.')\n",
      "/opt/anaconda3/envs/BSmapsynth-env/lib/python3.6/site-packages/pandas/core/reshape/merge.py:1089: UserWarning: You are merging on int and float columns where the float values are not equal to their int representation\n",
      "  UserWarning,\n"
     ]
    },
    {
     "name": "stdout",
     "output_type": "stream",
     "text": [
      "155: ['normal', 'hard', 'expert', 'expertPlus']\n",
      "temporary/cover.jpeg\n",
      "temporary/Expert.dat\n",
      "temporary/Hard.dat\n",
      "temporary/Normal.dat\n",
      "temporary/ExpertPlus.dat\n",
      "temporary/Midnight City.egg\n",
      "temporary/info.dat\n"
     ]
    },
    {
     "name": "stderr",
     "output_type": "stream",
     "text": [
      "/opt/anaconda3/envs/BSmapsynth-env/lib/python3.6/site-packages/librosa/core/audio.py:146: UserWarning: PySoundFile failed. Trying audioread instead.\n",
      "  warnings.warn('PySoundFile failed. Trying audioread instead.')\n",
      "/opt/anaconda3/envs/BSmapsynth-env/lib/python3.6/site-packages/pandas/core/reshape/merge.py:1089: UserWarning: You are merging on int and float columns where the float values are not equal to their int representation\n",
      "  UserWarning,\n"
     ]
    },
    {
     "name": "stdout",
     "output_type": "stream",
     "text": [
      "141: ['normal', 'hard', 'expert']\n",
      "temporary/Cover.jpg\n",
      "temporary/song.egg\n",
      "temporary/Expert.dat\n",
      "temporary/Hard.dat\n",
      "temporary/Normal.dat\n",
      "temporary/info.dat\n"
     ]
    },
    {
     "name": "stderr",
     "output_type": "stream",
     "text": [
      "/opt/anaconda3/envs/BSmapsynth-env/lib/python3.6/site-packages/librosa/core/audio.py:146: UserWarning: PySoundFile failed. Trying audioread instead.\n",
      "  warnings.warn('PySoundFile failed. Trying audioread instead.')\n",
      "/opt/anaconda3/envs/BSmapsynth-env/lib/python3.6/site-packages/pandas/core/reshape/merge.py:1089: UserWarning: You are merging on int and float columns where the float values are not equal to their int representation\n",
      "  UserWarning,\n"
     ]
    },
    {
     "name": "stdout",
     "output_type": "stream",
     "text": [
      "124: ['hard']\n",
      "temporary/cover.jpg\n",
      "temporary/Hard.dat\n",
      "temporary/song.egg\n",
      "temporary/info.dat\n"
     ]
    },
    {
     "name": "stderr",
     "output_type": "stream",
     "text": [
      "/opt/anaconda3/envs/BSmapsynth-env/lib/python3.6/site-packages/librosa/core/audio.py:146: UserWarning: PySoundFile failed. Trying audioread instead.\n",
      "  warnings.warn('PySoundFile failed. Trying audioread instead.')\n",
      "/opt/anaconda3/envs/BSmapsynth-env/lib/python3.6/site-packages/pandas/core/reshape/merge.py:1089: UserWarning: You are merging on int and float columns where the float values are not equal to their int representation\n",
      "  UserWarning,\n"
     ]
    },
    {
     "name": "stdout",
     "output_type": "stream",
     "text": [
      "fd: ['hard']\n",
      "temporary/cover.jpg\n",
      "temporary/Hard.dat\n",
      "temporary/song.egg\n",
      "temporary/info.dat\n"
     ]
    },
    {
     "name": "stderr",
     "output_type": "stream",
     "text": [
      "/opt/anaconda3/envs/BSmapsynth-env/lib/python3.6/site-packages/librosa/core/audio.py:146: UserWarning: PySoundFile failed. Trying audioread instead.\n",
      "  warnings.warn('PySoundFile failed. Trying audioread instead.')\n",
      "/opt/anaconda3/envs/BSmapsynth-env/lib/python3.6/site-packages/pandas/core/reshape/merge.py:1089: UserWarning: You are merging on int and float columns where the float values are not equal to their int representation\n",
      "  UserWarning,\n"
     ]
    },
    {
     "name": "stdout",
     "output_type": "stream",
     "text": [
      "e4: ['expert']\n",
      "temporary/touch.jpg\n",
      "temporary/Expert.dat\n",
      "temporary/Cascada - Every Time We Touch.egg\n",
      "temporary/info.dat\n"
     ]
    },
    {
     "name": "stderr",
     "output_type": "stream",
     "text": [
      "/opt/anaconda3/envs/BSmapsynth-env/lib/python3.6/site-packages/librosa/core/audio.py:146: UserWarning: PySoundFile failed. Trying audioread instead.\n",
      "  warnings.warn('PySoundFile failed. Trying audioread instead.')\n",
      "/opt/anaconda3/envs/BSmapsynth-env/lib/python3.6/site-packages/pandas/core/reshape/merge.py:1089: UserWarning: You are merging on int and float columns where the float values are not equal to their int representation\n",
      "  UserWarning,\n"
     ]
    },
    {
     "name": "stdout",
     "output_type": "stream",
     "text": [
      "d8: ['expert']\n",
      "temporary/cover.jpg\n",
      "temporary/Hard.json\n",
      "temporary/Expert.dat\n",
      "temporary/Undertale - MEGALOVANIA (Cement City Remix).egg\n",
      "temporary/info.dat\n"
     ]
    },
    {
     "name": "stderr",
     "output_type": "stream",
     "text": [
      "/opt/anaconda3/envs/BSmapsynth-env/lib/python3.6/site-packages/librosa/core/audio.py:146: UserWarning: PySoundFile failed. Trying audioread instead.\n",
      "  warnings.warn('PySoundFile failed. Trying audioread instead.')\n",
      "/opt/anaconda3/envs/BSmapsynth-env/lib/python3.6/site-packages/pandas/core/reshape/merge.py:1089: UserWarning: You are merging on int and float columns where the float values are not equal to their int representation\n",
      "  UserWarning,\n"
     ]
    },
    {
     "name": "stdout",
     "output_type": "stream",
     "text": [
      "65: ['normal', 'hard', 'expert']\n",
      "temporary/cover.jpg\n",
      "temporary/Expert.dat\n",
      "temporary/Hard.dat\n",
      "temporary/Normal.dat\n",
      "temporary/song.egg\n",
      "temporary/info.dat\n"
     ]
    },
    {
     "name": "stderr",
     "output_type": "stream",
     "text": [
      "/opt/anaconda3/envs/BSmapsynth-env/lib/python3.6/site-packages/librosa/core/audio.py:146: UserWarning: PySoundFile failed. Trying audioread instead.\n",
      "  warnings.warn('PySoundFile failed. Trying audioread instead.')\n",
      "/opt/anaconda3/envs/BSmapsynth-env/lib/python3.6/site-packages/pandas/core/reshape/merge.py:1089: UserWarning: You are merging on int and float columns where the float values are not equal to their int representation\n",
      "  UserWarning,\n"
     ]
    },
    {
     "name": "stdout",
     "output_type": "stream",
     "text": [
      "63: ['expert']\n",
      "temporary/cover.jpg\n",
      "temporary/Expert.dat\n",
      "temporary/song.egg\n",
      "temporary/info.dat\n"
     ]
    },
    {
     "name": "stderr",
     "output_type": "stream",
     "text": [
      "/opt/anaconda3/envs/BSmapsynth-env/lib/python3.6/site-packages/librosa/core/audio.py:146: UserWarning: PySoundFile failed. Trying audioread instead.\n",
      "  warnings.warn('PySoundFile failed. Trying audioread instead.')\n",
      "/opt/anaconda3/envs/BSmapsynth-env/lib/python3.6/site-packages/pandas/core/reshape/merge.py:1089: UserWarning: You are merging on int and float columns where the float values are not equal to their int representation\n",
      "  UserWarning,\n"
     ]
    },
    {
     "name": "stdout",
     "output_type": "stream",
     "text": [
      "42: ['hard']\n",
      "temporary/cover.jpg\n",
      "temporary/Hard.dat\n",
      "temporary/song.egg\n",
      "temporary/info.dat\n"
     ]
    },
    {
     "name": "stderr",
     "output_type": "stream",
     "text": [
      "/opt/anaconda3/envs/BSmapsynth-env/lib/python3.6/site-packages/librosa/core/audio.py:146: UserWarning: PySoundFile failed. Trying audioread instead.\n",
      "  warnings.warn('PySoundFile failed. Trying audioread instead.')\n",
      "/opt/anaconda3/envs/BSmapsynth-env/lib/python3.6/site-packages/pandas/core/reshape/merge.py:1089: UserWarning: You are merging on int and float columns where the float values are not equal to their int representation\n",
      "  UserWarning,\n"
     ]
    },
    {
     "name": "stdout",
     "output_type": "stream",
     "text": [
      "21: ['normal', 'hard', 'expert']\n",
      "temporary/cover.jpg\n",
      "temporary/Normal.dat\n",
      "temporary/Hard.dat\n",
      "temporary/Expert.dat\n",
      "temporary/LUVORATORRRRRY.egg\n",
      "temporary/info.dat\n"
     ]
    },
    {
     "name": "stderr",
     "output_type": "stream",
     "text": [
      "/opt/anaconda3/envs/BSmapsynth-env/lib/python3.6/site-packages/librosa/core/audio.py:146: UserWarning: PySoundFile failed. Trying audioread instead.\n",
      "  warnings.warn('PySoundFile failed. Trying audioread instead.')\n",
      "/opt/anaconda3/envs/BSmapsynth-env/lib/python3.6/site-packages/pandas/core/reshape/merge.py:1089: UserWarning: You are merging on int and float columns where the float values are not equal to their int representation\n",
      "  UserWarning,\n"
     ]
    },
    {
     "name": "stdout",
     "output_type": "stream",
     "text": [
      "b: ['expert']\n",
      "API call failed at b with error code 404\n"
     ]
    }
   ],
   "source": [
    "download_and_process(good_songs)"
   ]
  },
  {
   "cell_type": "code",
   "execution_count": 218,
   "metadata": {},
   "outputs": [],
   "source": [
    "with open('./level_df/21_normal.pkl', 'rb') as f:\n",
    "    df1 = pickle.load(f)"
   ]
  },
  {
   "cell_type": "code",
   "execution_count": 221,
   "metadata": {},
   "outputs": [],
   "source": [
    "with open('./level_df/155_expert.pkl', 'rb') as f:\n",
    "    df2 = pickle.load(f)"
   ]
  },
  {
   "cell_type": "code",
   "execution_count": 222,
   "metadata": {},
   "outputs": [
    {
     "data": {
      "text/html": [
       "<div>\n",
       "<style scoped>\n",
       "    .dataframe tbody tr th:only-of-type {\n",
       "        vertical-align: middle;\n",
       "    }\n",
       "\n",
       "    .dataframe tbody tr th {\n",
       "        vertical-align: top;\n",
       "    }\n",
       "\n",
       "    .dataframe thead th {\n",
       "        text-align: right;\n",
       "    }\n",
       "</style>\n",
       "<table border=\"1\" class=\"dataframe\">\n",
       "  <thead>\n",
       "    <tr style=\"text-align: right;\">\n",
       "      <th></th>\n",
       "      <th>_time</th>\n",
       "      <th>0</th>\n",
       "      <th>1</th>\n",
       "      <th>2</th>\n",
       "      <th>3</th>\n",
       "      <th>4</th>\n",
       "      <th>5</th>\n",
       "      <th>6</th>\n",
       "      <th>7</th>\n",
       "      <th>8</th>\n",
       "      <th>...</th>\n",
       "      <th>10</th>\n",
       "      <th>11</th>\n",
       "      <th>notes_lineIndex_1</th>\n",
       "      <th>notes_lineLayer_1</th>\n",
       "      <th>notes_type_1</th>\n",
       "      <th>notes_cutDirection_1</th>\n",
       "      <th>notes_lineIndex_0</th>\n",
       "      <th>notes_lineLayer_0</th>\n",
       "      <th>notes_type_0</th>\n",
       "      <th>notes_cutDirection_0</th>\n",
       "    </tr>\n",
       "  </thead>\n",
       "  <tbody>\n",
       "    <tr>\n",
       "      <th>0</th>\n",
       "      <td>0.000</td>\n",
       "      <td>0.354055</td>\n",
       "      <td>0.527875</td>\n",
       "      <td>0.846670</td>\n",
       "      <td>0.508995</td>\n",
       "      <td>0.251069</td>\n",
       "      <td>0.483278</td>\n",
       "      <td>0.459144</td>\n",
       "      <td>0.654843</td>\n",
       "      <td>0.540144</td>\n",
       "      <td>...</td>\n",
       "      <td>0.389150</td>\n",
       "      <td>0.171454</td>\n",
       "      <td>999.0</td>\n",
       "      <td>999.0</td>\n",
       "      <td>999.0</td>\n",
       "      <td>999.0</td>\n",
       "      <td>999.0</td>\n",
       "      <td>999.0</td>\n",
       "      <td>999.0</td>\n",
       "      <td>999.0</td>\n",
       "    </tr>\n",
       "    <tr>\n",
       "      <th>1</th>\n",
       "      <td>1.000</td>\n",
       "      <td>0.124780</td>\n",
       "      <td>0.082967</td>\n",
       "      <td>0.165777</td>\n",
       "      <td>0.144330</td>\n",
       "      <td>0.082566</td>\n",
       "      <td>0.125326</td>\n",
       "      <td>0.574842</td>\n",
       "      <td>1.000000</td>\n",
       "      <td>0.555771</td>\n",
       "      <td>...</td>\n",
       "      <td>0.129493</td>\n",
       "      <td>0.214549</td>\n",
       "      <td>999.0</td>\n",
       "      <td>999.0</td>\n",
       "      <td>999.0</td>\n",
       "      <td>999.0</td>\n",
       "      <td>999.0</td>\n",
       "      <td>999.0</td>\n",
       "      <td>999.0</td>\n",
       "      <td>999.0</td>\n",
       "    </tr>\n",
       "    <tr>\n",
       "      <th>2</th>\n",
       "      <td>2.000</td>\n",
       "      <td>0.153919</td>\n",
       "      <td>0.116139</td>\n",
       "      <td>0.200904</td>\n",
       "      <td>0.134748</td>\n",
       "      <td>0.113732</td>\n",
       "      <td>0.138518</td>\n",
       "      <td>0.604724</td>\n",
       "      <td>1.000000</td>\n",
       "      <td>0.544726</td>\n",
       "      <td>...</td>\n",
       "      <td>0.153478</td>\n",
       "      <td>0.240553</td>\n",
       "      <td>999.0</td>\n",
       "      <td>999.0</td>\n",
       "      <td>999.0</td>\n",
       "      <td>999.0</td>\n",
       "      <td>999.0</td>\n",
       "      <td>999.0</td>\n",
       "      <td>999.0</td>\n",
       "      <td>999.0</td>\n",
       "    </tr>\n",
       "    <tr>\n",
       "      <th>3</th>\n",
       "      <td>3.000</td>\n",
       "      <td>0.209555</td>\n",
       "      <td>0.207548</td>\n",
       "      <td>0.385563</td>\n",
       "      <td>0.243498</td>\n",
       "      <td>0.140749</td>\n",
       "      <td>0.188140</td>\n",
       "      <td>0.626222</td>\n",
       "      <td>1.000000</td>\n",
       "      <td>0.568509</td>\n",
       "      <td>...</td>\n",
       "      <td>0.260901</td>\n",
       "      <td>0.358772</td>\n",
       "      <td>999.0</td>\n",
       "      <td>999.0</td>\n",
       "      <td>999.0</td>\n",
       "      <td>999.0</td>\n",
       "      <td>999.0</td>\n",
       "      <td>999.0</td>\n",
       "      <td>999.0</td>\n",
       "      <td>999.0</td>\n",
       "    </tr>\n",
       "    <tr>\n",
       "      <th>4</th>\n",
       "      <td>3.688</td>\n",
       "      <td>0.235275</td>\n",
       "      <td>0.161867</td>\n",
       "      <td>0.212179</td>\n",
       "      <td>0.202782</td>\n",
       "      <td>0.141796</td>\n",
       "      <td>0.251691</td>\n",
       "      <td>0.742861</td>\n",
       "      <td>1.000000</td>\n",
       "      <td>0.472037</td>\n",
       "      <td>...</td>\n",
       "      <td>0.208085</td>\n",
       "      <td>0.358918</td>\n",
       "      <td>2.0</td>\n",
       "      <td>0.0</td>\n",
       "      <td>1.0</td>\n",
       "      <td>1.0</td>\n",
       "      <td>999.0</td>\n",
       "      <td>999.0</td>\n",
       "      <td>999.0</td>\n",
       "      <td>999.0</td>\n",
       "    </tr>\n",
       "    <tr>\n",
       "      <th>...</th>\n",
       "      <td>...</td>\n",
       "      <td>...</td>\n",
       "      <td>...</td>\n",
       "      <td>...</td>\n",
       "      <td>...</td>\n",
       "      <td>...</td>\n",
       "      <td>...</td>\n",
       "      <td>...</td>\n",
       "      <td>...</td>\n",
       "      <td>...</td>\n",
       "      <td>...</td>\n",
       "      <td>...</td>\n",
       "      <td>...</td>\n",
       "      <td>...</td>\n",
       "      <td>...</td>\n",
       "      <td>...</td>\n",
       "      <td>...</td>\n",
       "      <td>...</td>\n",
       "      <td>...</td>\n",
       "      <td>...</td>\n",
       "      <td>...</td>\n",
       "    </tr>\n",
       "    <tr>\n",
       "      <th>1100</th>\n",
       "      <td>401.000</td>\n",
       "      <td>0.228161</td>\n",
       "      <td>0.218680</td>\n",
       "      <td>0.282480</td>\n",
       "      <td>0.195893</td>\n",
       "      <td>0.141765</td>\n",
       "      <td>0.346582</td>\n",
       "      <td>0.842092</td>\n",
       "      <td>1.000000</td>\n",
       "      <td>0.526369</td>\n",
       "      <td>...</td>\n",
       "      <td>0.290015</td>\n",
       "      <td>0.396584</td>\n",
       "      <td>999.0</td>\n",
       "      <td>999.0</td>\n",
       "      <td>999.0</td>\n",
       "      <td>999.0</td>\n",
       "      <td>999.0</td>\n",
       "      <td>999.0</td>\n",
       "      <td>999.0</td>\n",
       "      <td>999.0</td>\n",
       "    </tr>\n",
       "    <tr>\n",
       "      <th>1101</th>\n",
       "      <td>402.000</td>\n",
       "      <td>0.146814</td>\n",
       "      <td>0.211682</td>\n",
       "      <td>0.310980</td>\n",
       "      <td>0.238383</td>\n",
       "      <td>0.203017</td>\n",
       "      <td>0.480949</td>\n",
       "      <td>0.892844</td>\n",
       "      <td>1.000000</td>\n",
       "      <td>0.561215</td>\n",
       "      <td>...</td>\n",
       "      <td>0.206884</td>\n",
       "      <td>0.194746</td>\n",
       "      <td>999.0</td>\n",
       "      <td>999.0</td>\n",
       "      <td>999.0</td>\n",
       "      <td>999.0</td>\n",
       "      <td>999.0</td>\n",
       "      <td>999.0</td>\n",
       "      <td>999.0</td>\n",
       "      <td>999.0</td>\n",
       "    </tr>\n",
       "    <tr>\n",
       "      <th>1102</th>\n",
       "      <td>403.000</td>\n",
       "      <td>0.141224</td>\n",
       "      <td>0.188183</td>\n",
       "      <td>0.221459</td>\n",
       "      <td>0.163118</td>\n",
       "      <td>0.088589</td>\n",
       "      <td>0.273140</td>\n",
       "      <td>0.803680</td>\n",
       "      <td>1.000000</td>\n",
       "      <td>0.521138</td>\n",
       "      <td>...</td>\n",
       "      <td>0.208099</td>\n",
       "      <td>0.218424</td>\n",
       "      <td>999.0</td>\n",
       "      <td>999.0</td>\n",
       "      <td>999.0</td>\n",
       "      <td>999.0</td>\n",
       "      <td>999.0</td>\n",
       "      <td>999.0</td>\n",
       "      <td>999.0</td>\n",
       "      <td>999.0</td>\n",
       "    </tr>\n",
       "    <tr>\n",
       "      <th>1103</th>\n",
       "      <td>404.000</td>\n",
       "      <td>0.285462</td>\n",
       "      <td>0.204388</td>\n",
       "      <td>0.222851</td>\n",
       "      <td>0.289505</td>\n",
       "      <td>0.337309</td>\n",
       "      <td>0.494341</td>\n",
       "      <td>0.831774</td>\n",
       "      <td>0.945374</td>\n",
       "      <td>0.638600</td>\n",
       "      <td>...</td>\n",
       "      <td>0.408293</td>\n",
       "      <td>0.421792</td>\n",
       "      <td>999.0</td>\n",
       "      <td>999.0</td>\n",
       "      <td>999.0</td>\n",
       "      <td>999.0</td>\n",
       "      <td>999.0</td>\n",
       "      <td>999.0</td>\n",
       "      <td>999.0</td>\n",
       "      <td>999.0</td>\n",
       "    </tr>\n",
       "    <tr>\n",
       "      <th>1104</th>\n",
       "      <td>405.000</td>\n",
       "      <td>0.616690</td>\n",
       "      <td>0.440406</td>\n",
       "      <td>0.674592</td>\n",
       "      <td>0.385418</td>\n",
       "      <td>0.192403</td>\n",
       "      <td>0.245556</td>\n",
       "      <td>0.413539</td>\n",
       "      <td>0.252140</td>\n",
       "      <td>0.195284</td>\n",
       "      <td>...</td>\n",
       "      <td>0.647391</td>\n",
       "      <td>1.000000</td>\n",
       "      <td>999.0</td>\n",
       "      <td>999.0</td>\n",
       "      <td>999.0</td>\n",
       "      <td>999.0</td>\n",
       "      <td>999.0</td>\n",
       "      <td>999.0</td>\n",
       "      <td>999.0</td>\n",
       "      <td>999.0</td>\n",
       "    </tr>\n",
       "  </tbody>\n",
       "</table>\n",
       "<p>1105 rows × 21 columns</p>\n",
       "</div>"
      ],
      "text/plain": [
       "        _time         0         1         2         3         4         5  \\\n",
       "0       0.000  0.354055  0.527875  0.846670  0.508995  0.251069  0.483278   \n",
       "1       1.000  0.124780  0.082967  0.165777  0.144330  0.082566  0.125326   \n",
       "2       2.000  0.153919  0.116139  0.200904  0.134748  0.113732  0.138518   \n",
       "3       3.000  0.209555  0.207548  0.385563  0.243498  0.140749  0.188140   \n",
       "4       3.688  0.235275  0.161867  0.212179  0.202782  0.141796  0.251691   \n",
       "...       ...       ...       ...       ...       ...       ...       ...   \n",
       "1100  401.000  0.228161  0.218680  0.282480  0.195893  0.141765  0.346582   \n",
       "1101  402.000  0.146814  0.211682  0.310980  0.238383  0.203017  0.480949   \n",
       "1102  403.000  0.141224  0.188183  0.221459  0.163118  0.088589  0.273140   \n",
       "1103  404.000  0.285462  0.204388  0.222851  0.289505  0.337309  0.494341   \n",
       "1104  405.000  0.616690  0.440406  0.674592  0.385418  0.192403  0.245556   \n",
       "\n",
       "             6         7         8  ...        10        11  \\\n",
       "0     0.459144  0.654843  0.540144  ...  0.389150  0.171454   \n",
       "1     0.574842  1.000000  0.555771  ...  0.129493  0.214549   \n",
       "2     0.604724  1.000000  0.544726  ...  0.153478  0.240553   \n",
       "3     0.626222  1.000000  0.568509  ...  0.260901  0.358772   \n",
       "4     0.742861  1.000000  0.472037  ...  0.208085  0.358918   \n",
       "...        ...       ...       ...  ...       ...       ...   \n",
       "1100  0.842092  1.000000  0.526369  ...  0.290015  0.396584   \n",
       "1101  0.892844  1.000000  0.561215  ...  0.206884  0.194746   \n",
       "1102  0.803680  1.000000  0.521138  ...  0.208099  0.218424   \n",
       "1103  0.831774  0.945374  0.638600  ...  0.408293  0.421792   \n",
       "1104  0.413539  0.252140  0.195284  ...  0.647391  1.000000   \n",
       "\n",
       "      notes_lineIndex_1  notes_lineLayer_1  notes_type_1  \\\n",
       "0                 999.0              999.0         999.0   \n",
       "1                 999.0              999.0         999.0   \n",
       "2                 999.0              999.0         999.0   \n",
       "3                 999.0              999.0         999.0   \n",
       "4                   2.0                0.0           1.0   \n",
       "...                 ...                ...           ...   \n",
       "1100              999.0              999.0         999.0   \n",
       "1101              999.0              999.0         999.0   \n",
       "1102              999.0              999.0         999.0   \n",
       "1103              999.0              999.0         999.0   \n",
       "1104              999.0              999.0         999.0   \n",
       "\n",
       "      notes_cutDirection_1  notes_lineIndex_0  notes_lineLayer_0  \\\n",
       "0                    999.0              999.0              999.0   \n",
       "1                    999.0              999.0              999.0   \n",
       "2                    999.0              999.0              999.0   \n",
       "3                    999.0              999.0              999.0   \n",
       "4                      1.0              999.0              999.0   \n",
       "...                    ...                ...                ...   \n",
       "1100                 999.0              999.0              999.0   \n",
       "1101                 999.0              999.0              999.0   \n",
       "1102                 999.0              999.0              999.0   \n",
       "1103                 999.0              999.0              999.0   \n",
       "1104                 999.0              999.0              999.0   \n",
       "\n",
       "      notes_type_0  notes_cutDirection_0  \n",
       "0            999.0                 999.0  \n",
       "1            999.0                 999.0  \n",
       "2            999.0                 999.0  \n",
       "3            999.0                 999.0  \n",
       "4            999.0                 999.0  \n",
       "...            ...                   ...  \n",
       "1100         999.0                 999.0  \n",
       "1101         999.0                 999.0  \n",
       "1102         999.0                 999.0  \n",
       "1103         999.0                 999.0  \n",
       "1104         999.0                 999.0  \n",
       "\n",
       "[1105 rows x 21 columns]"
      ]
     },
     "execution_count": 222,
     "metadata": {},
     "output_type": "execute_result"
    }
   ],
   "source": [
    "df2"
   ]
  },
  {
   "cell_type": "code",
   "execution_count": null,
   "metadata": {},
   "outputs": [],
   "source": []
  }
 ],
 "metadata": {
  "kernelspec": {
   "display_name": "BSmapsynth-env",
   "language": "python",
   "name": "bsmapsynth-env"
  },
  "language_info": {
   "codemirror_mode": {
    "name": "ipython",
    "version": 3
   },
   "file_extension": ".py",
   "mimetype": "text/x-python",
   "name": "python",
   "nbconvert_exporter": "python",
   "pygments_lexer": "ipython3",
   "version": "3.6.9"
  }
 },
 "nbformat": 4,
 "nbformat_minor": 2
}

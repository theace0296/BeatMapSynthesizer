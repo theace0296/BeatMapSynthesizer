{
 "cells": [
  {
   "cell_type": "markdown",
   "metadata": {},
   "source": [
    "# Custom Map File Creation notebook\n",
    "\n",
    "This notebook will develop code to create the files that are necessary in the Beat Saber custom songs directory:\n",
    "\n",
    "- .dat files (info.dat, 'level'.dat)\n",
    "- cover.jpg file\n",
    "- song.egg file"
   ]
  },
  {
   "cell_type": "code",
   "execution_count": 1,
   "metadata": {
    "scrolled": true
   },
   "outputs": [],
   "source": [
    "from __future__ import print_function\n",
    "\n",
    "import numpy as np\n",
    "import pandas as pd\n",
    "import librosa\n",
    "import json\n",
    "import requests\n",
    "import pickle\n",
    "import matplotlib.pyplot as plt\n",
    "from io import BytesIO, TextIOWrapper, StringIO\n",
    "from zipfile import ZipFile\n",
    "import os\n",
    "import soundfile as sf\n",
    "import audioread\n",
    "from pydub import AudioSegment\n",
    "from sklearn.multioutput import MultiOutputClassifier, ClassifierChain\n",
    "from sklearn.ensemble import RandomForestClassifier\n",
    "import markovify\n",
    "import sklearn.cluster\n",
    "import librosa.display\n",
    "import scipy"
   ]
  },
  {
   "cell_type": "markdown",
   "metadata": {},
   "source": [
    "---\n",
    "## Basic File Writing Functions"
   ]
  },
  {
   "cell_type": "code",
   "execution_count": 2,
   "metadata": {},
   "outputs": [],
   "source": [
    "#{'_version': '2.0.0',\n",
    "#  '_songName': 'Gamle Kjente_V03',\n",
    "#  '_songSubName': 'Despacito',\n",
    "#  '_songAuthorName': 'Vegard Bakkely',\n",
    "#  '_levelAuthorName': 'Martin Ask Eriksen',\n",
    "#  '_beatsPerMinute': 89,\n",
    "#  '_songTimeOffset': 0,\n",
    "#  '_shuffle': 0,\n",
    "#  '_shufflePeriod': 0.5,\n",
    "#  '_previewStartTime': 6,\n",
    "#  '_previewDuration': 40,\n",
    "#  '_songFilename': 'song.egg',\n",
    "#  '_coverImageFilename': 'cover.jpg',\n",
    "#  '_environmentName': 'DefaultEnvironment',\n",
    "#  '_customData': {'_editor': 'beatmapper',\n",
    "#   '_editorSettings': {'enabledFastWalls': False, 'modSettings': {}}},\n",
    "#  '_difficultyBeatmapSets': [{'_beatmapCharacteristicName': 'Standard',\n",
    "#    '_difficultyBeatmaps': [{'_difficulty': 'Easy',\n",
    "#      '_difficultyRank': 1,\n",
    "#      '_beatmapFilename': 'Easy.dat',\n",
    "#      '_noteJumpMovementSpeed': 10,\n",
    "#      '_noteJumpStartBeatOffset': 0,\n",
    "#      '_customData': {'_editorOffset': 0, '_requirements': []}}]}]}\n",
    "\n",
    "def write_info(song_name, bpm, difficulty):\n",
    "    \"\"\"This function creates the 'info.dat' file that needs to be included in the custom folder.\"\"\"\n",
    "\n",
    "    difficulty_rank = None\n",
    "    jump_movement = None\n",
    "    if difficulty.casefold() == 'easy'.casefold():\n",
    "        difficulty_rank = 1\n",
    "        jump_movement = 8\n",
    "        diff_name = 'Easy'\n",
    "    elif difficulty.casefold() == 'normal'.casefold():\n",
    "        difficulty_rank = 3\n",
    "        jump_movement = 10\n",
    "        diff_name = 'Normal'\n",
    "    elif difficulty.casefold() == 'hard'.casefold():\n",
    "        difficulty_rank == 5\n",
    "        jump_movement = 12\n",
    "        diff_name = 'Hard'\n",
    "    elif difficulty.casefold() == 'expert'.casefold():\n",
    "        difficulty_rank == 7\n",
    "        jump_movement = 14\n",
    "        diff_name = 'Expert'\n",
    "    elif difficulty.casefold() == 'expertPlus'.casefold():\n",
    "        difficulty_rank == 9\n",
    "        jump_movement = 16\n",
    "        diff_name = 'ExpertPlus'\n",
    "            \n",
    "    info = {'_version': '2.0.0',\n",
    "            '_songName': f\"{song_name}\",\n",
    "            '_songSubName': '',\n",
    "            '_songAuthorName': '',\n",
    "            '_levelAuthorName': 'BeatMapSynth',\n",
    "            '_beatsPerMinute': round(bpm),\n",
    "            '_songTimeOffset': 0,\n",
    "            '_shuffle': 0,\n",
    "            '_shufflePeriod': 0,\n",
    "            '_previewStartTime': 10,\n",
    "            '_previewDuration': 30,\n",
    "            '_songFilename': 'song.egg',\n",
    "            '_coverImageFilename': 'cover.jpg',\n",
    "            '_environmentName': 'DefaultEnvironment',\n",
    "            '_customData': {}, #I don't think anything is needed here\n",
    "             '_difficultyBeatmapSets': [{'_beatmapCharacteristicName': 'Standard',\n",
    "                                         '_difficultyBeatmaps': [{'_difficulty': diff_name,\n",
    "                                                                  '_difficultyRank': difficulty_rank,\n",
    "                                                                  '_beatmapFilename': f\"{difficulty}.dat\",\n",
    "                                                                  '_noteJumpMovementSpeed': jump_movement, #not sure what this is, seems to vary with difficulty level, may want to \n",
    "                                                                  '_noteJumpStartBeatOffset': 0, #ditto\n",
    "                                                                  '_customData': {}}]}]} #{'_editorOffset': 0, '_requirements': []}}]}]} - don't think this is needed\n",
    "    with open('info.dat', 'w') as f:\n",
    "        json.dump(info, f)\n"
   ]
  },
  {
   "cell_type": "code",
   "execution_count": 3,
   "metadata": {},
   "outputs": [],
   "source": [
    "# {'_version': '2.0.0',\n",
    "#  '_customData': {'_time': 220, '_BPMChanges': [], '_bookmarks': []},\n",
    "#  '_events': [{'_time': 0, '_type': 1, '_value': 3}, LIST],\n",
    "#  '_notes': [{'_time': 12.5,\n",
    "#    '_lineIndex': 1,\n",
    "#    '_lineLayer': 0,\n",
    "#    '_type': 0,\n",
    "#    '_cutDirection': 1}, LIST],\n",
    "#  '_obstacles': [{'_time': 0,\n",
    "#    '_lineIndex': 3,\n",
    "#    '_type': 0,\n",
    "#    '_duration': 9,\n",
    "#    '_width': 1}, LIST]}\n",
    "\n",
    "def write_level(difficulty, events_list, notes_list, obstacles_list):\n",
    "    \"\"\"This function creates the 'level.dat' file that contains all the data for that paticular difficulty level\"\"\"\n",
    "    \n",
    "    level = {'_version': '2.0.0',\n",
    "             '_customData': {'_time': '', #not sure what time refers to \n",
    "                             '_BPMChanges': [], \n",
    "                             '_bookmarks': []},\n",
    "             '_events': events_list,\n",
    "             '_notes': notes_list,\n",
    "             '_obstacles': obstacles_list}\n",
    "    with open(f\"{difficulty}.dat\", 'w') as f:\n",
    "        json.dump(level, f)"
   ]
  },
  {
   "cell_type": "code",
   "execution_count": 4,
   "metadata": {},
   "outputs": [],
   "source": [
    "def music_file_converter(song_path):\n",
    "    \"\"\"This function makes sure the file type of the provided song will be converted to the music file type that \n",
    "    Beat Saber accepts\"\"\"\n",
    "    if song_path.endswith('.mp3'):\n",
    "        AudioSegment.from_mp3(song_path).export('song.egg', format='ogg')\n",
    "    elif song_path.endswith('.wav'):\n",
    "        AudioSegment.from_wav(song_path).export('song.egg', format='ogg')\n",
    "    elif song_path.endswith('.flv'):\n",
    "        AudioSegment.from_flv(song_path).export('song.egg', format='ogg')\n",
    "    elif song_path.endswith('.raw'):\n",
    "        AudioSegment.from_raw(song_path).export('song.egg', format='ogg')\n",
    "    elif song_path.endswith('.ogg') or song_path.endswith('.egg'):\n",
    "        os.rename(song_path, 'song.egg')\n",
    "    else:\n",
    "        print(\"Unsupported song file type. Choose a file of type .mp3, .wav, .flv, .raw, or .ogg.\")\n"
   ]
  },
  {
   "cell_type": "code",
   "execution_count": 5,
   "metadata": {},
   "outputs": [],
   "source": [
    "def events_writer(beat_times):\n",
    "    \"\"\"Placeholder function for writing a list of events to be incorporated into a beatmap file.\"\"\"\n",
    "    events_list = []\n",
    "    return events_list"
   ]
  },
  {
   "cell_type": "code",
   "execution_count": 6,
   "metadata": {},
   "outputs": [],
   "source": [
    "def obstacles_writer(beat_times, difficulty):\n",
    "    \"\"\"Placeholder function for writing a list of obstacles to be incorporated into a beatmap file.\"\"\"\n",
    "    obstacles_list = []\n",
    "    return obstacles_list"
   ]
  },
  {
   "cell_type": "code",
   "execution_count": 7,
   "metadata": {},
   "outputs": [],
   "source": [
    "def zip_folder_exporter(song_name, difficulty):\n",
    "    \"This function exports the zip folder containing the info.dat, difficulty.dat, cover.jpg, and song.egg files.\"\n",
    "    files = ['info.dat', f\"{difficulty}.dat\", 'cover.jpg', 'song.egg']\n",
    "    with ZipFile(f\"{song_name}_{difficulty}.zip\", 'w') as custom:\n",
    "        for file in files:\n",
    "            custom.write(file)\n",
    "    for file in files:\n",
    "        if file != 'cover.jpg':\n",
    "            os.remove(file)"
   ]
  },
  {
   "cell_type": "markdown",
   "metadata": {},
   "source": [
    "---\n",
    "## Random Mapping Functions"
   ]
  },
  {
   "cell_type": "code",
   "execution_count": 8,
   "metadata": {},
   "outputs": [],
   "source": [
    "def beat_features(song_path):\n",
    "    \"\"\"This function takes in the song stored at 'song_path' and estimates the bpm and beat times.\"\"\"\n",
    "    #Load song and split into harmonic and percussive parts.\n",
    "    y, sr = librosa.load(song_path)\n",
    "    #y_harmonic, y_percussive = librosa.effects.hpss(y)\n",
    "    #Isolate beats and beat times\n",
    "    bpm, beat_frames = librosa.beat.beat_track(y=y, sr=sr, trim = False)\n",
    "    beat_times = librosa.frames_to_time(beat_frames, sr=sr)\n",
    "    return bpm, beat_times, y, sr"
   ]
  },
  {
   "cell_type": "code",
   "execution_count": 9,
   "metadata": {},
   "outputs": [],
   "source": [
    "def random_notes_writer(beat_times, difficulty):\n",
    "    \"\"\"This function randomly places blocks at approximately each beat or every other beat depending on the difficulty.\"\"\"\n",
    "    notes_list = []\n",
    "    line_index = [0, 1, 2, 3]\n",
    "    line_layer = [0, 1, 2]\n",
    "    types = [0, 1, 2, 3]\n",
    "    directions = list(range(0, 10))\n",
    "    beat_times = [float(x) for x in beat_times]\n",
    "    \n",
    "    if difficulty == 'Easy' or difficulty == 'Normal':\n",
    "        for beat in beat_times:\n",
    "            empty = np.random.choice([0,1])\n",
    "            if empty == 1:\n",
    "                note = {'_time': beat,\n",
    "                        '_lineIndex': int(np.random.choice(line_index)),\n",
    "                        '_lineLayer': int(np.random.choice(line_layer)),\n",
    "                        '_type': int(np.random.choice(types)),\n",
    "                        '_cutDirection': int(np.random.choice(directions))}\n",
    "                notes_list.append(note)\n",
    "            else:\n",
    "                continue\n",
    "    else:\n",
    "        random_beats = np.random.choice(beat_times, np.random.choice(range(len(beat_times)))) #randomly choose beats to have more than one note placed\n",
    "        randomly_duplicated_beat_times = np.concatenate([beat_times, random_beats])\n",
    "        randomly_duplicated_beat_times.sort()\n",
    "        randomly_duplicated_beat_times = [float(x) for x in randomly_duplicated_beat_times]\n",
    "        for beat in randomly_duplicated_beat_times:\n",
    "            note = {'_time': beat,\n",
    "                    '_lineIndex': int(np.random.choice(line_index)),\n",
    "                    '_lineLayer': int(np.random.choice(line_layer)),\n",
    "                    '_type': int(np.random.choice(types)),\n",
    "                    '_cutDirection': int(np.random.choice(directions))}\n",
    "            notes_list.append(note)\n",
    "    return notes_list"
   ]
  },
  {
   "cell_type": "code",
   "execution_count": 10,
   "metadata": {},
   "outputs": [],
   "source": [
    "def random_notes_writer_v2(beat_times, difficulty, bpm):\n",
    "    \"\"\"This function randomly places blocks at approximately each beat or every other beat depending on the difficulty.\"\"\"\n",
    "    notes_list = []\n",
    "    line_index = [0, 1, 2, 3]\n",
    "    line_layer = [0, 1, 2]\n",
    "    types = [0, 1, 2, 3]\n",
    "    directions = list(range(0, 10))\n",
    "    #beat_times = [float(x) for x in beat_times]\n",
    "    beat_times = [x*(bpm/60) for x in beat_times] #list(range(len(beat_times)))\n",
    "    \n",
    "    if difficulty == 'Easy' or difficulty == 'Normal':\n",
    "        for beat in beat_times:\n",
    "            empty = np.random.choice([0,1])\n",
    "            if empty == 1:\n",
    "                note = {'_time': beat,\n",
    "                        '_lineIndex': int(np.random.choice(line_index)),\n",
    "                        '_lineLayer': int(np.random.choice(line_layer)),\n",
    "                        '_type': int(np.random.choice(types)),\n",
    "                        '_cutDirection': int(np.random.choice(directions))}\n",
    "                notes_list.append(note)\n",
    "            else:\n",
    "                continue\n",
    "    else:\n",
    "        random_beats = np.random.choice(beat_times, np.random.choice(range(len(beat_times)))) #randomly choose beats to have more than one note placed\n",
    "        randomly_duplicated_beat_times = np.concatenate([beat_times, random_beats])\n",
    "        randomly_duplicated_beat_times.sort()\n",
    "        randomly_duplicated_beat_times = [float(x) for x in randomly_duplicated_beat_times]\n",
    "        for beat in randomly_duplicated_beat_times:\n",
    "            note = {'_time': beat,\n",
    "                    '_lineIndex': int(np.random.choice(line_index)),\n",
    "                    '_lineLayer': int(np.random.choice(line_layer)),\n",
    "                    '_type': int(np.random.choice(types)),\n",
    "                    '_cutDirection': int(np.random.choice(directions))}\n",
    "            notes_list.append(note)\n",
    "    #Remove potential notes that come too early in the song:\n",
    "    for i, x in enumerate(notes_list):\n",
    "        if notes_list[i]['_time'] >= 0 and notes_list[i]['_time'] <= 1.5:\n",
    "            del notes_list[i]\n",
    "        elif notes_list[i]['_time'] > beat_times[-1]:\n",
    "            del notes_list[i]\n",
    "\n",
    "    return notes_list"
   ]
  },
  {
   "cell_type": "code",
   "execution_count": 11,
   "metadata": {},
   "outputs": [],
   "source": [
    "def random_mapper(song_path, song_name, difficulty):\n",
    "    \"\"\"Function to output the automatically created completely random map (i.e., baseline model) for a provided song.\n",
    "    Returns a zipped folder that can be unzipped and placed in the 'CustomMusic' folder in the Beat Saber game\n",
    "    directory and played. CAUTION: This is completely random and is likely not enjoyable if even playable!\"\"\"\n",
    "    #Load song and get beat features\n",
    "    print(\"Loading Song...\")\n",
    "    bpm, beat_times, y, sr = beat_features(song_path)\n",
    "    print(\"Song loaded successfully!\")\n",
    "    #Write lists for note placement, event placement, and obstacle placement\n",
    "    print(\"Random mapping...\")\n",
    "    #notes_list = random_notes_writer(beat_times, difficulty) \n",
    "    notes_list = random_notes_writer_v2(beat_times, difficulty, bpm) #fixes _time != beat time\n",
    "    events_list = events_writer(beat_times)\n",
    "    obstacles_list = obstacles_writer(beat_times, difficulty)\n",
    "    print(\"Mapping done!\")\n",
    "    #Write and zip files\n",
    "    print(\"Writing files to disk...\")\n",
    "    write_info(song_name, bpm, difficulty)\n",
    "    write_level(difficulty, events_list, notes_list, obstacles_list)\n",
    "    print(\"Converting music file...\")\n",
    "    music_file_converter(song_path)\n",
    "    print(\"Zipping folder...\")\n",
    "    zip_folder_exporter(song_name, difficulty)\n",
    "    print(\"Finished! Look for zipped folder in your current path, unzip the folder, and place in the 'CustomMusic' folder in the Beat Saber directory\")"
   ]
  },
  {
   "cell_type": "code",
   "execution_count": 107,
   "metadata": {},
   "outputs": [
    {
     "name": "stdout",
     "output_type": "stream",
     "text": [
      "Loading Song...\n"
     ]
    },
    {
     "name": "stderr",
     "output_type": "stream",
     "text": [
      "/opt/anaconda3/envs/BSmapsynth-env/lib/python3.6/site-packages/librosa/core/audio.py:146: UserWarning: PySoundFile failed. Trying audioread instead.\n",
      "  warnings.warn('PySoundFile failed. Trying audioread instead.')\n"
     ]
    },
    {
     "ename": "FileNotFoundError",
     "evalue": "[Errno 2] No such file or directory: 'song.egg'",
     "output_type": "error",
     "traceback": [
      "\u001b[0;31m---------------------------------------------------------------------------\u001b[0m",
      "\u001b[0;31mRuntimeError\u001b[0m                              Traceback (most recent call last)",
      "\u001b[0;32m/opt/anaconda3/envs/BSmapsynth-env/lib/python3.6/site-packages/librosa/core/audio.py\u001b[0m in \u001b[0;36mload\u001b[0;34m(path, sr, mono, offset, duration, dtype, res_type)\u001b[0m\n\u001b[1;32m    128\u001b[0m     \u001b[0;32mtry\u001b[0m\u001b[0;34m:\u001b[0m\u001b[0;34m\u001b[0m\u001b[0;34m\u001b[0m\u001b[0m\n\u001b[0;32m--> 129\u001b[0;31m         \u001b[0;32mwith\u001b[0m \u001b[0msf\u001b[0m\u001b[0;34m.\u001b[0m\u001b[0mSoundFile\u001b[0m\u001b[0;34m(\u001b[0m\u001b[0mpath\u001b[0m\u001b[0;34m)\u001b[0m \u001b[0;32mas\u001b[0m \u001b[0msf_desc\u001b[0m\u001b[0;34m:\u001b[0m\u001b[0;34m\u001b[0m\u001b[0;34m\u001b[0m\u001b[0m\n\u001b[0m\u001b[1;32m    130\u001b[0m             \u001b[0msr_native\u001b[0m \u001b[0;34m=\u001b[0m \u001b[0msf_desc\u001b[0m\u001b[0;34m.\u001b[0m\u001b[0msamplerate\u001b[0m\u001b[0;34m\u001b[0m\u001b[0;34m\u001b[0m\u001b[0m\n",
      "\u001b[0;32m/opt/anaconda3/envs/BSmapsynth-env/lib/python3.6/site-packages/soundfile.py\u001b[0m in \u001b[0;36m__init__\u001b[0;34m(self, file, mode, samplerate, channels, subtype, endian, format, closefd)\u001b[0m\n\u001b[1;32m    628\u001b[0m                                          format, subtype, endian)\n\u001b[0;32m--> 629\u001b[0;31m         \u001b[0mself\u001b[0m\u001b[0;34m.\u001b[0m\u001b[0m_file\u001b[0m \u001b[0;34m=\u001b[0m \u001b[0mself\u001b[0m\u001b[0;34m.\u001b[0m\u001b[0m_open\u001b[0m\u001b[0;34m(\u001b[0m\u001b[0mfile\u001b[0m\u001b[0;34m,\u001b[0m \u001b[0mmode_int\u001b[0m\u001b[0;34m,\u001b[0m \u001b[0mclosefd\u001b[0m\u001b[0;34m)\u001b[0m\u001b[0;34m\u001b[0m\u001b[0;34m\u001b[0m\u001b[0m\n\u001b[0m\u001b[1;32m    630\u001b[0m         \u001b[0;32mif\u001b[0m \u001b[0mset\u001b[0m\u001b[0;34m(\u001b[0m\u001b[0mmode\u001b[0m\u001b[0;34m)\u001b[0m\u001b[0;34m.\u001b[0m\u001b[0missuperset\u001b[0m\u001b[0;34m(\u001b[0m\u001b[0;34m'r+'\u001b[0m\u001b[0;34m)\u001b[0m \u001b[0;32mand\u001b[0m \u001b[0mself\u001b[0m\u001b[0;34m.\u001b[0m\u001b[0mseekable\u001b[0m\u001b[0;34m(\u001b[0m\u001b[0;34m)\u001b[0m\u001b[0;34m:\u001b[0m\u001b[0;34m\u001b[0m\u001b[0;34m\u001b[0m\u001b[0m\n",
      "\u001b[0;32m/opt/anaconda3/envs/BSmapsynth-env/lib/python3.6/site-packages/soundfile.py\u001b[0m in \u001b[0;36m_open\u001b[0;34m(self, file, mode_int, closefd)\u001b[0m\n\u001b[1;32m   1183\u001b[0m         _error_check(_snd.sf_error(file_ptr),\n\u001b[0;32m-> 1184\u001b[0;31m                      \"Error opening {0!r}: \".format(self.name))\n\u001b[0m\u001b[1;32m   1185\u001b[0m         \u001b[0;32mif\u001b[0m \u001b[0mmode_int\u001b[0m \u001b[0;34m==\u001b[0m \u001b[0m_snd\u001b[0m\u001b[0;34m.\u001b[0m\u001b[0mSFM_WRITE\u001b[0m\u001b[0;34m:\u001b[0m\u001b[0;34m\u001b[0m\u001b[0;34m\u001b[0m\u001b[0m\n",
      "\u001b[0;32m/opt/anaconda3/envs/BSmapsynth-env/lib/python3.6/site-packages/soundfile.py\u001b[0m in \u001b[0;36m_error_check\u001b[0;34m(err, prefix)\u001b[0m\n\u001b[1;32m   1356\u001b[0m         \u001b[0merr_str\u001b[0m \u001b[0;34m=\u001b[0m \u001b[0m_snd\u001b[0m\u001b[0;34m.\u001b[0m\u001b[0msf_error_number\u001b[0m\u001b[0;34m(\u001b[0m\u001b[0merr\u001b[0m\u001b[0;34m)\u001b[0m\u001b[0;34m\u001b[0m\u001b[0;34m\u001b[0m\u001b[0m\n\u001b[0;32m-> 1357\u001b[0;31m         \u001b[0;32mraise\u001b[0m \u001b[0mRuntimeError\u001b[0m\u001b[0;34m(\u001b[0m\u001b[0mprefix\u001b[0m \u001b[0;34m+\u001b[0m \u001b[0m_ffi\u001b[0m\u001b[0;34m.\u001b[0m\u001b[0mstring\u001b[0m\u001b[0;34m(\u001b[0m\u001b[0merr_str\u001b[0m\u001b[0;34m)\u001b[0m\u001b[0;34m.\u001b[0m\u001b[0mdecode\u001b[0m\u001b[0;34m(\u001b[0m\u001b[0;34m'utf-8'\u001b[0m\u001b[0;34m,\u001b[0m \u001b[0;34m'replace'\u001b[0m\u001b[0;34m)\u001b[0m\u001b[0;34m)\u001b[0m\u001b[0;34m\u001b[0m\u001b[0;34m\u001b[0m\u001b[0m\n\u001b[0m\u001b[1;32m   1358\u001b[0m \u001b[0;34m\u001b[0m\u001b[0m\n",
      "\u001b[0;31mRuntimeError\u001b[0m: Error opening 'song.egg': System error.",
      "\nDuring handling of the above exception, another exception occurred:\n",
      "\u001b[0;31mFileNotFoundError\u001b[0m                         Traceback (most recent call last)",
      "\u001b[0;32m<ipython-input-107-6b2bb64d9039>\u001b[0m in \u001b[0;36m<module>\u001b[0;34m\u001b[0m\n\u001b[0;32m----> 1\u001b[0;31m \u001b[0mrandom_mapper\u001b[0m\u001b[0;34m(\u001b[0m\u001b[0;34m'song.egg'\u001b[0m\u001b[0;34m,\u001b[0m \u001b[0;34m'example'\u001b[0m\u001b[0;34m,\u001b[0m \u001b[0;34m'expert'\u001b[0m\u001b[0;34m)\u001b[0m\u001b[0;34m\u001b[0m\u001b[0;34m\u001b[0m\u001b[0m\n\u001b[0m",
      "\u001b[0;32m<ipython-input-106-5eaa9dba856c>\u001b[0m in \u001b[0;36mrandom_mapper\u001b[0;34m(song_path, song_name, difficulty)\u001b[0m\n\u001b[1;32m      5\u001b[0m     \u001b[0;31m#Load song and get beat features\u001b[0m\u001b[0;34m\u001b[0m\u001b[0;34m\u001b[0m\u001b[0;34m\u001b[0m\u001b[0m\n\u001b[1;32m      6\u001b[0m     \u001b[0mprint\u001b[0m\u001b[0;34m(\u001b[0m\u001b[0;34m\"Loading Song...\"\u001b[0m\u001b[0;34m)\u001b[0m\u001b[0;34m\u001b[0m\u001b[0;34m\u001b[0m\u001b[0m\n\u001b[0;32m----> 7\u001b[0;31m     \u001b[0mbpm\u001b[0m\u001b[0;34m,\u001b[0m \u001b[0mbeat_times\u001b[0m\u001b[0;34m,\u001b[0m \u001b[0my\u001b[0m\u001b[0;34m,\u001b[0m \u001b[0msr\u001b[0m \u001b[0;34m=\u001b[0m \u001b[0mbeat_features\u001b[0m\u001b[0;34m(\u001b[0m\u001b[0msong_path\u001b[0m\u001b[0;34m)\u001b[0m\u001b[0;34m\u001b[0m\u001b[0;34m\u001b[0m\u001b[0m\n\u001b[0m\u001b[1;32m      8\u001b[0m     \u001b[0mprint\u001b[0m\u001b[0;34m(\u001b[0m\u001b[0;34m\"Song loaded successfully!\"\u001b[0m\u001b[0;34m)\u001b[0m\u001b[0;34m\u001b[0m\u001b[0;34m\u001b[0m\u001b[0m\n\u001b[1;32m      9\u001b[0m     \u001b[0;31m#Write lists for note placement, event placement, and obstacle placement\u001b[0m\u001b[0;34m\u001b[0m\u001b[0;34m\u001b[0m\u001b[0;34m\u001b[0m\u001b[0m\n",
      "\u001b[0;32m<ipython-input-103-5fa5e30013a1>\u001b[0m in \u001b[0;36mbeat_features\u001b[0;34m(song_path)\u001b[0m\n\u001b[1;32m      2\u001b[0m     \u001b[0;34m\"\"\"This function takes in the song stored at 'song_path' and estimates the bpm and beat times.\"\"\"\u001b[0m\u001b[0;34m\u001b[0m\u001b[0;34m\u001b[0m\u001b[0m\n\u001b[1;32m      3\u001b[0m     \u001b[0;31m#Load song and split into harmonic and percussive parts.\u001b[0m\u001b[0;34m\u001b[0m\u001b[0;34m\u001b[0m\u001b[0;34m\u001b[0m\u001b[0m\n\u001b[0;32m----> 4\u001b[0;31m     \u001b[0my\u001b[0m\u001b[0;34m,\u001b[0m \u001b[0msr\u001b[0m \u001b[0;34m=\u001b[0m \u001b[0mlibrosa\u001b[0m\u001b[0;34m.\u001b[0m\u001b[0mload\u001b[0m\u001b[0;34m(\u001b[0m\u001b[0msong_path\u001b[0m\u001b[0;34m)\u001b[0m\u001b[0;34m\u001b[0m\u001b[0;34m\u001b[0m\u001b[0m\n\u001b[0m\u001b[1;32m      5\u001b[0m     \u001b[0;31m#y_harmonic, y_percussive = librosa.effects.hpss(y)\u001b[0m\u001b[0;34m\u001b[0m\u001b[0;34m\u001b[0m\u001b[0;34m\u001b[0m\u001b[0m\n\u001b[1;32m      6\u001b[0m     \u001b[0;31m#Isolate beats and beat times\u001b[0m\u001b[0;34m\u001b[0m\u001b[0;34m\u001b[0m\u001b[0;34m\u001b[0m\u001b[0m\n",
      "\u001b[0;32m/opt/anaconda3/envs/BSmapsynth-env/lib/python3.6/site-packages/librosa/core/audio.py\u001b[0m in \u001b[0;36mload\u001b[0;34m(path, sr, mono, offset, duration, dtype, res_type)\u001b[0m\n\u001b[1;32m    145\u001b[0m         \u001b[0;32mif\u001b[0m \u001b[0misinstance\u001b[0m\u001b[0;34m(\u001b[0m\u001b[0mpath\u001b[0m\u001b[0;34m,\u001b[0m \u001b[0msix\u001b[0m\u001b[0;34m.\u001b[0m\u001b[0mstring_types\u001b[0m\u001b[0;34m)\u001b[0m\u001b[0;34m:\u001b[0m\u001b[0;34m\u001b[0m\u001b[0;34m\u001b[0m\u001b[0m\n\u001b[1;32m    146\u001b[0m             \u001b[0mwarnings\u001b[0m\u001b[0;34m.\u001b[0m\u001b[0mwarn\u001b[0m\u001b[0;34m(\u001b[0m\u001b[0;34m'PySoundFile failed. Trying audioread instead.'\u001b[0m\u001b[0;34m)\u001b[0m\u001b[0;34m\u001b[0m\u001b[0;34m\u001b[0m\u001b[0m\n\u001b[0;32m--> 147\u001b[0;31m             \u001b[0my\u001b[0m\u001b[0;34m,\u001b[0m \u001b[0msr_native\u001b[0m \u001b[0;34m=\u001b[0m \u001b[0m__audioread_load\u001b[0m\u001b[0;34m(\u001b[0m\u001b[0mpath\u001b[0m\u001b[0;34m,\u001b[0m \u001b[0moffset\u001b[0m\u001b[0;34m,\u001b[0m \u001b[0mduration\u001b[0m\u001b[0;34m,\u001b[0m \u001b[0mdtype\u001b[0m\u001b[0;34m)\u001b[0m\u001b[0;34m\u001b[0m\u001b[0;34m\u001b[0m\u001b[0m\n\u001b[0m\u001b[1;32m    148\u001b[0m         \u001b[0;32melse\u001b[0m\u001b[0;34m:\u001b[0m\u001b[0;34m\u001b[0m\u001b[0;34m\u001b[0m\u001b[0m\n\u001b[1;32m    149\u001b[0m             \u001b[0msix\u001b[0m\u001b[0;34m.\u001b[0m\u001b[0mreraise\u001b[0m\u001b[0;34m(\u001b[0m\u001b[0;34m*\u001b[0m\u001b[0msys\u001b[0m\u001b[0;34m.\u001b[0m\u001b[0mexc_info\u001b[0m\u001b[0;34m(\u001b[0m\u001b[0;34m)\u001b[0m\u001b[0;34m)\u001b[0m\u001b[0;34m\u001b[0m\u001b[0;34m\u001b[0m\u001b[0m\n",
      "\u001b[0;32m/opt/anaconda3/envs/BSmapsynth-env/lib/python3.6/site-packages/librosa/core/audio.py\u001b[0m in \u001b[0;36m__audioread_load\u001b[0;34m(path, offset, duration, dtype)\u001b[0m\n\u001b[1;32m    169\u001b[0m \u001b[0;34m\u001b[0m\u001b[0m\n\u001b[1;32m    170\u001b[0m     \u001b[0my\u001b[0m \u001b[0;34m=\u001b[0m \u001b[0;34m[\u001b[0m\u001b[0;34m]\u001b[0m\u001b[0;34m\u001b[0m\u001b[0;34m\u001b[0m\u001b[0m\n\u001b[0;32m--> 171\u001b[0;31m     \u001b[0;32mwith\u001b[0m \u001b[0maudioread\u001b[0m\u001b[0;34m.\u001b[0m\u001b[0maudio_open\u001b[0m\u001b[0;34m(\u001b[0m\u001b[0mpath\u001b[0m\u001b[0;34m)\u001b[0m \u001b[0;32mas\u001b[0m \u001b[0minput_file\u001b[0m\u001b[0;34m:\u001b[0m\u001b[0;34m\u001b[0m\u001b[0;34m\u001b[0m\u001b[0m\n\u001b[0m\u001b[1;32m    172\u001b[0m         \u001b[0msr_native\u001b[0m \u001b[0;34m=\u001b[0m \u001b[0minput_file\u001b[0m\u001b[0;34m.\u001b[0m\u001b[0msamplerate\u001b[0m\u001b[0;34m\u001b[0m\u001b[0;34m\u001b[0m\u001b[0m\n\u001b[1;32m    173\u001b[0m         \u001b[0mn_channels\u001b[0m \u001b[0;34m=\u001b[0m \u001b[0minput_file\u001b[0m\u001b[0;34m.\u001b[0m\u001b[0mchannels\u001b[0m\u001b[0;34m\u001b[0m\u001b[0;34m\u001b[0m\u001b[0m\n",
      "\u001b[0;32m/opt/anaconda3/envs/BSmapsynth-env/lib/python3.6/site-packages/audioread/__init__.py\u001b[0m in \u001b[0;36maudio_open\u001b[0;34m(path, backends)\u001b[0m\n\u001b[1;32m    109\u001b[0m     \u001b[0;32mfor\u001b[0m \u001b[0mBackendClass\u001b[0m \u001b[0;32min\u001b[0m \u001b[0mbackends\u001b[0m\u001b[0;34m:\u001b[0m\u001b[0;34m\u001b[0m\u001b[0;34m\u001b[0m\u001b[0m\n\u001b[1;32m    110\u001b[0m         \u001b[0;32mtry\u001b[0m\u001b[0;34m:\u001b[0m\u001b[0;34m\u001b[0m\u001b[0;34m\u001b[0m\u001b[0m\n\u001b[0;32m--> 111\u001b[0;31m             \u001b[0;32mreturn\u001b[0m \u001b[0mBackendClass\u001b[0m\u001b[0;34m(\u001b[0m\u001b[0mpath\u001b[0m\u001b[0;34m)\u001b[0m\u001b[0;34m\u001b[0m\u001b[0;34m\u001b[0m\u001b[0m\n\u001b[0m\u001b[1;32m    112\u001b[0m         \u001b[0;32mexcept\u001b[0m \u001b[0mDecodeError\u001b[0m\u001b[0;34m:\u001b[0m\u001b[0;34m\u001b[0m\u001b[0;34m\u001b[0m\u001b[0m\n\u001b[1;32m    113\u001b[0m             \u001b[0;32mpass\u001b[0m\u001b[0;34m\u001b[0m\u001b[0;34m\u001b[0m\u001b[0m\n",
      "\u001b[0;32m/opt/anaconda3/envs/BSmapsynth-env/lib/python3.6/site-packages/audioread/rawread.py\u001b[0m in \u001b[0;36m__init__\u001b[0;34m(self, filename)\u001b[0m\n\u001b[1;32m     60\u001b[0m     \"\"\"\n\u001b[1;32m     61\u001b[0m     \u001b[0;32mdef\u001b[0m \u001b[0m__init__\u001b[0m\u001b[0;34m(\u001b[0m\u001b[0mself\u001b[0m\u001b[0;34m,\u001b[0m \u001b[0mfilename\u001b[0m\u001b[0;34m)\u001b[0m\u001b[0;34m:\u001b[0m\u001b[0;34m\u001b[0m\u001b[0;34m\u001b[0m\u001b[0m\n\u001b[0;32m---> 62\u001b[0;31m         \u001b[0mself\u001b[0m\u001b[0;34m.\u001b[0m\u001b[0m_fh\u001b[0m \u001b[0;34m=\u001b[0m \u001b[0mopen\u001b[0m\u001b[0;34m(\u001b[0m\u001b[0mfilename\u001b[0m\u001b[0;34m,\u001b[0m \u001b[0;34m'rb'\u001b[0m\u001b[0;34m)\u001b[0m\u001b[0;34m\u001b[0m\u001b[0;34m\u001b[0m\u001b[0m\n\u001b[0m\u001b[1;32m     63\u001b[0m \u001b[0;34m\u001b[0m\u001b[0m\n\u001b[1;32m     64\u001b[0m         \u001b[0;32mtry\u001b[0m\u001b[0;34m:\u001b[0m\u001b[0;34m\u001b[0m\u001b[0;34m\u001b[0m\u001b[0m\n",
      "\u001b[0;31mFileNotFoundError\u001b[0m: [Errno 2] No such file or directory: 'song.egg'"
     ]
    }
   ],
   "source": [
    "random_mapper('song.egg', 'example', 'expert')"
   ]
  },
  {
   "cell_type": "code",
   "execution_count": 13,
   "metadata": {},
   "outputs": [
    {
     "name": "stdout",
     "output_type": "stream",
     "text": [
      "Loading Song...\n"
     ]
    },
    {
     "name": "stderr",
     "output_type": "stream",
     "text": [
      "/opt/anaconda3/envs/BSmapsynth-env/lib/python3.6/site-packages/librosa/core/audio.py:146: UserWarning: PySoundFile failed. Trying audioread instead.\n",
      "  warnings.warn('PySoundFile failed. Trying audioread instead.')\n"
     ]
    },
    {
     "name": "stdout",
     "output_type": "stream",
     "text": [
      "Song loaded successfully!\n",
      "Random mapping...\n",
      "Mapping done!\n",
      "Writing files to disk...\n",
      "Converting music file...\n",
      "Zipping folder...\n",
      "Finished! Look for zipped folder in your current path, unzip the folder, and place in the 'CustomMusic' folder in the Beat Saber directory\n"
     ]
    }
   ],
   "source": [
    "random_mapper('./RandomExample/03 Toxic Bad Guy, Look What You Made Me Do (Billie Eilish vs. Taylor Swift vs. Britney Spears) - jimmylin.mp3', 'RandomExample', 'Normal')"
   ]
  },
  {
   "cell_type": "markdown",
   "metadata": {},
   "source": [
    "---\n",
    "## Random Forest Mapping Functions"
   ]
  },
  {
   "cell_type": "code",
   "execution_count": 84,
   "metadata": {},
   "outputs": [],
   "source": [
    "def beat_number_and_chroma_16th_beat(song_path):\n",
    "    \"\"\"This function reads in a music file and returns a DataFrame of beat numbers (divided into 1/16th beats) and\n",
    "    chroma features at each beat. Chroma features are calculated for 1/4 beats and propagated forward across the \n",
    "    16th beats.\"\"\"\n",
    "    #Load music file, estimate beat frames, and compute chromagram\n",
    "    y, sr = librosa.load(song_path)\n",
    "    y_harmonic, y_percussive = librosa.effects.hpss(y)\n",
    "    tempo, beat_frames = librosa.beat.beat_track(y=y_percussive,\n",
    "                                             sr=sr,\n",
    "                                             trim = False,\n",
    "                                             units = 'frames')\n",
    "    chromagram = librosa.feature.chroma_cqt(y=y_harmonic,\n",
    "                                            sr=sr)\n",
    "    #Make a framework for syncing chroma features to 1/4 beat\n",
    "    extend = np.array([])\n",
    "    ind = 0\n",
    "    while ind < len(beat_frames)-1:\n",
    "        extend = np.append(extend, np.arange(beat_frames[ind], beat_frames[ind+1], round((beat_frames[ind+1]-beat_frames[ind])/4))[1:4])\n",
    "        ind += 1\n",
    "    beat_frames_merged = np.concatenate((np.array([0]), beat_frames, extend))\n",
    "    beat_frames_merged.sort()\n",
    "    \n",
    "    #Sync chroma features to 1/4 beats\n",
    "    beat_chroma = librosa.util.sync(chromagram,\n",
    "                                beat_frames_merged.astype(int),\n",
    "                                aggregate=np.median)\n",
    "    \n",
    "    #Add beat count to beat frames\n",
    "    t = np.arange(0, len(beat_frames), 1)\n",
    "    beat_numbers = pd.concat([pd.Series(t, name = '_time'), pd.Series(beat_frames, name = 'frame_no')], axis = 1)\n",
    "    beat_numbers['frame_no'] = beat_numbers['frame_no'].astype(int)\n",
    "    \n",
    "    #Merge chroma features with extended beat frames (1/4 beat)\n",
    "    chromabeats = pd.concat([pd.Series(beat_frames_merged.astype(int), name = 'frame_no'), pd.DataFrame(beat_chroma.T)], axis = 1)\n",
    "    z = pd.merge(beat_numbers, chromabeats, on = 'frame_no', how = 'outer', sort = True)\n",
    "    z.interpolate(inplace = True)\n",
    "    \n",
    "    #Expand beat frequency to 1/16th beat & merge\n",
    "    expand_time = pd.DataFrame(np.arange(0.00, z['_time'].max(), 0.0625), columns = ['_time'])\n",
    "    expanded_chromabeats = pd.merge(z, expand_time, on='_time', how = 'outer', sort = True)\n",
    "    \n",
    "    #Forward fill to fill NaNs\n",
    "    expanded_chromabeats.fillna(method='ffill', inplace = True)\n",
    "    expanded_chromabeats.drop('frame_no', axis = 1, inplace = True)\n",
    "    \n",
    "    return tempo, expanded_chromabeats"
   ]
  },
  {
   "cell_type": "code",
   "execution_count": 85,
   "metadata": {},
   "outputs": [],
   "source": [
    "def beat_number_and_chroma_half_beat(song_path):\n",
    "    \"\"\"This function reads in a music file and returns a DataFrame of beat numbers (divided into half beats) and\n",
    "    chroma features at each beat.\"\"\"    \n",
    "    #Load music file, estimate beat frames, and compute chromagram\n",
    "    y, sr = librosa.load(song_path)\n",
    "    y_harmonic, y_percussive = librosa.effects.hpss(y)\n",
    "    tempo, beat_frames = librosa.beat.beat_track(y=y_percussive,\n",
    "                                             sr=sr,\n",
    "                                             trim = False,\n",
    "                                             units = 'frames')\n",
    "    chromagram = librosa.feature.chroma_cqt(y=y_harmonic,\n",
    "                                            sr=sr)\n",
    "    #Make a framework for syncing chroma features to 1/2 beat\n",
    "    extend = np.array([])\n",
    "    ind = 0\n",
    "    while ind < len(beat_frames)-1:\n",
    "        extend = np.append(extend, np.arange(beat_frames[ind], beat_frames[ind+1], round((beat_frames[ind+1]-beat_frames[ind])/2))[1:2])\n",
    "        ind += 1\n",
    "    beat_frames_merged = np.concatenate((np.array([0]), beat_frames, extend))\n",
    "    beat_frames_merged.sort()\n",
    "    \n",
    "    #Sync chroma features to 1/2 beats\n",
    "    beat_chroma = librosa.util.sync(chromagram,\n",
    "                                beat_frames_merged.astype(int),\n",
    "                                aggregate=np.median)\n",
    "    \n",
    "    #Add beat count to beat frames\n",
    "    t = np.arange(0, len(beat_frames), 1)\n",
    "    beat_numbers = pd.concat([pd.Series(t, name = '_time'), pd.Series(beat_frames, name = 'frame_no')], axis = 1)\n",
    "    beat_numbers['frame_no'] = beat_numbers['frame_no'].astype(int)\n",
    "    \n",
    "    #Merge chroma features with extended beat frames (1/2 beat)\n",
    "    chromabeats = pd.concat([pd.Series(beat_frames_merged.astype(int), name = 'frame_no'), pd.DataFrame(beat_chroma.T)], axis = 1)\n",
    "    z = pd.merge(beat_numbers, chromabeats, on = 'frame_no', how = 'outer', sort = True)\n",
    "    z.interpolate(inplace = True)\n",
    "    z.drop('frame_no', axis = 1, inplace = True)\n",
    "    z.drop(0, axis = 0, inplace = True)\n",
    "    z.reset_index(drop=True, inplace = True)\n",
    "    return tempo, z"
   ]
  },
  {
   "cell_type": "code",
   "execution_count": 86,
   "metadata": {},
   "outputs": [],
   "source": [
    "def RFchain_notes_writer(music_features, difficulty):\n",
    "    \"\"\"This function takes in a music features DataFrame and difficulty level and returns a list of note placement\n",
    "    dictionaries from the Random Forest chain classifier model's predictions.\"\"\"\n",
    "    #Load model\n",
    "    with open(f\"./models/chain_{difficulty}.pkl\", 'rb') as m:\n",
    "        model = pickle.load(m)\n",
    "    #Make predictions using model\n",
    "    preds = model[0].predict(music_features)\n",
    "    #Make predictions into a dataframe and concatenate with beat times\n",
    "    df_preds = pd.concat([music_features[['_time']], pd.DataFrame(preds, columns = model[1])], axis = 1, sort = True)\n",
    "    #Write notes dictionaries\n",
    "    notes_list = []\n",
    "    for index, row in df_preds.iterrows():\n",
    "        for x in list(filter(lambda y: y.startswith('notes_type'), df_preds.columns)):\n",
    "            if row[x] != 999:\n",
    "                num = x[-1]\n",
    "                note = {'_time': row['_time'],\n",
    "                        '_lineIndex': int(row[f\"notes_lineIndex_{num}\"]),\n",
    "                        '_lineLayer': int(row[f\"notes_lineLayer_{num}\"]),\n",
    "                        '_type': num,\n",
    "                        '_cutDirection': int(row[f\"notes_cutDirection_{num}\"])}\n",
    "                notes_list.append(note)\n",
    "    return notes_list\n",
    "\n",
    "    return df_preds"
   ]
  },
  {
   "cell_type": "code",
   "execution_count": 87,
   "metadata": {},
   "outputs": [],
   "source": [
    "def RF_mapper(song_path, song_name, difficulty, model):\n",
    "    \"\"\"Wrapper function for writing a Random Forest beat map folder. Only works with model = 'chain' right now.\"\"\"\n",
    "    #Load song and get beat features\n",
    "    print(\"Loading Song...\")\n",
    "    bpm, music_features = beat_number_and_chroma_half_beat(song_path)\n",
    "    print(\"Song loaded successfully!\")\n",
    "    #Write lists for note placement, event placement, and obstacle placement\n",
    "    if model == 'chain':\n",
    "        print(\"Mapping with Random Forest chain classifier model...\")\n",
    "        notes_list = RFchain_notes_writer(music_features, difficulty)\n",
    "        events_list = events_writer(music_features['_time'])\n",
    "        obstacles_list = obstacles_writer(music_features['_time'], difficulty)\n",
    "        print(\"Mapping done!\")\n",
    "    else:\n",
    "        print(\"Other model types are not implemented yet. Please use 'chain'.\")\n",
    "    #Write and zip files\n",
    "    print(\"Writing files to disk...\")\n",
    "    write_info(song_name, bpm, difficulty)\n",
    "    write_level(difficulty, events_list, notes_list, obstacles_list)\n",
    "    print(\"Converting music file...\")\n",
    "    music_file_converter(song_path)\n",
    "    print(\"Zipping folder...\")\n",
    "    zip_folder_exporter(song_name, difficulty)\n",
    "    print(\"Finished! Look for zipped folder in your current path, unzip the folder, and place in the 'CustomMusic' folder in the Beat Saber directory\")"
   ]
  },
  {
   "cell_type": "code",
   "execution_count": 60,
   "metadata": {},
   "outputs": [
    {
     "name": "stdout",
     "output_type": "stream",
     "text": [
      "Loading Song...\n"
     ]
    },
    {
     "name": "stderr",
     "output_type": "stream",
     "text": [
      "/opt/anaconda3/envs/BSmapsynth-env/lib/python3.6/site-packages/librosa/core/audio.py:146: UserWarning: PySoundFile failed. Trying audioread instead.\n",
      "  warnings.warn('PySoundFile failed. Trying audioread instead.')\n"
     ]
    },
    {
     "name": "stdout",
     "output_type": "stream",
     "text": [
      "Song loaded successfully!\n",
      "Mapping with Random Forest chain classifier model...\n",
      "Mapping done!\n",
      "Writing files to disk...\n",
      "Converting music file...\n",
      "Zipping folder...\n",
      "Finished! Look for zipped folder in your current path, unzip the folder, and place in the 'CustomMusic' folder in the Beat Saber directory\n"
     ]
    }
   ],
   "source": [
    "RF_mapper('Captive_Portal_-_03_-_An_Example_For.mp3', 'An Example For - Captive Portal', 'expert', 'chain')"
   ]
  },
  {
   "cell_type": "markdown",
   "metadata": {},
   "source": [
    "---\n",
    "## Hidden Markov Model mapping functions"
   ]
  },
  {
   "cell_type": "code",
   "execution_count": 12,
   "metadata": {},
   "outputs": [],
   "source": [
    "def walk_to_df(walk):\n",
    "    \"\"\"Function for turning a Markov walk sequence into a DataFrame of note placement predictions\"\"\"\n",
    "    sequence = []\n",
    "    for step in walk:\n",
    "        sequence.append(step.split(\",\"))\n",
    "    constant = ['notes_type_0', 'notes_lineIndex_0', 'notes_lineLayer_0',\n",
    "                    'notes_cutDirection_0', 'notes_type_1', 'notes_lineIndex_1', 'notes_lineLayer_1', \n",
    "                    'notes_cutDirection_1', 'notes_type_3', 'notes_lineIndex_3',\n",
    "                    'notes_lineLayer_3', 'notes_cutDirection_3']\n",
    "    df = pd.DataFrame(sequence, columns = constant)\n",
    "    return df"
   ]
  },
  {
   "cell_type": "code",
   "execution_count": 13,
   "metadata": {},
   "outputs": [],
   "source": [
    "def HMM_notes_writer(beat_list, difficulty, version):\n",
    "    \"\"\"Writes a list of notes based on a Hidden Markov Model walk.\"\"\"\n",
    "    #Load model\n",
    "    if version == 1:\n",
    "        with open(f\"../models/HMM_{difficulty}.pkl\", 'rb') as m:\n",
    "            MC = pickle.load(m)\n",
    "    elif version == 2:\n",
    "        with open(f\"../models/HMM_{difficulty}_v2.pkl\", 'rb') as m:\n",
    "            MC = pickle.load(m)\n",
    "    #Set note placement rate dependent on difficulty level\n",
    "    counter = 2\n",
    "    beats = []\n",
    "    rate = None\n",
    "    if difficulty == 'easy':\n",
    "        rate = 3\n",
    "    elif difficulty == 'normal':\n",
    "        rate = 2\n",
    "    else:\n",
    "        rate = 1\n",
    "    while counter <= len(beat_list):\n",
    "        beats.append(counter)\n",
    "        counter += rate\n",
    "    #Get HMM walk long enough to cover number of beats\n",
    "    random_walk = MC.walk()\n",
    "    while len(random_walk) < len(beats):\n",
    "        random_walk = MC.walk()\n",
    "    df_walk = walk_to_df(random_walk)\n",
    "    #Combine beat numbers with HMM walk steps\n",
    "    df_preds = pd.concat([pd.DataFrame(beats, columns = ['_time']), df_walk], axis = 1, sort = True)\n",
    "    df_preds.dropna(axis = 0, inplace = True)\n",
    "    #Write notes dictionaries\n",
    "    notes_list = []\n",
    "    for index, row in df_preds.iterrows():\n",
    "        for x in list(filter(lambda y: y.startswith('notes_type'), df_preds.columns)):\n",
    "            if row[x] != '999':\n",
    "                num = x[-1]\n",
    "                note = {'_time': row['_time'],\n",
    "                        '_lineIndex': int(row[f\"notes_lineIndex_{num}\"]),\n",
    "                        '_lineLayer': int(row[f\"notes_lineLayer_{num}\"]),\n",
    "                        '_type': num,\n",
    "                        '_cutDirection': int(row[f\"notes_cutDirection_{num}\"])}\n",
    "                notes_list.append(note)\n",
    "   #Remove potential notes that come too early in the song:\n",
    "    for i, x in enumerate(notes_list):\n",
    "        if notes_list[i]['_time'] >= 0 and notes_list[i]['_time'] <= 1.5:\n",
    "            del notes_list[i]\n",
    "        elif notes_list[i]['_time'] > beats[-1]:\n",
    "            del notes_list[i]\n",
    "\n",
    "    return notes_list\n",
    "            "
   ]
  },
  {
   "cell_type": "code",
   "execution_count": 14,
   "metadata": {},
   "outputs": [],
   "source": [
    "def HMM_mapper(song_path, song_name, difficulty, version = 2):\n",
    "    #Load song and get beat features\n",
    "    print(\"Loading Song...\")\n",
    "    bpm, beat_times, y, sr = beat_features(song_path)\n",
    "    beat_times = [x*(bpm/60) for x in beat_times] #list(range(len(beat_times)))\n",
    "    print(\"Song loaded successfully!\")\n",
    "    #Write lists for note placement, event placement, and obstacle placement\n",
    "    print(\"Mapping with Hidden Markov Model...\")\n",
    "    notes_list = HMM_notes_writer(beat_times, difficulty, version)\n",
    "    events_list = events_writer(beat_times)\n",
    "    obstacles_list = obstacles_writer(beat_times, difficulty)\n",
    "    print(\"Mapping done!\")\n",
    "    #Write and zip files\n",
    "    print(\"Writing files to disk...\")\n",
    "    write_info(song_name, bpm, difficulty)\n",
    "    write_level(difficulty, events_list, notes_list, obstacles_list)\n",
    "    print(\"Converting music file...\")\n",
    "    music_file_converter(song_path)\n",
    "    print(\"Zipping folder...\")\n",
    "    zip_folder_exporter(song_name, difficulty)\n",
    "    print(\"Finished! Look for zipped folder in your current path, unzip the folder, and place in the 'CustomMusic' folder in the Beat Saber directory\")"
   ]
  },
  {
   "cell_type": "code",
   "execution_count": 96,
   "metadata": {
    "scrolled": true
   },
   "outputs": [
    {
     "name": "stdout",
     "output_type": "stream",
     "text": [
      "Loading Song...\n"
     ]
    },
    {
     "name": "stderr",
     "output_type": "stream",
     "text": [
      "/opt/anaconda3/envs/BSmapsynth-env/lib/python3.6/site-packages/librosa/core/audio.py:146: UserWarning: PySoundFile failed. Trying audioread instead.\n",
      "  warnings.warn('PySoundFile failed. Trying audioread instead.')\n"
     ]
    },
    {
     "name": "stdout",
     "output_type": "stream",
     "text": [
      "Song loaded successfully!\n",
      "Mapping with Hidden Markov Model...\n",
      "Mapping done!\n",
      "Writing files to disk...\n",
      "Converting music file...\n",
      "Zipping folder...\n",
      "Finished! Look for zipped folder in your current path, unzip the folder, and place in the 'CustomMusic' folder in the Beat Saber directory\n"
     ]
    }
   ],
   "source": [
    "HMM_mapper(\"../Example_CustomMaps/2144 (Shut Up and Dance - bennydabeast)/song.ogg\", \"Shut Up and Dance\", 'expert')"
   ]
  },
  {
   "cell_type": "markdown",
   "metadata": {},
   "source": [
    "---\n",
    "## Segmented HMM mapping functions"
   ]
  },
  {
   "cell_type": "code",
   "execution_count": 15,
   "metadata": {},
   "outputs": [],
   "source": [
    "def laplacian_segmentation(y, sr, k = 5):\n",
    "    \"\"\"This function uses the Laplacian Segmentation method described in McFee and Ellis, 2014, and adapted from\n",
    "    expample code in the librosa documentation. It returns the segment boundaries (in frame number and time) and \n",
    "    segment ID's of isolated music file segments.\"\"\"\n",
    "    BINS_PER_OCTAVE = 12 * 3\n",
    "    N_OCTAVES = 7\n",
    "    C = librosa.amplitude_to_db(np.abs(librosa.cqt(y=y, sr=sr,\n",
    "                                        bins_per_octave=BINS_PER_OCTAVE,\n",
    "                                        n_bins=N_OCTAVES * BINS_PER_OCTAVE)),\n",
    "                                        ref=np.max)\n",
    "    tempo, beats = librosa.beat.beat_track(y=y, sr=sr, trim=False)\n",
    "    Csync = librosa.util.sync(C, beats, aggregate=np.median)\n",
    "\n",
    "    # For plotting purposes, we'll need the timing of the beats\n",
    "    # we fix_frames to include non-beat frames 0 and C.shape[1] (final frame)\n",
    "    beat_times = librosa.frames_to_time(librosa.util.fix_frames(beats,\n",
    "                                                                x_min=0,\n",
    "                                                                x_max=C.shape[1]),\n",
    "                                                                sr=sr)\n",
    "    \n",
    "    R = librosa.segment.recurrence_matrix(Csync, width=3, mode='affinity',\n",
    "                                          sym=True)\n",
    "    # Enhance diagonals with a median filter (Equation 2)\n",
    "    df = librosa.segment.timelag_filter(scipy.ndimage.median_filter)\n",
    "    Rf = df(R, size=(1, 7))\n",
    "    mfcc = librosa.feature.mfcc(y=y, sr=sr)\n",
    "    Msync = librosa.util.sync(mfcc, beats)\n",
    "    path_distance = np.sum(np.diff(Msync, axis=1)**2, axis=0)\n",
    "    sigma = np.median(path_distance)\n",
    "    path_sim = np.exp(-path_distance / sigma)\n",
    "    R_path = np.diag(path_sim, k=1) + np.diag(path_sim, k=-1)\n",
    "    deg_path = np.sum(R_path, axis=1)\n",
    "    deg_rec = np.sum(Rf, axis=1)\n",
    "    mu = deg_path.dot(deg_path + deg_rec) / np.sum((deg_path + deg_rec)**2)\n",
    "    A = mu * Rf + (1 - mu) * R_path\n",
    "    L = scipy.sparse.csgraph.laplacian(A, normed=True)\n",
    "    # and its spectral decomposition\n",
    "    evals, evecs = scipy.linalg.eigh(L)\n",
    "    # We can clean this up further with a median filter.\n",
    "    # This can help smooth over small discontinuities\n",
    "    evecs = scipy.ndimage.median_filter(evecs, size=(9, 1))\n",
    "    # cumulative normalization is needed for symmetric normalize laplacian eigenvectors\n",
    "    Cnorm = np.cumsum(evecs**2, axis=1)**0.5\n",
    "    # If we want k clusters, use the first k normalized eigenvectors.\n",
    "    # Fun exercise: see how the segmentation changes as you vary k\n",
    "    k = k\n",
    "    X = evecs[:, :k] / Cnorm[:, k-1:k]\n",
    "    KM = sklearn.cluster.KMeans(n_clusters=k)\n",
    "    seg_ids = KM.fit_predict(X)\n",
    "    bound_beats = 1 + np.flatnonzero(seg_ids[:-1] != seg_ids[1:])\n",
    "    # Count beat 0 as a boundary\n",
    "    bound_beats = librosa.util.fix_frames(bound_beats, x_min=0)\n",
    "    # Compute the segment label for each boundary\n",
    "    bound_segs = list(seg_ids[bound_beats])\n",
    "    # Convert beat indices to frames\n",
    "    bound_frames = beats[bound_beats]\n",
    "    # Make sure we cover to the end of the track\n",
    "    bound_frames = librosa.util.fix_frames(bound_frames,\n",
    "                                           x_min=None,\n",
    "                                           x_max=C.shape[1]-1)\n",
    "    bound_times = librosa.frames_to_time(bound_frames)\n",
    "    bound_times = [(x/60)*tempo for x in bound_times]\n",
    "    beat_numbers = list(range(len(bound_frames)))\n",
    "    bound_beats = np.append(bound_beats, list(range(len(beats)))[-1])\n",
    "    segments = list(zip(zip(bound_times, bound_times[1:]), zip(bound_beats, bound_beats[1:]), bound_segs))\n",
    "    #segments = list(zip(zip(bound_beats, bound_beats[1:]), bound_segs))\n",
    "    \n",
    "    return segments, beat_times, tempo #beats, bound_beats, bound_segs "
   ]
  },
  {
   "cell_type": "code",
   "execution_count": 16,
   "metadata": {},
   "outputs": [],
   "source": [
    "def segments_to_df(segments):\n",
    "    \"\"\"Helper function to translate a song semgmenation to a pandas DataFrame.\"\"\"\n",
    "    lengths = []\n",
    "    for seg in segments:\n",
    "        length = seg[1][1] - seg[1][0]\n",
    "        lengths.append(length)\n",
    "    df = pd.concat([pd.Series(lengths, name = 'length'), pd.Series([x[2] for x in segments], name = 'seg_no')], axis = 1)\n",
    "    return df"
   ]
  },
  {
   "cell_type": "code",
   "execution_count": 17,
   "metadata": {},
   "outputs": [],
   "source": [
    "def segment_predictions(segment_df, HMM_model):\n",
    "    \"\"\"This function predicts a Markov chain walk for each segment of a segmented music file. It will repeat a \n",
    "    walk for segments that it has already mapped previously (truncating or extending as necessary).\"\"\"\n",
    "    \n",
    "    #make predictions\n",
    "    preds = pd.DataFrame([])\n",
    "    \n",
    "    completed_segments = {}\n",
    "    \n",
    "    for index, row in segment_df.iterrows():\n",
    "        if row['seg_no'] not in completed_segments.keys():\n",
    "            if index == 0:\n",
    "                pred = HMM_model.walk()\n",
    "                while len(pred) < row['length']:\n",
    "                    pred = HMM_model.walk()\n",
    "                completed_segments.update({row['seg_no']: {'start':0, 'end': len(pred)}})\n",
    "                preds = pd.concat([preds, pd.Series(pred[0: row['length']])], axis = 0, ignore_index = True)\n",
    "                \n",
    "            else:\n",
    "                pred = HMM_model.walk(init_state = tuple(preds.iloc[-5:, 0]))\n",
    "                while len(pred) < row['length']:\n",
    "                    pred = HMM_model.walk(init_state = tuple(preds.iloc[-5:, 0]))\n",
    "                completed_segments.update({row['seg_no']: {'start': len(preds)+1, 'end': len(preds)+len(pred)}})\n",
    "                preds = pd.concat([preds, pd.Series(pred[0: row['length']])], axis = 0, ignore_index = True)\n",
    "\n",
    "        else:\n",
    "            if row['length'] <= (completed_segments[row['seg_no']]['end'] - completed_segments[row['seg_no']]['start']): \n",
    "                pred = preds.iloc[completed_segments[row['seg_no']]['start']: completed_segments[row['seg_no']]['start'] + row['length'], 0]\n",
    "                preds = pd.concat([preds, pred], axis = 0, ignore_index = True)\n",
    "            else:\n",
    "                extend = HMM_model.walk(init_state = tuple(preds.iloc[completed_segments[row['seg_no']]['end'] - 5 : completed_segments[row['seg_no']]['end'], 0]))\n",
    "                pred = preds.iloc[completed_segments[row['seg_no']]['start']: completed_segments[row['seg_no']]['end'], 0]\n",
    "                diff = row['length'] - len(pred)\n",
    "                pred = pd.concat([pred, pd.Series(extend[0: diff+1])], axis = 0, ignore_index = True)\n",
    "                completed_segments.update({row['seg_no']: {'start': len(preds)+1, 'end': len(preds)+len(pred)}})\n",
    "                preds = pd.concat([preds, pred], axis = 0, ignore_index = True)\n",
    "    \n",
    "    preds_list = list(preds.iloc[:, 0])\n",
    "    preds = walk_to_df(preds_list)\n",
    "    return preds\n",
    "            "
   ]
  },
  {
   "cell_type": "code",
   "execution_count": 86,
   "metadata": {},
   "outputs": [],
   "source": [
    "def segmented_HMM_notes_writer(y, sr, k, difficulty, version = 2):\n",
    "    \n",
    "    #Load model:\n",
    "    if version == 1:\n",
    "        with open(f\"../models/HMM_{difficulty}.pkl\", 'rb') as m:\n",
    "            MC = pickle.load(m)\n",
    "    elif version == 2:\n",
    "        with open(f\"../models/HMM_{difficulty}_v2.pkl\", 'rb') as m:\n",
    "            MC = pickle.load(m)\n",
    "            \n",
    "    segments, beat_times, tempo = laplacian_segmentation(y, sr, k)\n",
    "    segments_df = segments_to_df(segments)\n",
    "    preds = segment_predictions(segments_df, MC)\n",
    "    #Combine beat numbers with HMM walk steps\n",
    "    beats = [(x/60)* tempo for x in beat_times]\n",
    "    df_preds = pd.concat([pd.DataFrame(beats, columns = ['_time']), preds], axis = 1, sort = True)\n",
    "    df_preds.dropna(axis = 0, inplace = True)\n",
    "    #Write notes dictionaries\n",
    "    notes_list = []\n",
    "    for index, row in df_preds.iterrows():\n",
    "        for x in list(filter(lambda y: y.startswith('notes_type'), df_preds.columns)):\n",
    "            if row[x] != '999':\n",
    "                num = x[-1]\n",
    "                note = {'_time': row['_time'],\n",
    "                        '_lineIndex': int(row[f\"notes_lineIndex_{num}\"]),\n",
    "                        '_lineLayer': int(row[f\"notes_lineLayer_{num}\"]),\n",
    "                        '_type': num,\n",
    "                        '_cutDirection': int(row[f\"notes_cutDirection_{num}\"])}\n",
    "                notes_list.append(note)\n",
    "    #Remove potential notes that come too early in the song:\n",
    "    for i, x in enumerate(notes_list):\n",
    "        if notes_list[i]['_time'] >= 0 and notes_list[i]['_time'] <= 1.5:\n",
    "            del notes_list[i]\n",
    "        elif notes_list[i]['_time'] > beats[-1]:\n",
    "            del notes_list[i]\n",
    "    \n",
    "    return notes_list"
   ]
  },
  {
   "cell_type": "code",
   "execution_count": 19,
   "metadata": {},
   "outputs": [],
   "source": [
    "def segmented_HMM_mapper(song_path, song_name, difficulty, k = 5, version = 2):\n",
    "    #Load song and get beat features\n",
    "    print(\"Loading Song...\")\n",
    "    bpm, beat_times, y, sr = beat_features(song_path)\n",
    "    beat_times = [x*bpm/60 for x in beat_times]\n",
    "    print(\"Song loaded successfully!\")\n",
    "    #Write lists for note placement, event placement, and obstacle placement\n",
    "    print(\"Mapping with segmented Hidden Markov Model...\")\n",
    "    notes_list = segmented_HMM_notes_writer(y, sr, k, difficulty, version)\n",
    "    events_list = events_writer(beat_times)\n",
    "    obstacles_list = obstacles_writer(beat_times, difficulty)\n",
    "    print(\"Mapping done!\")\n",
    "    #Write and zip files\n",
    "    print(\"Writing files to disk...\")\n",
    "    write_info(song_name, bpm, difficulty)\n",
    "    write_level(difficulty, events_list, notes_list, obstacles_list)\n",
    "    print(\"Converting music file...\")\n",
    "    music_file_converter(song_path)\n",
    "    print(\"Zipping folder...\")\n",
    "    zip_folder_exporter(song_name, difficulty)\n",
    "    print(\"Finished! Look for zipped folder in your current path, unzip the folder, and place in the 'CustomMusic' folder in the Beat Saber directory\")"
   ]
  },
  {
   "cell_type": "code",
   "execution_count": 153,
   "metadata": {},
   "outputs": [
    {
     "name": "stdout",
     "output_type": "stream",
     "text": [
      "Loading Song...\n"
     ]
    },
    {
     "name": "stderr",
     "output_type": "stream",
     "text": [
      "/opt/anaconda3/envs/BSmapsynth-env/lib/python3.6/site-packages/librosa/core/audio.py:146: UserWarning: PySoundFile failed. Trying audioread instead.\n",
      "  warnings.warn('PySoundFile failed. Trying audioread instead.')\n"
     ]
    },
    {
     "name": "stdout",
     "output_type": "stream",
     "text": [
      "Song loaded successfully!\n",
      "Mapping with Hidden Markov Model...\n",
      "Mapping done!\n",
      "Writing files to disk...\n",
      "Converting music file...\n",
      "Zipping folder...\n",
      "Finished! Look for zipped folder in your current path, unzip the folder, and place in the 'CustomMusic' folder in the Beat Saber directory\n"
     ]
    }
   ],
   "source": [
    "segmented_HMM_mapper('song.egg', 'segment_example', 'hard')"
   ]
  },
  {
   "cell_type": "markdown",
   "metadata": {},
   "source": [
    "---\n",
    "## Amplitude Modulated Rate Segmented HMM Writing Functions"
   ]
  },
  {
   "cell_type": "code",
   "execution_count": 20,
   "metadata": {},
   "outputs": [],
   "source": [
    "def choose_rate(db, difficulty):\n",
    "    \"\"\"This function modulates the block placement rate by using the average loudness across beats to choose\n",
    "    how many blocks per beat will be placed. Takes in the difficulty level and the amplitude and returns an \n",
    "    integer in the set {0, 1, 2, 4, 8, 16}.\"\"\"\n",
    "    db = np.abs(db)\n",
    "    p = None\n",
    "    if difficulty.casefold() == 'easy'.casefold():\n",
    "        if db > 70:\n",
    "            p = [0.95, 0.05, 0, 0, 0, 0]\n",
    "        elif db <= 70 and db > 55:\n",
    "            p = [0.90, 0.10, 0, 0, 0, 0]\n",
    "        elif db <= 55 and db > 45:\n",
    "            p = [0.80, 0.2, 0, 0, 0, 0]\n",
    "        elif db <= 45 and db > 35:\n",
    "            p = [0.4, 0.5, 0.1, 0, 0, 0]\n",
    "        else:\n",
    "            p = [0.3, 0.6, 0.1, 0, 0, 0]\n",
    "    elif difficulty.casefold() == 'normal'.casefold():\n",
    "        if db > 70:\n",
    "            p = [0.95, 0.05, 0, 0, 0, 0]\n",
    "        elif db <= 70 and db > 55:\n",
    "            p = [0.5, 0.5, 0, 0, 0, 0]\n",
    "        elif db <= 55 and db > 45:\n",
    "            p = [0.3, 0.7, 0, 0, 0, 0]\n",
    "        elif db <= 45 and db > 35:\n",
    "            p = [0.2, 0.7, 0.1, 0, 0, 0]\n",
    "        else:\n",
    "            p = [0.05, 0.7, 0.25, 0, 0, 0]\n",
    "    elif difficulty.casefold() == 'hard'.casefold():\n",
    "        if db > 70:\n",
    "            p = [0.95, 0.05, 0, 0, 0, 0]\n",
    "        elif db <= 70 and db > 55:\n",
    "            p = [0.5, 0.5, 0, 0, 0, 0]\n",
    "        elif db <= 55 and db > 45:\n",
    "            p = [0.2, 0.6, 0.2, 0, 0, 0]\n",
    "        elif db <= 45 and db > 35:\n",
    "            p = [0.1, 0.5, 0.4, 0, 0, 0]\n",
    "        else:\n",
    "            p = [0.05, 0.35, 0.6, 0, 0, 0]\n",
    "    elif difficulty.casefold() == 'expert'.casefold():\n",
    "        if db > 70:\n",
    "            p = [0.8, 0.2, 0, 0, 0, 0]\n",
    "        elif db <= 70 and db > 55:\n",
    "            p = [0.2, 0.7, 0.1, 0, 0, 0]\n",
    "        elif db <= 55 and db > 50:\n",
    "            p = [0.1, 0.4, 0.3, 0.2, 0, 0]\n",
    "        elif db <= 50 and db > 45:\n",
    "            p = [0, 0.05, 0.6, 0.35, 0, 0]\n",
    "        else:\n",
    "            p = [0, 0, 0.35, 0.65, 0, 0]\n",
    "    elif difficulty.casefold() == 'expertPlus'.casefold():\n",
    "        if db > 70:\n",
    "            p = [0, 0.5, 0.4, 0.1, 0, 0]\n",
    "        elif db <= 70 and db > 55:\n",
    "            p = [0, 0.3, 0.6, 0.1, 0, 0]\n",
    "        elif db <= 55 and db > 50:\n",
    "            p = [0, 0.1, 0.6, 0.3, 0, 0]\n",
    "        elif db <= 50 and db > 45:\n",
    "            p = [0, 0.05, 0.1, 0.6, 0.25, 0]\n",
    "        else:\n",
    "            p = [0, 0, 0, 0.5, 0.3, 0.2]\n",
    "    return np.random.choice([0, 1, 2, 4, 8, 16], p = p)"
   ]
  },
  {
   "cell_type": "code",
   "execution_count": 21,
   "metadata": {},
   "outputs": [],
   "source": [
    "def amplitude_rate_modulation(y, sr, difficulty):\n",
    "    \"\"\"This function uses the average amplitude (i.e., 'loudness') of a beat and the difficulty level to determine \n",
    "    how many blocks will be placed within the beat. Returns a list of beat numbers.\"\"\"\n",
    "    #Make amplitude matrix\n",
    "    D = np.abs(librosa.stft(y))\n",
    "    db = librosa.amplitude_to_db(D, ref=np.max)\n",
    "    #Get beat frames and sync with amplitudes\n",
    "    tempo, beat_frames = librosa.beat.beat_track(y, sr, trim = False)\n",
    "    beat_db = pd.DataFrame(librosa.util.sync(db, beat_frames, aggregate = np.mean))\n",
    "    #Mean amplitude per beat\n",
    "    avg_beat_db = beat_db.mean()\n",
    "    #Choose rates and smooth rate transitions\n",
    "    rates = [0]\n",
    "    counter = 1\n",
    "    while counter < len(avg_beat_db)-1:\n",
    "        rate = choose_rate(np.mean([avg_beat_db.iloc[counter-1], avg_beat_db.iloc[counter], avg_beat_db.iloc[counter+1]]), difficulty)\n",
    "        diff = rate - rates[-1]\n",
    "        if difficulty.casefold() == 'expert'.casefold() or difficulty.casefold() == 'expertPlus'.casefold():\n",
    "            maxdiff = 8\n",
    "            mindiff = -16\n",
    "        else:\n",
    "            maxdiff = 2\n",
    "            mindiff = -4\n",
    "        while diff > maxdiff or diff < mindiff:\n",
    "            rate = choose_rate(np.mean([avg_beat_db.iloc[counter-1], avg_beat_db.iloc[counter], avg_beat_db.iloc[counter+1]]), difficulty)\n",
    "            diff = rates[-1] - rate\n",
    "        rates.append(rate)\n",
    "        counter +=1\n",
    "    #Make list of beat numbers based on rates\n",
    "    beat_num_list = []\n",
    "    for ind, val in enumerate(rates):\n",
    "        if val == 0:\n",
    "            continue\n",
    "        elif val == 1:\n",
    "            beat_num_list.append(ind)\n",
    "        else:\n",
    "            num_list = [ind, ind+1]\n",
    "            #fraction = 1/val\n",
    "            for x in range(1, val):\n",
    "                num_list.append(ind+(x/val))\n",
    "            for y in num_list:\n",
    "                beat_num_list.append(y)\n",
    "    beat_num_list = list(set(beat_num_list))\n",
    "    beat_num_list.sort()\n",
    "    #beat_num_list = [(x/60)*tempo for x in beat_num_list]\n",
    "    return beat_num_list"
   ]
  },
  {
   "cell_type": "code",
   "execution_count": 22,
   "metadata": {},
   "outputs": [],
   "source": [
    "def segments_to_df_rate_modulated(segments, modulated_beat_list):\n",
    "    \"\"\"This function returns a DataFrame of the number of blocks needed for each song segment.\"\"\"\n",
    "    expanded_beat_list = []\n",
    "    for x in segments:\n",
    "        for y in modulated_beat_list:\n",
    "            if y > x[1][0] and y <= x[1][1]:\n",
    "                expanded_beat_list.append({'_time': y, 'segment': x[2]})\n",
    "    \n",
    "    df = pd.DataFrame([], columns = ['length', 'seg_no'])\n",
    "    counter = 0\n",
    "    first = None\n",
    "    last = None\n",
    "    while counter < len(expanded_beat_list):\n",
    "        if counter == 0:\n",
    "            first = counter\n",
    "            counter += 1\n",
    "        elif expanded_beat_list[counter]['segment'] != expanded_beat_list[counter-1]['segment']:\n",
    "            first = counter\n",
    "            counter += 1\n",
    "        elif expanded_beat_list[counter] == expanded_beat_list[-1]:\n",
    "            length = len(expanded_beat_list[first: -1])\n",
    "            df = df.append(pd.DataFrame({'length': length, 'seg_no': expanded_beat_list[-1]['segment']}, index = [0]))\n",
    "            break\n",
    "        elif expanded_beat_list[counter]['segment'] == expanded_beat_list[counter+1]['segment']:\n",
    "            counter += 1  \n",
    "        elif expanded_beat_list[counter]['segment'] != expanded_beat_list[counter+1]['segment']:\n",
    "            last = counter\n",
    "            length = len(expanded_beat_list[first: last+1])\n",
    "            df = df.append(pd.DataFrame({'length': length, 'seg_no': expanded_beat_list[counter]['segment']}, index = [0]))\n",
    "            counter += 1\n",
    "    \n",
    "    return df"
   ]
  },
  {
   "cell_type": "code",
   "execution_count": 83,
   "metadata": {},
   "outputs": [],
   "source": [
    "def rate_modulated_segmented_HMM_notes_writer(y, sr, k, difficulty, version):\n",
    "    \n",
    "    #Load model:\n",
    "    if version == 1:\n",
    "        with open(f\"../models/HMM_{difficulty}.pkl\", 'rb') as m:\n",
    "            MC = pickle.load(m)\n",
    "    elif version == 2:\n",
    "        with open(f\"../models/HMM_{difficulty}_v2.pkl\", 'rb') as m:\n",
    "            MC = pickle.load(m)\n",
    "    \n",
    "    segments, beat_times, bpm = laplacian_segmentation(y, sr, k)\n",
    "    modulated_beat_list = amplitude_rate_modulation(y, sr, difficulty)\n",
    "    segments_df = segments_to_df_rate_modulated(segments, modulated_beat_list)\n",
    "    preds = segment_predictions(segments_df, MC)\n",
    "    #Combine beat numbers with HMM walk steps\n",
    "    beat_times = [(x/60)*bpm for x in beat_times]\n",
    "    beat_count = list(range(len(beat_times)))\n",
    "    beats = pd.concat([pd.Series(beat_times, name = '_time'), pd.Series(beat_count, name = 'beat_count')], axis = 1)\n",
    "    for index, value in beats.iterrows():\n",
    "        if value['beat_count'] not in modulated_beat_list:\n",
    "            beats.drop(index = index, inplace=True)\n",
    "    merged_beats = pd.merge(left = beats, right = pd.Series(modulated_beat_list, name = 'beat_count'), how='outer', on='beat_count', sort = True)\n",
    "    merged_beats.interpolate(inplace=True)\n",
    "    merged_beats.drop(columns = 'beat_count', inplace = True)\n",
    "    \n",
    "    df_preds = pd.concat([merged_beats, preds], axis = 1, sort = True)\n",
    "    df_preds.dropna(axis = 0, inplace = True)\n",
    "    #Write notes dictionaries\n",
    "    notes_list = []\n",
    "    for index, row in df_preds.iterrows():\n",
    "        for x in list(filter(lambda y: y.startswith('notes_type'), df_preds.columns)):\n",
    "            if row[x] != '999':\n",
    "                num = x[-1]\n",
    "                note = {'_time': row['_time'],\n",
    "                        '_lineIndex': int(row[f\"notes_lineIndex_{num}\"]),\n",
    "                        '_lineLayer': int(row[f\"notes_lineLayer_{num}\"]),\n",
    "                        '_type': num,\n",
    "                        '_cutDirection': int(row[f\"notes_cutDirection_{num}\"])}\n",
    "                notes_list.append(note)\n",
    "    #Remove potential notes that come too early in the song:\n",
    "    for i, x in enumerate(notes_list):\n",
    "        if notes_list[i]['_time'] >= 0 and notes_list[i]['_time'] <= 1.5:\n",
    "            del notes_list[i]\n",
    "        elif notes_list[i]['_time'] > beat_times[-1]:\n",
    "            del notes_list[i]\n",
    "\n",
    "    return notes_list, modulated_beat_list"
   ]
  },
  {
   "cell_type": "code",
   "execution_count": 36,
   "metadata": {},
   "outputs": [],
   "source": [
    "def rate_modulated_segmented_HMM_mapper(song_path, song_name, difficulty, version = 2, k = 5):\n",
    "    #Load song and get beat features\n",
    "    print(\"Loading Song...\")\n",
    "    bpm, beat_times, y, sr = beat_features(song_path)\n",
    "    print(\"Song loaded successfully!\")\n",
    "    #Write lists for note placement, event placement, and obstacle placement\n",
    "    print(\"Mapping with rate modulated segmented Hidden Markov Model...\")\n",
    "    notes_list, modulated_beat_list = rate_modulated_segmented_HMM_notes_writer(y, sr, k, difficulty, version)\n",
    "    events_list = events_writer(modulated_beat_list)\n",
    "    obstacles_list = obstacles_writer(modulated_beat_list, difficulty)\n",
    "    print(\"Mapping done!\")\n",
    "    #Write and zip files\n",
    "    print(\"Writing files to disk...\")\n",
    "    write_info(song_name, bpm, difficulty)\n",
    "    write_level(difficulty, events_list, notes_list, obstacles_list)\n",
    "    print(\"Converting music file...\")\n",
    "    music_file_converter(song_path)\n",
    "    print(\"Zipping folder...\")\n",
    "    zip_folder_exporter(song_name, difficulty)\n",
    "    print(\"Finished! Look for zipped folder in your current path, unzip the folder, and place in the 'CustomMusic' folder in the Beat Saber directory\")"
   ]
  },
  {
   "cell_type": "code",
   "execution_count": 159,
   "metadata": {},
   "outputs": [
    {
     "name": "stdout",
     "output_type": "stream",
     "text": [
      "Loading Song...\n"
     ]
    },
    {
     "name": "stderr",
     "output_type": "stream",
     "text": [
      "/opt/anaconda3/envs/BSmapsynth-env/lib/python3.6/site-packages/librosa/core/audio.py:146: UserWarning: PySoundFile failed. Trying audioread instead.\n",
      "  warnings.warn('PySoundFile failed. Trying audioread instead.')\n"
     ]
    },
    {
     "name": "stdout",
     "output_type": "stream",
     "text": [
      "Song loaded successfully!\n",
      "Mapping with segmented Hidden Markov Model...\n",
      "Mapping done!\n",
      "Writing files to disk...\n",
      "Converting music file...\n",
      "Zipping folder...\n",
      "Finished! Look for zipped folder in your current path, unzip the folder, and place in the 'CustomMusic' folder in the Beat Saber directory\n"
     ]
    }
   ],
   "source": [
    "rate_modulated_segmented_HMM_mapper('song.egg', 'rate_mod_seg_HMM_test_v2', 'hard', k=5)"
   ]
  },
  {
   "cell_type": "code",
   "execution_count": 29,
   "metadata": {},
   "outputs": [
    {
     "name": "stdout",
     "output_type": "stream",
     "text": [
      "Loading Song...\n"
     ]
    },
    {
     "name": "stderr",
     "output_type": "stream",
     "text": [
      "/opt/anaconda3/envs/BSmapsynth-env/lib/python3.6/site-packages/librosa/core/audio.py:146: UserWarning: PySoundFile failed. Trying audioread instead.\n",
      "  warnings.warn('PySoundFile failed. Trying audioread instead.')\n"
     ]
    },
    {
     "name": "stdout",
     "output_type": "stream",
     "text": [
      "Song loaded successfully!\n",
      "Mapping with segmented Hidden Markov Model...\n",
      "Mapping done!\n",
      "Writing files to disk...\n",
      "Converting music file...\n",
      "Zipping folder...\n",
      "Finished! Look for zipped folder in your current path, unzip the folder, and place in the 'CustomMusic' folder in the Beat Saber directory\n",
      "Loading Song...\n"
     ]
    },
    {
     "name": "stderr",
     "output_type": "stream",
     "text": [
      "/opt/anaconda3/envs/BSmapsynth-env/lib/python3.6/site-packages/librosa/core/audio.py:146: UserWarning: PySoundFile failed. Trying audioread instead.\n",
      "  warnings.warn('PySoundFile failed. Trying audioread instead.')\n"
     ]
    },
    {
     "name": "stdout",
     "output_type": "stream",
     "text": [
      "Song loaded successfully!\n",
      "Mapping with segmented Hidden Markov Model...\n",
      "Mapping done!\n",
      "Writing files to disk...\n",
      "Converting music file...\n",
      "Zipping folder...\n",
      "Finished! Look for zipped folder in your current path, unzip the folder, and place in the 'CustomMusic' folder in the Beat Saber directory\n",
      "Loading Song...\n"
     ]
    },
    {
     "name": "stderr",
     "output_type": "stream",
     "text": [
      "/opt/anaconda3/envs/BSmapsynth-env/lib/python3.6/site-packages/librosa/core/audio.py:146: UserWarning: PySoundFile failed. Trying audioread instead.\n",
      "  warnings.warn('PySoundFile failed. Trying audioread instead.')\n"
     ]
    },
    {
     "name": "stdout",
     "output_type": "stream",
     "text": [
      "Song loaded successfully!\n",
      "Mapping with segmented Hidden Markov Model...\n",
      "Mapping done!\n",
      "Writing files to disk...\n",
      "Converting music file...\n",
      "Zipping folder...\n",
      "Finished! Look for zipped folder in your current path, unzip the folder, and place in the 'CustomMusic' folder in the Beat Saber directory\n",
      "Loading Song...\n"
     ]
    },
    {
     "name": "stderr",
     "output_type": "stream",
     "text": [
      "/opt/anaconda3/envs/BSmapsynth-env/lib/python3.6/site-packages/librosa/core/audio.py:146: UserWarning: PySoundFile failed. Trying audioread instead.\n",
      "  warnings.warn('PySoundFile failed. Trying audioread instead.')\n"
     ]
    },
    {
     "name": "stdout",
     "output_type": "stream",
     "text": [
      "Song loaded successfully!\n",
      "Mapping with segmented Hidden Markov Model...\n",
      "Mapping done!\n",
      "Writing files to disk...\n",
      "Converting music file...\n",
      "Zipping folder...\n",
      "Finished! Look for zipped folder in your current path, unzip the folder, and place in the 'CustomMusic' folder in the Beat Saber directory\n",
      "Loading Song...\n"
     ]
    },
    {
     "name": "stderr",
     "output_type": "stream",
     "text": [
      "/opt/anaconda3/envs/BSmapsynth-env/lib/python3.6/site-packages/librosa/core/audio.py:146: UserWarning: PySoundFile failed. Trying audioread instead.\n",
      "  warnings.warn('PySoundFile failed. Trying audioread instead.')\n"
     ]
    },
    {
     "name": "stdout",
     "output_type": "stream",
     "text": [
      "Song loaded successfully!\n",
      "Mapping with segmented Hidden Markov Model...\n",
      "Mapping done!\n",
      "Writing files to disk...\n",
      "Converting music file...\n",
      "Zipping folder...\n",
      "Finished! Look for zipped folder in your current path, unzip the folder, and place in the 'CustomMusic' folder in the Beat Saber directory\n"
     ]
    }
   ],
   "source": [
    "difficulty_list = ['easy', 'normal', 'hard', 'expert', 'expertPlus']\n",
    "for y in difficulty_list:\n",
    "    rate_modulated_segmented_HMM_mapper(\"01 - Don't Start Now.mp3\", \"Don't Start Now - Dua Lipa - HMMv1\", y, version = 1)"
   ]
  },
  {
   "cell_type": "code",
   "execution_count": 30,
   "metadata": {},
   "outputs": [
    {
     "name": "stdout",
     "output_type": "stream",
     "text": [
      "Loading Song...\n"
     ]
    },
    {
     "name": "stderr",
     "output_type": "stream",
     "text": [
      "/opt/anaconda3/envs/BSmapsynth-env/lib/python3.6/site-packages/librosa/core/audio.py:146: UserWarning: PySoundFile failed. Trying audioread instead.\n",
      "  warnings.warn('PySoundFile failed. Trying audioread instead.')\n"
     ]
    },
    {
     "name": "stdout",
     "output_type": "stream",
     "text": [
      "Song loaded successfully!\n",
      "Mapping with segmented Hidden Markov Model...\n",
      "Mapping done!\n",
      "Writing files to disk...\n",
      "Converting music file...\n",
      "Zipping folder...\n",
      "Finished! Look for zipped folder in your current path, unzip the folder, and place in the 'CustomMusic' folder in the Beat Saber directory\n",
      "Loading Song...\n"
     ]
    },
    {
     "name": "stderr",
     "output_type": "stream",
     "text": [
      "/opt/anaconda3/envs/BSmapsynth-env/lib/python3.6/site-packages/librosa/core/audio.py:146: UserWarning: PySoundFile failed. Trying audioread instead.\n",
      "  warnings.warn('PySoundFile failed. Trying audioread instead.')\n"
     ]
    },
    {
     "name": "stdout",
     "output_type": "stream",
     "text": [
      "Song loaded successfully!\n",
      "Mapping with segmented Hidden Markov Model...\n",
      "Mapping done!\n",
      "Writing files to disk...\n",
      "Converting music file...\n",
      "Zipping folder...\n",
      "Finished! Look for zipped folder in your current path, unzip the folder, and place in the 'CustomMusic' folder in the Beat Saber directory\n",
      "Loading Song...\n"
     ]
    },
    {
     "name": "stderr",
     "output_type": "stream",
     "text": [
      "/opt/anaconda3/envs/BSmapsynth-env/lib/python3.6/site-packages/librosa/core/audio.py:146: UserWarning: PySoundFile failed. Trying audioread instead.\n",
      "  warnings.warn('PySoundFile failed. Trying audioread instead.')\n"
     ]
    },
    {
     "name": "stdout",
     "output_type": "stream",
     "text": [
      "Song loaded successfully!\n",
      "Mapping with segmented Hidden Markov Model...\n",
      "Mapping done!\n",
      "Writing files to disk...\n",
      "Converting music file...\n",
      "Zipping folder...\n",
      "Finished! Look for zipped folder in your current path, unzip the folder, and place in the 'CustomMusic' folder in the Beat Saber directory\n",
      "Loading Song...\n"
     ]
    },
    {
     "name": "stderr",
     "output_type": "stream",
     "text": [
      "/opt/anaconda3/envs/BSmapsynth-env/lib/python3.6/site-packages/librosa/core/audio.py:146: UserWarning: PySoundFile failed. Trying audioread instead.\n",
      "  warnings.warn('PySoundFile failed. Trying audioread instead.')\n"
     ]
    },
    {
     "name": "stdout",
     "output_type": "stream",
     "text": [
      "Song loaded successfully!\n",
      "Mapping with segmented Hidden Markov Model...\n",
      "Mapping done!\n",
      "Writing files to disk...\n",
      "Converting music file...\n",
      "Zipping folder...\n",
      "Finished! Look for zipped folder in your current path, unzip the folder, and place in the 'CustomMusic' folder in the Beat Saber directory\n",
      "Loading Song...\n"
     ]
    },
    {
     "name": "stderr",
     "output_type": "stream",
     "text": [
      "/opt/anaconda3/envs/BSmapsynth-env/lib/python3.6/site-packages/librosa/core/audio.py:146: UserWarning: PySoundFile failed. Trying audioread instead.\n",
      "  warnings.warn('PySoundFile failed. Trying audioread instead.')\n"
     ]
    },
    {
     "name": "stdout",
     "output_type": "stream",
     "text": [
      "Song loaded successfully!\n",
      "Mapping with segmented Hidden Markov Model...\n",
      "Mapping done!\n",
      "Writing files to disk...\n",
      "Converting music file...\n",
      "Zipping folder...\n",
      "Finished! Look for zipped folder in your current path, unzip the folder, and place in the 'CustomMusic' folder in the Beat Saber directory\n"
     ]
    }
   ],
   "source": [
    "difficulty_list = ['easy', 'normal', 'hard', 'expert', 'expertPlus']\n",
    "for y in difficulty_list:\n",
    "    rate_modulated_segmented_HMM_mapper(\"01 - Don't Start Now.mp3\", \"Don't Start Now - Dua Lipa - HMMv2\", y, version = 2)"
   ]
  },
  {
   "cell_type": "code",
   "execution_count": 24,
   "metadata": {},
   "outputs": [],
   "source": [
    "def beat_map_synthesizer(song_path, song_name, difficulty, model, k=5, version = 2):\n",
    "    \"\"\"\n",
    "    Function to load a music file and generate a custom Beat Saber map based on the specified model and \n",
    "    difficulty. Outputs a zipped folder of necessary files to play the custom map in the Beat Saber game.\n",
    "    \n",
    "    ***\n",
    "    song_path = string file path to music file location\n",
    "    song_name = string to name level as it will appear in the game\n",
    "    difficulty = desired difficulty level, can be: 'easy', 'normal', 'hard', 'expert', or 'expertPlus'\n",
    "    model = desired model to use for map generation, can be: 'random', 'HMM', 'segmented_HMM', or\n",
    "            'rate_modulated_segmented_HMM'\n",
    "    k = number of song segments if using a segmented model. Default is 5, may want to increase or decrease based\n",
    "        on song complexity\n",
    "    version = for the HMM models, can choose either 1 or 2. 1 was trained on a smaller, but potentially\n",
    "              higher quality dataset (custom maps with over 90% rating on beatsaver.com), while 2 was trained\n",
    "              on a larger dataset of custom maps with over 70% rating, so it may have a larger pool of \"potential\n",
    "              moves.\"\n",
    "    ***\n",
    "    \"\"\"\n",
    "    if model == 'random':\n",
    "        random_mapper(song_path, song_name, difficulty)\n",
    "    elif model == 'HMM':\n",
    "        HMM_mapper(song_path, song_name, difficulty, version = version)\n",
    "    elif model == 'segmented_HMM':\n",
    "        segmented_HMM_mapper(song_path, song_name, difficulty, k = k, version = version)\n",
    "    elif model == 'rate_modulated_segmented_HMM':\n",
    "        rate_modulated_segmented_HMM_mapper(song_path, song_name, difficulty, version = version, k = k)\n",
    "    else:\n",
    "        print('Please specify model for mapping.')"
   ]
  },
  {
   "cell_type": "code",
   "execution_count": 64,
   "metadata": {},
   "outputs": [
    {
     "name": "stdout",
     "output_type": "stream",
     "text": [
      "Loading Song...\n"
     ]
    },
    {
     "name": "stderr",
     "output_type": "stream",
     "text": [
      "/opt/anaconda3/envs/BSmapsynth-env/lib/python3.6/site-packages/librosa/core/audio.py:146: UserWarning: PySoundFile failed. Trying audioread instead.\n",
      "  warnings.warn('PySoundFile failed. Trying audioread instead.')\n"
     ]
    },
    {
     "name": "stdout",
     "output_type": "stream",
     "text": [
      "Song loaded successfully!\n",
      "Mapping with rate modulated segmented Hidden Markov Model...\n",
      "Mapping done!\n",
      "Writing files to disk...\n",
      "Converting music file...\n",
      "Zipping folder...\n",
      "Finished! Look for zipped folder in your current path, unzip the folder, and place in the 'CustomMusic' folder in the Beat Saber directory\n"
     ]
    }
   ],
   "source": [
    "beat_map_synthesizer(\"01 - Don't Start Now.mp3\", 'test', 'easy', 'rate_modulated_segmented_HMM', k = 3, version = 1)"
   ]
  },
  {
   "cell_type": "code",
   "execution_count": 73,
   "metadata": {},
   "outputs": [
    {
     "name": "stdout",
     "output_type": "stream",
     "text": [
      "Loading Song...\n"
     ]
    },
    {
     "name": "stderr",
     "output_type": "stream",
     "text": [
      "/opt/anaconda3/envs/BSmapsynth-env/lib/python3.6/site-packages/librosa/core/audio.py:146: UserWarning: PySoundFile failed. Trying audioread instead.\n",
      "  warnings.warn('PySoundFile failed. Trying audioread instead.')\n"
     ]
    },
    {
     "name": "stdout",
     "output_type": "stream",
     "text": [
      "Song loaded successfully!\n",
      "Mapping with rate modulated segmented Hidden Markov Model...\n"
     ]
    },
    {
     "name": "stderr",
     "output_type": "stream",
     "text": [
      "/opt/anaconda3/envs/BSmapsynth-env/lib/python3.6/site-packages/pandas/core/reshape/merge.py:1100: UserWarning: You are merging on int and float columns where the float values are not equal to their int representation\n",
      "  UserWarning,\n"
     ]
    },
    {
     "name": "stdout",
     "output_type": "stream",
     "text": [
      "Mapping done!\n",
      "Writing files to disk...\n",
      "Converting music file...\n",
      "Zipping folder...\n",
      "Finished! Look for zipped folder in your current path, unzip the folder, and place in the 'CustomMusic' folder in the Beat Saber directory\n"
     ]
    }
   ],
   "source": [
    "beat_map_synthesizer(songs[0], 'rate_mod_test_2', 'expert', models[3], k=3, version = 1)"
   ]
  },
  {
   "cell_type": "code",
   "execution_count": 25,
   "metadata": {},
   "outputs": [],
   "source": [
    "models = ['random', 'HMM', 'segmented_HMM', 'rate_modulated_segmented_HMM']\n",
    "versions = [1, 2]\n",
    "songs = [\"../01 - Don't Start Now.mp3\", \"../01 - Hold On.mp3\", \"../05 - Left Hand Free.mp3\", \"../06 - Sinner Complicated.mp3\"]\n"
   ]
  },
  {
   "cell_type": "code",
   "execution_count": 72,
   "metadata": {},
   "outputs": [
    {
     "name": "stdout",
     "output_type": "stream",
     "text": [
      "HMM\n",
      "2\n",
      "01 - Don't Start Now.mp3\n"
     ]
    }
   ],
   "source": [
    "print(np.random.choice(models))\n",
    "print(np.random.choice(versions))\n",
    "print(np.random.choice(songs))"
   ]
  },
  {
   "cell_type": "code",
   "execution_count": null,
   "metadata": {},
   "outputs": [],
   "source": []
  }
 ],
 "metadata": {
  "kernelspec": {
   "display_name": "BSmapsynth-env",
   "language": "python",
   "name": "bsmapsynth-env"
  },
  "language_info": {
   "codemirror_mode": {
    "name": "ipython",
    "version": 3
   },
   "file_extension": ".py",
   "mimetype": "text/x-python",
   "name": "python",
   "nbconvert_exporter": "python",
   "pygments_lexer": "ipython3",
   "version": "3.6.9"
  }
 },
 "nbformat": 4,
 "nbformat_minor": 2
}

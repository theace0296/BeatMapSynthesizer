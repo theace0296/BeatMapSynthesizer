{
 "cells": [
  {
   "cell_type": "markdown",
   "metadata": {},
   "source": [
    "# BeatSaver API usage and Data Processing notebook\n",
    "\n",
    "This notebook is for developing code associated with downloading Beat Saber custom songs and mappings from the BeatSaver API. Goals include:\n",
    "\n",
    "- Systematically download songs, maps, and associated metadata\n",
    "- Process data\n",
    "- Save data to database"
   ]
  },
  {
   "cell_type": "code",
   "execution_count": 122,
   "metadata": {},
   "outputs": [],
   "source": [
    "import numpy as np\n",
    "import pandas as pd\n",
    "import librosa\n",
    "import json\n",
    "import requests\n",
    "import pickle\n",
    "import matplotlib.pyplot as plt"
   ]
  },
  {
   "cell_type": "markdown",
   "metadata": {},
   "source": [
    "1. Download metadata from all beatsaver records\n",
    "2. Examine distribution of level difficulties\n",
    "3. Extract download link for records that have at least 'normal' difficulty level present\n",
    "4. Save links in a list for iteration"
   ]
  },
  {
   "cell_type": "code",
   "execution_count": 17,
   "metadata": {},
   "outputs": [],
   "source": [
    "call = requests.get(\"https://beatsaver.com/api/maps/latest/1\")"
   ]
  },
  {
   "cell_type": "code",
   "execution_count": 31,
   "metadata": {},
   "outputs": [],
   "source": [
    "def get_metadata(limit):\n",
    "    \"\"\"Function that will iterate through all pages of beatsaver.com api to download metadata.\"\"\"\n",
    "    page = 1\n",
    "    metadata = []\n",
    "    call = requests.get(f\"https://beatsaver.com/api/maps/latest/{page}\").json()\n",
    "    for x in range(len(call['docs'])):\n",
    "        metadata.append(call['docs'][x])\n",
    "    while call['nextPage'] != 'None' and call['nextPage'] < limit:\n",
    "        page = call['nextPage']\n",
    "        call = requests.get(f\"https://beatsaver.com/api/maps/latest/{page}\").json()\n",
    "        for x in range(len(call['docs'])):\n",
    "            metadata.append(call['docs'][x])        \n",
    "    return metadata"
   ]
  },
  {
   "cell_type": "code",
   "execution_count": 35,
   "metadata": {},
   "outputs": [],
   "source": [
    "def api_call(page):\n",
    "    \"\"\"Downloads json file from beatsaver.com API at given 'page'. Only downloads if status is 200, otherwise throws\n",
    "    an error. Each page in this API stores 10 records, as well as information about the page.\"\"\"\n",
    "    call = requests.get(f\"https://beatsaver.com/api/maps/latest/{page}\")\n",
    "    if call.status_code == 200:\n",
    "        json = call.json()\n",
    "        next_page = json['nextPage']\n",
    "        return json, next_page\n",
    "    else:\n",
    "        print(f\"API call failed with error code: {call.status_code} at page: {page}\")"
   ]
  },
  {
   "cell_type": "code",
   "execution_count": 115,
   "metadata": {},
   "outputs": [],
   "source": [
    "def get_metadata_recursive(limit, init_page = 1):\n",
    "    \"\"\"Function that will iterate through all pages of beatsaver.com api to download metadata. 'limit' is the maximum\n",
    "    page number to download to, 'init_page' is the first page number to start downloading from. There seems to be a \n",
    "    1000-call limit on this API.\"\"\"\n",
    "    page = init_page\n",
    "    metadata = []\n",
    "    json, next_page = api_call(page)\n",
    "    for x in range(len(json['docs'])):\n",
    "        metadata.append(json['docs'][x])\n",
    "    while next_page < limit:\n",
    "        page = next_page\n",
    "        json, next_page = api_call(page)\n",
    "        for x in range(len(json['docs'])):\n",
    "            metadata.append(json['docs'][x])\n",
    "        if next_page == 'None' or next_page == None:\n",
    "            break\n",
    "    return metadata    "
   ]
  },
  {
   "cell_type": "code",
   "execution_count": 110,
   "metadata": {},
   "outputs": [],
   "source": [
    "metadata = get_metadata_recursive(limit = 1000)"
   ]
  },
  {
   "cell_type": "code",
   "execution_count": 111,
   "metadata": {},
   "outputs": [],
   "source": [
    "metadata2 = get_metadata_recursive(limit = 2000, init_page = 1001)"
   ]
  },
  {
   "cell_type": "code",
   "execution_count": 116,
   "metadata": {},
   "outputs": [],
   "source": [
    "metadata3 = get_metadata_recursive(limit = 3000, init_page = 2001)"
   ]
  },
  {
   "cell_type": "code",
   "execution_count": 119,
   "metadata": {},
   "outputs": [],
   "source": [
    "metadata_total = []\n",
    "for x in list([metadata, metadata2, metadata3]):\n",
    "    for y in x:\n",
    "        metadata_total.append(y)"
   ]
  },
  {
   "cell_type": "code",
   "execution_count": 120,
   "metadata": {},
   "outputs": [
    {
     "data": {
      "text/plain": [
       "20605"
      ]
     },
     "execution_count": 120,
     "metadata": {},
     "output_type": "execute_result"
    }
   ],
   "source": [
    "len(metadata_total)"
   ]
  },
  {
   "cell_type": "code",
   "execution_count": 124,
   "metadata": {},
   "outputs": [],
   "source": [
    "with open('metadata.pkl', 'wb') as f:\n",
    "    pickle.dump(metadata_total, f)"
   ]
  },
  {
   "cell_type": "code",
   "execution_count": 94,
   "metadata": {},
   "outputs": [],
   "source": [
    "def difficulty_dist(metadata):\n",
    "    \"\"\"Counts the number of representatives for each difficulty level in the list of metadata.\"\"\"\n",
    "    difficulty = {'easy': 0, 'normal': 0, 'hard': 0, 'expert': 0, 'expertPlus': 0}\n",
    "    for x in metadata:\n",
    "        for level, value in list(x['metadata']['difficulties'].items()):\n",
    "            if x['metadata']['difficulties'][level] == True:\n",
    "                difficulty[f'{level}'] +=1\n",
    "    return difficulty    "
   ]
  },
  {
   "cell_type": "code",
   "execution_count": 126,
   "metadata": {},
   "outputs": [
    {
     "data": {
      "text/plain": [
       "{'easy': 2003,\n",
       " 'normal': 2860,\n",
       " 'hard': 6137,\n",
       " 'expert': 11026,\n",
       " 'expertPlus': 8568}"
      ]
     },
     "execution_count": 126,
     "metadata": {},
     "output_type": "execute_result"
    }
   ],
   "source": [
    "difficulty_dist(metadata_total)"
   ]
  },
  {
   "cell_type": "code",
   "execution_count": null,
   "metadata": {},
   "outputs": [],
   "source": []
  }
 ],
 "metadata": {
  "kernelspec": {
   "display_name": "BSmapsynth-env",
   "language": "python",
   "name": "bsmapsynth-env"
  },
  "language_info": {
   "codemirror_mode": {
    "name": "ipython",
    "version": 3
   },
   "file_extension": ".py",
   "mimetype": "text/x-python",
   "name": "python",
   "nbconvert_exporter": "python",
   "pygments_lexer": "ipython3",
   "version": "3.6.9"
  }
 },
 "nbformat": 4,
 "nbformat_minor": 2
}

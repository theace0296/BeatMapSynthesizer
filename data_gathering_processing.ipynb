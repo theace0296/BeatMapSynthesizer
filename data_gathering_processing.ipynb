{
 "cells": [
  {
   "cell_type": "markdown",
   "metadata": {},
   "source": [
    "# BeatSaver API usage and Data Processing notebook\n",
    "\n",
    "This notebook is for developing code associated with downloading Beat Saber custom songs and mappings from the BeatSaver API. Goals include:\n",
    "\n",
    "- Systematically download songs, maps, and associated metadata\n",
    "- Process data\n",
    "- Save data to database"
   ]
  },
  {
   "cell_type": "code",
   "execution_count": null,
   "metadata": {},
   "outputs": [],
   "source": [
    " "
   ]
  }
 ],
 "metadata": {
  "kernelspec": {
   "display_name": "BSmapsynth-env",
   "language": "python",
   "name": "bsmapsynth-env"
  },
  "language_info": {
   "codemirror_mode": {
    "name": "ipython",
    "version": 3
   },
   "file_extension": ".py",
   "mimetype": "text/x-python",
   "name": "python",
   "nbconvert_exporter": "python",
   "pygments_lexer": "ipython3",
   "version": "3.6.9"
  }
 },
 "nbformat": 4,
 "nbformat_minor": 2
}
